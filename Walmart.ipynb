{
 "cells": [
  {
   "cell_type": "markdown",
   "id": "f94d88cd-e96e-4e6e-a9a6-2a3ce1abe19a",
   "metadata": {
    "panel-layout": {
     "height": 127.838,
     "visible": true,
     "width": 100
    }
   },
   "source": [
    "# Walmart Case Study\n",
    "\n",
    "Problem Statement\n",
    "The Management team at Walmart Inc. wants to analyze the customer purchase behavior (precisely, purchase amount) against the customer’s gender and the various other factors to help the business make better decisions. They want to understand if the spending habits differ between male and female customers: Do women spend more on Black Friday than men?"
   ]
  },
  {
   "cell_type": "code",
   "execution_count": 1,
   "id": "df9427db-37f9-45ec-9d8c-9c0a3f6f6500",
   "metadata": {},
   "outputs": [],
   "source": [
    "import numpy as np\n",
    "import pandas as pd\n",
    "import matplotlib.pyplot as plt\n",
    "import seaborn as sns\n",
    "from scipy.stats import norm"
   ]
  },
  {
   "cell_type": "code",
   "execution_count": 2,
   "id": "d744dcb9-b8df-4d26-a75e-d949dbbd9bf1",
   "metadata": {},
   "outputs": [],
   "source": [
    "df = pd.read_csv(r'C:\\Users\\hp\\Desktop\\CaseStudies\\Walmart\\walmart_data.csv')"
   ]
  },
  {
   "cell_type": "markdown",
   "id": "97bd50b9-c958-4dba-91df-da1cf9932869",
   "metadata": {
    "jp-MarkdownHeadingCollapsed": true,
    "panel-layout": {
     "height": 176.95,
     "visible": true,
     "width": 100
    }
   },
   "source": [
    "## Dataset\r\n",
    "\r\n",
    "The company collected the transactional data of customers who purchased products from ehWalmart Store during Black Friday.\n",
    "d. The dataset has the followi features :\n",
    "\n",
    "-  User_ID: User ID\r\n",
    "  \r\n",
    "-  Product_ID: Product ID\r\n",
    "\r\n",
    "-  Gender: Sex of User\r\n",
    "\r\n",
    "-  Age: Age in bins\r\n",
    "\r\n",
    "-  Occupation: Occupation(Masked)\r\n",
    "\r\n",
    "-  City_Category: Category of the city (A,B,C)\r\n",
    "\r\n",
    "-  StayInCurrentCityYears:\tNumber of years stay in current city\r\n",
    "\r\n",
    "-  Marital_Status:\tMarital Status\r\n",
    "\r\n",
    "-  ProductCategory:\tProduct Category (Masked)\r\n",
    "\r\n",
    "-  Purchase:\tPurchase Amount\r\n",
    "Amountnt"
   ]
  },
  {
   "cell_type": "markdown",
   "id": "df109c8b-8bd4-4785-9215-10f1b9c513e8",
   "metadata": {
    "jp-MarkdownHeadingCollapsed": true,
    "panel-layout": {
     "height": 50.8125,
     "visible": true,
     "width": 100
    }
   },
   "source": [
    "## Data Audit"
   ]
  },
  {
   "cell_type": "code",
   "execution_count": 3,
   "id": "5e76350d-ed67-4050-ae10-85415a248670",
   "metadata": {
    "panel-layout": {
     "height": 10,
     "visible": true,
     "width": 100
    }
   },
   "outputs": [
    {
     "data": {
      "text/plain": [
       "<bound method NDFrame.head of        User_ID Product_ID Gender    Age  Occupation City_Category  \\\n",
       "0      1000001  P00069042      F   0-17        10.0             A   \n",
       "1      1000001  P00248942      F   0-17        10.0             A   \n",
       "2      1000001  P00087842      F   0-17        10.0             A   \n",
       "3      1000001  P00085442      F   0-17        10.0             A   \n",
       "4      1000002  P00285442      M    55+        16.0             C   \n",
       "...        ...        ...    ...    ...         ...           ...   \n",
       "25032  1003843  P00034642      F   0-17        10.0             B   \n",
       "25033  1003844  P00359942      M  18-25         4.0             C   \n",
       "25034  1003844  P00193842      M  18-25         4.0             C   \n",
       "25035  1003845  P00110942      M  26-35        12.0             C   \n",
       "25036  1003845      P0022    NaN    NaN         NaN           NaN   \n",
       "\n",
       "      Stay_In_Current_City_Years  Marital_Status  Product_Category  Purchase  \n",
       "0                              2             0.0               3.0    8370.0  \n",
       "1                              2             0.0               1.0   15200.0  \n",
       "2                              2             0.0              12.0    1422.0  \n",
       "3                              2             0.0              12.0    1057.0  \n",
       "4                             4+             0.0               8.0    7969.0  \n",
       "...                          ...             ...               ...       ...  \n",
       "25032                          2             0.0               4.0    1433.0  \n",
       "25033                          3             1.0              11.0    6138.0  \n",
       "25034                          3             1.0              11.0    7477.0  \n",
       "25035                          1             1.0               1.0   19456.0  \n",
       "25036                        NaN             NaN               NaN       NaN  \n",
       "\n",
       "[25037 rows x 10 columns]>"
      ]
     },
     "execution_count": 3,
     "metadata": {},
     "output_type": "execute_result"
    }
   ],
   "source": [
    "df.head"
   ]
  },
  {
   "cell_type": "code",
   "execution_count": 4,
   "id": "0d5f4ac2-276d-4ed1-98b7-e7db58cf867c",
   "metadata": {
    "panel-layout": {
     "height": 27.1375,
     "visible": true,
     "width": 100
    }
   },
   "outputs": [
    {
     "data": {
      "text/plain": [
       "(25037, 10)"
      ]
     },
     "execution_count": 4,
     "metadata": {},
     "output_type": "execute_result"
    }
   ],
   "source": [
    "df.shape"
   ]
  },
  {
   "cell_type": "code",
   "execution_count": 5,
   "id": "0a9f93f7-407e-4382-beb9-7ef1845b9b0c",
   "metadata": {
    "panel-layout": {
     "height": 301.2,
     "visible": true,
     "width": 100
    }
   },
   "outputs": [
    {
     "data": {
      "text/plain": [
       "User_ID                         int64\n",
       "Product_ID                     object\n",
       "Gender                         object\n",
       "Age                            object\n",
       "Occupation                    float64\n",
       "City_Category                  object\n",
       "Stay_In_Current_City_Years     object\n",
       "Marital_Status                float64\n",
       "Product_Category              float64\n",
       "Purchase                      float64\n",
       "dtype: object"
      ]
     },
     "execution_count": 5,
     "metadata": {},
     "output_type": "execute_result"
    }
   ],
   "source": [
    "df.dtypes"
   ]
  },
  {
   "cell_type": "code",
   "execution_count": 6,
   "id": "e3b5e128-717d-4692-b428-cf1eab34d775",
   "metadata": {
    "panel-layout": {
     "height": 0,
     "visible": true,
     "width": 100
    }
   },
   "outputs": [
    {
     "name": "stdout",
     "output_type": "stream",
     "text": [
      "<class 'pandas.core.frame.DataFrame'>\n",
      "RangeIndex: 25037 entries, 0 to 25036\n",
      "Data columns (total 10 columns):\n",
      " #   Column                      Non-Null Count  Dtype  \n",
      "---  ------                      --------------  -----  \n",
      " 0   User_ID                     25037 non-null  int64  \n",
      " 1   Product_ID                  25037 non-null  object \n",
      " 2   Gender                      25036 non-null  object \n",
      " 3   Age                         25036 non-null  object \n",
      " 4   Occupation                  25036 non-null  float64\n",
      " 5   City_Category               25036 non-null  object \n",
      " 6   Stay_In_Current_City_Years  25036 non-null  object \n",
      " 7   Marital_Status              25036 non-null  float64\n",
      " 8   Product_Category            25036 non-null  float64\n",
      " 9   Purchase                    25036 non-null  float64\n",
      "dtypes: float64(4), int64(1), object(5)\n",
      "memory usage: 1.9+ MB\n"
     ]
    }
   ],
   "source": [
    "df.info()"
   ]
  },
  {
   "cell_type": "code",
   "execution_count": 7,
   "id": "a21c4d53-4496-42c6-94c9-5d4486925f2f",
   "metadata": {
    "panel-layout": {
     "height": 248.4,
     "visible": true,
     "width": 100
    }
   },
   "outputs": [
    {
     "data": {
      "text/html": [
       "<div>\n",
       "<style scoped>\n",
       "    .dataframe tbody tr th:only-of-type {\n",
       "        vertical-align: middle;\n",
       "    }\n",
       "\n",
       "    .dataframe tbody tr th {\n",
       "        vertical-align: top;\n",
       "    }\n",
       "\n",
       "    .dataframe thead th {\n",
       "        text-align: right;\n",
       "    }\n",
       "</style>\n",
       "<table border=\"1\" class=\"dataframe\">\n",
       "  <thead>\n",
       "    <tr style=\"text-align: right;\">\n",
       "      <th></th>\n",
       "      <th>User_ID</th>\n",
       "      <th>Occupation</th>\n",
       "      <th>Marital_Status</th>\n",
       "      <th>Product_Category</th>\n",
       "      <th>Purchase</th>\n",
       "    </tr>\n",
       "  </thead>\n",
       "  <tbody>\n",
       "    <tr>\n",
       "      <th>count</th>\n",
       "      <td>2.503700e+04</td>\n",
       "      <td>25036.000000</td>\n",
       "      <td>25036.000000</td>\n",
       "      <td>25036.000000</td>\n",
       "      <td>25036.000000</td>\n",
       "    </tr>\n",
       "    <tr>\n",
       "      <th>mean</th>\n",
       "      <td>1.001944e+06</td>\n",
       "      <td>8.254593</td>\n",
       "      <td>0.399545</td>\n",
       "      <td>5.302604</td>\n",
       "      <td>9240.939647</td>\n",
       "    </tr>\n",
       "    <tr>\n",
       "      <th>std</th>\n",
       "      <td>1.124044e+03</td>\n",
       "      <td>6.533908</td>\n",
       "      <td>0.489815</td>\n",
       "      <td>3.705730</td>\n",
       "      <td>4937.285195</td>\n",
       "    </tr>\n",
       "    <tr>\n",
       "      <th>min</th>\n",
       "      <td>1.000001e+06</td>\n",
       "      <td>0.000000</td>\n",
       "      <td>0.000000</td>\n",
       "      <td>1.000000</td>\n",
       "      <td>186.000000</td>\n",
       "    </tr>\n",
       "    <tr>\n",
       "      <th>25%</th>\n",
       "      <td>1.001015e+06</td>\n",
       "      <td>3.000000</td>\n",
       "      <td>0.000000</td>\n",
       "      <td>1.000000</td>\n",
       "      <td>5837.750000</td>\n",
       "    </tr>\n",
       "    <tr>\n",
       "      <th>50%</th>\n",
       "      <td>1.001884e+06</td>\n",
       "      <td>7.000000</td>\n",
       "      <td>0.000000</td>\n",
       "      <td>5.000000</td>\n",
       "      <td>8044.000000</td>\n",
       "    </tr>\n",
       "    <tr>\n",
       "      <th>75%</th>\n",
       "      <td>1.002952e+06</td>\n",
       "      <td>14.000000</td>\n",
       "      <td>1.000000</td>\n",
       "      <td>8.000000</td>\n",
       "      <td>11997.500000</td>\n",
       "    </tr>\n",
       "    <tr>\n",
       "      <th>max</th>\n",
       "      <td>1.003845e+06</td>\n",
       "      <td>20.000000</td>\n",
       "      <td>1.000000</td>\n",
       "      <td>18.000000</td>\n",
       "      <td>23958.000000</td>\n",
       "    </tr>\n",
       "  </tbody>\n",
       "</table>\n",
       "</div>"
      ],
      "text/plain": [
       "            User_ID    Occupation  Marital_Status  Product_Category  \\\n",
       "count  2.503700e+04  25036.000000    25036.000000      25036.000000   \n",
       "mean   1.001944e+06      8.254593        0.399545          5.302604   \n",
       "std    1.124044e+03      6.533908        0.489815          3.705730   \n",
       "min    1.000001e+06      0.000000        0.000000          1.000000   \n",
       "25%    1.001015e+06      3.000000        0.000000          1.000000   \n",
       "50%    1.001884e+06      7.000000        0.000000          5.000000   \n",
       "75%    1.002952e+06     14.000000        1.000000          8.000000   \n",
       "max    1.003845e+06     20.000000        1.000000         18.000000   \n",
       "\n",
       "           Purchase  \n",
       "count  25036.000000  \n",
       "mean    9240.939647  \n",
       "std     4937.285195  \n",
       "min      186.000000  \n",
       "25%     5837.750000  \n",
       "50%     8044.000000  \n",
       "75%    11997.500000  \n",
       "max    23958.000000  "
      ]
     },
     "execution_count": 7,
     "metadata": {},
     "output_type": "execute_result"
    }
   ],
   "source": [
    "df.describe()"
   ]
  },
  {
   "cell_type": "code",
   "execution_count": 8,
   "id": "36d2e402-0779-46cf-9d12-7d3959fe06b5",
   "metadata": {
    "panel-layout": {
     "height": 248.4,
     "visible": true,
     "width": 100
    }
   },
   "outputs": [
    {
     "data": {
      "text/plain": [
       "Age\n",
       "26-35    9826\n",
       "18-25    5100\n",
       "36-45    4839\n",
       "46-50    1844\n",
       "51-55    1738\n",
       "55+       990\n",
       "0-17      699\n",
       "Name: count, dtype: int64"
      ]
     },
     "execution_count": 8,
     "metadata": {},
     "output_type": "execute_result"
    }
   ],
   "source": [
    "df['Age'].value_counts()"
   ]
  },
  {
   "cell_type": "code",
   "execution_count": 9,
   "id": "a813a234-86d1-4b22-a85f-6ef9e773c605",
   "metadata": {
    "panel-layout": {
     "height": 142.8,
     "visible": true,
     "width": 100
    }
   },
   "outputs": [
    {
     "data": {
      "text/plain": [
       "City_Category\n",
       "B    10609\n",
       "C     7457\n",
       "A     6970\n",
       "Name: count, dtype: int64"
      ]
     },
     "execution_count": 9,
     "metadata": {},
     "output_type": "execute_result"
    }
   ],
   "source": [
    "df['City_Category'].value_counts()"
   ]
  },
  {
   "cell_type": "code",
   "execution_count": 10,
   "id": "70a5449e-5a00-4650-a02b-4d13dfb1672f",
   "metadata": {
    "panel-layout": {
     "height": 116.4,
     "visible": true,
     "width": 100
    }
   },
   "outputs": [
    {
     "data": {
      "text/plain": [
       "Gender\n",
       "M    19139\n",
       "F     5897\n",
       "Name: count, dtype: int64"
      ]
     },
     "execution_count": 10,
     "metadata": {},
     "output_type": "execute_result"
    }
   ],
   "source": [
    "df['Gender'].value_counts()"
   ]
  },
  {
   "cell_type": "code",
   "execution_count": 11,
   "id": "8cebae30-296a-4713-91d0-c78598ac7c67",
   "metadata": {
    "panel-layout": {
     "height": 116.4,
     "visible": true,
     "width": 100
    }
   },
   "outputs": [
    {
     "data": {
      "text/plain": [
       "Marital_Status\n",
       "0.0    15033\n",
       "1.0    10003\n",
       "Name: count, dtype: int64"
      ]
     },
     "execution_count": 11,
     "metadata": {},
     "output_type": "execute_result"
    }
   ],
   "source": [
    "df['Marital_Status'].value_counts()"
   ]
  },
  {
   "cell_type": "code",
   "execution_count": 12,
   "id": "be5dcc95-6763-4037-bffb-fa56296380cf",
   "metadata": {
    "panel-layout": {
     "height": 618,
     "visible": true,
     "width": 100
    }
   },
   "outputs": [
    {
     "data": {
      "text/plain": [
       "Occupation\n",
       "4.0     3466\n",
       "0.0     3110\n",
       "7.0     2713\n",
       "17.0    1904\n",
       "1.0     1823\n",
       "20.0    1710\n",
       "12.0    1518\n",
       "2.0     1163\n",
       "14.0    1145\n",
       "16.0    1036\n",
       "3.0      890\n",
       "6.0      842\n",
       "10.0     660\n",
       "11.0     580\n",
       "15.0     529\n",
       "5.0      471\n",
       "13.0     414\n",
       "19.0     407\n",
       "9.0      301\n",
       "18.0     262\n",
       "8.0       92\n",
       "Name: count, dtype: int64"
      ]
     },
     "execution_count": 12,
     "metadata": {},
     "output_type": "execute_result"
    }
   ],
   "source": [
    "df['Occupation'].value_counts()"
   ]
  },
  {
   "cell_type": "code",
   "execution_count": 13,
   "id": "024f363d-5c11-44b0-a9f5-b528fc69e57c",
   "metadata": {
    "panel-layout": {
     "height": 195.6,
     "visible": true,
     "width": 100
    }
   },
   "outputs": [
    {
     "data": {
      "text/plain": [
       "Stay_In_Current_City_Years\n",
       "1     8687\n",
       "3     4521\n",
       "2     4500\n",
       "4+    3966\n",
       "0     3362\n",
       "Name: count, dtype: int64"
      ]
     },
     "execution_count": 13,
     "metadata": {},
     "output_type": "execute_result"
    }
   ],
   "source": [
    "df['Stay_In_Current_City_Years'].value_counts()"
   ]
  },
  {
   "cell_type": "markdown",
   "id": "f6211579-d7b1-4955-83ce-004214a59fc4",
   "metadata": {
    "jp-MarkdownHeadingCollapsed": true,
    "panel-layout": {
     "height": 50.8125,
     "visible": true,
     "width": 100
    }
   },
   "source": [
    "## NULL values and Outlier Detection"
   ]
  },
  {
   "cell_type": "code",
   "execution_count": 14,
   "id": "6ae56f35-92cd-4ac3-94a7-17b2f86dbf70",
   "metadata": {
    "panel-layout": {
     "height": 301.2,
     "visible": true,
     "width": 100
    }
   },
   "outputs": [
    {
     "data": {
      "text/plain": [
       "User_ID                       0\n",
       "Product_ID                    0\n",
       "Gender                        1\n",
       "Age                           1\n",
       "Occupation                    1\n",
       "City_Category                 1\n",
       "Stay_In_Current_City_Years    1\n",
       "Marital_Status                1\n",
       "Product_Category              1\n",
       "Purchase                      1\n",
       "dtype: int64"
      ]
     },
     "execution_count": 14,
     "metadata": {},
     "output_type": "execute_result"
    }
   ],
   "source": [
    "df.isnull().sum()"
   ]
  },
  {
   "cell_type": "code",
   "execution_count": 15,
   "id": "71471b6d-36b3-4020-92d8-b4c3d0ba4eca",
   "metadata": {
    "panel-layout": {
     "height": 63.6,
     "visible": true,
     "width": 100
    }
   },
   "outputs": [
    {
     "data": {
      "text/html": [
       "<div>\n",
       "<style scoped>\n",
       "    .dataframe tbody tr th:only-of-type {\n",
       "        vertical-align: middle;\n",
       "    }\n",
       "\n",
       "    .dataframe tbody tr th {\n",
       "        vertical-align: top;\n",
       "    }\n",
       "\n",
       "    .dataframe thead th {\n",
       "        text-align: right;\n",
       "    }\n",
       "</style>\n",
       "<table border=\"1\" class=\"dataframe\">\n",
       "  <thead>\n",
       "    <tr style=\"text-align: right;\">\n",
       "      <th></th>\n",
       "      <th>User_ID</th>\n",
       "      <th>Product_ID</th>\n",
       "      <th>Gender</th>\n",
       "      <th>Age</th>\n",
       "      <th>Occupation</th>\n",
       "      <th>City_Category</th>\n",
       "      <th>Stay_In_Current_City_Years</th>\n",
       "      <th>Marital_Status</th>\n",
       "      <th>Product_Category</th>\n",
       "      <th>Purchase</th>\n",
       "    </tr>\n",
       "  </thead>\n",
       "  <tbody>\n",
       "    <tr>\n",
       "      <th>25036</th>\n",
       "      <td>1003845</td>\n",
       "      <td>P0022</td>\n",
       "      <td>NaN</td>\n",
       "      <td>NaN</td>\n",
       "      <td>NaN</td>\n",
       "      <td>NaN</td>\n",
       "      <td>NaN</td>\n",
       "      <td>NaN</td>\n",
       "      <td>NaN</td>\n",
       "      <td>NaN</td>\n",
       "    </tr>\n",
       "  </tbody>\n",
       "</table>\n",
       "</div>"
      ],
      "text/plain": [
       "       User_ID Product_ID Gender  Age  Occupation City_Category  \\\n",
       "25036  1003845      P0022    NaN  NaN         NaN           NaN   \n",
       "\n",
       "      Stay_In_Current_City_Years  Marital_Status  Product_Category  Purchase  \n",
       "25036                        NaN             NaN               NaN       NaN  "
      ]
     },
     "execution_count": 15,
     "metadata": {},
     "output_type": "execute_result"
    }
   ],
   "source": [
    "df[df['Gender'].isnull()]"
   ]
  },
  {
   "cell_type": "code",
   "execution_count": 16,
   "id": "d43f6df0-b93d-433b-bf35-c26d3c8487b1",
   "metadata": {
    "panel-layout": {
     "height": 90,
     "visible": true,
     "width": 100
    }
   },
   "outputs": [
    {
     "data": {
      "text/html": [
       "<div>\n",
       "<style scoped>\n",
       "    .dataframe tbody tr th:only-of-type {\n",
       "        vertical-align: middle;\n",
       "    }\n",
       "\n",
       "    .dataframe tbody tr th {\n",
       "        vertical-align: top;\n",
       "    }\n",
       "\n",
       "    .dataframe thead th {\n",
       "        text-align: right;\n",
       "    }\n",
       "</style>\n",
       "<table border=\"1\" class=\"dataframe\">\n",
       "  <thead>\n",
       "    <tr style=\"text-align: right;\">\n",
       "      <th></th>\n",
       "      <th>User_ID</th>\n",
       "      <th>Product_ID</th>\n",
       "      <th>Gender</th>\n",
       "      <th>Age</th>\n",
       "      <th>Occupation</th>\n",
       "      <th>City_Category</th>\n",
       "      <th>Stay_In_Current_City_Years</th>\n",
       "      <th>Marital_Status</th>\n",
       "      <th>Product_Category</th>\n",
       "      <th>Purchase</th>\n",
       "    </tr>\n",
       "  </thead>\n",
       "  <tbody>\n",
       "    <tr>\n",
       "      <th>25035</th>\n",
       "      <td>1003845</td>\n",
       "      <td>P00110942</td>\n",
       "      <td>M</td>\n",
       "      <td>26-35</td>\n",
       "      <td>12.0</td>\n",
       "      <td>C</td>\n",
       "      <td>1</td>\n",
       "      <td>1.0</td>\n",
       "      <td>1.0</td>\n",
       "      <td>19456.0</td>\n",
       "    </tr>\n",
       "    <tr>\n",
       "      <th>25036</th>\n",
       "      <td>1003845</td>\n",
       "      <td>P0022</td>\n",
       "      <td>NaN</td>\n",
       "      <td>NaN</td>\n",
       "      <td>NaN</td>\n",
       "      <td>NaN</td>\n",
       "      <td>NaN</td>\n",
       "      <td>NaN</td>\n",
       "      <td>NaN</td>\n",
       "      <td>NaN</td>\n",
       "    </tr>\n",
       "  </tbody>\n",
       "</table>\n",
       "</div>"
      ],
      "text/plain": [
       "       User_ID Product_ID Gender    Age  Occupation City_Category  \\\n",
       "25035  1003845  P00110942      M  26-35        12.0             C   \n",
       "25036  1003845      P0022    NaN    NaN         NaN           NaN   \n",
       "\n",
       "      Stay_In_Current_City_Years  Marital_Status  Product_Category  Purchase  \n",
       "25035                          1             1.0               1.0   19456.0  \n",
       "25036                        NaN             NaN               NaN       NaN  "
      ]
     },
     "execution_count": 16,
     "metadata": {},
     "output_type": "execute_result"
    }
   ],
   "source": [
    "df[df['User_ID'] == 1003845]"
   ]
  },
  {
   "cell_type": "code",
   "execution_count": 17,
   "id": "101dc376-b305-44ea-8a5f-38ffbd3646b6",
   "metadata": {
    "panel-layout": {
     "height": 63.6,
     "visible": true,
     "width": 100
    }
   },
   "outputs": [
    {
     "data": {
      "text/html": [
       "<div>\n",
       "<style scoped>\n",
       "    .dataframe tbody tr th:only-of-type {\n",
       "        vertical-align: middle;\n",
       "    }\n",
       "\n",
       "    .dataframe tbody tr th {\n",
       "        vertical-align: top;\n",
       "    }\n",
       "\n",
       "    .dataframe thead th {\n",
       "        text-align: right;\n",
       "    }\n",
       "</style>\n",
       "<table border=\"1\" class=\"dataframe\">\n",
       "  <thead>\n",
       "    <tr style=\"text-align: right;\">\n",
       "      <th></th>\n",
       "      <th>User_ID</th>\n",
       "      <th>Product_ID</th>\n",
       "      <th>Gender</th>\n",
       "      <th>Age</th>\n",
       "      <th>Occupation</th>\n",
       "      <th>City_Category</th>\n",
       "      <th>Stay_In_Current_City_Years</th>\n",
       "      <th>Marital_Status</th>\n",
       "      <th>Product_Category</th>\n",
       "      <th>Purchase</th>\n",
       "    </tr>\n",
       "  </thead>\n",
       "  <tbody>\n",
       "    <tr>\n",
       "      <th>25036</th>\n",
       "      <td>1003845</td>\n",
       "      <td>P0022</td>\n",
       "      <td>NaN</td>\n",
       "      <td>NaN</td>\n",
       "      <td>NaN</td>\n",
       "      <td>NaN</td>\n",
       "      <td>NaN</td>\n",
       "      <td>NaN</td>\n",
       "      <td>NaN</td>\n",
       "      <td>NaN</td>\n",
       "    </tr>\n",
       "  </tbody>\n",
       "</table>\n",
       "</div>"
      ],
      "text/plain": [
       "       User_ID Product_ID Gender  Age  Occupation City_Category  \\\n",
       "25036  1003845      P0022    NaN  NaN         NaN           NaN   \n",
       "\n",
       "      Stay_In_Current_City_Years  Marital_Status  Product_Category  Purchase  \n",
       "25036                        NaN             NaN               NaN       NaN  "
      ]
     },
     "execution_count": 17,
     "metadata": {},
     "output_type": "execute_result"
    }
   ],
   "source": [
    "df[(df['Product_ID'] == 'P0022')&(df['User_ID'] == 1003845)]"
   ]
  },
  {
   "cell_type": "code",
   "execution_count": 18,
   "id": "5ed3a41a-fe6f-4ce0-a428-fb080039de69",
   "metadata": {
    "panel-layout": {
     "height": 0,
     "visible": true,
     "width": 100
    }
   },
   "outputs": [],
   "source": [
    "df.drop(index=25036,inplace=True)                        #Removed the data with Null Values"
   ]
  },
  {
   "cell_type": "code",
   "execution_count": 19,
   "id": "2d659b3d-95a6-4b79-94e0-c096a28b4787",
   "metadata": {
    "panel-layout": {
     "height": 301.2,
     "visible": true,
     "width": 100
    }
   },
   "outputs": [
    {
     "data": {
      "text/plain": [
       "User_ID                       0\n",
       "Product_ID                    0\n",
       "Gender                        0\n",
       "Age                           0\n",
       "Occupation                    0\n",
       "City_Category                 0\n",
       "Stay_In_Current_City_Years    0\n",
       "Marital_Status                0\n",
       "Product_Category              0\n",
       "Purchase                      0\n",
       "dtype: int64"
      ]
     },
     "execution_count": 19,
     "metadata": {},
     "output_type": "execute_result"
    }
   ],
   "source": [
    "df.isnull().sum()"
   ]
  },
  {
   "cell_type": "code",
   "execution_count": 20,
   "id": "fc965700-e77b-474c-9954-acfaac58eca5",
   "metadata": {
    "panel-layout": {
     "height": 701,
     "visible": true,
     "width": 100
    }
   },
   "outputs": [
    {
     "data": {
      "image/png": "[encoded data removed]",
      "text/plain": [
       "<Figure size 640x480 with 1 Axes>"
      ]
     },
     "metadata": {},
     "output_type": "display_data"
    }
   ],
   "source": [
    "sns.boxplot(df['Purchase'])\n",
    "plt.show()"
   ]
  },
  {
   "cell_type": "code",
   "execution_count": 21,
   "id": "aa39d2f0-1c3e-456f-80b6-1c9f387a7b4b",
   "metadata": {
    "panel-layout": {
     "height": 701,
     "visible": true,
     "width": 100
    }
   },
   "outputs": [
    {
     "data": {
      "image/png": "[encoded data removed]",
      "text/plain": [
       "<Figure size 640x480 with 1 Axes>"
      ]
     },
     "metadata": {},
     "output_type": "display_data"
    }
   ],
   "source": [
    "sns.boxplot(df['Product_Category'])\n",
    "plt.show()"
   ]
  },
  {
   "cell_type": "markdown",
   "id": "9b124359-188d-45e5-9bf3-d78ab3777738",
   "metadata": {
    "panel-layout": {
     "height": 51.1375,
     "visible": true,
     "width": 100
    }
   },
   "source": [
    "We can observer lots of outliers with respect to the Purchase(Amount)"
   ]
  },
  {
   "cell_type": "markdown",
   "id": "c3cf34e9-2ca3-417f-b1d5-09f9439deb58",
   "metadata": {
    "jp-MarkdownHeadingCollapsed": true,
    "panel-layout": {
     "height": 50.8125,
     "visible": true,
     "width": 100
    }
   },
   "source": [
    "## Univariate and Bivarite Analysis"
   ]
  },
  {
   "cell_type": "markdown",
   "id": "3a34670c-40b5-4fc9-9c03-9e2c3ca9987d",
   "metadata": {
    "jp-MarkdownHeadingCollapsed": true,
    "panel-layout": {
     "height": 44.075,
     "visible": true,
     "width": 100
    }
   },
   "source": [
    "### Univarite Analysis"
   ]
  },
  {
   "cell_type": "code",
   "execution_count": 22,
   "id": "aa09766c-4a80-49c1-ac99-a0af2b9c925c",
   "metadata": {
    "panel-layout": {
     "height": 1002.2,
     "visible": true,
     "width": 100
    }
   },
   "outputs": [
    {
     "data": {
      "text/plain": [
       "User_ID                         int64\n",
       "Product_ID                     object\n",
       "Gender                         object\n",
       "Age                            object\n",
       "Occupation                    float64\n",
       "City_Category                  object\n",
       "Stay_In_Current_City_Years     object\n",
       "Marital_Status                float64\n",
       "Product_Category              float64\n",
       "Purchase                      float64\n",
       "dtype: object"
      ]
     },
     "execution_count": 22,
     "metadata": {},
     "output_type": "execute_result"
    }
   ],
   "source": [
    "df.dtypes"
   ]
  },
  {
   "cell_type": "code",
   "execution_count": 23,
   "id": "7ae73b17-1cbd-4921-a1de-2814c8f96ac5",
   "metadata": {
    "panel-layout": {
     "height": 701,
     "visible": true,
     "width": 100
    }
   },
   "outputs": [
    {
     "data": {
      "image/png": "[encoded data removed]",
      "text/plain": [
       "<Figure size 640x480 with 1 Axes>"
      ]
     },
     "metadata": {},
     "output_type": "display_data"
    }
   ],
   "source": [
    "plt.pie(df['Gender'].value_counts() , labels=df['Gender'].value_counts().index , autopct= \"%.2f%%\")\n",
    "plt.show()"
   ]
  },
  {
   "cell_type": "code",
   "execution_count": 24,
   "id": "4be25b96-530c-456b-aaa7-118fa15072b8",
   "metadata": {
    "panel-layout": {
     "height": 701,
     "visible": true,
     "width": 100
    }
   },
   "outputs": [
    {
     "data": {
      "image/png": "[encoded data removed]",
      "text/plain": [
       "<Figure size 640x480 with 1 Axes>"
      ]
     },
     "metadata": {},
     "output_type": "display_data"
    }
   ],
   "source": [
    "sns.countplot(x = df['Age'])\n",
    "plt.show()"
   ]
  },
  {
   "cell_type": "code",
   "execution_count": 25,
   "id": "80859103-5c8b-45ae-bb69-a4b2e4b91a88",
   "metadata": {
    "panel-layout": {
     "height": 701,
     "visible": true,
     "width": 100
    }
   },
   "outputs": [
    {
     "data": {
      "image/png": "[encoded data removed]",
      "text/plain": [
       "<Figure size 640x480 with 1 Axes>"
      ]
     },
     "metadata": {},
     "output_type": "display_data"
    }
   ],
   "source": [
    "sns.histplot(df['Occupation'] , bins=20)\n",
    "plt.show()"
   ]
  },
  {
   "cell_type": "code",
   "execution_count": 26,
   "id": "bed56aab-f1db-486f-b1f6-c36120e734ea",
   "metadata": {
    "panel-layout": {
     "height": 701,
     "visible": true,
     "width": 100
    }
   },
   "outputs": [
    {
     "data": {
      "image/png": "[encoded data removed]",
      "text/plain": [
       "<Figure size 640x480 with 1 Axes>"
      ]
     },
     "metadata": {},
     "output_type": "display_data"
    }
   ],
   "source": [
    "sns.histplot(df['Product_Category'], bins = 18)\n",
    "plt.show()"
   ]
  },
  {
   "cell_type": "code",
   "execution_count": 27,
   "id": "7370b1ea-d169-4cf3-87dd-06936f8f2c64",
   "metadata": {
    "panel-layout": {
     "height": 701,
     "visible": true,
     "width": 100
    }
   },
   "outputs": [
    {
     "data": {
      "image/png": "[encoded data removed]",
      "text/plain": [
       "<Figure size 640x480 with 1 Axes>"
      ]
     },
     "metadata": {},
     "output_type": "display_data"
    }
   ],
   "source": [
    "sns.countplot(x = df['City_Category'])\n",
    "plt.show()"
   ]
  },
  {
   "cell_type": "code",
   "execution_count": 28,
   "id": "f4d93916-c8bb-40f4-8997-b9fcb23ca9d1",
   "metadata": {
    "panel-layout": {
     "height": 701,
     "visible": true,
     "width": 100
    }
   },
   "outputs": [
    {
     "data": {
      "image/png": "[encoded data removed]",
      "text/plain": [
       "<Figure size 640x480 with 1 Axes>"
      ]
     },
     "metadata": {},
     "output_type": "display_data"
    }
   ],
   "source": [
    "sns.countplot(x = df['Stay_In_Current_City_Years'])\n",
    "plt.show()"
   ]
  },
  {
   "cell_type": "code",
   "execution_count": 29,
   "id": "ccd61198-76f5-44df-9960-2a5f64097737",
   "metadata": {},
   "outputs": [
    {
     "data": {
      "image/png": "[encoded data removed]",
      "text/plain": [
       "<Figure size 640x480 with 1 Axes>"
      ]
     },
     "metadata": {},
     "output_type": "display_data"
    }
   ],
   "source": [
    "sns.histplot(df['Product_ID'] , bins=2820)\n",
    "plt.show()"
   ]
  },
  {
   "cell_type": "markdown",
   "id": "be0d51f3-0ec3-462e-8b45-60fcf866e6f1",
   "metadata": {
    "jp-MarkdownHeadingCollapsed": true,
    "panel-layout": {
     "height": 44.075,
     "visible": true,
     "width": 100
    }
   },
   "source": [
    "### Bivariate Analysis"
   ]
  },
  {
   "cell_type": "code",
   "execution_count": 30,
   "id": "28694b89-f936-43ec-b3d8-2dc5636abe6e",
   "metadata": {
    "editable": true,
    "slideshow": {
     "slide_type": ""
    },
    "tags": []
   },
   "outputs": [
    {
     "data": {
      "text/plain": [
       "User_ID                         int64\n",
       "Product_ID                     object\n",
       "Gender                         object\n",
       "Age                            object\n",
       "Occupation                    float64\n",
       "City_Category                  object\n",
       "Stay_In_Current_City_Years     object\n",
       "Marital_Status                float64\n",
       "Product_Category              float64\n",
       "Purchase                      float64\n",
       "dtype: object"
      ]
     },
     "execution_count": 30,
     "metadata": {},
     "output_type": "execute_result"
    }
   ],
   "source": [
    "df.dtypes"
   ]
  },
  {
   "cell_type": "code",
   "execution_count": 31,
   "id": "6bca2e11-a4a0-42a2-9f41-10aeb6f67b96",
   "metadata": {},
   "outputs": [
    {
     "data": {
      "text/plain": [
       "2820"
      ]
     },
     "execution_count": 31,
     "metadata": {},
     "output_type": "execute_result"
    }
   ],
   "source": [
    "df['Product_ID'].nunique()"
   ]
  },
  {
   "cell_type": "code",
   "execution_count": 32,
   "id": "4fdc0211-81f1-45bb-831b-8e31de331633",
   "metadata": {},
   "outputs": [
    {
     "data": {
      "image/png": "[encoded data removed]",
      "text/plain": [
       "<Figure size 640x480 with 1 Axes>"
      ]
     },
     "metadata": {},
     "output_type": "display_data"
    }
   ],
   "source": [
    "sns.countplot(x = df['Product_ID'] , hue = df['Age'] )\n",
    "plt.show()"
   ]
  },
  {
   "cell_type": "code",
   "execution_count": 33,
   "id": "241ece31-a636-420c-b5d3-22ec06dc0ad1",
   "metadata": {},
   "outputs": [
    {
     "data": {
      "image/png": "[encoded data removed]",
      "text/plain": [
       "<Figure size 640x480 with 1 Axes>"
      ]
     },
     "metadata": {},
     "output_type": "display_data"
    }
   ],
   "source": [
    "sns.countplot(x = df['Product_ID'] , hue = df['Gender'])\n",
    "plt.show()"
   ]
  },
  {
   "cell_type": "code",
   "execution_count": 135,
   "id": "55d9b1c1-3cdb-4526-8f28-b7358255e66e",
   "metadata": {},
   "outputs": [
    {
     "data": {
      "text/html": [
       "<div>\n",
       "<style scoped>\n",
       "    .dataframe tbody tr th:only-of-type {\n",
       "        vertical-align: middle;\n",
       "    }\n",
       "\n",
       "    .dataframe tbody tr th {\n",
       "        vertical-align: top;\n",
       "    }\n",
       "\n",
       "    .dataframe thead th {\n",
       "        text-align: right;\n",
       "    }\n",
       "</style>\n",
       "<table border=\"1\" class=\"dataframe\">\n",
       "  <thead>\n",
       "    <tr style=\"text-align: right;\">\n",
       "      <th></th>\n",
       "      <th>Product_Category</th>\n",
       "      <th>Age</th>\n",
       "    </tr>\n",
       "  </thead>\n",
       "  <tbody>\n",
       "    <tr>\n",
       "      <th>0</th>\n",
       "      <td>3.0</td>\n",
       "      <td>0-17</td>\n",
       "    </tr>\n",
       "    <tr>\n",
       "      <th>1</th>\n",
       "      <td>1.0</td>\n",
       "      <td>0-17</td>\n",
       "    </tr>\n",
       "    <tr>\n",
       "      <th>2</th>\n",
       "      <td>12.0</td>\n",
       "      <td>0-17</td>\n",
       "    </tr>\n",
       "    <tr>\n",
       "      <th>3</th>\n",
       "      <td>12.0</td>\n",
       "      <td>0-17</td>\n",
       "    </tr>\n",
       "    <tr>\n",
       "      <th>4</th>\n",
       "      <td>8.0</td>\n",
       "      <td>55+</td>\n",
       "    </tr>\n",
       "  </tbody>\n",
       "</table>\n",
       "</div>"
      ],
      "text/plain": [
       "   Product_Category   Age\n",
       "0               3.0  0-17\n",
       "1               1.0  0-17\n",
       "2              12.0  0-17\n",
       "3              12.0  0-17\n",
       "4               8.0   55+"
      ]
     },
     "execution_count": 135,
     "metadata": {},
     "output_type": "execute_result"
    }
   ],
   "source": [
    "productCategory_age = df[['Product_Category','Age']]\n",
    "productCategory_age.head()"
   ]
  },
  {
   "cell_type": "code",
   "execution_count": 35,
   "id": "dfaf3975-6742-4c60-bdcc-7d2280c78083",
   "metadata": {},
   "outputs": [
    {
     "data": {
      "text/plain": [
       "Age\n",
       "26-35    9826\n",
       "18-25    5100\n",
       "36-45    4839\n",
       "46-50    1844\n",
       "51-55    1738\n",
       "55+       990\n",
       "0-17      699\n",
       "Name: count, dtype: int64"
      ]
     },
     "execution_count": 35,
     "metadata": {},
     "output_type": "execute_result"
    }
   ],
   "source": [
    "productCategory_age['Age'].value_counts()"
   ]
  },
  {
   "cell_type": "code",
   "execution_count": 36,
   "id": "53a721c1-5d87-4b75-9c1a-d40b80d67494",
   "metadata": {},
   "outputs": [
    {
     "data": {
      "image/png": "[encoded data removed]",
      "text/plain": [
       "<Figure size 640x480 with 1 Axes>"
      ]
     },
     "metadata": {},
     "output_type": "display_data"
    }
   ],
   "source": [
    "sns.boxplot(x=df['Age'],y=df['Product_Category'])\n",
    "plt.show()"
   ]
  },
  {
   "cell_type": "code",
   "execution_count": 37,
   "id": "08d5dd29-e049-42b8-9a0f-98d5d9d0ceff",
   "metadata": {},
   "outputs": [
    {
     "data": {
      "image/png": "[encoded data removed]",
      "text/plain": [
       "<Figure size 640x480 with 1 Axes>"
      ]
     },
     "metadata": {},
     "output_type": "display_data"
    }
   ],
   "source": [
    "sns.barplot(x=df['Age'],y=df['Product_Category'])\n",
    "plt.show()"
   ]
  },
  {
   "cell_type": "code",
   "execution_count": 38,
   "id": "a6814638-00fd-4d9b-873e-b0d5dd563554",
   "metadata": {},
   "outputs": [
    {
     "data": {
      "text/html": [
       "<div>\n",
       "<style scoped>\n",
       "    .dataframe tbody tr th:only-of-type {\n",
       "        vertical-align: middle;\n",
       "    }\n",
       "\n",
       "    .dataframe tbody tr th {\n",
       "        vertical-align: top;\n",
       "    }\n",
       "\n",
       "    .dataframe thead th {\n",
       "        text-align: right;\n",
       "    }\n",
       "</style>\n",
       "<table border=\"1\" class=\"dataframe\">\n",
       "  <thead>\n",
       "    <tr style=\"text-align: right;\">\n",
       "      <th></th>\n",
       "      <th>Product_Category</th>\n",
       "      <th>Gender</th>\n",
       "    </tr>\n",
       "  </thead>\n",
       "  <tbody>\n",
       "    <tr>\n",
       "      <th>0</th>\n",
       "      <td>3.0</td>\n",
       "      <td>F</td>\n",
       "    </tr>\n",
       "    <tr>\n",
       "      <th>1</th>\n",
       "      <td>1.0</td>\n",
       "      <td>F</td>\n",
       "    </tr>\n",
       "    <tr>\n",
       "      <th>2</th>\n",
       "      <td>12.0</td>\n",
       "      <td>F</td>\n",
       "    </tr>\n",
       "    <tr>\n",
       "      <th>3</th>\n",
       "      <td>12.0</td>\n",
       "      <td>F</td>\n",
       "    </tr>\n",
       "    <tr>\n",
       "      <th>4</th>\n",
       "      <td>8.0</td>\n",
       "      <td>M</td>\n",
       "    </tr>\n",
       "    <tr>\n",
       "      <th>...</th>\n",
       "      <td>...</td>\n",
       "      <td>...</td>\n",
       "    </tr>\n",
       "    <tr>\n",
       "      <th>25031</th>\n",
       "      <td>5.0</td>\n",
       "      <td>F</td>\n",
       "    </tr>\n",
       "    <tr>\n",
       "      <th>25032</th>\n",
       "      <td>4.0</td>\n",
       "      <td>F</td>\n",
       "    </tr>\n",
       "    <tr>\n",
       "      <th>25033</th>\n",
       "      <td>11.0</td>\n",
       "      <td>M</td>\n",
       "    </tr>\n",
       "    <tr>\n",
       "      <th>25034</th>\n",
       "      <td>11.0</td>\n",
       "      <td>M</td>\n",
       "    </tr>\n",
       "    <tr>\n",
       "      <th>25035</th>\n",
       "      <td>1.0</td>\n",
       "      <td>M</td>\n",
       "    </tr>\n",
       "  </tbody>\n",
       "</table>\n",
       "<p>25036 rows × 2 columns</p>\n",
       "</div>"
      ],
      "text/plain": [
       "       Product_Category Gender\n",
       "0                   3.0      F\n",
       "1                   1.0      F\n",
       "2                  12.0      F\n",
       "3                  12.0      F\n",
       "4                   8.0      M\n",
       "...                 ...    ...\n",
       "25031               5.0      F\n",
       "25032               4.0      F\n",
       "25033              11.0      M\n",
       "25034              11.0      M\n",
       "25035               1.0      M\n",
       "\n",
       "[25036 rows x 2 columns]"
      ]
     },
     "execution_count": 38,
     "metadata": {},
     "output_type": "execute_result"
    }
   ],
   "source": [
    "productCategory_gender = df[['Product_Category','Gender']]\n",
    "productCategory_gender"
   ]
  },
  {
   "cell_type": "code",
   "execution_count": 39,
   "id": "66a09263-ea94-44c2-ac40-7ec26ee93c14",
   "metadata": {},
   "outputs": [
    {
     "data": {
      "image/png": "[encoded data removed]",
      "text/plain": [
       "<Figure size 640x480 with 1 Axes>"
      ]
     },
     "metadata": {},
     "output_type": "display_data"
    }
   ],
   "source": [
    "sns.boxplot(x = df['Gender'] , y = df['Product_Category'])\n",
    "plt.show()"
   ]
  },
  {
   "cell_type": "code",
   "execution_count": 40,
   "id": "270a19bf-c64b-40c0-b7a3-88ecb0f0194b",
   "metadata": {},
   "outputs": [
    {
     "data": {
      "image/png": "[encoded data removed]",
      "text/plain": [
       "<Figure size 640x480 with 1 Axes>"
      ]
     },
     "metadata": {},
     "output_type": "display_data"
    }
   ],
   "source": [
    "sns.barplot(x=df['Product_Category'],y=df['Gender'])\n",
    "plt.show()"
   ]
  },
  {
   "cell_type": "code",
   "execution_count": 41,
   "id": "3f6122e2-78fe-46f1-abe5-c23af6e4c374",
   "metadata": {},
   "outputs": [
    {
     "data": {
      "text/html": [
       "<div>\n",
       "<style scoped>\n",
       "    .dataframe tbody tr th:only-of-type {\n",
       "        vertical-align: middle;\n",
       "    }\n",
       "\n",
       "    .dataframe tbody tr th {\n",
       "        vertical-align: top;\n",
       "    }\n",
       "\n",
       "    .dataframe thead th {\n",
       "        text-align: right;\n",
       "    }\n",
       "</style>\n",
       "<table border=\"1\" class=\"dataframe\">\n",
       "  <thead>\n",
       "    <tr style=\"text-align: right;\">\n",
       "      <th></th>\n",
       "      <th>Product_Category</th>\n",
       "      <th>City_Category</th>\n",
       "    </tr>\n",
       "  </thead>\n",
       "  <tbody>\n",
       "    <tr>\n",
       "      <th>0</th>\n",
       "      <td>3.0</td>\n",
       "      <td>A</td>\n",
       "    </tr>\n",
       "    <tr>\n",
       "      <th>1</th>\n",
       "      <td>1.0</td>\n",
       "      <td>A</td>\n",
       "    </tr>\n",
       "    <tr>\n",
       "      <th>2</th>\n",
       "      <td>12.0</td>\n",
       "      <td>A</td>\n",
       "    </tr>\n",
       "    <tr>\n",
       "      <th>3</th>\n",
       "      <td>12.0</td>\n",
       "      <td>A</td>\n",
       "    </tr>\n",
       "    <tr>\n",
       "      <th>4</th>\n",
       "      <td>8.0</td>\n",
       "      <td>C</td>\n",
       "    </tr>\n",
       "    <tr>\n",
       "      <th>...</th>\n",
       "      <td>...</td>\n",
       "      <td>...</td>\n",
       "    </tr>\n",
       "    <tr>\n",
       "      <th>25031</th>\n",
       "      <td>5.0</td>\n",
       "      <td>B</td>\n",
       "    </tr>\n",
       "    <tr>\n",
       "      <th>25032</th>\n",
       "      <td>4.0</td>\n",
       "      <td>B</td>\n",
       "    </tr>\n",
       "    <tr>\n",
       "      <th>25033</th>\n",
       "      <td>11.0</td>\n",
       "      <td>C</td>\n",
       "    </tr>\n",
       "    <tr>\n",
       "      <th>25034</th>\n",
       "      <td>11.0</td>\n",
       "      <td>C</td>\n",
       "    </tr>\n",
       "    <tr>\n",
       "      <th>25035</th>\n",
       "      <td>1.0</td>\n",
       "      <td>C</td>\n",
       "    </tr>\n",
       "  </tbody>\n",
       "</table>\n",
       "<p>25036 rows × 2 columns</p>\n",
       "</div>"
      ],
      "text/plain": [
       "       Product_Category City_Category\n",
       "0                   3.0             A\n",
       "1                   1.0             A\n",
       "2                  12.0             A\n",
       "3                  12.0             A\n",
       "4                   8.0             C\n",
       "...                 ...           ...\n",
       "25031               5.0             B\n",
       "25032               4.0             B\n",
       "25033              11.0             C\n",
       "25034              11.0             C\n",
       "25035               1.0             C\n",
       "\n",
       "[25036 rows x 2 columns]"
      ]
     },
     "execution_count": 41,
     "metadata": {},
     "output_type": "execute_result"
    }
   ],
   "source": [
    "productCategory_city = df[['Product_Category','City_Category']]\n",
    "productCategory_city"
   ]
  },
  {
   "cell_type": "code",
   "execution_count": 42,
   "id": "24719fb0-c33d-4b08-848d-6600e6b9771e",
   "metadata": {},
   "outputs": [
    {
     "data": {
      "image/png": "[encoded data removed]",
      "text/plain": [
       "<Figure size 640x480 with 1 Axes>"
      ]
     },
     "metadata": {},
     "output_type": "display_data"
    }
   ],
   "source": [
    "sns.barplot(x= productCategory_city['City_Category'] , y= productCategory_city['Product_Category'])\n",
    "plt.show()"
   ]
  },
  {
   "cell_type": "code",
   "execution_count": 43,
   "id": "16ac8687-a75c-4d8c-9f90-a0671000c6a7",
   "metadata": {},
   "outputs": [
    {
     "data": {
      "image/png": "[encoded data removed]",
      "text/plain": [
       "<Figure size 640x480 with 1 Axes>"
      ]
     },
     "metadata": {},
     "output_type": "display_data"
    }
   ],
   "source": [
    "sns.barplot(x = df['City_Category'] , y =df['Purchase'])\n",
    "plt.show()"
   ]
  },
  {
   "cell_type": "code",
   "execution_count": 44,
   "id": "320836fd-8551-445e-8715-b0dee4a8539c",
   "metadata": {},
   "outputs": [
    {
     "data": {
      "image/png": "[encoded data removed]",
      "text/plain": [
       "<Figure size 640x480 with 1 Axes>"
      ]
     },
     "metadata": {},
     "output_type": "display_data"
    }
   ],
   "source": [
    "sns.lineplot(x= df['Occupation'] , y= df['Purchase'])\n",
    "plt.show()"
   ]
  },
  {
   "cell_type": "code",
   "execution_count": 45,
   "id": "56c8e6c0-80f6-4ed0-b024-8a61d9618aad",
   "metadata": {},
   "outputs": [
    {
     "data": {
      "image/png": "[encoded data removed]",
      "text/plain": [
       "<Figure size 640x480 with 1 Axes>"
      ]
     },
     "metadata": {},
     "output_type": "display_data"
    }
   ],
   "source": [
    "sns.boxplot(x=df['Age'],y=df['Purchase'])\n",
    "plt.show()"
   ]
  },
  {
   "cell_type": "code",
   "execution_count": 46,
   "id": "01af7729-5443-45ff-9212-ef7eb28157ed",
   "metadata": {},
   "outputs": [
    {
     "data": {
      "image/png": "[encoded data removed]",
      "text/plain": [
       "<Figure size 640x480 with 1 Axes>"
      ]
     },
     "metadata": {},
     "output_type": "display_data"
    }
   ],
   "source": [
    "sns.boxplot(x=df['Gender'],y=df['Purchase'])\n",
    "plt.show()"
   ]
  },
  {
   "cell_type": "markdown",
   "id": "50e5f206-1183-4d4c-aade-c14211354118",
   "metadata": {
    "jp-MarkdownHeadingCollapsed": true
   },
   "source": [
    "## Multi-Variate Analysis"
   ]
  },
  {
   "cell_type": "code",
   "execution_count": 47,
   "id": "e31e4003-9149-4b1b-a584-ee737aa5464d",
   "metadata": {},
   "outputs": [
    {
     "data": {
      "text/plain": [
       "User_ID                         int64\n",
       "Product_ID                     object\n",
       "Gender                         object\n",
       "Age                            object\n",
       "Occupation                    float64\n",
       "City_Category                  object\n",
       "Stay_In_Current_City_Years     object\n",
       "Marital_Status                float64\n",
       "Product_Category              float64\n",
       "Purchase                      float64\n",
       "dtype: object"
      ]
     },
     "execution_count": 47,
     "metadata": {},
     "output_type": "execute_result"
    }
   ],
   "source": [
    "df.dtypes"
   ]
  },
  {
   "cell_type": "code",
   "execution_count": 48,
   "id": "5e8f2bd4-d99c-44a1-8b02-c474061b1d1a",
   "metadata": {},
   "outputs": [
    {
     "data": {
      "image/png": "[encoded data removed]",
      "text/plain": [
       "<Figure size 640x480 with 1 Axes>"
      ]
     },
     "metadata": {},
     "output_type": "display_data"
    }
   ],
   "source": [
    "sns.boxplot(x=df['Age'],y=df['Purchase'],hue=df['Gender'])\n",
    "plt.show()"
   ]
  },
  {
   "cell_type": "code",
   "execution_count": 49,
   "id": "305334ca-c774-40ff-9566-faa253b82140",
   "metadata": {},
   "outputs": [
    {
     "data": {
      "image/png": "[encoded data removed]",
      "text/plain": [
       "<Figure size 640x480 with 1 Axes>"
      ]
     },
     "metadata": {},
     "output_type": "display_data"
    }
   ],
   "source": [
    "sns.barplot(x=df['Age'] , y=df['Purchase'] , hue=df['Marital_Status'].replace({1.0:\"Married\" , 0.0:\"Unmarried/Other\"}))\n",
    "plt.show()"
   ]
  },
  {
   "cell_type": "code",
   "execution_count": 50,
   "id": "e1df004e-ac81-4443-ac90-93f02037f070",
   "metadata": {},
   "outputs": [
    {
     "data": {
      "text/plain": [
       "Index([ 5.0,  1.0,  8.0, 11.0,  2.0,  3.0,  6.0,  4.0, 16.0, 15.0, 13.0, 10.0,\n",
       "       12.0,  7.0, 18.0, 14.0, 17.0,  9.0],\n",
       "      dtype='float64', name='Product_Category')"
      ]
     },
     "execution_count": 50,
     "metadata": {},
     "output_type": "execute_result"
    }
   ],
   "source": [
    "df['Product_Category'].value_counts().index"
   ]
  },
  {
   "cell_type": "code",
   "execution_count": 51,
   "id": "ac621417-e283-4c47-b6c1-72cf84108b0a",
   "metadata": {},
   "outputs": [
    {
     "data": {
      "image/png": "[encoded data removed]",
      "text/plain": [
       "<Figure size 640x480 with 1 Axes>"
      ]
     },
     "metadata": {},
     "output_type": "display_data"
    }
   ],
   "source": [
    "sns.lineplot(x=df['Product_Category'] , y=df['Purchase'] ,hue=df['Gender'])\n",
    "plt.show()"
   ]
  },
  {
   "cell_type": "code",
   "execution_count": 52,
   "id": "70fb614b-f15c-4e16-b073-577fc88f5906",
   "metadata": {},
   "outputs": [
    {
     "data": {
      "image/png": "[encoded data removed]",
      "text/plain": [
       "<Figure size 640x480 with 1 Axes>"
      ]
     },
     "metadata": {},
     "output_type": "display_data"
    }
   ],
   "source": [
    "sns.lineplot(x=df['Occupation'] , y=df['Purchase'] ,hue=df['Gender'])\n",
    "plt.show()"
   ]
  },
  {
   "cell_type": "markdown",
   "id": "3c9ad91b-a9f8-4d66-ac4e-91f68bc20771",
   "metadata": {},
   "source": [
    "## CLT and Confidence Interval"
   ]
  },
  {
   "cell_type": "markdown",
   "id": "2e602c5f-1eaa-454d-9630-c824c570d6ad",
   "metadata": {},
   "source": [
    "### How does gender affect the amount spent?"
   ]
  },
  {
   "cell_type": "code",
   "execution_count": 53,
   "id": "3727cf70-8889-441f-a4bd-6d17203369f8",
   "metadata": {},
   "outputs": [
    {
     "data": {
      "text/html": [
       "<div>\n",
       "<style scoped>\n",
       "    .dataframe tbody tr th:only-of-type {\n",
       "        vertical-align: middle;\n",
       "    }\n",
       "\n",
       "    .dataframe tbody tr th {\n",
       "        vertical-align: top;\n",
       "    }\n",
       "\n",
       "    .dataframe thead th {\n",
       "        text-align: right;\n",
       "    }\n",
       "</style>\n",
       "<table border=\"1\" class=\"dataframe\">\n",
       "  <thead>\n",
       "    <tr style=\"text-align: right;\">\n",
       "      <th></th>\n",
       "      <th>User_ID</th>\n",
       "      <th>Product_ID</th>\n",
       "      <th>Gender</th>\n",
       "      <th>Age</th>\n",
       "      <th>Occupation</th>\n",
       "      <th>City_Category</th>\n",
       "      <th>Stay_In_Current_City_Years</th>\n",
       "      <th>Marital_Status</th>\n",
       "      <th>Product_Category</th>\n",
       "      <th>Purchase</th>\n",
       "    </tr>\n",
       "  </thead>\n",
       "  <tbody>\n",
       "    <tr>\n",
       "      <th>0</th>\n",
       "      <td>1000001</td>\n",
       "      <td>P00069042</td>\n",
       "      <td>F</td>\n",
       "      <td>0-17</td>\n",
       "      <td>10.0</td>\n",
       "      <td>A</td>\n",
       "      <td>2</td>\n",
       "      <td>0.0</td>\n",
       "      <td>3.0</td>\n",
       "      <td>8370.0</td>\n",
       "    </tr>\n",
       "    <tr>\n",
       "      <th>1</th>\n",
       "      <td>1000001</td>\n",
       "      <td>P00248942</td>\n",
       "      <td>F</td>\n",
       "      <td>0-17</td>\n",
       "      <td>10.0</td>\n",
       "      <td>A</td>\n",
       "      <td>2</td>\n",
       "      <td>0.0</td>\n",
       "      <td>1.0</td>\n",
       "      <td>15200.0</td>\n",
       "    </tr>\n",
       "    <tr>\n",
       "      <th>2</th>\n",
       "      <td>1000001</td>\n",
       "      <td>P00087842</td>\n",
       "      <td>F</td>\n",
       "      <td>0-17</td>\n",
       "      <td>10.0</td>\n",
       "      <td>A</td>\n",
       "      <td>2</td>\n",
       "      <td>0.0</td>\n",
       "      <td>12.0</td>\n",
       "      <td>1422.0</td>\n",
       "    </tr>\n",
       "    <tr>\n",
       "      <th>3</th>\n",
       "      <td>1000001</td>\n",
       "      <td>P00085442</td>\n",
       "      <td>F</td>\n",
       "      <td>0-17</td>\n",
       "      <td>10.0</td>\n",
       "      <td>A</td>\n",
       "      <td>2</td>\n",
       "      <td>0.0</td>\n",
       "      <td>12.0</td>\n",
       "      <td>1057.0</td>\n",
       "    </tr>\n",
       "    <tr>\n",
       "      <th>4</th>\n",
       "      <td>1000002</td>\n",
       "      <td>P00285442</td>\n",
       "      <td>M</td>\n",
       "      <td>55+</td>\n",
       "      <td>16.0</td>\n",
       "      <td>C</td>\n",
       "      <td>4+</td>\n",
       "      <td>0.0</td>\n",
       "      <td>8.0</td>\n",
       "      <td>7969.0</td>\n",
       "    </tr>\n",
       "  </tbody>\n",
       "</table>\n",
       "</div>"
      ],
      "text/plain": [
       "   User_ID Product_ID Gender   Age  Occupation City_Category  \\\n",
       "0  1000001  P00069042      F  0-17        10.0             A   \n",
       "1  1000001  P00248942      F  0-17        10.0             A   \n",
       "2  1000001  P00087842      F  0-17        10.0             A   \n",
       "3  1000001  P00085442      F  0-17        10.0             A   \n",
       "4  1000002  P00285442      M   55+        16.0             C   \n",
       "\n",
       "  Stay_In_Current_City_Years  Marital_Status  Product_Category  Purchase  \n",
       "0                          2             0.0               3.0    8370.0  \n",
       "1                          2             0.0               1.0   15200.0  \n",
       "2                          2             0.0              12.0    1422.0  \n",
       "3                          2             0.0              12.0    1057.0  \n",
       "4                         4+             0.0               8.0    7969.0  "
      ]
     },
     "execution_count": 53,
     "metadata": {},
     "output_type": "execute_result"
    }
   ],
   "source": [
    "df.head()"
   ]
  },
  {
   "cell_type": "code",
   "execution_count": 54,
   "id": "cebdf925-9be6-4470-88d6-4daee033da57",
   "metadata": {},
   "outputs": [
    {
     "data": {
      "text/plain": [
       "Gender\n",
       "F     906\n",
       "M    2482\n",
       "Name: User_ID, dtype: int64"
      ]
     },
     "execution_count": 54,
     "metadata": {},
     "output_type": "execute_result"
    }
   ],
   "source": [
    "df.groupby(['Gender'])['User_ID'].nunique()"
   ]
  },
  {
   "cell_type": "markdown",
   "id": "4b4eb3b5-ef36-44e6-826e-ce95f7f55e1f",
   "metadata": {},
   "source": [
    "We can observe that we have 906 Female users and 2482 Male users from the given data sample."
   ]
  },
  {
   "cell_type": "code",
   "execution_count": 55,
   "id": "67c59385-986d-4ddc-b8a5-f5420cf6a082",
   "metadata": {},
   "outputs": [
    {
     "data": {
      "text/html": [
       "<div>\n",
       "<style scoped>\n",
       "    .dataframe tbody tr th:only-of-type {\n",
       "        vertical-align: middle;\n",
       "    }\n",
       "\n",
       "    .dataframe tbody tr th {\n",
       "        vertical-align: top;\n",
       "    }\n",
       "\n",
       "    .dataframe thead th {\n",
       "        text-align: right;\n",
       "    }\n",
       "</style>\n",
       "<table border=\"1\" class=\"dataframe\">\n",
       "  <thead>\n",
       "    <tr style=\"text-align: right;\">\n",
       "      <th></th>\n",
       "      <th>count</th>\n",
       "      <th>mean</th>\n",
       "      <th>std</th>\n",
       "      <th>min</th>\n",
       "      <th>25%</th>\n",
       "      <th>50%</th>\n",
       "      <th>75%</th>\n",
       "      <th>max</th>\n",
       "    </tr>\n",
       "    <tr>\n",
       "      <th>Gender</th>\n",
       "      <th></th>\n",
       "      <th></th>\n",
       "      <th></th>\n",
       "      <th></th>\n",
       "      <th></th>\n",
       "      <th></th>\n",
       "      <th></th>\n",
       "      <th></th>\n",
       "    </tr>\n",
       "  </thead>\n",
       "  <tbody>\n",
       "    <tr>\n",
       "      <th>F</th>\n",
       "      <td>5897.0</td>\n",
       "      <td>8730.292691</td>\n",
       "      <td>4650.481341</td>\n",
       "      <td>347.0</td>\n",
       "      <td>5451.0</td>\n",
       "      <td>7916.0</td>\n",
       "      <td>11030.0</td>\n",
       "      <td>23910.0</td>\n",
       "    </tr>\n",
       "    <tr>\n",
       "      <th>M</th>\n",
       "      <td>19139.0</td>\n",
       "      <td>9398.277287</td>\n",
       "      <td>5011.996624</td>\n",
       "      <td>186.0</td>\n",
       "      <td>5871.0</td>\n",
       "      <td>8088.0</td>\n",
       "      <td>12123.5</td>\n",
       "      <td>23958.0</td>\n",
       "    </tr>\n",
       "  </tbody>\n",
       "</table>\n",
       "</div>"
      ],
      "text/plain": [
       "          count         mean          std    min     25%     50%      75%  \\\n",
       "Gender                                                                      \n",
       "F        5897.0  8730.292691  4650.481341  347.0  5451.0  7916.0  11030.0   \n",
       "M       19139.0  9398.277287  5011.996624  186.0  5871.0  8088.0  12123.5   \n",
       "\n",
       "            max  \n",
       "Gender           \n",
       "F       23910.0  \n",
       "M       23958.0  "
      ]
     },
     "execution_count": 55,
     "metadata": {},
     "output_type": "execute_result"
    }
   ],
   "source": [
    "df.groupby('Gender')['Purchase'].describe()"
   ]
  },
  {
   "cell_type": "markdown",
   "id": "89150eca-f2d1-4603-b8c2-1b86d2a1d111",
   "metadata": {},
   "source": [
    "**Checking for 95% Confidence based on sample data if Gender affect Amount spent**\n",
    "\n",
    "*(The z-score for a 95% confidence interval is 1.96.)*"
   ]
  },
  {
   "cell_type": "code",
   "execution_count": 56,
   "id": "ab964bdd-f008-4a10-91af-37be0fab0737",
   "metadata": {},
   "outputs": [
    {
     "name": "stdout",
     "output_type": "stream",
     "text": [
      "Male Confidence Interval based on sample data: \n"
     ]
    },
    {
     "data": {
      "text/plain": [
       "(19221.790670650335, -425.2360962211569)"
      ]
     },
     "execution_count": 56,
     "metadata": {},
     "output_type": "execute_result"
    }
   ],
   "source": [
    "print(\"Male Confidence Interval based on sample data: \")\n",
    "df[df['Gender']=='M']['Purchase'].mean() + (1.96 * df[df['Gender']=='M']['Purchase'].std()) , df[df['Gender']=='M']['Purchase'].mean() - (1.96 * df[df['Gender']=='M']['Purchase'].std())"
   ]
  },
  {
   "cell_type": "code",
   "execution_count": 57,
   "id": "6fbfdc33-1d49-4440-b9cd-d1b69f924c77",
   "metadata": {},
   "outputs": [
    {
     "name": "stdout",
     "output_type": "stream",
     "text": [
      "Female Confidence Interval based on sample data: \n"
     ]
    },
    {
     "data": {
      "text/plain": [
       "(17845.236119129688, -384.65073673185725)"
      ]
     },
     "execution_count": 57,
     "metadata": {},
     "output_type": "execute_result"
    }
   ],
   "source": [
    "print(\"Female Confidence Interval based on sample data: \")\n",
    "df[df['Gender']=='F']['Purchase'].mean() + (1.96 * df[df['Gender']=='F']['Purchase'].std()) , df[df['Gender']=='F']['Purchase'].mean() - (1.96 * df[df['Gender']=='F']['Purchase'].std())"
   ]
  },
  {
   "cell_type": "markdown",
   "id": "bf038504-de06-42b4-a113-3f4101003c9c",
   "metadata": {},
   "source": [
    "Since there is a clear Overlap in the Limits we cannot say for sure wheter the M or F spend more"
   ]
  },
  {
   "cell_type": "markdown",
   "id": "8555bdee-4f98-446c-9a29-a184b2fe7da6",
   "metadata": {},
   "source": [
    "**Checking for 95% Confidence: Sample Sizes(300/3000)**"
   ]
  },
  {
   "cell_type": "code",
   "execution_count": 58,
   "id": "10a83ad6-5e1c-4059-b26e-e697fbe207fe",
   "metadata": {},
   "outputs": [
    {
     "data": {
      "text/plain": [
       "[9006.116666666667,\n",
       " 9441.293333333333,\n",
       " 9322.003333333334,\n",
       " 9098.92,\n",
       " 9466.923333333334,\n",
       " 9660.453333333333,\n",
       " 9364.806666666667,\n",
       " 9200.03,\n",
       " 9392.33,\n",
       " 9411.086666666666,\n",
       " 9232.846666666666,\n",
       " 9655.956666666667,\n",
       " 9579.846666666666,\n",
       " 9737.1,\n",
       " 9121.663333333334,\n",
       " 9221.83,\n",
       " 9546.37,\n",
       " 9131.103333333333,\n",
       " 9021.6,\n",
       " 9363.44,\n",
       " 8875.883333333333,\n",
       " 9664.003333333334,\n",
       " 9239.586666666666,\n",
       " 9605.323333333334,\n",
       " 9479.686666666666,\n",
       " 9480.423333333334,\n",
       " 9783.576666666666,\n",
       " 8860.95,\n",
       " 9400.766666666666,\n",
       " 8906.186666666666,\n",
       " 9519.88,\n",
       " 9562.803333333333,\n",
       " 9589.64,\n",
       " 9158.753333333334,\n",
       " 9273.476666666667,\n",
       " 9349.65,\n",
       " 9265.693333333333,\n",
       " 9657.973333333333,\n",
       " 10026.433333333332,\n",
       " 9783.113333333333,\n",
       " 9665.926666666666,\n",
       " 9502.026666666667,\n",
       " 9631.41,\n",
       " 9541.486666666666,\n",
       " 9927.246666666666,\n",
       " 9212.086666666666,\n",
       " 9273.213333333333,\n",
       " 9327.49,\n",
       " 9823.85,\n",
       " 9169.083333333334,\n",
       " 9136.95,\n",
       " 9999.87,\n",
       " 9459.496666666666,\n",
       " 9458.386666666667,\n",
       " 9115.813333333334,\n",
       " 9391.273333333333,\n",
       " 9287.196666666667,\n",
       " 8980.336666666666,\n",
       " 9455.93,\n",
       " 8860.126666666667,\n",
       " 9412.543333333333,\n",
       " 9696.416666666666,\n",
       " 9058.016666666666,\n",
       " 9376.406666666666,\n",
       " 9179.84,\n",
       " 9514.603333333333,\n",
       " 9153.046666666667,\n",
       " 9687.9,\n",
       " 9527.096666666666,\n",
       " 9349.446666666667,\n",
       " 9608.42,\n",
       " 8994.57,\n",
       " 9050.276666666667,\n",
       " 9928.703333333333,\n",
       " 9548.826666666666,\n",
       " 9354.44,\n",
       " 9002.306666666667,\n",
       " 9566.946666666667,\n",
       " 9400.256666666666,\n",
       " 9482.873333333333,\n",
       " 9816.81,\n",
       " 9204.02,\n",
       " 9148.52,\n",
       " 9072.086666666666,\n",
       " 9083.906666666666,\n",
       " 8796.86,\n",
       " 8964.276666666667,\n",
       " 9468.493333333334,\n",
       " 9633.456666666667,\n",
       " 9549.22,\n",
       " 9419.563333333334,\n",
       " 8932.26,\n",
       " 9308.053333333333,\n",
       " 9205.33,\n",
       " 8965.22,\n",
       " 9324.386666666667,\n",
       " 9480.153333333334,\n",
       " 9578.913333333334,\n",
       " 8670.733333333334,\n",
       " 9452.733333333334,\n",
       " 9738.486666666666,\n",
       " 9766.26,\n",
       " 9410.2,\n",
       " 8302.31,\n",
       " 9433.236666666666,\n",
       " 9171.783333333333,\n",
       " 9930.796666666667,\n",
       " 9266.663333333334,\n",
       " 10117.873333333333,\n",
       " 9697.89,\n",
       " 9252.763333333334,\n",
       " 9541.52,\n",
       " 9283.746666666666,\n",
       " 9406.486666666666,\n",
       " 9403.636666666667,\n",
       " 9320.946666666667,\n",
       " 9360.446666666667,\n",
       " 9307.2,\n",
       " 9422.34,\n",
       " 8939.866666666667,\n",
       " 9271.003333333334,\n",
       " 9539.143333333333,\n",
       " 9659.513333333334,\n",
       " 9483.343333333334,\n",
       " 9439.756666666666,\n",
       " 9308.436666666666,\n",
       " 9622.836666666666,\n",
       " 9455.336666666666,\n",
       " 9194.016666666666,\n",
       " 9292.6,\n",
       " 9331.946666666667,\n",
       " 9322.446666666667,\n",
       " 9325.353333333333,\n",
       " 9653.62,\n",
       " 9392.006666666666,\n",
       " 9552.933333333332,\n",
       " 9338.846666666666,\n",
       " 9033.08,\n",
       " 9375.426666666666,\n",
       " 9470.83,\n",
       " 9669.556666666667,\n",
       " 9565.833333333334,\n",
       " 9025.103333333333,\n",
       " 9362.98,\n",
       " 9347.456666666667,\n",
       " 9326.763333333334,\n",
       " 9460.853333333333,\n",
       " 9684.656666666666,\n",
       " 9515.753333333334,\n",
       " 9447.596666666666,\n",
       " 9971.39,\n",
       " 9253.8,\n",
       " 9715.963333333333,\n",
       " 9610.82,\n",
       " 9076.786666666667,\n",
       " 9260.306666666667,\n",
       " 9627.74,\n",
       " 9782.42,\n",
       " 9442.666666666666,\n",
       " 9163.686666666666,\n",
       " 9563.666666666666,\n",
       " 9739.046666666667,\n",
       " 9873.28,\n",
       " 9324.97,\n",
       " 9491.086666666666,\n",
       " 9639.963333333333,\n",
       " 8672.43,\n",
       " 9677.84,\n",
       " 9050.676666666666,\n",
       " 9501.706666666667,\n",
       " 9487.313333333334,\n",
       " 9252.353333333333,\n",
       " 9774.986666666666,\n",
       " 9526.61,\n",
       " 9561.516666666666,\n",
       " 9250.996666666666,\n",
       " 9673.8,\n",
       " 9573.763333333334,\n",
       " 9213.04,\n",
       " 9666.743333333334,\n",
       " 9379.44,\n",
       " 9550.963333333333,\n",
       " 9623.456666666667,\n",
       " 9881.846666666666,\n",
       " 9294.766666666666,\n",
       " 9425.003333333334,\n",
       " 9086.356666666667,\n",
       " 9501.246666666666,\n",
       " 9532.896666666667,\n",
       " 9489.19,\n",
       " 9635.253333333334,\n",
       " 9496.353333333333,\n",
       " 9505.94,\n",
       " 9280.676666666666,\n",
       " 9634.413333333334,\n",
       " 8912.423333333334,\n",
       " 9621.796666666667,\n",
       " 9258.876666666667,\n",
       " 9777.813333333334,\n",
       " 9932.686666666666,\n",
       " 9236.023333333333,\n",
       " 9006.273333333333,\n",
       " 9266.663333333334,\n",
       " 9387.64,\n",
       " 9378.686666666666,\n",
       " 9488.16,\n",
       " 9493.206666666667,\n",
       " 9308.646666666667,\n",
       " 9425.686666666666,\n",
       " 9212.066666666668,\n",
       " 9655.66,\n",
       " 9611.063333333334,\n",
       " 9192.113333333333,\n",
       " 9555.086666666666,\n",
       " 9753.23,\n",
       " 9056.366666666667,\n",
       " 9385.106666666667,\n",
       " 9446.406666666666,\n",
       " 9687.53,\n",
       " 9603.463333333333,\n",
       " 9322.443333333333,\n",
       " 9642.686666666666,\n",
       " 9008.13,\n",
       " 9665.373333333333,\n",
       " 9334.62,\n",
       " 9594.323333333334,\n",
       " 9550.186666666666,\n",
       " 10155.953333333333,\n",
       " 9414.696666666667,\n",
       " 9307.503333333334,\n",
       " 9237.22,\n",
       " 9633.49,\n",
       " 9461.946666666667,\n",
       " 9598.963333333333,\n",
       " 9550.263333333334,\n",
       " 9416.256666666666,\n",
       " 9127.17,\n",
       " 9164.4,\n",
       " 9758.18,\n",
       " 9030.693333333333,\n",
       " 8911.853333333333,\n",
       " 9191.696666666667,\n",
       " 9759.673333333334,\n",
       " 9551.026666666667,\n",
       " 9530.47,\n",
       " 9299.653333333334,\n",
       " 9778.69,\n",
       " 9147.33,\n",
       " 9729.353333333333,\n",
       " 9469.14,\n",
       " 9325.206666666667,\n",
       " 9002.293333333333,\n",
       " 9676.13,\n",
       " 10245.343333333334,\n",
       " 9301.38,\n",
       " 9449.96,\n",
       " 9470.003333333334,\n",
       " 9366.39,\n",
       " 8826.206666666667,\n",
       " 9185.083333333334,\n",
       " 9903.43,\n",
       " 9178.006666666666,\n",
       " 9161.123333333333,\n",
       " 8975.26,\n",
       " 9608.156666666666,\n",
       " 9199.76,\n",
       " 9757.126666666667,\n",
       " 9599.743333333334,\n",
       " 9465.006666666666,\n",
       " 9043.383333333333,\n",
       " 9642.6,\n",
       " 9892.906666666666,\n",
       " 9186.103333333333,\n",
       " 9460.41,\n",
       " 9306.6,\n",
       " 9025.17,\n",
       " 9302.296666666667,\n",
       " 9343.49,\n",
       " 9264.3,\n",
       " 9473.143333333333,\n",
       " 9040.44,\n",
       " 9308.196666666667,\n",
       " 9084.95,\n",
       " 9039.99,\n",
       " 8761.65,\n",
       " 9854.736666666666,\n",
       " 9100.083333333334,\n",
       " 9828.81,\n",
       " 9050.61,\n",
       " 9183.4,\n",
       " 9052.643333333333,\n",
       " 9491.443333333333,\n",
       " 9131.16,\n",
       " 9782.243333333334,\n",
       " 9233.066666666668,\n",
       " 9268.183333333332,\n",
       " 9755.566666666668,\n",
       " 9168.693333333333,\n",
       " 9810.133333333333,\n",
       " 9268.9,\n",
       " 9143.093333333334,\n",
       " 9658.29,\n",
       " 9464.276666666667,\n",
       " 9268.346666666666,\n",
       " 9698.64,\n",
       " 8677.216666666667,\n",
       " 9047.066666666668,\n",
       " 9511.66,\n",
       " 8717.016666666666,\n",
       " 9523.36,\n",
       " 9299.453333333333,\n",
       " 9730.933333333332,\n",
       " 9499.986666666666,\n",
       " 9027.896666666667,\n",
       " 9449.29,\n",
       " 9173.466666666667,\n",
       " 9161.136666666667,\n",
       " 9301.78,\n",
       " 9142.7,\n",
       " 9074.486666666666,\n",
       " 9766.776666666667,\n",
       " 9454.45,\n",
       " 8982.176666666666,\n",
       " 9200.683333333332,\n",
       " 9588.176666666666,\n",
       " 10172.586666666666,\n",
       " 9613.586666666666,\n",
       " 9558.186666666666,\n",
       " 9414.45,\n",
       " 9752.306666666667,\n",
       " 9320.623333333333,\n",
       " 9955.726666666667,\n",
       " 9314.756666666666,\n",
       " 9309.746666666666,\n",
       " 9471.43,\n",
       " 9532.676666666666,\n",
       " 9627.293333333333,\n",
       " 9432.68,\n",
       " 9534.876666666667,\n",
       " 9185.12,\n",
       " 10011.036666666667,\n",
       " 9458.026666666667,\n",
       " 9143.28,\n",
       " 9512.016666666666,\n",
       " 8973.503333333334,\n",
       " 9487.62,\n",
       " 9776.936666666666,\n",
       " 9480.456666666667,\n",
       " 9130.28,\n",
       " 9000.686666666666,\n",
       " 9237.916666666666,\n",
       " 9095.936666666666,\n",
       " 9524.65,\n",
       " 9554.43,\n",
       " 9129.023333333333,\n",
       " 9874.87,\n",
       " 9118.103333333333,\n",
       " 9224.836666666666,\n",
       " 9408.303333333333,\n",
       " 9306.906666666666,\n",
       " 9721.703333333333,\n",
       " 9458.346666666666,\n",
       " 9218.03,\n",
       " 9708.766666666666,\n",
       " 9000.116666666667,\n",
       " 9044.55,\n",
       " 9121.846666666666,\n",
       " 9533.89,\n",
       " 9540.456666666667,\n",
       " 9150.773333333333,\n",
       " 9863.956666666667,\n",
       " 8960.913333333334,\n",
       " 9492.083333333334,\n",
       " 9247.96,\n",
       " 9418.4,\n",
       " 9102.7,\n",
       " 9744.226666666667,\n",
       " 9809.64,\n",
       " 8954.046666666667,\n",
       " 9514.443333333333,\n",
       " 9609.026666666667,\n",
       " 9402.033333333333,\n",
       " 9662.97,\n",
       " 9919.39,\n",
       " 10038.096666666666,\n",
       " 9685.456666666667,\n",
       " 9368.563333333334,\n",
       " 9615.856666666667,\n",
       " 8665.176666666666,\n",
       " 9313.953333333333,\n",
       " 9407.84,\n",
       " 9534.473333333333,\n",
       " 9573.88,\n",
       " 9392.84,\n",
       " 9334.393333333333,\n",
       " 9320.353333333333,\n",
       " 9310.95,\n",
       " 9519.633333333333,\n",
       " 9504.19,\n",
       " 9859.78,\n",
       " 9351.766666666666,\n",
       " 9956.193333333333,\n",
       " 9471.176666666666,\n",
       " 9759.406666666666,\n",
       " 9680.13,\n",
       " 9518.363333333333,\n",
       " 9004.153333333334,\n",
       " 9741.78,\n",
       " 9637.643333333333,\n",
       " 9364.826666666666,\n",
       " 9413.803333333333,\n",
       " 9268.63,\n",
       " 9407.586666666666,\n",
       " 8931.203333333333,\n",
       " 9940.453333333333,\n",
       " 9545.96,\n",
       " 8965.016666666666,\n",
       " 9618.216666666667,\n",
       " 9421.976666666667,\n",
       " 9314.51,\n",
       " 9689.4,\n",
       " 9653.403333333334,\n",
       " 10024.683333333332,\n",
       " 9445.39,\n",
       " 9573.02,\n",
       " 9093.3,\n",
       " 8907.78,\n",
       " 8861.34,\n",
       " 9057.71,\n",
       " 9371.903333333334,\n",
       " 9145.236666666666,\n",
       " 9444.163333333334,\n",
       " 9199.583333333334,\n",
       " 9501.54,\n",
       " 9396.773333333333,\n",
       " 8947.64,\n",
       " 9549.15,\n",
       " 9675.216666666667,\n",
       " 9020.093333333334,\n",
       " 9273.24,\n",
       " 9827.343333333334,\n",
       " 9389.176666666666,\n",
       " 10334.25,\n",
       " 9348.93,\n",
       " 9435.716666666667,\n",
       " 9949.09,\n",
       " 9412.143333333333,\n",
       " 9560.083333333334,\n",
       " 9828.223333333333,\n",
       " 9174.02,\n",
       " 9693.02,\n",
       " 9326.11,\n",
       " 9696.796666666667,\n",
       " 9645.886666666667,\n",
       " 9225.56,\n",
       " 9351.856666666667,\n",
       " 9586.84,\n",
       " 9536.876666666667,\n",
       " 9605.69,\n",
       " 9074.12,\n",
       " 9746.476666666667,\n",
       " 9312.043333333333,\n",
       " 9799.233333333334,\n",
       " 9042.306666666667,\n",
       " 9750.033333333333,\n",
       " 9384.58,\n",
       " 9610.35,\n",
       " 9347.65,\n",
       " 9244.24,\n",
       " 9517.753333333334,\n",
       " 9735.613333333333,\n",
       " 9038.293333333333,\n",
       " 9419.53,\n",
       " 9565.093333333334,\n",
       " 9846.39,\n",
       " 9517.323333333334,\n",
       " 9257.683333333332,\n",
       " 9468.61,\n",
       " 9077.68,\n",
       " 9331.186666666666,\n",
       " 9680.92,\n",
       " 9264.723333333333,\n",
       " 9558.88,\n",
       " 9189.386666666667,\n",
       " 9726.9,\n",
       " 9550.796666666667,\n",
       " 8737.946666666667,\n",
       " 9339.45,\n",
       " 9591.083333333334,\n",
       " 9406.196666666667,\n",
       " 8840.3,\n",
       " 9146.703333333333,\n",
       " 9468.026666666667,\n",
       " 9525.486666666666,\n",
       " 9292.56,\n",
       " 9431.583333333334,\n",
       " 9482.84,\n",
       " 9163.373333333333,\n",
       " 9789.943333333333,\n",
       " 9857.093333333334,\n",
       " 9099.103333333333,\n",
       " 10373.363333333333,\n",
       " 9700.776666666667,\n",
       " 8872.36,\n",
       " 9707.416666666666,\n",
       " 9540.063333333334,\n",
       " 9372.016666666666,\n",
       " 9482.073333333334,\n",
       " 8998.396666666667,\n",
       " 8909.973333333333,\n",
       " 9223.166666666666,\n",
       " 9097.433333333332,\n",
       " 9537.15,\n",
       " 9463.836666666666,\n",
       " 8966.58,\n",
       " 9393.9,\n",
       " 9290.373333333333,\n",
       " 9384.413333333334,\n",
       " 9429.51,\n",
       " 9587.776666666667,\n",
       " 9228.48,\n",
       " 9922.78,\n",
       " 9044.003333333334,\n",
       " 10063.57,\n",
       " 9858.336666666666,\n",
       " 8808.523333333333,\n",
       " 9515.476666666667,\n",
       " 9580.443333333333,\n",
       " 9078.026666666667,\n",
       " 9202.6,\n",
       " 9357.996666666666,\n",
       " 9832.196666666667,\n",
       " 9115.4,\n",
       " 9646.583333333334,\n",
       " 9314.53,\n",
       " 9314.463333333333,\n",
       " 9562.986666666666,\n",
       " 9681.15,\n",
       " 8845.136666666667,\n",
       " 9759.433333333332,\n",
       " 9677.836666666666,\n",
       " 9648.666666666666,\n",
       " 9671.836666666666,\n",
       " 9317.366666666667,\n",
       " 9515.18,\n",
       " 9275.096666666666,\n",
       " 9977.13,\n",
       " 9907.74,\n",
       " 9647.066666666668,\n",
       " 8699.47,\n",
       " 9453.536666666667,\n",
       " 10148.813333333334,\n",
       " 9493.71,\n",
       " 10132.016666666666,\n",
       " 9596.586666666666,\n",
       " 9687.386666666667,\n",
       " 9614.633333333333,\n",
       " 9684.86,\n",
       " 9513.706666666667,\n",
       " 9094.286666666667,\n",
       " 9200.24,\n",
       " 9160.05,\n",
       " 9337.04,\n",
       " 9183.883333333333,\n",
       " 9730.843333333334,\n",
       " 9626.77,\n",
       " 9614.756666666666,\n",
       " 9024.953333333333,\n",
       " 8886.523333333333,\n",
       " 9455.31,\n",
       " 9552.813333333334,\n",
       " 9365.22,\n",
       " 8988.823333333334,\n",
       " 9455.513333333334,\n",
       " 9500.7,\n",
       " 9189.483333333334,\n",
       " 8665.066666666668,\n",
       " 9383.376666666667,\n",
       " 8755.273333333333,\n",
       " 9889.583333333334,\n",
       " 9471.136666666667,\n",
       " 9246.426666666666,\n",
       " 9510.75,\n",
       " 9774.786666666667,\n",
       " 9568.096666666666,\n",
       " 9095.98,\n",
       " 9940.863333333333,\n",
       " 9410.306666666667,\n",
       " 9731.356666666667,\n",
       " 9536.286666666667,\n",
       " 9580.136666666667,\n",
       " 9553.826666666666,\n",
       " 9671.496666666666,\n",
       " 9064.4,\n",
       " 9546.076666666666,\n",
       " 9600.02,\n",
       " 9089.82,\n",
       " 9022.163333333334,\n",
       " 9738.956666666667,\n",
       " 9418.003333333334,\n",
       " 9244.61,\n",
       " 9660.553333333333,\n",
       " 9791.306666666667,\n",
       " 9677.626666666667,\n",
       " 9301.766666666666,\n",
       " 9511.863333333333,\n",
       " 9306.016666666666,\n",
       " 9342.61,\n",
       " 9155.22,\n",
       " 9594.42,\n",
       " 9274.56,\n",
       " 9286.733333333334,\n",
       " 9596.99,\n",
       " 9331.69,\n",
       " 9736.473333333333,\n",
       " 9511.686666666666,\n",
       " 9198.183333333332,\n",
       " 9289.506666666666,\n",
       " 9285.416666666666,\n",
       " 9513.116666666667,\n",
       " 9649.406666666666,\n",
       " 9106.116666666667,\n",
       " 9067.0,\n",
       " 9193.69,\n",
       " 9349.19,\n",
       " 9480.313333333334,\n",
       " 9007.843333333334,\n",
       " 9142.466666666667,\n",
       " 9069.453333333333,\n",
       " 9318.746666666666,\n",
       " 8954.713333333333,\n",
       " 8805.996666666666,\n",
       " 9111.193333333333,\n",
       " 9233.56,\n",
       " 9044.94,\n",
       " 9646.05,\n",
       " 9488.193333333333,\n",
       " 9368.48,\n",
       " 9261.146666666667,\n",
       " 9580.68,\n",
       " 9408.536666666667,\n",
       " 9420.763333333334,\n",
       " 9290.073333333334,\n",
       " 9653.53,\n",
       " 9520.986666666666,\n",
       " 9182.076666666666,\n",
       " 9457.823333333334,\n",
       " 9509.846666666666,\n",
       " 9115.12,\n",
       " 9862.62,\n",
       " 9513.003333333334,\n",
       " 9460.566666666668,\n",
       " 8805.083333333334,\n",
       " 9467.1,\n",
       " 9304.413333333334,\n",
       " 9350.996666666666,\n",
       " 9419.816666666668,\n",
       " 9453.19,\n",
       " 9766.66,\n",
       " 9380.856666666667,\n",
       " 9433.7,\n",
       " 9218.036666666667,\n",
       " 9247.06,\n",
       " 9493.096666666666,\n",
       " 10133.726666666667,\n",
       " 9774.39,\n",
       " 9238.516666666666,\n",
       " 10297.053333333333,\n",
       " 9342.013333333334,\n",
       " 9281.52,\n",
       " 9179.556666666667,\n",
       " 9827.646666666667,\n",
       " 9041.066666666668,\n",
       " 9585.95,\n",
       " 9285.343333333334,\n",
       " 9273.556666666667,\n",
       " 9602.526666666667,\n",
       " 9306.453333333333,\n",
       " 9601.62,\n",
       " 9296.84,\n",
       " 9146.4,\n",
       " 9388.443333333333,\n",
       " 9508.146666666667,\n",
       " 9027.466666666667,\n",
       " 9098.816666666668,\n",
       " 9176.69,\n",
       " 10117.603333333333,\n",
       " 9128.706666666667,\n",
       " 9522.373333333333,\n",
       " 9587.033333333333,\n",
       " 9636.72,\n",
       " 9150.05,\n",
       " 9537.086666666666,\n",
       " 9787.013333333334,\n",
       " 9151.106666666667,\n",
       " 9186.24,\n",
       " 9366.293333333333,\n",
       " 9789.216666666667,\n",
       " 9316.346666666666,\n",
       " 9337.993333333334,\n",
       " 9207.68,\n",
       " 9839.95,\n",
       " 9238.086666666666,\n",
       " 9224.953333333333,\n",
       " 9604.52,\n",
       " 9822.016666666666,\n",
       " 9249.85,\n",
       " 9281.913333333334,\n",
       " 9659.72,\n",
       " 9805.886666666667,\n",
       " 8999.806666666667,\n",
       " 9574.013333333334,\n",
       " 9202.166666666666,\n",
       " 9880.8,\n",
       " 9861.05,\n",
       " 9431.15,\n",
       " 9103.623333333333,\n",
       " 9765.28,\n",
       " 9352.043333333333,\n",
       " 9570.206666666667,\n",
       " 9604.806666666667,\n",
       " 9323.74,\n",
       " 9182.4,\n",
       " 9593.813333333334,\n",
       " 9439.983333333334,\n",
       " 9154.723333333333,\n",
       " 9334.81,\n",
       " 9412.353333333333,\n",
       " 9340.173333333334,\n",
       " 9066.243333333334,\n",
       " 9717.28,\n",
       " 9711.576666666666,\n",
       " 8850.873333333333,\n",
       " 9642.613333333333,\n",
       " 9466.25,\n",
       " 9069.246666666666,\n",
       " 9384.876666666667,\n",
       " 8984.973333333333,\n",
       " 9201.063333333334,\n",
       " 9220.053333333333,\n",
       " 9529.81,\n",
       " 9279.253333333334,\n",
       " 9326.406666666666,\n",
       " 9512.54,\n",
       " 9444.73,\n",
       " 9028.58,\n",
       " 9106.003333333334,\n",
       " 9254.023333333333,\n",
       " 9610.683333333332,\n",
       " 9447.11,\n",
       " 9675.176666666666,\n",
       " 9775.713333333333,\n",
       " 9616.94,\n",
       " 9254.09,\n",
       " 9859.19,\n",
       " 9798.86,\n",
       " 8736.95,\n",
       " 9431.693333333333,\n",
       " 9162.34,\n",
       " 9172.21,\n",
       " 8959.893333333333,\n",
       " 9101.766666666666,\n",
       " 9029.883333333333,\n",
       " 9329.516666666666,\n",
       " 9337.856666666667,\n",
       " 9199.706666666667,\n",
       " 9239.083333333334,\n",
       " 9499.593333333334,\n",
       " 9806.723333333333,\n",
       " 9850.046666666667,\n",
       " 9648.676666666666,\n",
       " 9638.273333333333,\n",
       " 10038.873333333333,\n",
       " 9095.12,\n",
       " 9287.433333333332,\n",
       " 10543.263333333334,\n",
       " 9616.94,\n",
       " 9534.783333333333,\n",
       " 9237.976666666667,\n",
       " 8652.126666666667,\n",
       " 9355.563333333334,\n",
       " 9329.633333333333,\n",
       " 9226.653333333334,\n",
       " 9539.68,\n",
       " 9241.7,\n",
       " 9480.303333333333,\n",
       " 9122.163333333334,\n",
       " 9392.81,\n",
       " 8908.886666666667,\n",
       " 9482.766666666666,\n",
       " 9054.156666666666,\n",
       " 9096.013333333334,\n",
       " 9366.39,\n",
       " 9167.733333333334,\n",
       " 9208.516666666666,\n",
       " 9094.193333333333,\n",
       " 9251.383333333333,\n",
       " 9190.266666666666,\n",
       " 9428.106666666667,\n",
       " 9765.326666666666,\n",
       " 9160.503333333334,\n",
       " 9848.53,\n",
       " 9407.24,\n",
       " 9272.303333333333,\n",
       " 9680.786666666667,\n",
       " 9608.396666666667,\n",
       " 9333.726666666667,\n",
       " 8820.303333333333,\n",
       " 9326.13,\n",
       " 9104.393333333333,\n",
       " 9683.376666666667,\n",
       " 9509.146666666667,\n",
       " 9218.336666666666,\n",
       " 9443.753333333334,\n",
       " 9165.66,\n",
       " 9596.166666666666,\n",
       " 9146.51,\n",
       " 9189.01,\n",
       " 9261.97,\n",
       " 9767.116666666667,\n",
       " 9273.46,\n",
       " 9593.463333333333,\n",
       " 9151.716666666667,\n",
       " 9040.236666666666,\n",
       " 9726.863333333333,\n",
       " 9704.4,\n",
       " 9338.686666666666,\n",
       " 9406.243333333334,\n",
       " 8824.013333333334,\n",
       " 9525.586666666666,\n",
       " 9410.496666666666,\n",
       " 9463.116666666667,\n",
       " 9530.453333333333,\n",
       " 9677.436666666666,\n",
       " 9175.226666666667,\n",
       " 9446.77,\n",
       " 9417.043333333333,\n",
       " 9517.51,\n",
       " 9545.09,\n",
       " 8940.333333333334,\n",
       " 9588.583333333334,\n",
       " 9551.193333333333,\n",
       " 9358.776666666667,\n",
       " 9199.05,\n",
       " 9403.656666666666,\n",
       " 8937.666666666666,\n",
       " 9279.58,\n",
       " 8533.696666666667,\n",
       " 9185.886666666667,\n",
       " 9878.18,\n",
       " 9112.333333333334,\n",
       " 9597.86,\n",
       " 9633.116666666667,\n",
       " 9294.0,\n",
       " 9318.39,\n",
       " 8783.553333333333,\n",
       " 8841.73,\n",
       " 9128.66,\n",
       " 9193.726666666667,\n",
       " 8942.543333333333,\n",
       " 8822.166666666666,\n",
       " 9931.006666666666,\n",
       " 9277.783333333333,\n",
       " 9427.763333333334,\n",
       " 9180.17,\n",
       " 9274.986666666666,\n",
       " 9515.016666666666,\n",
       " 9852.446666666667,\n",
       " 9027.093333333334,\n",
       " 9241.916666666666,\n",
       " 9324.743333333334,\n",
       " 10085.363333333333,\n",
       " 9534.87,\n",
       " 9496.276666666667,\n",
       " 9232.746666666666,\n",
       " 9832.446666666667,\n",
       " 9493.02,\n",
       " 8721.42,\n",
       " 9730.106666666667,\n",
       " 9742.683333333332,\n",
       " 9479.496666666666,\n",
       " 9550.686666666666,\n",
       " 9289.776666666667,\n",
       " 9486.033333333333,\n",
       " 9753.263333333334,\n",
       " 8776.583333333334,\n",
       " 9102.893333333333,\n",
       " 9306.266666666666,\n",
       " 9387.593333333334,\n",
       " 9272.266666666666,\n",
       " 9463.85,\n",
       " 9192.59,\n",
       " 9265.806666666667,\n",
       " 9129.456666666667,\n",
       " 9547.803333333333,\n",
       " 9551.336666666666,\n",
       " 9766.4,\n",
       " 9758.776666666667,\n",
       " 9546.973333333333,\n",
       " 9170.426666666666,\n",
       " 9481.873333333333,\n",
       " 8968.67,\n",
       " 9601.253333333334,\n",
       " 9128.726666666667,\n",
       " 9958.27,\n",
       " 9757.93,\n",
       " 9208.033333333333,\n",
       " 9164.59,\n",
       " 9224.66,\n",
       " 9348.826666666666,\n",
       " 9355.63,\n",
       " 9576.99,\n",
       " 9910.673333333334,\n",
       " 8900.596666666666,\n",
       " 9624.14,\n",
       " 9998.37,\n",
       " 9123.92,\n",
       " 9388.053333333333,\n",
       " 9994.506666666666,\n",
       " 9314.53,\n",
       " 9456.026666666667,\n",
       " 9807.573333333334,\n",
       " 9999.56,\n",
       " 9384.99,\n",
       " 9175.013333333334,\n",
       " 9087.91,\n",
       " 9606.996666666666,\n",
       " 9294.993333333334,\n",
       " 9468.436666666666,\n",
       " 9749.496666666666,\n",
       " 9712.866666666667,\n",
       " 9762.55,\n",
       " 9507.413333333334,\n",
       " 9968.386666666667,\n",
       " 9503.443333333333,\n",
       " 8631.206666666667,\n",
       " 9636.95,\n",
       " 8690.823333333334,\n",
       " 9397.003333333334,\n",
       " 9235.596666666666,\n",
       " 9727.216666666667,\n",
       " 9358.09,\n",
       " 9589.516666666666,\n",
       " 8984.51,\n",
       " 9328.713333333333,\n",
       " 10033.83,\n",
       " 9157.826666666666,\n",
       " 9076.43,\n",
       " 9498.01,\n",
       " 9625.23,\n",
       " 9505.173333333334,\n",
       " 9137.956666666667,\n",
       " 9664.336666666666,\n",
       " 9267.743333333334,\n",
       " 9700.973333333333,\n",
       " 9240.226666666667,\n",
       " 9010.306666666667,\n",
       " 9624.813333333334,\n",
       " 9222.83,\n",
       " 9539.51,\n",
       " 9763.73,\n",
       " 9635.033333333333,\n",
       " 9786.123333333333,\n",
       " 9596.86,\n",
       " 9611.733333333334,\n",
       " 9470.39,\n",
       " 9428.6,\n",
       " 8818.796666666667,\n",
       " 8772.306666666667,\n",
       " 9837.946666666667,\n",
       " 9400.386666666667,\n",
       " 9168.09,\n",
       " 9665.756666666666,\n",
       " 9761.25,\n",
       " 9165.823333333334,\n",
       " 9557.926666666666,\n",
       " 8775.396666666667,\n",
       " 9309.81,\n",
       " 9601.216666666667,\n",
       " 9079.52,\n",
       " 9212.67,\n",
       " 9436.773333333333,\n",
       " 9176.416666666666,\n",
       " 9348.803333333333,\n",
       " 9589.116666666667,\n",
       " 9669.68,\n",
       " 9652.72,\n",
       " 9184.893333333333,\n",
       " 9318.626666666667,\n",
       " 9395.52,\n",
       " 8879.656666666666,\n",
       " 9484.716666666667,\n",
       " 9213.973333333333,\n",
       " 9158.263333333334,\n",
       " 9164.97,\n",
       " 9478.703333333333,\n",
       " 9938.67,\n",
       " 9231.99,\n",
       " 9334.56,\n",
       " 9089.03,\n",
       " ...]"
      ]
     },
     "execution_count": 58,
     "metadata": {},
     "output_type": "execute_result"
    }
   ],
   "source": [
    "# For N = 300\n",
    "male_mean_purchase = [df[df['Gender']=='M']['Purchase'].sample(300 , replace=True).mean() for i in range(5000)]\n",
    "male_mean_purchase"
   ]
  },
  {
   "cell_type": "code",
   "execution_count": 59,
   "id": "8211c0a2-b258-4b3b-9ea3-7b94b9d39d1b",
   "metadata": {},
   "outputs": [
    {
     "data": {
      "text/plain": [
       "<seaborn.axisgrid.FacetGrid at 0x170aa1a8500>"
      ]
     },
     "execution_count": 59,
     "metadata": {},
     "output_type": "execute_result"
    },
    {
     "data": {
      "image/png": "[encoded data removed]",
      "text/plain": [
       "<Figure size 500x500 with 1 Axes>"
      ]
     },
     "metadata": {},
     "output_type": "display_data"
    }
   ],
   "source": [
    "sns.displot(male_mean_purchase)"
   ]
  },
  {
   "cell_type": "code",
   "execution_count": 60,
   "id": "4361860e-e2a9-4fb2-ae88-84292c1f3fb6",
   "metadata": {},
   "outputs": [
    {
     "data": {
      "text/plain": [
       "287.6273962785107"
      ]
     },
     "execution_count": 60,
     "metadata": {},
     "output_type": "execute_result"
    }
   ],
   "source": [
    "np.std(male_mean_purchase)"
   ]
  },
  {
   "cell_type": "code",
   "execution_count": 61,
   "id": "d7ec3516-1fc9-46b5-874f-496ae5bdc200",
   "metadata": {},
   "outputs": [
    {
     "data": {
      "text/plain": [
       "9398.504634666666"
      ]
     },
     "execution_count": 61,
     "metadata": {},
     "output_type": "execute_result"
    }
   ],
   "source": [
    "np.mean(male_mean_purchase)"
   ]
  },
  {
   "cell_type": "code",
   "execution_count": 136,
   "id": "8943e80a-059b-4d4e-86ee-aa6ac6152610",
   "metadata": {},
   "outputs": [
    {
     "name": "stdout",
     "output_type": "stream",
     "text": [
      "Male Confidence Interval based on sample size (300 with Replacement) for 5000 (iteration): \n"
     ]
    },
    {
     "data": {
      "text/plain": [
       "(9490.841383769002, 9220.354233226091)"
      ]
     },
     "execution_count": 136,
     "metadata": {},
     "output_type": "execute_result"
    }
   ],
   "source": [
    "print(\"Male Confidence Interval based on sample size (300 with Replacement) for 5000 (iteration): \")\n",
    "np.mean(male_mean_purchase) + np.std(male_mean_purchase) , np.mean(male_mean_purchase) - (1.96 * np.std(male_mean_purchase))"
   ]
  },
  {
   "cell_type": "code",
   "execution_count": 63,
   "id": "b591e4b9-4349-424a-bd55-1ff2195a4b57",
   "metadata": {},
   "outputs": [
    {
     "data": {
      "text/plain": [
       "[9085.003333333334,\n",
       " 8746.346666666666,\n",
       " 8949.006666666666,\n",
       " 8601.183333333332,\n",
       " 8560.393333333333,\n",
       " 9560.69,\n",
       " 8961.353333333333,\n",
       " 8937.373333333333,\n",
       " 9023.39,\n",
       " 9139.203333333333,\n",
       " 8456.77,\n",
       " 8564.183333333332,\n",
       " 8911.823333333334,\n",
       " 8262.096666666666,\n",
       " 9089.036666666667,\n",
       " 8954.043333333333,\n",
       " 8935.323333333334,\n",
       " 8715.676666666666,\n",
       " 8520.916666666666,\n",
       " 8337.883333333333,\n",
       " 8697.443333333333,\n",
       " 8746.553333333333,\n",
       " 8562.78,\n",
       " 9120.933333333332,\n",
       " 9135.556666666667,\n",
       " 8544.366666666667,\n",
       " 8724.14,\n",
       " 8666.81,\n",
       " 8912.163333333334,\n",
       " 8854.11,\n",
       " 8875.823333333334,\n",
       " 8421.286666666667,\n",
       " 8388.893333333333,\n",
       " 9039.593333333334,\n",
       " 8964.316666666668,\n",
       " 8214.896666666667,\n",
       " 8760.663333333334,\n",
       " 8619.926666666666,\n",
       " 9038.046666666667,\n",
       " 9012.883333333333,\n",
       " 8305.133333333333,\n",
       " 9186.28,\n",
       " 8502.766666666666,\n",
       " 9119.283333333333,\n",
       " 9005.156666666666,\n",
       " 8809.863333333333,\n",
       " 8793.906666666666,\n",
       " 8685.016666666666,\n",
       " 8770.48,\n",
       " 8605.226666666667,\n",
       " 8236.25,\n",
       " 8885.356666666667,\n",
       " 9008.66,\n",
       " 8714.14,\n",
       " 8482.283333333333,\n",
       " 8801.576666666666,\n",
       " 8940.13,\n",
       " 8746.536666666667,\n",
       " 8775.803333333333,\n",
       " 8439.723333333333,\n",
       " 9037.343333333334,\n",
       " 8727.723333333333,\n",
       " 9008.483333333334,\n",
       " 8705.05,\n",
       " 8945.83,\n",
       " 9086.636666666667,\n",
       " 8790.346666666666,\n",
       " 9140.943333333333,\n",
       " 8415.286666666667,\n",
       " 9075.266666666666,\n",
       " 8852.163333333334,\n",
       " 8483.11,\n",
       " 8765.26,\n",
       " 8749.39,\n",
       " 9177.913333333334,\n",
       " 8625.833333333334,\n",
       " 8924.403333333334,\n",
       " 8414.213333333333,\n",
       " 8057.886666666666,\n",
       " 8506.486666666666,\n",
       " 8805.64,\n",
       " 9237.22,\n",
       " 8541.223333333333,\n",
       " 8504.243333333334,\n",
       " 8801.41,\n",
       " 8702.98,\n",
       " 8498.0,\n",
       " 8893.06,\n",
       " 8986.366666666667,\n",
       " 8707.746666666666,\n",
       " 9247.193333333333,\n",
       " 8429.393333333333,\n",
       " 9139.06,\n",
       " 9387.62,\n",
       " 8521.316666666668,\n",
       " 9423.563333333334,\n",
       " 9557.443333333333,\n",
       " 8400.936666666666,\n",
       " 8692.29,\n",
       " 8560.873333333333,\n",
       " 8845.57,\n",
       " 9058.23,\n",
       " 8454.19,\n",
       " 8757.483333333334,\n",
       " 9021.133333333333,\n",
       " 8533.81,\n",
       " 8274.616666666667,\n",
       " 8784.903333333334,\n",
       " 8418.606666666667,\n",
       " 8975.676666666666,\n",
       " 8331.49,\n",
       " 8737.696666666667,\n",
       " 8716.233333333334,\n",
       " 8891.736666666666,\n",
       " 8282.926666666666,\n",
       " 8661.823333333334,\n",
       " 8276.09,\n",
       " 8814.073333333334,\n",
       " 8745.64,\n",
       " 8706.463333333333,\n",
       " 8917.02,\n",
       " 8817.333333333334,\n",
       " 8495.37,\n",
       " 9061.203333333333,\n",
       " 9223.036666666667,\n",
       " 8930.013333333334,\n",
       " 8331.263333333334,\n",
       " 8607.66,\n",
       " 9088.246666666666,\n",
       " 8640.346666666666,\n",
       " 8991.016666666666,\n",
       " 8091.09,\n",
       " 9211.883333333333,\n",
       " 8370.896666666667,\n",
       " 8506.89,\n",
       " 8627.993333333334,\n",
       " 8506.64,\n",
       " 8779.423333333334,\n",
       " 9268.34,\n",
       " 8580.453333333333,\n",
       " 8272.156666666666,\n",
       " 8791.753333333334,\n",
       " 9014.223333333333,\n",
       " 8998.226666666667,\n",
       " 9106.363333333333,\n",
       " 8520.726666666667,\n",
       " 8463.746666666666,\n",
       " 8680.586666666666,\n",
       " 8757.863333333333,\n",
       " 8239.836666666666,\n",
       " 8566.85,\n",
       " 8743.08,\n",
       " 8740.693333333333,\n",
       " 8640.676666666666,\n",
       " 8456.97,\n",
       " 8885.46,\n",
       " 8339.49,\n",
       " 8726.13,\n",
       " 8867.603333333333,\n",
       " 9032.856666666667,\n",
       " 9140.053333333333,\n",
       " 8838.996666666666,\n",
       " 8569.82,\n",
       " 8467.6,\n",
       " 8528.906666666666,\n",
       " 8785.506666666666,\n",
       " 8996.656666666666,\n",
       " 8419.346666666666,\n",
       " 8956.09,\n",
       " 9077.04,\n",
       " 8699.873333333333,\n",
       " 8765.113333333333,\n",
       " 8238.576666666666,\n",
       " 8424.64,\n",
       " 8894.713333333333,\n",
       " 9007.803333333333,\n",
       " 8856.06,\n",
       " 8857.36,\n",
       " 9012.466666666667,\n",
       " 8803.95,\n",
       " 8794.063333333334,\n",
       " 8385.54,\n",
       " 8933.83,\n",
       " 8866.176666666666,\n",
       " 8535.446666666667,\n",
       " 8418.63,\n",
       " 8611.253333333334,\n",
       " 8935.383333333333,\n",
       " 9063.76,\n",
       " 8443.656666666666,\n",
       " 8447.903333333334,\n",
       " 9085.106666666667,\n",
       " 8626.33,\n",
       " 8976.523333333333,\n",
       " 8828.663333333334,\n",
       " 8583.393333333333,\n",
       " 8109.5633333333335,\n",
       " 8582.026666666667,\n",
       " 8756.27,\n",
       " 8632.46,\n",
       " 8730.983333333334,\n",
       " 8798.39,\n",
       " 8799.616666666667,\n",
       " 8297.153333333334,\n",
       " 8656.123333333333,\n",
       " 8779.103333333333,\n",
       " 8693.353333333333,\n",
       " 8480.6,\n",
       " 9233.813333333334,\n",
       " 8228.8,\n",
       " 8856.286666666667,\n",
       " 8930.15,\n",
       " 8482.366666666667,\n",
       " 8836.65,\n",
       " 8946.303333333333,\n",
       " 8009.343333333333,\n",
       " 8661.456666666667,\n",
       " 8358.693333333333,\n",
       " 8809.19,\n",
       " 8892.886666666667,\n",
       " 8730.463333333333,\n",
       " 8920.95,\n",
       " 8609.726666666667,\n",
       " 9070.26,\n",
       " 8852.456666666667,\n",
       " 8616.596666666666,\n",
       " 8479.913333333334,\n",
       " 8777.606666666667,\n",
       " 8484.98,\n",
       " 8801.966666666667,\n",
       " 8328.896666666667,\n",
       " 8999.336666666666,\n",
       " 9042.276666666667,\n",
       " 8547.113333333333,\n",
       " 9152.486666666666,\n",
       " 9081.156666666666,\n",
       " 8854.336666666666,\n",
       " 8679.603333333333,\n",
       " 8928.133333333333,\n",
       " 8207.073333333334,\n",
       " 8349.963333333333,\n",
       " 8413.79,\n",
       " 8383.85,\n",
       " 8829.663333333334,\n",
       " 8490.136666666667,\n",
       " 8340.38,\n",
       " 8704.5,\n",
       " 8712.726666666667,\n",
       " 8818.346666666666,\n",
       " 8666.493333333334,\n",
       " 9029.81,\n",
       " 8324.253333333334,\n",
       " 8629.576666666666,\n",
       " 8770.003333333334,\n",
       " 8595.63,\n",
       " 9058.783333333333,\n",
       " 8464.323333333334,\n",
       " 8948.763333333334,\n",
       " 8929.956666666667,\n",
       " 9005.226666666667,\n",
       " 8797.856666666667,\n",
       " 8923.466666666667,\n",
       " 8381.763333333334,\n",
       " 8405.166666666666,\n",
       " 9124.083333333334,\n",
       " 8713.606666666667,\n",
       " 8770.783333333333,\n",
       " 8809.183333333332,\n",
       " 9012.86,\n",
       " 8669.9,\n",
       " 8705.106666666667,\n",
       " 8129.9,\n",
       " 8890.966666666667,\n",
       " 8391.586666666666,\n",
       " 8544.096666666666,\n",
       " 8920.763333333334,\n",
       " 8879.45,\n",
       " 8334.863333333333,\n",
       " 8479.76,\n",
       " 8643.68,\n",
       " 8503.52,\n",
       " 8851.11,\n",
       " 8477.923333333334,\n",
       " 8893.383333333333,\n",
       " 8135.126666666667,\n",
       " 8658.246666666666,\n",
       " 8768.626666666667,\n",
       " 9387.133333333333,\n",
       " 8921.456666666667,\n",
       " 9086.24,\n",
       " 8552.503333333334,\n",
       " 8588.36,\n",
       " 8720.953333333333,\n",
       " 9009.176666666666,\n",
       " 9232.953333333333,\n",
       " 8774.433333333332,\n",
       " 8749.596666666666,\n",
       " 8559.14,\n",
       " 8378.006666666666,\n",
       " 8618.45,\n",
       " 8826.483333333334,\n",
       " 8392.306666666667,\n",
       " 8633.553333333333,\n",
       " 8632.723333333333,\n",
       " 8571.88,\n",
       " 8897.566666666668,\n",
       " 8351.743333333334,\n",
       " 8564.08,\n",
       " 8363.626666666667,\n",
       " 8738.353333333333,\n",
       " 8616.92,\n",
       " 8168.91,\n",
       " 8445.606666666667,\n",
       " 9120.05,\n",
       " 8410.013333333334,\n",
       " 8387.66,\n",
       " 9170.703333333333,\n",
       " 8912.876666666667,\n",
       " 8423.81,\n",
       " 8839.833333333334,\n",
       " 8818.943333333333,\n",
       " 8750.866666666667,\n",
       " 8169.31,\n",
       " 8597.293333333333,\n",
       " 8508.086666666666,\n",
       " 8812.396666666667,\n",
       " 8718.45,\n",
       " 8823.446666666667,\n",
       " 9204.176666666666,\n",
       " 8742.12,\n",
       " 9172.133333333333,\n",
       " 8776.586666666666,\n",
       " 8794.15,\n",
       " 8812.903333333334,\n",
       " 8930.46,\n",
       " 9282.356666666667,\n",
       " 9747.023333333333,\n",
       " 8592.323333333334,\n",
       " 8367.13,\n",
       " 8886.356666666667,\n",
       " 9138.953333333333,\n",
       " 9260.21,\n",
       " 8824.08,\n",
       " 9153.31,\n",
       " 8893.093333333334,\n",
       " 8542.75,\n",
       " 8694.926666666666,\n",
       " 8623.706666666667,\n",
       " 8650.066666666668,\n",
       " 8555.756666666666,\n",
       " 9033.503333333334,\n",
       " 8756.47,\n",
       " 8232.516666666666,\n",
       " 8208.266666666666,\n",
       " 8368.513333333334,\n",
       " 9017.34,\n",
       " 8427.273333333333,\n",
       " 8595.063333333334,\n",
       " 8449.48,\n",
       " 9057.163333333334,\n",
       " 8771.77,\n",
       " 8556.81,\n",
       " 8442.663333333334,\n",
       " 9153.016666666666,\n",
       " 9298.133333333333,\n",
       " 8234.253333333334,\n",
       " 8677.2,\n",
       " 8998.0,\n",
       " 8389.52,\n",
       " 8903.416666666666,\n",
       " 8688.956666666667,\n",
       " 8545.666666666666,\n",
       " 8646.75,\n",
       " 9034.806666666667,\n",
       " 8895.833333333334,\n",
       " 9046.423333333334,\n",
       " 8247.14,\n",
       " 8952.06,\n",
       " 8749.69,\n",
       " 8705.23,\n",
       " 9442.126666666667,\n",
       " 8796.12,\n",
       " 8702.2,\n",
       " 8894.453333333333,\n",
       " 8399.336666666666,\n",
       " 8775.49,\n",
       " 8952.68,\n",
       " 8812.756666666666,\n",
       " 8764.156666666666,\n",
       " 9066.48,\n",
       " 8801.806666666667,\n",
       " 8703.303333333333,\n",
       " 9004.146666666667,\n",
       " 8602.38,\n",
       " 8695.673333333334,\n",
       " 8644.633333333333,\n",
       " 8705.31,\n",
       " 8307.55,\n",
       " 8611.506666666666,\n",
       " 8873.063333333334,\n",
       " 8555.86,\n",
       " 8613.416666666666,\n",
       " 8207.4,\n",
       " 8902.323333333334,\n",
       " 8917.893333333333,\n",
       " 9092.136666666667,\n",
       " 9210.21,\n",
       " 8628.78,\n",
       " 8800.583333333334,\n",
       " 8702.86,\n",
       " 8496.743333333334,\n",
       " 9283.18,\n",
       " 9245.693333333333,\n",
       " 8850.403333333334,\n",
       " 8638.553333333333,\n",
       " 8213.88,\n",
       " 8326.226666666667,\n",
       " 8280.0,\n",
       " 8750.123333333333,\n",
       " 8862.723333333333,\n",
       " 8534.926666666666,\n",
       " 8418.493333333334,\n",
       " 8851.063333333334,\n",
       " 8147.29,\n",
       " 8828.823333333334,\n",
       " 8489.543333333333,\n",
       " 8650.28,\n",
       " 8622.733333333334,\n",
       " 9017.83,\n",
       " 8882.143333333333,\n",
       " 8742.843333333334,\n",
       " 8773.1,\n",
       " 8851.85,\n",
       " 9009.403333333334,\n",
       " 8540.01,\n",
       " 8564.81,\n",
       " 8838.436666666666,\n",
       " 8858.48,\n",
       " 9014.87,\n",
       " 8596.953333333333,\n",
       " 8601.69,\n",
       " 8387.62,\n",
       " 8537.97,\n",
       " 8609.55,\n",
       " 8295.183333333332,\n",
       " 8651.34,\n",
       " 8471.646666666667,\n",
       " 8384.776666666667,\n",
       " 8722.296666666667,\n",
       " 8731.756666666666,\n",
       " 8625.076666666666,\n",
       " 8695.243333333334,\n",
       " 9183.826666666666,\n",
       " 8542.953333333333,\n",
       " 8806.62,\n",
       " 8674.936666666666,\n",
       " 8546.193333333333,\n",
       " 9496.903333333334,\n",
       " 8930.243333333334,\n",
       " 8142.31,\n",
       " 8820.25,\n",
       " 8949.13,\n",
       " 8532.02,\n",
       " 9029.156666666666,\n",
       " 8858.936666666666,\n",
       " 8909.406666666666,\n",
       " 8312.113333333333,\n",
       " 9380.916666666666,\n",
       " 8566.143333333333,\n",
       " 8412.586666666666,\n",
       " 8784.23,\n",
       " 8398.336666666666,\n",
       " 8368.19,\n",
       " 8355.603333333333,\n",
       " 8686.606666666667,\n",
       " 8733.533333333333,\n",
       " 8782.48,\n",
       " 8607.466666666667,\n",
       " 8592.13,\n",
       " 8444.593333333334,\n",
       " 8938.19,\n",
       " 8760.513333333334,\n",
       " 8688.253333333334,\n",
       " 8924.85,\n",
       " 9127.373333333333,\n",
       " 8887.963333333333,\n",
       " 8865.716666666667,\n",
       " 9195.58,\n",
       " 9038.233333333334,\n",
       " 8473.3,\n",
       " 8844.703333333333,\n",
       " 8431.496666666666,\n",
       " 8307.37,\n",
       " 8575.956666666667,\n",
       " 8551.646666666667,\n",
       " 8799.46,\n",
       " 8764.093333333334,\n",
       " 8304.543333333333,\n",
       " 8449.84,\n",
       " 8778.583333333334,\n",
       " 8453.67,\n",
       " 8375.196666666667,\n",
       " 8862.626666666667,\n",
       " 8391.91,\n",
       " 8496.066666666668,\n",
       " 8300.173333333334,\n",
       " 8392.963333333333,\n",
       " 8634.176666666666,\n",
       " 8708.69,\n",
       " 9230.406666666666,\n",
       " 8513.386666666667,\n",
       " 9175.756666666666,\n",
       " 9311.666666666666,\n",
       " 8665.963333333333,\n",
       " 8785.606666666667,\n",
       " 8649.813333333334,\n",
       " 8682.26,\n",
       " 8614.433333333332,\n",
       " 8853.036666666667,\n",
       " 8211.326666666666,\n",
       " 8139.253333333333,\n",
       " 8891.52,\n",
       " 9090.103333333333,\n",
       " 8304.226666666667,\n",
       " 8732.436666666666,\n",
       " 8595.966666666667,\n",
       " 8597.176666666666,\n",
       " 8688.763333333334,\n",
       " 8323.176666666666,\n",
       " 8889.61,\n",
       " 8752.223333333333,\n",
       " 8900.993333333334,\n",
       " 8785.83,\n",
       " 8059.376666666667,\n",
       " 8482.2,\n",
       " 8633.26,\n",
       " 9020.933333333332,\n",
       " 8080.98,\n",
       " 8297.39,\n",
       " 8554.63,\n",
       " 8606.986666666666,\n",
       " 8716.34,\n",
       " 8738.02,\n",
       " 8997.546666666667,\n",
       " 9395.843333333334,\n",
       " 8966.743333333334,\n",
       " 8771.506666666666,\n",
       " 9355.33,\n",
       " 8051.546666666667,\n",
       " 8643.78,\n",
       " 8614.25,\n",
       " 9249.66,\n",
       " 8723.12,\n",
       " 9015.46,\n",
       " 8799.886666666667,\n",
       " 8709.566666666668,\n",
       " 8434.93,\n",
       " 8701.25,\n",
       " 8392.866666666667,\n",
       " 8705.726666666667,\n",
       " 8645.843333333334,\n",
       " 8434.76,\n",
       " 8359.183333333332,\n",
       " 8855.85,\n",
       " 8657.193333333333,\n",
       " 9001.406666666666,\n",
       " 8379.15,\n",
       " 8715.506666666666,\n",
       " 8603.713333333333,\n",
       " 8866.8,\n",
       " 9253.99,\n",
       " 8528.35,\n",
       " 8989.886666666667,\n",
       " 9066.903333333334,\n",
       " 8304.39,\n",
       " 8882.206666666667,\n",
       " 8109.616666666667,\n",
       " 8604.303333333333,\n",
       " 8559.443333333333,\n",
       " 9055.146666666667,\n",
       " 8778.703333333333,\n",
       " 8821.626666666667,\n",
       " 8535.55,\n",
       " 8633.38,\n",
       " 8810.99,\n",
       " 9248.886666666667,\n",
       " 8770.726666666667,\n",
       " 8650.933333333332,\n",
       " 8876.053333333333,\n",
       " 8421.743333333334,\n",
       " 8543.363333333333,\n",
       " 8429.056666666667,\n",
       " 8341.62,\n",
       " 8978.14,\n",
       " 8405.64,\n",
       " 8866.47,\n",
       " 8502.096666666666,\n",
       " 8633.913333333334,\n",
       " 8397.393333333333,\n",
       " 8478.51,\n",
       " 8524.626666666667,\n",
       " 9388.336666666666,\n",
       " 8567.483333333334,\n",
       " 9142.603333333333,\n",
       " 8491.563333333334,\n",
       " 8545.516666666666,\n",
       " 8357.07,\n",
       " 8694.963333333333,\n",
       " 8619.766666666666,\n",
       " 8241.523333333333,\n",
       " 8569.036666666667,\n",
       " 9094.626666666667,\n",
       " 8767.51,\n",
       " 9181.703333333333,\n",
       " 8452.156666666666,\n",
       " 8606.813333333334,\n",
       " 8917.23,\n",
       " 8695.153333333334,\n",
       " 8837.27,\n",
       " 8773.666666666666,\n",
       " 9124.31,\n",
       " 8499.606666666667,\n",
       " 8318.363333333333,\n",
       " 8652.676666666666,\n",
       " 9126.136666666667,\n",
       " 8611.956666666667,\n",
       " 8575.376666666667,\n",
       " 8459.343333333334,\n",
       " 8335.693333333333,\n",
       " 8740.663333333334,\n",
       " 8736.023333333333,\n",
       " 8960.53,\n",
       " 8964.596666666666,\n",
       " 8634.17,\n",
       " 8927.81,\n",
       " 8931.57,\n",
       " 8268.173333333334,\n",
       " 8844.103333333333,\n",
       " 8588.363333333333,\n",
       " 8491.016666666666,\n",
       " 8834.206666666667,\n",
       " 8930.51,\n",
       " 8596.616666666667,\n",
       " 8655.42,\n",
       " 8758.923333333334,\n",
       " 8356.766666666666,\n",
       " 9381.37,\n",
       " 8374.73,\n",
       " 8691.016666666666,\n",
       " 8840.406666666666,\n",
       " 8889.983333333334,\n",
       " 8350.13,\n",
       " 9402.94,\n",
       " 8660.13,\n",
       " 8503.95,\n",
       " 8481.843333333334,\n",
       " 8813.013333333334,\n",
       " 8817.66,\n",
       " 8843.123333333333,\n",
       " 8853.363333333333,\n",
       " 8769.07,\n",
       " 8551.033333333333,\n",
       " 8295.673333333334,\n",
       " 8729.413333333334,\n",
       " 9351.336666666666,\n",
       " 8392.79,\n",
       " 8873.37,\n",
       " 8375.383333333333,\n",
       " 8469.916666666666,\n",
       " 8454.11,\n",
       " 8586.523333333333,\n",
       " 8783.456666666667,\n",
       " 8189.756666666667,\n",
       " 8867.383333333333,\n",
       " 8015.21,\n",
       " 8886.963333333333,\n",
       " 8545.126666666667,\n",
       " 8141.9766666666665,\n",
       " 8727.84,\n",
       " 9486.056666666667,\n",
       " 9077.766666666666,\n",
       " 8562.473333333333,\n",
       " 8562.88,\n",
       " 8467.993333333334,\n",
       " 8526.683333333332,\n",
       " 8400.163333333334,\n",
       " 8549.16,\n",
       " 8750.19,\n",
       " 8267.44,\n",
       " 8872.586666666666,\n",
       " 9075.116666666667,\n",
       " 8958.076666666666,\n",
       " 8932.18,\n",
       " 8902.73,\n",
       " 8195.496666666666,\n",
       " 8532.253333333334,\n",
       " 9023.206666666667,\n",
       " 8474.663333333334,\n",
       " 8764.993333333334,\n",
       " 7878.573333333334,\n",
       " 8549.776666666667,\n",
       " 8880.073333333334,\n",
       " 8866.546666666667,\n",
       " 8863.91,\n",
       " 8920.896666666667,\n",
       " 8652.973333333333,\n",
       " 9326.293333333333,\n",
       " 8700.28,\n",
       " 8871.31,\n",
       " 8827.87,\n",
       " 9043.676666666666,\n",
       " 8892.243333333334,\n",
       " 8858.233333333334,\n",
       " 9271.736666666666,\n",
       " 8349.816666666668,\n",
       " 9130.483333333334,\n",
       " 9083.566666666668,\n",
       " 8698.2,\n",
       " 8550.01,\n",
       " 8623.69,\n",
       " 8449.293333333333,\n",
       " 8482.21,\n",
       " 8448.073333333334,\n",
       " 8713.003333333334,\n",
       " 8903.943333333333,\n",
       " 8664.006666666666,\n",
       " 8625.143333333333,\n",
       " 8856.59,\n",
       " 8914.326666666666,\n",
       " 8793.673333333334,\n",
       " 8372.966666666667,\n",
       " 8042.266666666666,\n",
       " 8769.083333333334,\n",
       " 9001.856666666667,\n",
       " 8869.456666666667,\n",
       " 8717.096666666666,\n",
       " 8952.946666666667,\n",
       " 8357.883333333333,\n",
       " 8742.833333333334,\n",
       " 8574.49,\n",
       " 8892.966666666667,\n",
       " 8775.61,\n",
       " 8617.68,\n",
       " 8984.28,\n",
       " 8976.393333333333,\n",
       " 9018.666666666666,\n",
       " 9043.98,\n",
       " 9111.57,\n",
       " 9408.196666666667,\n",
       " 8626.283333333333,\n",
       " 8616.77,\n",
       " 8334.476666666667,\n",
       " 8399.716666666667,\n",
       " 8471.196666666667,\n",
       " 8791.236666666666,\n",
       " 8519.316666666668,\n",
       " 8852.03,\n",
       " 8310.616666666667,\n",
       " 8471.863333333333,\n",
       " 8824.186666666666,\n",
       " 8560.036666666667,\n",
       " 8170.056666666666,\n",
       " 8834.05,\n",
       " 8607.603333333333,\n",
       " 8602.936666666666,\n",
       " 8897.573333333334,\n",
       " 8556.86,\n",
       " 8563.44,\n",
       " 9192.723333333333,\n",
       " 8451.286666666667,\n",
       " 8895.863333333333,\n",
       " 8570.023333333333,\n",
       " 8831.95,\n",
       " 8362.346666666666,\n",
       " 8842.603333333333,\n",
       " 8821.616666666667,\n",
       " 8631.363333333333,\n",
       " 8786.066666666668,\n",
       " 9115.36,\n",
       " 8532.39,\n",
       " 8873.146666666667,\n",
       " 8690.516666666666,\n",
       " 8663.313333333334,\n",
       " 8933.293333333333,\n",
       " 8859.426666666666,\n",
       " 8737.483333333334,\n",
       " 8178.923333333333,\n",
       " 8372.653333333334,\n",
       " 8865.52,\n",
       " 8840.263333333334,\n",
       " 9246.246666666666,\n",
       " 9248.713333333333,\n",
       " 8827.413333333334,\n",
       " 8342.483333333334,\n",
       " 8565.666666666666,\n",
       " 8601.09,\n",
       " 8066.3,\n",
       " 8121.86,\n",
       " 8710.373333333333,\n",
       " 8936.36,\n",
       " 8560.496666666666,\n",
       " 8878.843333333334,\n",
       " 8619.72,\n",
       " 9265.873333333333,\n",
       " 8577.553333333333,\n",
       " 8985.0,\n",
       " 8906.933333333332,\n",
       " 8707.036666666667,\n",
       " 8670.783333333333,\n",
       " 9067.253333333334,\n",
       " 8642.973333333333,\n",
       " 9044.726666666667,\n",
       " 8479.426666666666,\n",
       " 8857.586666666666,\n",
       " 8652.21,\n",
       " 8902.76,\n",
       " 9079.316666666668,\n",
       " 8714.773333333333,\n",
       " 8791.966666666667,\n",
       " 8556.04,\n",
       " 8552.473333333333,\n",
       " 8767.023333333333,\n",
       " 8778.153333333334,\n",
       " 8898.333333333334,\n",
       " 8438.79,\n",
       " 8745.426666666666,\n",
       " 8231.806666666667,\n",
       " 9122.246666666666,\n",
       " 8568.21,\n",
       " 8493.74,\n",
       " 9141.333333333334,\n",
       " 8453.976666666667,\n",
       " 8380.353333333333,\n",
       " 8473.273333333333,\n",
       " 8798.783333333333,\n",
       " 8698.26,\n",
       " 8473.79,\n",
       " 8644.203333333333,\n",
       " 9142.003333333334,\n",
       " 8452.933333333332,\n",
       " 8661.166666666666,\n",
       " 8695.813333333334,\n",
       " 8571.313333333334,\n",
       " 8665.533333333333,\n",
       " 8598.046666666667,\n",
       " 8848.653333333334,\n",
       " 8674.906666666666,\n",
       " 8959.056666666667,\n",
       " 8530.936666666666,\n",
       " 8563.306666666667,\n",
       " 8809.8,\n",
       " 9188.763333333334,\n",
       " 8379.65,\n",
       " 8302.44,\n",
       " 8698.563333333334,\n",
       " 8251.253333333334,\n",
       " 8588.816666666668,\n",
       " 8510.616666666667,\n",
       " 8878.47,\n",
       " 8833.75,\n",
       " 8751.543333333333,\n",
       " 8552.366666666667,\n",
       " 9173.636666666667,\n",
       " 8169.266666666666,\n",
       " 8640.44,\n",
       " 8717.96,\n",
       " 9049.993333333334,\n",
       " 8262.736666666666,\n",
       " 8764.666666666666,\n",
       " 8595.923333333334,\n",
       " 8916.483333333334,\n",
       " 8672.23,\n",
       " 8450.906666666666,\n",
       " 8652.053333333333,\n",
       " 9360.233333333334,\n",
       " 8639.63,\n",
       " 8813.593333333334,\n",
       " 9101.703333333333,\n",
       " 8826.626666666667,\n",
       " 8885.683333333332,\n",
       " 8663.226666666667,\n",
       " 9010.813333333334,\n",
       " 8997.083333333334,\n",
       " 8688.576666666666,\n",
       " 8584.94,\n",
       " 8206.573333333334,\n",
       " 8703.05,\n",
       " 8862.186666666666,\n",
       " 8926.52,\n",
       " 8728.51,\n",
       " 8510.556666666667,\n",
       " 8861.683333333332,\n",
       " 8501.003333333334,\n",
       " 8497.676666666666,\n",
       " 8408.36,\n",
       " 8437.463333333333,\n",
       " 8482.233333333334,\n",
       " 8601.923333333334,\n",
       " 9083.733333333334,\n",
       " 8454.353333333333,\n",
       " 9036.24,\n",
       " 8469.79,\n",
       " 8865.783333333333,\n",
       " 8628.98,\n",
       " 8350.286666666667,\n",
       " 8566.376666666667,\n",
       " 8244.34,\n",
       " 8717.783333333333,\n",
       " 8340.78,\n",
       " 9160.706666666667,\n",
       " 8313.953333333333,\n",
       " 8685.913333333334,\n",
       " 8780.723333333333,\n",
       " 8689.07,\n",
       " 8842.806666666667,\n",
       " 8470.886666666667,\n",
       " 8846.92,\n",
       " 8247.14,\n",
       " 8733.476666666667,\n",
       " 8359.99,\n",
       " 8774.753333333334,\n",
       " 8744.186666666666,\n",
       " 8831.433333333332,\n",
       " 8791.0,\n",
       " 8805.8,\n",
       " 8707.403333333334,\n",
       " 8536.15,\n",
       " 8688.906666666666,\n",
       " 8774.8,\n",
       " 8509.696666666667,\n",
       " 8703.173333333334,\n",
       " 8856.6,\n",
       " 8673.193333333333,\n",
       " 8785.143333333333,\n",
       " 8775.613333333333,\n",
       " 8655.736666666666,\n",
       " 8811.993333333334,\n",
       " 8935.09,\n",
       " 8894.993333333334,\n",
       " 8822.776666666667,\n",
       " 8786.81,\n",
       " 8672.4,\n",
       " 8459.603333333333,\n",
       " 8220.18,\n",
       " 8805.263333333334,\n",
       " 8966.983333333334,\n",
       " 8876.273333333333,\n",
       " 9034.133333333333,\n",
       " 8734.65,\n",
       " 8696.293333333333,\n",
       " 9244.686666666666,\n",
       " 8545.983333333334,\n",
       " 8848.616666666667,\n",
       " 8492.013333333334,\n",
       " 9482.686666666666,\n",
       " 8604.32,\n",
       " 8467.333333333334,\n",
       " 8710.95,\n",
       " 8933.723333333333,\n",
       " 8879.13,\n",
       " 8678.656666666666,\n",
       " 8793.206666666667,\n",
       " 8770.793333333333,\n",
       " 8891.726666666667,\n",
       " 8821.083333333334,\n",
       " 8802.606666666667,\n",
       " 8994.966666666667,\n",
       " 8686.483333333334,\n",
       " 8724.026666666667,\n",
       " 9064.166666666666,\n",
       " 8585.58,\n",
       " 8627.763333333334,\n",
       " 8740.623333333333,\n",
       " 8492.98,\n",
       " 8951.406666666666,\n",
       " 8573.71,\n",
       " 9018.7,\n",
       " 8838.88,\n",
       " 8586.043333333333,\n",
       " 8468.656666666666,\n",
       " 8623.093333333334,\n",
       " 8940.763333333334,\n",
       " 8870.346666666666,\n",
       " 9266.31,\n",
       " 8124.276666666667,\n",
       " 8757.566666666668,\n",
       " 8939.7,\n",
       " 8637.066666666668,\n",
       " 7927.076666666667,\n",
       " 8683.23,\n",
       " 8939.816666666668,\n",
       " 8325.96,\n",
       " 8797.946666666667,\n",
       " 8688.676666666666,\n",
       " 8370.0,\n",
       " 8755.986666666666,\n",
       " 8427.963333333333,\n",
       " 8905.746666666666,\n",
       " 9125.726666666667,\n",
       " 8965.24,\n",
       " ...]"
      ]
     },
     "execution_count": 63,
     "metadata": {},
     "output_type": "execute_result"
    }
   ],
   "source": [
    "# For N = 300\n",
    "female_mean_purchase = [df[df['Gender']=='F']['Purchase'].sample(300 , replace=True).mean() for i in range(5000)]\n",
    "female_mean_purchase"
   ]
  },
  {
   "cell_type": "code",
   "execution_count": 64,
   "id": "8833c037-c076-4c86-adc9-ff40a7b56e43",
   "metadata": {},
   "outputs": [
    {
     "data": {
      "text/plain": [
       "<seaborn.axisgrid.FacetGrid at 0x170a544e4e0>"
      ]
     },
     "execution_count": 64,
     "metadata": {},
     "output_type": "execute_result"
    },
    {
     "data": {
      "image/png": "[encoded data removed]",
      "text/plain": [
       "<Figure size 500x500 with 1 Axes>"
      ]
     },
     "metadata": {},
     "output_type": "display_data"
    }
   ],
   "source": [
    "sns.displot(female_mean_purchase)"
   ]
  },
  {
   "cell_type": "code",
   "execution_count": 65,
   "id": "5779fe85-fb72-4e3a-9050-d899dd815f0e",
   "metadata": {},
   "outputs": [
    {
     "data": {
      "text/plain": [
       "8727.910225999998"
      ]
     },
     "execution_count": 65,
     "metadata": {},
     "output_type": "execute_result"
    }
   ],
   "source": [
    "np.mean(female_mean_purchase)"
   ]
  },
  {
   "cell_type": "code",
   "execution_count": 66,
   "id": "cd5c5b36-2189-43d8-b7f7-4f3e232ef6f7",
   "metadata": {},
   "outputs": [
    {
     "data": {
      "text/plain": [
       "268.6775572853826"
      ]
     },
     "execution_count": 66,
     "metadata": {},
     "output_type": "execute_result"
    }
   ],
   "source": [
    "np.std(female_mean_purchase)"
   ]
  },
  {
   "cell_type": "code",
   "execution_count": 137,
   "id": "76bccf61-cd8c-424f-933d-4e509f89366c",
   "metadata": {},
   "outputs": [
    {
     "name": "stdout",
     "output_type": "stream",
     "text": [
      "Female Confidence Interval based on sample size (300 with Replacement) for 5000 (iteration): \n"
     ]
    },
    {
     "data": {
      "text/plain": [
       "(8815.297047888433, 8564.90100157867)"
      ]
     },
     "execution_count": 137,
     "metadata": {},
     "output_type": "execute_result"
    }
   ],
   "source": [
    "print(\"Female Confidence Interval based on sample size (300 with Replacement) for 5000 (iteration): \")\n",
    "np.mean(female_mean_purchase) + np.std(female_mean_purchase) , np.mean(female_mean_purchase) - (1.96 * np.std(female_mean_purchase))"
   ]
  },
  {
   "cell_type": "markdown",
   "id": "b53caab3-cfb0-4f77-b898-90a77914ceaa",
   "metadata": {},
   "source": [
    "*Since there is Overlap we cannot confirm if the gender affects the amount spend*"
   ]
  },
  {
   "cell_type": "code",
   "execution_count": 68,
   "id": "4a49cd8e-b6a1-4f31-a269-ba98af82fa49",
   "metadata": {},
   "outputs": [],
   "source": [
    "# For N = 3000"
   ]
  },
  {
   "cell_type": "code",
   "execution_count": 69,
   "id": "3af23eb8-c4b6-4bac-91b0-7d887364307b",
   "metadata": {},
   "outputs": [],
   "source": [
    "male_mean_purchase = [df[df['Gender']=='M']['Purchase'].sample(3000 , replace=True).mean() for i in range(5000)]"
   ]
  },
  {
   "cell_type": "code",
   "execution_count": 70,
   "id": "fe0cda4a-f9bf-43ba-8cfd-8a6fc6216d65",
   "metadata": {},
   "outputs": [
    {
     "data": {
      "text/plain": [
       "<seaborn.axisgrid.FacetGrid at 0x170a3c93170>"
      ]
     },
     "execution_count": 70,
     "metadata": {},
     "output_type": "execute_result"
    },
    {
     "data": {
      "image/png": "[encoded data removed]",
      "text/plain": [
       "<Figure size 500x500 with 1 Axes>"
      ]
     },
     "metadata": {},
     "output_type": "display_data"
    }
   ],
   "source": [
    "sns.displot(male_mean_purchase)"
   ]
  },
  {
   "cell_type": "code",
   "execution_count": 71,
   "id": "d2946a76-c1b0-45ca-a454-97095a80bdcb",
   "metadata": {},
   "outputs": [],
   "source": [
    "female_mean_purchase = [df[df['Gender']=='F']['Purchase'].sample(3000 , replace=True).mean() for i in range(5000)]"
   ]
  },
  {
   "cell_type": "code",
   "execution_count": 72,
   "id": "87118874-e451-4b85-8cbb-c98c5f5cf0f6",
   "metadata": {},
   "outputs": [
    {
     "data": {
      "text/plain": [
       "<seaborn.axisgrid.FacetGrid at 0x170a5342b10>"
      ]
     },
     "execution_count": 72,
     "metadata": {},
     "output_type": "execute_result"
    },
    {
     "data": {
      "image/png": "[encoded data removed]",
      "text/plain": [
       "<Figure size 500x500 with 1 Axes>"
      ]
     },
     "metadata": {},
     "output_type": "display_data"
    }
   ],
   "source": [
    "sns.displot(female_mean_purchase)"
   ]
  },
  {
   "cell_type": "code",
   "execution_count": 73,
   "id": "85751941-1c13-451d-8f3a-1cbcd990f4a9",
   "metadata": {},
   "outputs": [
    {
     "data": {
      "text/plain": [
       "9399.460589666667"
      ]
     },
     "execution_count": 73,
     "metadata": {},
     "output_type": "execute_result"
    }
   ],
   "source": [
    "np.mean(male_mean_purchase)"
   ]
  },
  {
   "cell_type": "code",
   "execution_count": 74,
   "id": "dc569b34-7024-4891-b5f8-377cd8c10fb8",
   "metadata": {},
   "outputs": [
    {
     "data": {
      "text/plain": [
       "91.38079410233497"
      ]
     },
     "execution_count": 74,
     "metadata": {},
     "output_type": "execute_result"
    }
   ],
   "source": [
    "np.std(male_mean_purchase)"
   ]
  },
  {
   "cell_type": "code",
   "execution_count": 75,
   "id": "1c4d34c9-0b10-4bfe-9141-a57e8adc1822",
   "metadata": {},
   "outputs": [
    {
     "data": {
      "text/plain": [
       "8730.703789"
      ]
     },
     "execution_count": 75,
     "metadata": {},
     "output_type": "execute_result"
    }
   ],
   "source": [
    "np.mean(female_mean_purchase)"
   ]
  },
  {
   "cell_type": "code",
   "execution_count": 76,
   "id": "991d7fc4-ecec-4f47-ae8a-c09b91777e32",
   "metadata": {},
   "outputs": [
    {
     "data": {
      "text/plain": [
       "84.5932588884333"
      ]
     },
     "execution_count": 76,
     "metadata": {},
     "output_type": "execute_result"
    }
   ],
   "source": [
    "np.std(female_mean_purchase)"
   ]
  },
  {
   "cell_type": "code",
   "execution_count": 138,
   "id": "37279d25-8a6a-4a03-a37c-570049867e0a",
   "metadata": {},
   "outputs": [
    {
     "name": "stdout",
     "output_type": "stream",
     "text": [
      "Male Confidence Interval based on sample size (3000 with Replacement) for 5000 (iteration): \n"
     ]
    },
    {
     "data": {
      "text/plain": [
       "(9490.841383769002, 9220.354233226091)"
      ]
     },
     "execution_count": 138,
     "metadata": {},
     "output_type": "execute_result"
    }
   ],
   "source": [
    "print(\"Male Confidence Interval based on sample size (3000 with Replacement) for 5000 (iteration): \")\n",
    "np.mean(male_mean_purchase) + np.std(male_mean_purchase) , np.mean(male_mean_purchase) - (1.96 * np.std(male_mean_purchase))"
   ]
  },
  {
   "cell_type": "code",
   "execution_count": 139,
   "id": "05d5a6c1-3f3e-4bf2-82bb-e71c2936b315",
   "metadata": {},
   "outputs": [
    {
     "name": "stdout",
     "output_type": "stream",
     "text": [
      "Female Confidence Interval based on sample size (3000 with Replacement) for 5000 (iteration): \n"
     ]
    },
    {
     "data": {
      "text/plain": [
       "(8815.297047888433, 8564.90100157867)"
      ]
     },
     "execution_count": 139,
     "metadata": {},
     "output_type": "execute_result"
    }
   ],
   "source": [
    "print(\"Female Confidence Interval based on sample size (3000 with Replacement) for 5000 (iteration): \")\n",
    "np.mean(female_mean_purchase) + np.std(female_mean_purchase) , np.mean(female_mean_purchase) - (1.96 * np.std(female_mean_purchase))"
   ]
  },
  {
   "cell_type": "markdown",
   "id": "a7dc80f5-e5e8-4eea-b7db-982182a1c8e5",
   "metadata": {},
   "source": [
    "**Since there is no Overlap in the Limits and clearly we can see that the Amount spend by M is more that F**"
   ]
  },
  {
   "cell_type": "markdown",
   "id": "58905648-2fbd-470e-aa00-ef39ba538c42",
   "metadata": {},
   "source": [
    "### How does Marital_Status affect the amount spent?"
   ]
  },
  {
   "cell_type": "code",
   "execution_count": 79,
   "id": "1a3cc1a4-bb4a-4c27-90be-d74f802dfb67",
   "metadata": {},
   "outputs": [
    {
     "data": {
      "text/html": [
       "<div>\n",
       "<style scoped>\n",
       "    .dataframe tbody tr th:only-of-type {\n",
       "        vertical-align: middle;\n",
       "    }\n",
       "\n",
       "    .dataframe tbody tr th {\n",
       "        vertical-align: top;\n",
       "    }\n",
       "\n",
       "    .dataframe thead th {\n",
       "        text-align: right;\n",
       "    }\n",
       "</style>\n",
       "<table border=\"1\" class=\"dataframe\">\n",
       "  <thead>\n",
       "    <tr style=\"text-align: right;\">\n",
       "      <th></th>\n",
       "      <th>User_ID</th>\n",
       "      <th>Product_ID</th>\n",
       "      <th>Gender</th>\n",
       "      <th>Age</th>\n",
       "      <th>Occupation</th>\n",
       "      <th>City_Category</th>\n",
       "      <th>Stay_In_Current_City_Years</th>\n",
       "      <th>Marital_Status</th>\n",
       "      <th>Product_Category</th>\n",
       "      <th>Purchase</th>\n",
       "    </tr>\n",
       "  </thead>\n",
       "  <tbody>\n",
       "    <tr>\n",
       "      <th>0</th>\n",
       "      <td>1000001</td>\n",
       "      <td>P00069042</td>\n",
       "      <td>F</td>\n",
       "      <td>0-17</td>\n",
       "      <td>10.0</td>\n",
       "      <td>A</td>\n",
       "      <td>2</td>\n",
       "      <td>0.0</td>\n",
       "      <td>3.0</td>\n",
       "      <td>8370.0</td>\n",
       "    </tr>\n",
       "    <tr>\n",
       "      <th>1</th>\n",
       "      <td>1000001</td>\n",
       "      <td>P00248942</td>\n",
       "      <td>F</td>\n",
       "      <td>0-17</td>\n",
       "      <td>10.0</td>\n",
       "      <td>A</td>\n",
       "      <td>2</td>\n",
       "      <td>0.0</td>\n",
       "      <td>1.0</td>\n",
       "      <td>15200.0</td>\n",
       "    </tr>\n",
       "    <tr>\n",
       "      <th>2</th>\n",
       "      <td>1000001</td>\n",
       "      <td>P00087842</td>\n",
       "      <td>F</td>\n",
       "      <td>0-17</td>\n",
       "      <td>10.0</td>\n",
       "      <td>A</td>\n",
       "      <td>2</td>\n",
       "      <td>0.0</td>\n",
       "      <td>12.0</td>\n",
       "      <td>1422.0</td>\n",
       "    </tr>\n",
       "    <tr>\n",
       "      <th>3</th>\n",
       "      <td>1000001</td>\n",
       "      <td>P00085442</td>\n",
       "      <td>F</td>\n",
       "      <td>0-17</td>\n",
       "      <td>10.0</td>\n",
       "      <td>A</td>\n",
       "      <td>2</td>\n",
       "      <td>0.0</td>\n",
       "      <td>12.0</td>\n",
       "      <td>1057.0</td>\n",
       "    </tr>\n",
       "    <tr>\n",
       "      <th>4</th>\n",
       "      <td>1000002</td>\n",
       "      <td>P00285442</td>\n",
       "      <td>M</td>\n",
       "      <td>55+</td>\n",
       "      <td>16.0</td>\n",
       "      <td>C</td>\n",
       "      <td>4+</td>\n",
       "      <td>0.0</td>\n",
       "      <td>8.0</td>\n",
       "      <td>7969.0</td>\n",
       "    </tr>\n",
       "  </tbody>\n",
       "</table>\n",
       "</div>"
      ],
      "text/plain": [
       "   User_ID Product_ID Gender   Age  Occupation City_Category  \\\n",
       "0  1000001  P00069042      F  0-17        10.0             A   \n",
       "1  1000001  P00248942      F  0-17        10.0             A   \n",
       "2  1000001  P00087842      F  0-17        10.0             A   \n",
       "3  1000001  P00085442      F  0-17        10.0             A   \n",
       "4  1000002  P00285442      M   55+        16.0             C   \n",
       "\n",
       "  Stay_In_Current_City_Years  Marital_Status  Product_Category  Purchase  \n",
       "0                          2             0.0               3.0    8370.0  \n",
       "1                          2             0.0               1.0   15200.0  \n",
       "2                          2             0.0              12.0    1422.0  \n",
       "3                          2             0.0              12.0    1057.0  \n",
       "4                         4+             0.0               8.0    7969.0  "
      ]
     },
     "execution_count": 79,
     "metadata": {},
     "output_type": "execute_result"
    }
   ],
   "source": [
    "df.head()"
   ]
  },
  {
   "cell_type": "code",
   "execution_count": 80,
   "id": "e0dd33e9-3d8c-4799-a457-1c5e48e86647",
   "metadata": {},
   "outputs": [
    {
     "data": {
      "text/plain": [
       "Marital_Status\n",
       "0.0    1988\n",
       "1.0    1400\n",
       "Name: User_ID, dtype: int64"
      ]
     },
     "execution_count": 80,
     "metadata": {},
     "output_type": "execute_result"
    }
   ],
   "source": [
    "df.groupby('Marital_Status')['User_ID'].nunique()"
   ]
  },
  {
   "cell_type": "markdown",
   "id": "4a1de871-f5f9-4ab1-b961-a5bc6c5cd06c",
   "metadata": {},
   "source": [
    "We can observe that from the sample data we have 1988 users with Marital_status 0 (Unmarried/Other) and 1400 users with Marital_Status as 1 (Married)"
   ]
  },
  {
   "cell_type": "code",
   "execution_count": 81,
   "id": "d994e023-4079-4829-9c68-97445555af74",
   "metadata": {},
   "outputs": [
    {
     "data": {
      "text/html": [
       "<div>\n",
       "<style scoped>\n",
       "    .dataframe tbody tr th:only-of-type {\n",
       "        vertical-align: middle;\n",
       "    }\n",
       "\n",
       "    .dataframe tbody tr th {\n",
       "        vertical-align: top;\n",
       "    }\n",
       "\n",
       "    .dataframe thead th {\n",
       "        text-align: right;\n",
       "    }\n",
       "</style>\n",
       "<table border=\"1\" class=\"dataframe\">\n",
       "  <thead>\n",
       "    <tr style=\"text-align: right;\">\n",
       "      <th></th>\n",
       "      <th>count</th>\n",
       "      <th>mean</th>\n",
       "      <th>std</th>\n",
       "      <th>min</th>\n",
       "      <th>25%</th>\n",
       "      <th>50%</th>\n",
       "      <th>75%</th>\n",
       "      <th>max</th>\n",
       "    </tr>\n",
       "    <tr>\n",
       "      <th>Marital_Status</th>\n",
       "      <th></th>\n",
       "      <th></th>\n",
       "      <th></th>\n",
       "      <th></th>\n",
       "      <th></th>\n",
       "      <th></th>\n",
       "      <th></th>\n",
       "      <th></th>\n",
       "    </tr>\n",
       "  </thead>\n",
       "  <tbody>\n",
       "    <tr>\n",
       "      <th>0.0</th>\n",
       "      <td>15033.0</td>\n",
       "      <td>9209.872281</td>\n",
       "      <td>4965.917592</td>\n",
       "      <td>186.0</td>\n",
       "      <td>5469.0</td>\n",
       "      <td>8026.0</td>\n",
       "      <td>11991.0</td>\n",
       "      <td>23929.0</td>\n",
       "    </tr>\n",
       "    <tr>\n",
       "      <th>1.0</th>\n",
       "      <td>10003.0</td>\n",
       "      <td>9287.629211</td>\n",
       "      <td>4893.816578</td>\n",
       "      <td>187.0</td>\n",
       "      <td>5905.0</td>\n",
       "      <td>8071.0</td>\n",
       "      <td>12006.5</td>\n",
       "      <td>23958.0</td>\n",
       "    </tr>\n",
       "  </tbody>\n",
       "</table>\n",
       "</div>"
      ],
      "text/plain": [
       "                  count         mean          std    min     25%     50%  \\\n",
       "Marital_Status                                                             \n",
       "0.0             15033.0  9209.872281  4965.917592  186.0  5469.0  8026.0   \n",
       "1.0             10003.0  9287.629211  4893.816578  187.0  5905.0  8071.0   \n",
       "\n",
       "                    75%      max  \n",
       "Marital_Status                    \n",
       "0.0             11991.0  23929.0  \n",
       "1.0             12006.5  23958.0  "
      ]
     },
     "execution_count": 81,
     "metadata": {},
     "output_type": "execute_result"
    }
   ],
   "source": [
    "df.groupby('Marital_Status')['Purchase'].describe()"
   ]
  },
  {
   "cell_type": "markdown",
   "id": "afb2a51c-8fc6-4531-a4c9-7ee07cd7e3a2",
   "metadata": {},
   "source": [
    "**Checking for 95% Confidence based on sample data if Marital_Status affect Amount spent**\n",
    "\n",
    "*(The z-score for a 95% confidence interval is 1.96.)*"
   ]
  },
  {
   "cell_type": "code",
   "execution_count": 82,
   "id": "83d77865-bc41-43ad-b9e0-594fb169213e",
   "metadata": {},
   "outputs": [
    {
     "name": "stdout",
     "output_type": "stream",
     "text": [
      "Married Confidence Interval based on sample data: \n"
     ]
    },
    {
     "data": {
      "text/plain": [
       "(18879.509705022985, -304.2512825497288)"
      ]
     },
     "execution_count": 82,
     "metadata": {},
     "output_type": "execute_result"
    }
   ],
   "source": [
    "print(\"Married Confidence Interval based on sample data: \")\n",
    "df[df['Marital_Status']==1.0]['Purchase'].mean() + (1.96 * df[df['Marital_Status']==1.0]['Purchase'].std()) , df[df['Marital_Status']==1.0]['Purchase'].mean() - (1.96 * df[df['Marital_Status']==1.0]['Purchase'].std())"
   ]
  },
  {
   "cell_type": "code",
   "execution_count": 83,
   "id": "1bc76cf6-26e1-4e72-a2fa-355870cac11c",
   "metadata": {},
   "outputs": [
    {
     "name": "stdout",
     "output_type": "stream",
     "text": [
      "Unmarried/Other Confidence Interval based on sample data: \n"
     ]
    },
    {
     "data": {
      "text/plain": [
       "(18943.070761430175, -523.3261994664972)"
      ]
     },
     "execution_count": 83,
     "metadata": {},
     "output_type": "execute_result"
    }
   ],
   "source": [
    "print(\"Unmarried/Other Confidence Interval based on sample data: \")\n",
    "df[df['Marital_Status']==0.0]['Purchase'].mean() + (1.96 * df[df['Marital_Status']==0.0]['Purchase'].std()) , df[df['Marital_Status']==0.0]['Purchase'].mean() - (1.96 * df[df['Marital_Status']==0.0]['Purchase'].std())"
   ]
  },
  {
   "cell_type": "markdown",
   "id": "dd7b03dc-b685-43f5-8cb4-8af30474fd3e",
   "metadata": {},
   "source": [
    "Since there is an Overlap we cannot say if married or unmarried people spend more"
   ]
  },
  {
   "cell_type": "markdown",
   "id": "4ee81898-49d0-4637-ba44-d3fc75424be1",
   "metadata": {},
   "source": [
    "**Checking for 95% Confidence: Sample Sizes(300/3000)**"
   ]
  },
  {
   "cell_type": "code",
   "execution_count": 84,
   "id": "ea68f3ce-c6d1-4b1d-aa87-308f25ec4c65",
   "metadata": {},
   "outputs": [],
   "source": [
    "married_sample_mean = [df[df['Marital_Status']==1.0]['Purchase'].sample(300 , replace = True).mean() for i in range(5000)]"
   ]
  },
  {
   "cell_type": "code",
   "execution_count": 85,
   "id": "3e674a53-7693-415b-a682-c66f01fb9a0d",
   "metadata": {},
   "outputs": [],
   "source": [
    "unmarried_sample_mean = [df[df['Marital_Status']==0.0]['Purchase'].sample(300 , replace = True).mean() for i in range(5000)]"
   ]
  },
  {
   "cell_type": "code",
   "execution_count": 86,
   "id": "c86d3527-07b5-42fa-bea1-9ea65e9296e7",
   "metadata": {},
   "outputs": [
    {
     "data": {
      "text/plain": [
       "<seaborn.axisgrid.FacetGrid at 0x170a3c914f0>"
      ]
     },
     "execution_count": 86,
     "metadata": {},
     "output_type": "execute_result"
    },
    {
     "data": {
      "image/png": "[encoded data removed]",
      "text/plain": [
       "<Figure size 500x500 with 1 Axes>"
      ]
     },
     "metadata": {},
     "output_type": "display_data"
    }
   ],
   "source": [
    "sns.displot(married_sample_mean)"
   ]
  },
  {
   "cell_type": "code",
   "execution_count": 87,
   "id": "f4f8e3c5-f85e-4de5-acc2-dc1082de1a2a",
   "metadata": {},
   "outputs": [
    {
     "data": {
      "text/plain": [
       "<seaborn.axisgrid.FacetGrid at 0x170a5329490>"
      ]
     },
     "execution_count": 87,
     "metadata": {},
     "output_type": "execute_result"
    },
    {
     "data": {
      "image/png": "[encoded data removed]",
      "text/plain": [
       "<Figure size 500x500 with 1 Axes>"
      ]
     },
     "metadata": {},
     "output_type": "display_data"
    }
   ],
   "source": [
    "sns.displot(unmarried_sample_mean)"
   ]
  },
  {
   "cell_type": "code",
   "execution_count": 140,
   "id": "3f287579-321c-4c82-be6c-df3e566121fa",
   "metadata": {},
   "outputs": [
    {
     "name": "stdout",
     "output_type": "stream",
     "text": [
      "Married Confidence Interval based on sample size (300 with Replacement) for 5000 (iteration): \n"
     ]
    },
    {
     "data": {
      "text/plain": [
       "(9376.03129722067, 9112.773222903488)"
      ]
     },
     "execution_count": 140,
     "metadata": {},
     "output_type": "execute_result"
    }
   ],
   "source": [
    "print(\"Married Confidence Interval based on sample size (300 with Replacement) for 5000 (iteration): \")\n",
    "np.mean(married_sample_mean) + np.std(married_sample_mean) , np.mean(married_sample_mean) - (1.96 * np.std(married_sample_mean))"
   ]
  },
  {
   "cell_type": "code",
   "execution_count": 141,
   "id": "401ce6ef-3c10-41d2-982e-4dfc2fecc32b",
   "metadata": {},
   "outputs": [
    {
     "name": "stdout",
     "output_type": "stream",
     "text": [
      "Unmarried Confidence Interval based on sample size (300 with Replacement) for 5000 (iteration): \n"
     ]
    },
    {
     "data": {
      "text/plain": [
       "(9301.445164784547, 9034.509979859627)"
      ]
     },
     "execution_count": 141,
     "metadata": {},
     "output_type": "execute_result"
    }
   ],
   "source": [
    "print(\"Unmarried Confidence Interval based on sample size (300 with Replacement) for 5000 (iteration): \")\n",
    "np.mean(unmarried_sample_mean) + np.std(unmarried_sample_mean) , np.mean(unmarried_sample_mean) - (1.96 * np.std(unmarried_sample_mean))"
   ]
  },
  {
   "cell_type": "markdown",
   "id": "a43c7bfb-9236-4e88-8cd0-307dd83f440b",
   "metadata": {},
   "source": [
    "*Since there is an Overlap we cannot confirm if Marital_Status affects amount spend*"
   ]
  },
  {
   "cell_type": "code",
   "execution_count": 90,
   "id": "649c207e-7694-41b6-b5f7-86cb9d53e2fe",
   "metadata": {},
   "outputs": [],
   "source": [
    "married_sample_mean = [df[df['Marital_Status']==1.0]['Purchase'].sample(3000 , replace = True).mean() for i in range(5000)]"
   ]
  },
  {
   "cell_type": "code",
   "execution_count": 91,
   "id": "f2d6b19b-19b9-4507-93ae-d34001292d09",
   "metadata": {},
   "outputs": [],
   "source": [
    "unmarried_sample_mean = [df[df['Marital_Status']==0.0]['Purchase'].sample(3000 , replace = True).mean() for i in range(5000)]"
   ]
  },
  {
   "cell_type": "code",
   "execution_count": 92,
   "id": "5d98ae27-2e9c-4ffe-bc61-8ef7890385a3",
   "metadata": {},
   "outputs": [
    {
     "data": {
      "text/plain": [
       "<seaborn.axisgrid.FacetGrid at 0x170a3c74470>"
      ]
     },
     "execution_count": 92,
     "metadata": {},
     "output_type": "execute_result"
    },
    {
     "data": {
      "image/png": "[encoded data removed]",
      "text/plain": [
       "<Figure size 500x500 with 1 Axes>"
      ]
     },
     "metadata": {},
     "output_type": "display_data"
    }
   ],
   "source": [
    "sns.displot(married_sample_mean)"
   ]
  },
  {
   "cell_type": "code",
   "execution_count": 93,
   "id": "84dd5c52-6b06-48ea-a197-04808c3c4411",
   "metadata": {},
   "outputs": [
    {
     "data": {
      "text/plain": [
       "<seaborn.axisgrid.FacetGrid at 0x170aa212ff0>"
      ]
     },
     "execution_count": 93,
     "metadata": {},
     "output_type": "execute_result"
    },
    {
     "data": {
      "image/png": "[encoded data removed]",
      "text/plain": [
       "<Figure size 500x500 with 1 Axes>"
      ]
     },
     "metadata": {},
     "output_type": "display_data"
    }
   ],
   "source": [
    "sns.displot(unmarried_sample_mean)"
   ]
  },
  {
   "cell_type": "code",
   "execution_count": 143,
   "id": "53c49cf7-ab2a-430a-a97b-cbd1fbdb406a",
   "metadata": {},
   "outputs": [
    {
     "name": "stdout",
     "output_type": "stream",
     "text": [
      "Married Confidence Interval based on sample size (3000 with Replacement) for 5000 (iteration): \n"
     ]
    },
    {
     "data": {
      "text/plain": [
       "(9376.03129722067, 9112.773222903488)"
      ]
     },
     "execution_count": 143,
     "metadata": {},
     "output_type": "execute_result"
    }
   ],
   "source": [
    "print(\"Married Confidence Interval based on sample size (3000 with Replacement) for 5000 (iteration): \")\n",
    "np.mean(married_sample_mean) + np.std(married_sample_mean) , np.mean(married_sample_mean) - (1.96 * np.std(married_sample_mean))"
   ]
  },
  {
   "cell_type": "code",
   "execution_count": 142,
   "id": "9d774766-5b6d-4d38-ad8b-8952a903f325",
   "metadata": {},
   "outputs": [
    {
     "name": "stdout",
     "output_type": "stream",
     "text": [
      "Unmarried Confidence Interval based on sample size (3000 with Replacement) for 5000 (iteration): \n"
     ]
    },
    {
     "data": {
      "text/plain": [
       "(9301.445164784547, 9034.509979859627)"
      ]
     },
     "execution_count": 142,
     "metadata": {},
     "output_type": "execute_result"
    }
   ],
   "source": [
    "print(\"Unmarried Confidence Interval based on sample size (3000 with Replacement) for 5000 (iteration): \")\n",
    "np.mean(unmarried_sample_mean) + np.std(unmarried_sample_mean) , np.mean(unmarried_sample_mean) - (1.96 * np.std(unmarried_sample_mean))"
   ]
  },
  {
   "cell_type": "markdown",
   "id": "bfc2a002-ea96-4021-8b06-9daaacf7d0b8",
   "metadata": {},
   "source": [
    "**Since there is No Overlap we can confirm that the amount spend is not affecetd by the Marital_Status of the User.**"
   ]
  },
  {
   "cell_type": "markdown",
   "id": "bc72c386-5f59-4d9a-ae9c-ff16717dcf14",
   "metadata": {},
   "source": [
    "### How does Age affect the amount spent?"
   ]
  },
  {
   "cell_type": "code",
   "execution_count": 96,
   "id": "fd732773-a45d-474b-ae47-7f2a4843fb70",
   "metadata": {},
   "outputs": [
    {
     "data": {
      "text/html": [
       "<div>\n",
       "<style scoped>\n",
       "    .dataframe tbody tr th:only-of-type {\n",
       "        vertical-align: middle;\n",
       "    }\n",
       "\n",
       "    .dataframe tbody tr th {\n",
       "        vertical-align: top;\n",
       "    }\n",
       "\n",
       "    .dataframe thead th {\n",
       "        text-align: right;\n",
       "    }\n",
       "</style>\n",
       "<table border=\"1\" class=\"dataframe\">\n",
       "  <thead>\n",
       "    <tr style=\"text-align: right;\">\n",
       "      <th></th>\n",
       "      <th>User_ID</th>\n",
       "      <th>Product_ID</th>\n",
       "      <th>Gender</th>\n",
       "      <th>Age</th>\n",
       "      <th>Occupation</th>\n",
       "      <th>City_Category</th>\n",
       "      <th>Stay_In_Current_City_Years</th>\n",
       "      <th>Marital_Status</th>\n",
       "      <th>Product_Category</th>\n",
       "      <th>Purchase</th>\n",
       "    </tr>\n",
       "  </thead>\n",
       "  <tbody>\n",
       "    <tr>\n",
       "      <th>0</th>\n",
       "      <td>1000001</td>\n",
       "      <td>P00069042</td>\n",
       "      <td>F</td>\n",
       "      <td>0-17</td>\n",
       "      <td>10.0</td>\n",
       "      <td>A</td>\n",
       "      <td>2</td>\n",
       "      <td>0.0</td>\n",
       "      <td>3.0</td>\n",
       "      <td>8370.0</td>\n",
       "    </tr>\n",
       "    <tr>\n",
       "      <th>1</th>\n",
       "      <td>1000001</td>\n",
       "      <td>P00248942</td>\n",
       "      <td>F</td>\n",
       "      <td>0-17</td>\n",
       "      <td>10.0</td>\n",
       "      <td>A</td>\n",
       "      <td>2</td>\n",
       "      <td>0.0</td>\n",
       "      <td>1.0</td>\n",
       "      <td>15200.0</td>\n",
       "    </tr>\n",
       "    <tr>\n",
       "      <th>2</th>\n",
       "      <td>1000001</td>\n",
       "      <td>P00087842</td>\n",
       "      <td>F</td>\n",
       "      <td>0-17</td>\n",
       "      <td>10.0</td>\n",
       "      <td>A</td>\n",
       "      <td>2</td>\n",
       "      <td>0.0</td>\n",
       "      <td>12.0</td>\n",
       "      <td>1422.0</td>\n",
       "    </tr>\n",
       "    <tr>\n",
       "      <th>3</th>\n",
       "      <td>1000001</td>\n",
       "      <td>P00085442</td>\n",
       "      <td>F</td>\n",
       "      <td>0-17</td>\n",
       "      <td>10.0</td>\n",
       "      <td>A</td>\n",
       "      <td>2</td>\n",
       "      <td>0.0</td>\n",
       "      <td>12.0</td>\n",
       "      <td>1057.0</td>\n",
       "    </tr>\n",
       "    <tr>\n",
       "      <th>4</th>\n",
       "      <td>1000002</td>\n",
       "      <td>P00285442</td>\n",
       "      <td>M</td>\n",
       "      <td>55+</td>\n",
       "      <td>16.0</td>\n",
       "      <td>C</td>\n",
       "      <td>4+</td>\n",
       "      <td>0.0</td>\n",
       "      <td>8.0</td>\n",
       "      <td>7969.0</td>\n",
       "    </tr>\n",
       "  </tbody>\n",
       "</table>\n",
       "</div>"
      ],
      "text/plain": [
       "   User_ID Product_ID Gender   Age  Occupation City_Category  \\\n",
       "0  1000001  P00069042      F  0-17        10.0             A   \n",
       "1  1000001  P00248942      F  0-17        10.0             A   \n",
       "2  1000001  P00087842      F  0-17        10.0             A   \n",
       "3  1000001  P00085442      F  0-17        10.0             A   \n",
       "4  1000002  P00285442      M   55+        16.0             C   \n",
       "\n",
       "  Stay_In_Current_City_Years  Marital_Status  Product_Category  Purchase  \n",
       "0                          2             0.0               3.0    8370.0  \n",
       "1                          2             0.0               1.0   15200.0  \n",
       "2                          2             0.0              12.0    1422.0  \n",
       "3                          2             0.0              12.0    1057.0  \n",
       "4                         4+             0.0               8.0    7969.0  "
      ]
     },
     "execution_count": 96,
     "metadata": {},
     "output_type": "execute_result"
    }
   ],
   "source": [
    "df.head()"
   ]
  },
  {
   "cell_type": "code",
   "execution_count": 97,
   "id": "e64a2975-22c1-4e20-ad0d-49038b91aa7b",
   "metadata": {},
   "outputs": [
    {
     "data": {
      "text/plain": [
       "Age\n",
       "0-17      134\n",
       "18-25     673\n",
       "26-35    1167\n",
       "36-45     659\n",
       "46-50     273\n",
       "51-55     272\n",
       "55+       210\n",
       "Name: User_ID, dtype: int64"
      ]
     },
     "execution_count": 97,
     "metadata": {},
     "output_type": "execute_result"
    }
   ],
   "source": [
    "df.groupby('Age')['User_ID'].nunique()"
   ]
  },
  {
   "cell_type": "code",
   "execution_count": 98,
   "id": "e6a74e84-3461-4253-bfb7-918180156993",
   "metadata": {},
   "outputs": [
    {
     "data": {
      "text/html": [
       "<div>\n",
       "<style scoped>\n",
       "    .dataframe tbody tr th:only-of-type {\n",
       "        vertical-align: middle;\n",
       "    }\n",
       "\n",
       "    .dataframe tbody tr th {\n",
       "        vertical-align: top;\n",
       "    }\n",
       "\n",
       "    .dataframe thead th {\n",
       "        text-align: right;\n",
       "    }\n",
       "</style>\n",
       "<table border=\"1\" class=\"dataframe\">\n",
       "  <thead>\n",
       "    <tr style=\"text-align: right;\">\n",
       "      <th></th>\n",
       "      <th>count</th>\n",
       "      <th>mean</th>\n",
       "      <th>std</th>\n",
       "      <th>min</th>\n",
       "      <th>25%</th>\n",
       "      <th>50%</th>\n",
       "      <th>75%</th>\n",
       "      <th>max</th>\n",
       "    </tr>\n",
       "    <tr>\n",
       "      <th>Age</th>\n",
       "      <th></th>\n",
       "      <th></th>\n",
       "      <th></th>\n",
       "      <th></th>\n",
       "      <th></th>\n",
       "      <th></th>\n",
       "      <th></th>\n",
       "      <th></th>\n",
       "    </tr>\n",
       "  </thead>\n",
       "  <tbody>\n",
       "    <tr>\n",
       "      <th>0-17</th>\n",
       "      <td>699.0</td>\n",
       "      <td>8973.606581</td>\n",
       "      <td>5029.623861</td>\n",
       "      <td>724.0</td>\n",
       "      <td>5361.50</td>\n",
       "      <td>7974.0</td>\n",
       "      <td>11931.50</td>\n",
       "      <td>23562.0</td>\n",
       "    </tr>\n",
       "    <tr>\n",
       "      <th>18-25</th>\n",
       "      <td>5100.0</td>\n",
       "      <td>9159.605686</td>\n",
       "      <td>4988.224069</td>\n",
       "      <td>347.0</td>\n",
       "      <td>5410.75</td>\n",
       "      <td>8030.5</td>\n",
       "      <td>12021.25</td>\n",
       "      <td>23889.0</td>\n",
       "    </tr>\n",
       "    <tr>\n",
       "      <th>26-35</th>\n",
       "      <td>9826.0</td>\n",
       "      <td>9251.373194</td>\n",
       "      <td>4956.597132</td>\n",
       "      <td>189.0</td>\n",
       "      <td>5720.25</td>\n",
       "      <td>8041.5</td>\n",
       "      <td>12001.75</td>\n",
       "      <td>23913.0</td>\n",
       "    </tr>\n",
       "    <tr>\n",
       "      <th>36-45</th>\n",
       "      <td>4839.0</td>\n",
       "      <td>9257.016326</td>\n",
       "      <td>4911.226845</td>\n",
       "      <td>205.0</td>\n",
       "      <td>5878.50</td>\n",
       "      <td>8033.0</td>\n",
       "      <td>11985.50</td>\n",
       "      <td>23929.0</td>\n",
       "    </tr>\n",
       "    <tr>\n",
       "      <th>46-50</th>\n",
       "      <td>1844.0</td>\n",
       "      <td>9286.909436</td>\n",
       "      <td>4758.498542</td>\n",
       "      <td>186.0</td>\n",
       "      <td>6035.00</td>\n",
       "      <td>8048.5</td>\n",
       "      <td>11992.75</td>\n",
       "      <td>23824.0</td>\n",
       "    </tr>\n",
       "    <tr>\n",
       "      <th>51-55</th>\n",
       "      <td>1738.0</td>\n",
       "      <td>9459.326812</td>\n",
       "      <td>5036.403156</td>\n",
       "      <td>347.0</td>\n",
       "      <td>5993.75</td>\n",
       "      <td>8087.5</td>\n",
       "      <td>12201.75</td>\n",
       "      <td>23912.0</td>\n",
       "    </tr>\n",
       "    <tr>\n",
       "      <th>55+</th>\n",
       "      <td>990.0</td>\n",
       "      <td>9197.534343</td>\n",
       "      <td>4684.355322</td>\n",
       "      <td>399.0</td>\n",
       "      <td>6039.00</td>\n",
       "      <td>8105.5</td>\n",
       "      <td>11468.00</td>\n",
       "      <td>23958.0</td>\n",
       "    </tr>\n",
       "  </tbody>\n",
       "</table>\n",
       "</div>"
      ],
      "text/plain": [
       "        count         mean          std    min      25%     50%       75%  \\\n",
       "Age                                                                         \n",
       "0-17    699.0  8973.606581  5029.623861  724.0  5361.50  7974.0  11931.50   \n",
       "18-25  5100.0  9159.605686  4988.224069  347.0  5410.75  8030.5  12021.25   \n",
       "26-35  9826.0  9251.373194  4956.597132  189.0  5720.25  8041.5  12001.75   \n",
       "36-45  4839.0  9257.016326  4911.226845  205.0  5878.50  8033.0  11985.50   \n",
       "46-50  1844.0  9286.909436  4758.498542  186.0  6035.00  8048.5  11992.75   \n",
       "51-55  1738.0  9459.326812  5036.403156  347.0  5993.75  8087.5  12201.75   \n",
       "55+     990.0  9197.534343  4684.355322  399.0  6039.00  8105.5  11468.00   \n",
       "\n",
       "           max  \n",
       "Age             \n",
       "0-17   23562.0  \n",
       "18-25  23889.0  \n",
       "26-35  23913.0  \n",
       "36-45  23929.0  \n",
       "46-50  23824.0  \n",
       "51-55  23912.0  \n",
       "55+    23958.0  "
      ]
     },
     "execution_count": 98,
     "metadata": {},
     "output_type": "execute_result"
    }
   ],
   "source": [
    "df.groupby('Age')['Purchase'].describe()"
   ]
  },
  {
   "cell_type": "code",
   "execution_count": 99,
   "id": "7c6bfd1b-3739-41d2-b708-62be067fb502",
   "metadata": {},
   "outputs": [
    {
     "data": {
      "text/plain": [
       "<seaborn.axisgrid.FacetGrid at 0x170a48b0080>"
      ]
     },
     "execution_count": 99,
     "metadata": {},
     "output_type": "execute_result"
    },
    {
     "data": {
      "image/png": "[encoded data removed]",
      "text/plain": [
       "<Figure size 590.375x500 with 1 Axes>"
      ]
     },
     "metadata": {},
     "output_type": "display_data"
    }
   ],
   "source": [
    "sns.displot(x=df['Purchase'] , data = df , hue=df['Age'])"
   ]
  },
  {
   "cell_type": "markdown",
   "id": "cdb5e474-d21e-4002-b6a9-99f4494329c9",
   "metadata": {},
   "source": [
    "**Checking for 95% Confidence based on sample data if Age affect Amount spent**\n",
    "\n",
    "*(The z-score for a 95% confidence interval is 1.96.)*"
   ]
  },
  {
   "cell_type": "code",
   "execution_count": 100,
   "id": "c6d73fc5-d03c-45f1-a487-8cdf15b00fab",
   "metadata": {},
   "outputs": [
    {
     "name": "stdout",
     "output_type": "stream",
     "text": [
      "Age (0-17) Confidence Interval based on sample data: \n"
     ]
    },
    {
     "data": {
      "text/plain": [
       "(18831.66934866266, -884.4561870031466)"
      ]
     },
     "execution_count": 100,
     "metadata": {},
     "output_type": "execute_result"
    }
   ],
   "source": [
    "print(\"Age (0-17) Confidence Interval based on sample data: \")\n",
    "df[df['Age']=='0-17']['Purchase'].mean() + (1.96 * df[df['Age']=='0-17']['Purchase'].std()) , df[df['Age']=='0-17']['Purchase'].mean() - (1.96 * df[df['Age']=='0-17']['Purchase'].std())"
   ]
  },
  {
   "cell_type": "code",
   "execution_count": 101,
   "id": "7515a9b4-1b3a-42d8-a217-c077dd44b5a6",
   "metadata": {},
   "outputs": [
    {
     "name": "stdout",
     "output_type": "stream",
     "text": [
      "Age (18-25) Confidence Interval based on sample data: \n"
     ]
    },
    {
     "data": {
      "text/plain": [
       "(18936.524861144164, -617.3134885951422)"
      ]
     },
     "execution_count": 101,
     "metadata": {},
     "output_type": "execute_result"
    }
   ],
   "source": [
    "print(\"Age (18-25) Confidence Interval based on sample data: \")\n",
    "df[df['Age']=='18-25']['Purchase'].mean() + (1.96 * df[df['Age']=='18-25']['Purchase'].std()) , df[df['Age']=='18-25']['Purchase'].mean() - (1.96 * df[df['Age']=='18-25']['Purchase'].std())"
   ]
  },
  {
   "cell_type": "code",
   "execution_count": 102,
   "id": "64dbbe8b-aa3f-45f0-97ed-28a69c4e4087",
   "metadata": {},
   "outputs": [
    {
     "name": "stdout",
     "output_type": "stream",
     "text": [
      "Age (26-35) Confidence Interval based on sample data: \n"
     ]
    },
    {
     "data": {
      "text/plain": [
       "(18966.303572420104, -463.55718528393663)"
      ]
     },
     "execution_count": 102,
     "metadata": {},
     "output_type": "execute_result"
    }
   ],
   "source": [
    "print(\"Age (26-35) Confidence Interval based on sample data: \")\n",
    "df[df['Age']=='26-35']['Purchase'].mean() + (1.96 * df[df['Age']=='26-35']['Purchase'].std()) , df[df['Age']=='26-35']['Purchase'].mean() - (1.96 * df[df['Age']=='26-35']['Purchase'].std())"
   ]
  },
  {
   "cell_type": "code",
   "execution_count": 103,
   "id": "64cc84dc-c0e2-45fd-a8be-576ad3bab1c7",
   "metadata": {},
   "outputs": [
    {
     "name": "stdout",
     "output_type": "stream",
     "text": [
      "Age (36-45) Confidence Interval based on sample data: \n"
     ]
    },
    {
     "data": {
      "text/plain": [
       "(18883.020941326227, -368.98828995197437)"
      ]
     },
     "execution_count": 103,
     "metadata": {},
     "output_type": "execute_result"
    }
   ],
   "source": [
    "print(\"Age (36-45) Confidence Interval based on sample data: \")\n",
    "df[df['Age']=='36-45']['Purchase'].mean() + (1.96 * df[df['Age']=='36-45']['Purchase'].std()) , df[df['Age']=='36-45']['Purchase'].mean() - (1.96 * df[df['Age']=='36-45']['Purchase'].std())"
   ]
  },
  {
   "cell_type": "code",
   "execution_count": 104,
   "id": "fb47537a-cb4f-4169-9f7a-0294851938fa",
   "metadata": {},
   "outputs": [
    {
     "name": "stdout",
     "output_type": "stream",
     "text": [
      "Age (46-50) Confidence Interval based on sample data: \n"
     ]
    },
    {
     "data": {
      "text/plain": [
       "(18613.566577456557, -39.747705439205674)"
      ]
     },
     "execution_count": 104,
     "metadata": {},
     "output_type": "execute_result"
    }
   ],
   "source": [
    "print(\"Age (46-50) Confidence Interval based on sample data: \")\n",
    "df[df['Age']=='46-50']['Purchase'].mean() + (1.96 * df[df['Age']=='46-50']['Purchase'].std()) , df[df['Age']=='46-50']['Purchase'].mean() - (1.96 * df[df['Age']=='46-50']['Purchase'].std())"
   ]
  },
  {
   "cell_type": "code",
   "execution_count": 105,
   "id": "32688e79-4540-4b9e-a38b-1043fbd3adf3",
   "metadata": {},
   "outputs": [
    {
     "name": "stdout",
     "output_type": "stream",
     "text": [
      "Age (51-55) Confidence Interval based on sample data: \n"
     ]
    },
    {
     "data": {
      "text/plain": [
       "(19330.6769988631, -412.0233740069398)"
      ]
     },
     "execution_count": 105,
     "metadata": {},
     "output_type": "execute_result"
    }
   ],
   "source": [
    "print(\"Age (51-55) Confidence Interval based on sample data: \")\n",
    "df[df['Age']=='51-55']['Purchase'].mean() + (1.96 * df[df['Age']=='51-55']['Purchase'].std()) , df[df['Age']=='51-55']['Purchase'].mean() - (1.96 * df[df['Age']=='51-55']['Purchase'].std())"
   ]
  },
  {
   "cell_type": "code",
   "execution_count": 106,
   "id": "81546418-5750-421d-93c1-76185b64cc47",
   "metadata": {},
   "outputs": [
    {
     "name": "stdout",
     "output_type": "stream",
     "text": [
      "Age (55+) Confidence Interval based on sample data: \n"
     ]
    },
    {
     "data": {
      "text/plain": [
       "(18378.870774172065, 16.197912696619824)"
      ]
     },
     "execution_count": 106,
     "metadata": {},
     "output_type": "execute_result"
    }
   ],
   "source": [
    "print(\"Age (55+) Confidence Interval based on sample data: \")\n",
    "df[df['Age']=='55+']['Purchase'].mean() + (1.96 * df[df['Age']=='55+']['Purchase'].std()) , df[df['Age']=='55+']['Purchase'].mean() - (1.96 * df[df['Age']=='55+']['Purchase'].std())"
   ]
  },
  {
   "cell_type": "markdown",
   "id": "2a42ab2d-910f-4334-af8c-816c654cc2da",
   "metadata": {},
   "source": [
    "Since there is an Overlap we cannot confirm if any particular age group is spending more."
   ]
  },
  {
   "cell_type": "markdown",
   "id": "6594011c-e8bc-4f6a-bc29-a17d0d270688",
   "metadata": {},
   "source": [
    "**Checking for 95% Confidence: Sample Sizes(300/3000)**"
   ]
  },
  {
   "cell_type": "code",
   "execution_count": 107,
   "id": "4ccb0488-81da-4386-8564-7e40bbfe9edb",
   "metadata": {},
   "outputs": [],
   "source": [
    "age0_17_mean_sample = [df[df['Age']=='0-17']['Purchase'].sample(300 , replace= True).mean() for i in range(5000)]"
   ]
  },
  {
   "cell_type": "code",
   "execution_count": 108,
   "id": "0a145601-966d-43fc-b9ae-a258be662f3c",
   "metadata": {},
   "outputs": [],
   "source": [
    "age18_25_mean_sample = [df[df['Age']=='18-25']['Purchase'].sample(300 , replace= True).mean() for i in range(5000)]"
   ]
  },
  {
   "cell_type": "code",
   "execution_count": 109,
   "id": "386540ad-fa5a-4181-806e-65e8401b6702",
   "metadata": {},
   "outputs": [],
   "source": [
    "age26_35_mean_sample = [df[df['Age']=='26-35']['Purchase'].sample(300 , replace= True).mean() for i in range(5000)]"
   ]
  },
  {
   "cell_type": "code",
   "execution_count": 110,
   "id": "f5cd0ccc-dbc3-4997-b6ff-e3f10d3b3ac6",
   "metadata": {},
   "outputs": [],
   "source": [
    "age36_45_mean_sample = [df[df['Age']=='36-45']['Purchase'].sample(300 , replace= True).mean() for i in range(5000)]"
   ]
  },
  {
   "cell_type": "code",
   "execution_count": 111,
   "id": "7fb4802e-f6a6-488e-ad43-85c388f90f83",
   "metadata": {},
   "outputs": [],
   "source": [
    "age46_50_mean_sample = [df[df['Age']=='46-50']['Purchase'].sample(300 , replace= True).mean() for i in range(5000)]"
   ]
  },
  {
   "cell_type": "code",
   "execution_count": 112,
   "id": "32d4373e-c8c2-4ae2-ba45-f1e25e94682a",
   "metadata": {},
   "outputs": [],
   "source": [
    "age51_55_mean_sample = [df[df['Age']=='51-55']['Purchase'].sample(300 , replace= True).mean() for i in range(5000)]"
   ]
  },
  {
   "cell_type": "code",
   "execution_count": 113,
   "id": "edba3756-feef-4970-8bfe-88c1bafae1b2",
   "metadata": {},
   "outputs": [],
   "source": [
    "age_55plus_mean_sample = [df[df['Age']=='55+']['Purchase'].sample(300 , replace= True).mean() for i in range(5000)]"
   ]
  },
  {
   "cell_type": "code",
   "execution_count": 144,
   "id": "279e0789-4e3d-4754-8b26-ae2cb51cd5d0",
   "metadata": {},
   "outputs": [
    {
     "name": "stdout",
     "output_type": "stream",
     "text": [
      "Age - (0-17) Confidence Interval based on sample size (300 with Replacement) for 5000 (iteration): \n"
     ]
    },
    {
     "data": {
      "text/plain": [
       "(9066.403800815116, 8792.321874189038)"
      ]
     },
     "execution_count": 144,
     "metadata": {},
     "output_type": "execute_result"
    }
   ],
   "source": [
    "print(\"Age - (0-17) Confidence Interval based on sample size (300 with Replacement) for 5000 (iteration): \")\n",
    "np.mean(age0_17_mean_sample) + np.std(age0_17_mean_sample) , np.mean(age0_17_mean_sample) - (1.96 * np.std(age0_17_mean_sample))"
   ]
  },
  {
   "cell_type": "code",
   "execution_count": 145,
   "id": "446fe482-cd1a-4745-8f87-9827b4dc8fab",
   "metadata": {},
   "outputs": [
    {
     "name": "stdout",
     "output_type": "stream",
     "text": [
      "Age - (18-25) Confidence Interval based on sample size (300 with Replacement) for 5000 (iteration): \n"
     ]
    },
    {
     "data": {
      "text/plain": [
       "(9252.498807129263, 8983.847361679978)"
      ]
     },
     "execution_count": 145,
     "metadata": {},
     "output_type": "execute_result"
    }
   ],
   "source": [
    "print(\"Age - (18-25) Confidence Interval based on sample size (300 with Replacement) for 5000 (iteration): \")\n",
    "np.mean(age18_25_mean_sample) + np.std(age18_25_mean_sample) , np.mean(age18_25_mean_sample) - (1.96 * np.std(age18_25_mean_sample))"
   ]
  },
  {
   "cell_type": "code",
   "execution_count": 146,
   "id": "88379057-0f84-4dda-9657-30d0d5a72318",
   "metadata": {},
   "outputs": [
    {
     "name": "stdout",
     "output_type": "stream",
     "text": [
      "Age - (26-35) Confidence Interval based on sample size (300 with Replacement) for 5000 (iteration): \n"
     ]
    },
    {
     "data": {
      "text/plain": [
       "(9343.212748223194, 9074.063318607878)"
      ]
     },
     "execution_count": 146,
     "metadata": {},
     "output_type": "execute_result"
    }
   ],
   "source": [
    "print(\"Age - (26-35) Confidence Interval based on sample size (300 with Replacement) for 5000 (iteration): \")\n",
    "np.mean(age26_35_mean_sample) + np.std(age26_35_mean_sample) , np.mean(age26_35_mean_sample) - (1.96 * np.std(age26_35_mean_sample))"
   ]
  },
  {
   "cell_type": "code",
   "execution_count": 147,
   "id": "0fbe8051-3024-419f-a504-c7e15d1fe49c",
   "metadata": {},
   "outputs": [
    {
     "name": "stdout",
     "output_type": "stream",
     "text": [
      "Age - (36-45) Confidence Interval based on sample size (300 with Replacement) for 5000 (iteration): \n"
     ]
    },
    {
     "data": {
      "text/plain": [
       "(9540.184170397608, 8689.037365060687)"
      ]
     },
     "execution_count": 147,
     "metadata": {},
     "output_type": "execute_result"
    }
   ],
   "source": [
    "print(\"Age - (36-45) Confidence Interval based on sample size (300 with Replacement) for 5000 (iteration): \")\n",
    "np.mean(age36_45_mean_sample) + np.std(age36_45_mean_sample) , np.mean(age36_45_mean_sample) - (1.96 * np.std(age36_45_mean_sample))"
   ]
  },
  {
   "cell_type": "code",
   "execution_count": 148,
   "id": "1b675333-d51d-48d4-97bc-9ab536de9ada",
   "metadata": {},
   "outputs": [
    {
     "name": "stdout",
     "output_type": "stream",
     "text": [
      "Age - (46-50) Confidence Interval based on sample size (300 with Replacement) for 5000 (iteration): \n"
     ]
    },
    {
     "data": {
      "text/plain": [
       "(9371.532955858369, 9121.897156037596)"
      ]
     },
     "execution_count": 148,
     "metadata": {},
     "output_type": "execute_result"
    }
   ],
   "source": [
    "print(\"Age - (46-50) Confidence Interval based on sample size (300 with Replacement) for 5000 (iteration): \")\n",
    "np.mean(age46_50_mean_sample) + np.std(age46_50_mean_sample) , np.mean(age46_50_mean_sample) - (1.96 * np.std(age46_50_mean_sample))"
   ]
  },
  {
   "cell_type": "code",
   "execution_count": 149,
   "id": "b06b9d40-4522-46e5-82ca-696b0eb0b57f",
   "metadata": {},
   "outputs": [
    {
     "name": "stdout",
     "output_type": "stream",
     "text": [
      "Age - (51-55) Confidence Interval based on sample size (300 with Replacement) for 5000 (iteration): \n"
     ]
    },
    {
     "data": {
      "text/plain": [
       "(9548.830897920929, 9278.237923376315)"
      ]
     },
     "execution_count": 149,
     "metadata": {},
     "output_type": "execute_result"
    }
   ],
   "source": [
    "print(\"Age - (51-55) Confidence Interval based on sample size (300 with Replacement) for 5000 (iteration): \")\n",
    "np.mean(age51_55_mean_sample) + np.std(age51_55_mean_sample) , np.mean(age51_55_mean_sample) - (1.96 * np.std(age51_55_mean_sample))"
   ]
  },
  {
   "cell_type": "code",
   "execution_count": 150,
   "id": "60a265b2-096c-48c2-b9d5-bfee8a9144b8",
   "metadata": {},
   "outputs": [
    {
     "name": "stdout",
     "output_type": "stream",
     "text": [
      "Age - (55+) Confidence Interval based on sample size (300 with Replacement) for 5000 (iteration): \n"
     ]
    },
    {
     "data": {
      "text/plain": [
       "(9467.13724537968, 8677.932010842498)"
      ]
     },
     "execution_count": 150,
     "metadata": {},
     "output_type": "execute_result"
    }
   ],
   "source": [
    "print(\"Age - (55+) Confidence Interval based on sample size (300 with Replacement) for 5000 (iteration): \")\n",
    "np.mean(age_55plus_mean_sample) + np.std(age_55plus_mean_sample) , np.mean(age_55plus_mean_sample) - (1.96 * np.std(age_55plus_mean_sample))"
   ]
  },
  {
   "cell_type": "code",
   "execution_count": 121,
   "id": "2032d99d-c265-43b2-8bd8-57caeaa423ad",
   "metadata": {},
   "outputs": [],
   "source": [
    "age0_17_mean_sample = [df[df['Age']=='0-17']['Purchase'].sample(3000 , replace= True).mean() for i in range(5000)]"
   ]
  },
  {
   "cell_type": "code",
   "execution_count": 151,
   "id": "0722626e-31ae-46f3-9d3e-3314203a11dc",
   "metadata": {},
   "outputs": [
    {
     "name": "stdout",
     "output_type": "stream",
     "text": [
      "Age - (0-17) Confidence Interval based on sample size (3000 with Replacement) for 5000 (iteration): \n"
     ]
    },
    {
     "data": {
      "text/plain": [
       "(9066.403800815116, 8792.321874189038)"
      ]
     },
     "execution_count": 151,
     "metadata": {},
     "output_type": "execute_result"
    }
   ],
   "source": [
    "print(\"Age - (0-17) Confidence Interval based on sample size (3000 with Replacement) for 5000 (iteration): \")\n",
    "np.mean(age0_17_mean_sample) + np.std(age0_17_mean_sample) , np.mean(age0_17_mean_sample) - (1.96 * np.std(age0_17_mean_sample))"
   ]
  },
  {
   "cell_type": "code",
   "execution_count": 123,
   "id": "eaaeb710-5350-4dc5-8cf6-0645d95ef503",
   "metadata": {},
   "outputs": [],
   "source": [
    "age18_25_mean_sample = [df[df['Age']=='18-25']['Purchase'].sample(3000 , replace= True).mean() for i in range(5000)]"
   ]
  },
  {
   "cell_type": "code",
   "execution_count": 152,
   "id": "ead74fae-d19e-4f15-88c6-022e67b0717f",
   "metadata": {},
   "outputs": [
    {
     "name": "stdout",
     "output_type": "stream",
     "text": [
      "Age - (18-25) Confidence Interval based on sample size (3000 with Replacement) for 5000 (iteration): \n"
     ]
    },
    {
     "data": {
      "text/plain": [
       "(9252.498807129263, 8983.847361679978)"
      ]
     },
     "execution_count": 152,
     "metadata": {},
     "output_type": "execute_result"
    }
   ],
   "source": [
    "print(\"Age - (18-25) Confidence Interval based on sample size (3000 with Replacement) for 5000 (iteration): \")\n",
    "np.mean(age18_25_mean_sample) + np.std(age18_25_mean_sample) , np.mean(age18_25_mean_sample) - (1.96 * np.std(age18_25_mean_sample))"
   ]
  },
  {
   "cell_type": "code",
   "execution_count": 125,
   "id": "50023dfb-2d6d-4999-b026-b431a551de33",
   "metadata": {},
   "outputs": [],
   "source": [
    "age26_35_mean_sample = [df[df['Age']=='26-35']['Purchase'].sample(3000 , replace= True).mean() for i in range(5000)]"
   ]
  },
  {
   "cell_type": "code",
   "execution_count": 153,
   "id": "54ab8d75-bb14-4264-92e9-cbb49f5e2968",
   "metadata": {},
   "outputs": [
    {
     "name": "stdout",
     "output_type": "stream",
     "text": [
      "Age - (26-35) Confidence Interval based on sample size (3000 with Replacement) for 5000 (iteration): \n"
     ]
    },
    {
     "data": {
      "text/plain": [
       "(9343.212748223194, 9074.063318607878)"
      ]
     },
     "execution_count": 153,
     "metadata": {},
     "output_type": "execute_result"
    }
   ],
   "source": [
    "print(\"Age - (26-35) Confidence Interval based on sample size (3000 with Replacement) for 5000 (iteration): \")\n",
    "np.mean(age26_35_mean_sample) + np.std(age26_35_mean_sample) , np.mean(age26_35_mean_sample) - (1.96 * np.std(age26_35_mean_sample))"
   ]
  },
  {
   "cell_type": "code",
   "execution_count": 127,
   "id": "b794de8b-987a-4c6f-b74c-1f4824c9827f",
   "metadata": {},
   "outputs": [],
   "source": [
    "age36_45_mean_sample = [df[df['Age']=='36-45']['Purchase'].sample(3000 , replace= True).mean() for i in range(5000)]"
   ]
  },
  {
   "cell_type": "code",
   "execution_count": 154,
   "id": "fa0d2fa0-3a65-488c-b18b-66caa0618062",
   "metadata": {},
   "outputs": [
    {
     "name": "stdout",
     "output_type": "stream",
     "text": [
      "Age - (36-45) Confidence Interval based on sample size (3000 with Replacement) for 5000 (iteration): \n"
     ]
    },
    {
     "data": {
      "text/plain": [
       "(9540.184170397608, 8689.037365060687)"
      ]
     },
     "execution_count": 154,
     "metadata": {},
     "output_type": "execute_result"
    }
   ],
   "source": [
    "print(\"Age - (36-45) Confidence Interval based on sample size (3000 with Replacement) for 5000 (iteration): \")\n",
    "np.mean(age36_45_mean_sample) + np.std(age36_45_mean_sample) , np.mean(age36_45_mean_sample) - (1.96 * np.std(age36_45_mean_sample))"
   ]
  },
  {
   "cell_type": "code",
   "execution_count": 129,
   "id": "fe24a1e1-7d87-42f5-b07a-09f978d9c40d",
   "metadata": {},
   "outputs": [],
   "source": [
    "age46_50_mean_sample = [df[df['Age']=='46-50']['Purchase'].sample(3000 , replace= True).mean() for i in range(5000)]"
   ]
  },
  {
   "cell_type": "code",
   "execution_count": 155,
   "id": "ba53e144-f02a-4ee0-94ba-59c40a4d399c",
   "metadata": {},
   "outputs": [
    {
     "name": "stdout",
     "output_type": "stream",
     "text": [
      "Age - (46-50) Confidence Interval based on sample size (3000 with Replacement) for 5000 (iteration): \n"
     ]
    },
    {
     "data": {
      "text/plain": [
       "(9371.532955858369, 9121.897156037596)"
      ]
     },
     "execution_count": 155,
     "metadata": {},
     "output_type": "execute_result"
    }
   ],
   "source": [
    "print(\"Age - (46-50) Confidence Interval based on sample size (3000 with Replacement) for 5000 (iteration): \")\n",
    "np.mean(age46_50_mean_sample) + np.std(age46_50_mean_sample) , np.mean(age46_50_mean_sample) - (1.96 * np.std(age46_50_mean_sample))"
   ]
  },
  {
   "cell_type": "code",
   "execution_count": 131,
   "id": "8ba51d87-82c1-4620-a55a-3a2015f357c0",
   "metadata": {},
   "outputs": [],
   "source": [
    "age51_55_mean_sample = [df[df['Age']=='51-55']['Purchase'].sample(3000 , replace= True).mean() for i in range(5000)]"
   ]
  },
  {
   "cell_type": "code",
   "execution_count": 156,
   "id": "ef0c86af-f0d6-4227-8192-a716ae67f521",
   "metadata": {},
   "outputs": [
    {
     "name": "stdout",
     "output_type": "stream",
     "text": [
      "Age - (51-55) Confidence Interval based on sample size (3000 with Replacement) for 5000 (iteration): \n"
     ]
    },
    {
     "data": {
      "text/plain": [
       "(9548.830897920929, 9278.237923376315)"
      ]
     },
     "execution_count": 156,
     "metadata": {},
     "output_type": "execute_result"
    }
   ],
   "source": [
    "print(\"Age - (51-55) Confidence Interval based on sample size (3000 with Replacement) for 5000 (iteration): \")\n",
    "np.mean(age51_55_mean_sample) + np.std(age51_55_mean_sample) , np.mean(age51_55_mean_sample) - (1.96 * np.std(age51_55_mean_sample))"
   ]
  },
  {
   "cell_type": "code",
   "execution_count": 133,
   "id": "f0d23d21-655a-44dd-87be-b4009aec04cd",
   "metadata": {},
   "outputs": [],
   "source": [
    "age_55plus_mean_sample = [df[df['Age']=='55+']['Purchase'].sample(3000 , replace= True).mean() for i in range(5000)]"
   ]
  },
  {
   "cell_type": "code",
   "execution_count": 157,
   "id": "bba36f32-4b71-4ffc-baa1-a445c9270052",
   "metadata": {},
   "outputs": [
    {
     "name": "stdout",
     "output_type": "stream",
     "text": [
      "Age - (55+) Confidence Interval based on sample size (3000 with Replacement) for 5000 (iteration): \n"
     ]
    },
    {
     "data": {
      "text/plain": [
       "(9467.13724537968, 8677.932010842498)"
      ]
     },
     "execution_count": 157,
     "metadata": {},
     "output_type": "execute_result"
    }
   ],
   "source": [
    "print(\"Age - (55+) Confidence Interval based on sample size (3000 with Replacement) for 5000 (iteration): \")\n",
    "np.mean(age_55plus_mean_sample) + np.std(age_55plus_mean_sample) , np.mean(age_55plus_mean_sample) - (1.96 * np.std(age_55plus_mean_sample))"
   ]
  },
  {
   "cell_type": "markdown",
   "id": "8fc50398-14af-4441-8fc3-7ef80f6264b3",
   "metadata": {},
   "source": [
    "From the above experiment we cannot confirm clearly users Age that spend the most"
   ]
  },
  {
   "cell_type": "markdown",
   "id": "f88a9f4e-d622-41dc-a895-335f9429d099",
   "metadata": {},
   "source": [
    "## Recommendations :"
   ]
  },
  {
   "cell_type": "markdown",
   "id": "e68535d7-987c-4bd7-829c-245da5adf031",
   "metadata": {},
   "source": [
    "We could observe with the sample data given that mean Product category for users throughout the Age Group is 5.<br>\n",
    "Also we could observe certain outliers with Age 55+ when doin Bi-Variate Analysis.(Product Category Vs. Age\n",
    "<br>\n",
    "\n",
    "\r\n",
    "We could observe similar tends when doing Bi-Variate Analysis for Product Category Vs. Gend<br>r. The Mean category w5s 9 and some outliers were observed for Female User<br>\n",
    ".\r\n",
    "\r\n",
    "When conducting Multivariate Analysis (Age Vs. Purchase Vs. Marital_Status) we observed that the amount spent by Married Individual were similar to Unmarried/Other us<br>\n",
    "- rs.\r\n",
    "\r\n",
    "To Check if there was any relation with the purchase amount Vs. gender we did experiments with (300/3000) sample size(users) and could see that since there is no Overlap in the Limits and clearly we can see that the Amount spend by M is more <br>h    - at F.\r\n",
    "\r\n",
    "Male Confidence Interval based on sample size (3000 with Replacement) for 5000 (iteation): \r\n",
    "(9490.84 1383769002, 9220.354<br>3    - 3226091)\r\n",
    "\r\n",
    "Female Confidence Interval based on sample size (3000 with Replacement) for 5000 (teration): \r\n",
    "(8815 .297047888433, 8564<br>.<br>90100157867)\r\n",
    "\r\n",
    "Sadly we could not observe any such patterns among the Marital_Status Vs. Purchase analysis. As the Critical values obtained from the  maple data and by bootstrapping for  00/3000 users.\r\n",
    "We could see <br>c- lear overlaps.\r\n",
    "\r\n",
    "From the above experiment we cannot confirm clearly users Age tht spend the most.\r\n",
    "However we have observed high critical values for different age groups with little stan<br>r     - d deviation like \r\n",
    "\r\n",
    "Age - (26-35) Confidence Interval based on sample size (3000 with Replacement) fr 5000 (iteration) : \r\n",
    "(9343.2127482231<br>4     - , 9074.063318607878)\r\n",
    "\r\n",
    "Age - (46-50) Confidence Interval based on sample size (3000 with Replacement for 5000 (iterati on): \r\n",
    "(9371.5329558<br>8     - 369, 9121.897156037596)\r\n",
    "\r\n",
    "Age - (51-55) Confidence Interval based on sample size (3000 with Replacemnt) for 5000 (iter ation): \r\n",
    "(9548.8308<br>\n",
    "9<br>\n",
    "<br>\n",
    "7**920929, 9278.237923376315)\r\n",
    "\r\n",
    "We can recommed the Business team to focus on Prioritizing Male users as they end up spending more during Black Friday Sales.\r\n",
    "Also the Business team can hook on different age groups that hive high spending.**threshold like mentioned above."
   ]
  },
  {
   "cell_type": "code",
   "execution_count": null,
   "id": "4eca12ba-3ba4-44c0-af30-ea4a30a298a2",
   "metadata": {},
   "outputs": [],
   "source": []
  }
 ],
 "metadata": {
  "kernelspec": {
   "display_name": "Python 3 (ipykernel)",
   "language": "python",
   "name": "python3"
  },
  "language_info": {
   "codemirror_mode": {
    "name": "ipython",
    "version": 3
   },
   "file_extension": ".py",
   "mimetype": "text/x-python",
   "name": "python",
   "nbconvert_exporter": "python",
   "pygments_lexer": "ipython3",
   "version": "3.12.4"
  },
  "panel-cell-order": [
   "f94d88cd-e96e-4e6e-a9a6-2a3ce1abe19a",
   "97bd50b9-c958-4dba-91df-da1cf9932869",
   "df109c8b-8bd4-4785-9215-10f1b9c513e8",
   "5e76350d-ed67-4050-ae10-85415a248670",
   "0d5f4ac2-276d-4ed1-98b7-e7db58cf867c",
   "0a9f93f7-407e-4382-beb9-7ef1845b9b0c",
   "e3b5e128-717d-4692-b428-cf1eab34d775",
   "a21c4d53-4496-42c6-94c9-5d4486925f2f",
   "36d2e402-0779-46cf-9d12-7d3959fe06b5",
   "a813a234-86d1-4b22-a85f-6ef9e773c605",
   "70a5449e-5a00-4650-a02b-4d13dfb1672f",
   "8cebae30-296a-4713-91d0-c78598ac7c67",
   "be5dcc95-6763-4037-bffb-fa56296380cf",
   "024f363d-5c11-44b0-a9f5-b528fc69e57c",
   "f6211579-d7b1-4955-83ce-004214a59fc4",
   "6ae56f35-92cd-4ac3-94a7-17b2f86dbf70",
   "71471b6d-36b3-4020-92d8-b4c3d0ba4eca",
   "d43f6df0-b93d-433b-bf35-c26d3c8487b1",
   "101dc376-b305-44ea-8a5f-38ffbd3646b6",
   "5ed3a41a-fe6f-4ce0-a428-fb080039de69",
   "2d659b3d-95a6-4b79-94e0-c096a28b4787",
   "fc965700-e77b-474c-9954-acfaac58eca5",
   "aa39d2f0-1c3e-456f-80b6-1c9f387a7b4b",
   "9b124359-188d-45e5-9bf3-d78ab3777738",
   "c3cf34e9-2ca3-417f-b1d5-09f9439deb58",
   "3a34670c-40b5-4fc9-9c03-9e2c3ca9987d",
   "aa09766c-4a80-49c1-ac99-a0af2b9c925c",
   "7ae73b17-1cbd-4921-a1de-2814c8f96ac5",
   "4be25b96-530c-456b-aaa7-118fa15072b8",
   "80859103-5c8b-45ae-bb69-a4b2e4b91a88",
   "bed56aab-f1db-486f-b1f6-c36120e734ea",
   "7370b1ea-d169-4cf3-87dd-06936f8f2c64",
   "f4d93916-c8bb-40f4-8997-b9fcb23ca9d1",
   "be0d51f3-0ec3-462e-8b45-60fcf866e6f1"
  ]
 },
 "nbformat": 4,
 "nbformat_minor": 5
}
