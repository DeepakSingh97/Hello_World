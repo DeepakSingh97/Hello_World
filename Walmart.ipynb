{
 "cells": [
  {
   "cell_type": "markdown",
   "id": "f94d88cd-e96e-4e6e-a9a6-2a3ce1abe19a",
   "metadata": {
    "panel-layout": {
     "height": 127.838,
     "visible": true,
     "width": 100
    }
   },
   "source": [
    "# Walmart Case Study\n",
    "\n",
    "Problem Statement\n",
    "The Management team at Walmart Inc. wants to analyze the customer purchase behavior (precisely, purchase amount) against the customer’s gender and the various other factors to help the business make better decisions. They want to understand if the spending habits differ between male and female customers: Do women spend more on Black Friday than men?"
   ]
  },
  {
   "cell_type": "code",
   "execution_count": 214,
   "id": "df9427db-37f9-45ec-9d8c-9c0a3f6f6500",
   "metadata": {},
   "outputs": [],
   "source": [
    "import numpy as np\n",
    "import pandas as pd\n",
    "import matplotlib.pyplot as plt\n",
    "import seaborn as sns\n",
    "from scipy.stats import norm"
   ]
  },
  {
   "cell_type": "code",
   "execution_count": 2,
   "id": "d744dcb9-b8df-4d26-a75e-d949dbbd9bf1",
   "metadata": {},
   "outputs": [],
   "source": [
    "df = pd.read_csv(r'C:\\Users\\hp\\Desktop\\CaseStudies\\Walmart\\walmart_data.csv')"
   ]
  },
  {
   "cell_type": "markdown",
   "id": "97bd50b9-c958-4dba-91df-da1cf9932869",
   "metadata": {
    "jp-MarkdownHeadingCollapsed": true,
    "panel-layout": {
     "height": 176.95,
     "visible": true,
     "width": 100
    }
   },
   "source": [
    "## Dataset\r\n",
    "\r\n",
    "The company collected the transactional data of customers who purchased products from ehWalmart Store during Black Friday.\n",
    "d. The dataset has the followi features :\n",
    "\n",
    "-  User_ID: User ID\r\n",
    "  \r\n",
    "-  Product_ID: Product ID\r\n",
    "\r\n",
    "-  Gender: Sex of User\r\n",
    "\r\n",
    "-  Age: Age in bins\r\n",
    "\r\n",
    "-  Occupation: Occupation(Masked)\r\n",
    "\r\n",
    "-  City_Category: Category of the city (A,B,C)\r\n",
    "\r\n",
    "-  StayInCurrentCityYears:\tNumber of years stay in current city\r\n",
    "\r\n",
    "-  Marital_Status:\tMarital Status\r\n",
    "\r\n",
    "-  ProductCategory:\tProduct Category (Masked)\r\n",
    "\r\n",
    "-  Purchase:\tPurchase Amount\r\n",
    "Amountnt"
   ]
  },
  {
   "cell_type": "markdown",
   "id": "df109c8b-8bd4-4785-9215-10f1b9c513e8",
   "metadata": {
    "jp-MarkdownHeadingCollapsed": true,
    "panel-layout": {
     "height": 50.8125,
     "visible": true,
     "width": 100
    }
   },
   "source": [
    "## Data Audit"
   ]
  },
  {
   "cell_type": "code",
   "execution_count": 3,
   "id": "5e76350d-ed67-4050-ae10-85415a248670",
   "metadata": {
    "panel-layout": {
     "height": 10,
     "visible": true,
     "width": 100
    }
   },
   "outputs": [
    {
     "data": {
      "text/plain": [
       "<bound method NDFrame.head of        User_ID Product_ID Gender    Age  Occupation City_Category  \\\n",
       "0      1000001  P00069042      F   0-17        10.0             A   \n",
       "1      1000001  P00248942      F   0-17        10.0             A   \n",
       "2      1000001  P00087842      F   0-17        10.0             A   \n",
       "3      1000001  P00085442      F   0-17        10.0             A   \n",
       "4      1000002  P00285442      M    55+        16.0             C   \n",
       "...        ...        ...    ...    ...         ...           ...   \n",
       "25032  1003843  P00034642      F   0-17        10.0             B   \n",
       "25033  1003844  P00359942      M  18-25         4.0             C   \n",
       "25034  1003844  P00193842      M  18-25         4.0             C   \n",
       "25035  1003845  P00110942      M  26-35        12.0             C   \n",
       "25036  1003845      P0022    NaN    NaN         NaN           NaN   \n",
       "\n",
       "      Stay_In_Current_City_Years  Marital_Status  Product_Category  Purchase  \n",
       "0                              2             0.0               3.0    8370.0  \n",
       "1                              2             0.0               1.0   15200.0  \n",
       "2                              2             0.0              12.0    1422.0  \n",
       "3                              2             0.0              12.0    1057.0  \n",
       "4                             4+             0.0               8.0    7969.0  \n",
       "...                          ...             ...               ...       ...  \n",
       "25032                          2             0.0               4.0    1433.0  \n",
       "25033                          3             1.0              11.0    6138.0  \n",
       "25034                          3             1.0              11.0    7477.0  \n",
       "25035                          1             1.0               1.0   19456.0  \n",
       "25036                        NaN             NaN               NaN       NaN  \n",
       "\n",
       "[25037 rows x 10 columns]>"
      ]
     },
     "execution_count": 3,
     "metadata": {},
     "output_type": "execute_result"
    }
   ],
   "source": [
    "df.head"
   ]
  },
  {
   "cell_type": "code",
   "execution_count": 4,
   "id": "0d5f4ac2-276d-4ed1-98b7-e7db58cf867c",
   "metadata": {
    "panel-layout": {
     "height": 27.1375,
     "visible": true,
     "width": 100
    }
   },
   "outputs": [
    {
     "data": {
      "text/plain": [
       "(25037, 10)"
      ]
     },
     "execution_count": 4,
     "metadata": {},
     "output_type": "execute_result"
    }
   ],
   "source": [
    "df.shape"
   ]
  },
  {
   "cell_type": "code",
   "execution_count": 5,
   "id": "0a9f93f7-407e-4382-beb9-7ef1845b9b0c",
   "metadata": {
    "panel-layout": {
     "height": 301.2,
     "visible": true,
     "width": 100
    }
   },
   "outputs": [
    {
     "data": {
      "text/plain": [
       "User_ID                         int64\n",
       "Product_ID                     object\n",
       "Gender                         object\n",
       "Age                            object\n",
       "Occupation                    float64\n",
       "City_Category                  object\n",
       "Stay_In_Current_City_Years     object\n",
       "Marital_Status                float64\n",
       "Product_Category              float64\n",
       "Purchase                      float64\n",
       "dtype: object"
      ]
     },
     "execution_count": 5,
     "metadata": {},
     "output_type": "execute_result"
    }
   ],
   "source": [
    "df.dtypes"
   ]
  },
  {
   "cell_type": "code",
   "execution_count": 6,
   "id": "e3b5e128-717d-4692-b428-cf1eab34d775",
   "metadata": {
    "panel-layout": {
     "height": 0,
     "visible": true,
     "width": 100
    }
   },
   "outputs": [
    {
     "name": "stdout",
     "output_type": "stream",
     "text": [
      "<class 'pandas.core.frame.DataFrame'>\n",
      "RangeIndex: 25037 entries, 0 to 25036\n",
      "Data columns (total 10 columns):\n",
      " #   Column                      Non-Null Count  Dtype  \n",
      "---  ------                      --------------  -----  \n",
      " 0   User_ID                     25037 non-null  int64  \n",
      " 1   Product_ID                  25037 non-null  object \n",
      " 2   Gender                      25036 non-null  object \n",
      " 3   Age                         25036 non-null  object \n",
      " 4   Occupation                  25036 non-null  float64\n",
      " 5   City_Category               25036 non-null  object \n",
      " 6   Stay_In_Current_City_Years  25036 non-null  object \n",
      " 7   Marital_Status              25036 non-null  float64\n",
      " 8   Product_Category            25036 non-null  float64\n",
      " 9   Purchase                    25036 non-null  float64\n",
      "dtypes: float64(4), int64(1), object(5)\n",
      "memory usage: 1.9+ MB\n"
     ]
    }
   ],
   "source": [
    "df.info()"
   ]
  },
  {
   "cell_type": "code",
   "execution_count": 7,
   "id": "a21c4d53-4496-42c6-94c9-5d4486925f2f",
   "metadata": {
    "panel-layout": {
     "height": 248.4,
     "visible": true,
     "width": 100
    }
   },
   "outputs": [
    {
     "data": {
      "text/html": [
       "<div>\n",
       "<style scoped>\n",
       "    .dataframe tbody tr th:only-of-type {\n",
       "        vertical-align: middle;\n",
       "    }\n",
       "\n",
       "    .dataframe tbody tr th {\n",
       "        vertical-align: top;\n",
       "    }\n",
       "\n",
       "    .dataframe thead th {\n",
       "        text-align: right;\n",
       "    }\n",
       "</style>\n",
       "<table border=\"1\" class=\"dataframe\">\n",
       "  <thead>\n",
       "    <tr style=\"text-align: right;\">\n",
       "      <th></th>\n",
       "      <th>User_ID</th>\n",
       "      <th>Occupation</th>\n",
       "      <th>Marital_Status</th>\n",
       "      <th>Product_Category</th>\n",
       "      <th>Purchase</th>\n",
       "    </tr>\n",
       "  </thead>\n",
       "  <tbody>\n",
       "    <tr>\n",
       "      <th>count</th>\n",
       "      <td>2.503700e+04</td>\n",
       "      <td>25036.000000</td>\n",
       "      <td>25036.000000</td>\n",
       "      <td>25036.000000</td>\n",
       "      <td>25036.000000</td>\n",
       "    </tr>\n",
       "    <tr>\n",
       "      <th>mean</th>\n",
       "      <td>1.001944e+06</td>\n",
       "      <td>8.254593</td>\n",
       "      <td>0.399545</td>\n",
       "      <td>5.302604</td>\n",
       "      <td>9240.939647</td>\n",
       "    </tr>\n",
       "    <tr>\n",
       "      <th>std</th>\n",
       "      <td>1.124044e+03</td>\n",
       "      <td>6.533908</td>\n",
       "      <td>0.489815</td>\n",
       "      <td>3.705730</td>\n",
       "      <td>4937.285195</td>\n",
       "    </tr>\n",
       "    <tr>\n",
       "      <th>min</th>\n",
       "      <td>1.000001e+06</td>\n",
       "      <td>0.000000</td>\n",
       "      <td>0.000000</td>\n",
       "      <td>1.000000</td>\n",
       "      <td>186.000000</td>\n",
       "    </tr>\n",
       "    <tr>\n",
       "      <th>25%</th>\n",
       "      <td>1.001015e+06</td>\n",
       "      <td>3.000000</td>\n",
       "      <td>0.000000</td>\n",
       "      <td>1.000000</td>\n",
       "      <td>5837.750000</td>\n",
       "    </tr>\n",
       "    <tr>\n",
       "      <th>50%</th>\n",
       "      <td>1.001884e+06</td>\n",
       "      <td>7.000000</td>\n",
       "      <td>0.000000</td>\n",
       "      <td>5.000000</td>\n",
       "      <td>8044.000000</td>\n",
       "    </tr>\n",
       "    <tr>\n",
       "      <th>75%</th>\n",
       "      <td>1.002952e+06</td>\n",
       "      <td>14.000000</td>\n",
       "      <td>1.000000</td>\n",
       "      <td>8.000000</td>\n",
       "      <td>11997.500000</td>\n",
       "    </tr>\n",
       "    <tr>\n",
       "      <th>max</th>\n",
       "      <td>1.003845e+06</td>\n",
       "      <td>20.000000</td>\n",
       "      <td>1.000000</td>\n",
       "      <td>18.000000</td>\n",
       "      <td>23958.000000</td>\n",
       "    </tr>\n",
       "  </tbody>\n",
       "</table>\n",
       "</div>"
      ],
      "text/plain": [
       "            User_ID    Occupation  Marital_Status  Product_Category  \\\n",
       "count  2.503700e+04  25036.000000    25036.000000      25036.000000   \n",
       "mean   1.001944e+06      8.254593        0.399545          5.302604   \n",
       "std    1.124044e+03      6.533908        0.489815          3.705730   \n",
       "min    1.000001e+06      0.000000        0.000000          1.000000   \n",
       "25%    1.001015e+06      3.000000        0.000000          1.000000   \n",
       "50%    1.001884e+06      7.000000        0.000000          5.000000   \n",
       "75%    1.002952e+06     14.000000        1.000000          8.000000   \n",
       "max    1.003845e+06     20.000000        1.000000         18.000000   \n",
       "\n",
       "           Purchase  \n",
       "count  25036.000000  \n",
       "mean    9240.939647  \n",
       "std     4937.285195  \n",
       "min      186.000000  \n",
       "25%     5837.750000  \n",
       "50%     8044.000000  \n",
       "75%    11997.500000  \n",
       "max    23958.000000  "
      ]
     },
     "execution_count": 7,
     "metadata": {},
     "output_type": "execute_result"
    }
   ],
   "source": [
    "df.describe()"
   ]
  },
  {
   "cell_type": "code",
   "execution_count": 8,
   "id": "36d2e402-0779-46cf-9d12-7d3959fe06b5",
   "metadata": {
    "panel-layout": {
     "height": 248.4,
     "visible": true,
     "width": 100
    }
   },
   "outputs": [
    {
     "data": {
      "text/plain": [
       "Age\n",
       "26-35    9826\n",
       "18-25    5100\n",
       "36-45    4839\n",
       "46-50    1844\n",
       "51-55    1738\n",
       "55+       990\n",
       "0-17      699\n",
       "Name: count, dtype: int64"
      ]
     },
     "execution_count": 8,
     "metadata": {},
     "output_type": "execute_result"
    }
   ],
   "source": [
    "df['Age'].value_counts()"
   ]
  },
  {
   "cell_type": "code",
   "execution_count": 9,
   "id": "a813a234-86d1-4b22-a85f-6ef9e773c605",
   "metadata": {
    "panel-layout": {
     "height": 142.8,
     "visible": true,
     "width": 100
    }
   },
   "outputs": [
    {
     "data": {
      "text/plain": [
       "City_Category\n",
       "B    10609\n",
       "C     7457\n",
       "A     6970\n",
       "Name: count, dtype: int64"
      ]
     },
     "execution_count": 9,
     "metadata": {},
     "output_type": "execute_result"
    }
   ],
   "source": [
    "df['City_Category'].value_counts()"
   ]
  },
  {
   "cell_type": "code",
   "execution_count": 10,
   "id": "70a5449e-5a00-4650-a02b-4d13dfb1672f",
   "metadata": {
    "panel-layout": {
     "height": 116.4,
     "visible": true,
     "width": 100
    }
   },
   "outputs": [
    {
     "data": {
      "text/plain": [
       "Gender\n",
       "M    19139\n",
       "F     5897\n",
       "Name: count, dtype: int64"
      ]
     },
     "execution_count": 10,
     "metadata": {},
     "output_type": "execute_result"
    }
   ],
   "source": [
    "df['Gender'].value_counts()"
   ]
  },
  {
   "cell_type": "code",
   "execution_count": 11,
   "id": "8cebae30-296a-4713-91d0-c78598ac7c67",
   "metadata": {
    "panel-layout": {
     "height": 116.4,
     "visible": true,
     "width": 100
    }
   },
   "outputs": [
    {
     "data": {
      "text/plain": [
       "Marital_Status\n",
       "0.0    15033\n",
       "1.0    10003\n",
       "Name: count, dtype: int64"
      ]
     },
     "execution_count": 11,
     "metadata": {},
     "output_type": "execute_result"
    }
   ],
   "source": [
    "df['Marital_Status'].value_counts()"
   ]
  },
  {
   "cell_type": "code",
   "execution_count": 12,
   "id": "be5dcc95-6763-4037-bffb-fa56296380cf",
   "metadata": {
    "panel-layout": {
     "height": 618,
     "visible": true,
     "width": 100
    }
   },
   "outputs": [
    {
     "data": {
      "text/plain": [
       "Occupation\n",
       "4.0     3466\n",
       "0.0     3110\n",
       "7.0     2713\n",
       "17.0    1904\n",
       "1.0     1823\n",
       "20.0    1710\n",
       "12.0    1518\n",
       "2.0     1163\n",
       "14.0    1145\n",
       "16.0    1036\n",
       "3.0      890\n",
       "6.0      842\n",
       "10.0     660\n",
       "11.0     580\n",
       "15.0     529\n",
       "5.0      471\n",
       "13.0     414\n",
       "19.0     407\n",
       "9.0      301\n",
       "18.0     262\n",
       "8.0       92\n",
       "Name: count, dtype: int64"
      ]
     },
     "execution_count": 12,
     "metadata": {},
     "output_type": "execute_result"
    }
   ],
   "source": [
    "df['Occupation'].value_counts()"
   ]
  },
  {
   "cell_type": "code",
   "execution_count": 13,
   "id": "024f363d-5c11-44b0-a9f5-b528fc69e57c",
   "metadata": {
    "panel-layout": {
     "height": 195.6,
     "visible": true,
     "width": 100
    }
   },
   "outputs": [
    {
     "data": {
      "text/plain": [
       "Stay_In_Current_City_Years\n",
       "1     8687\n",
       "3     4521\n",
       "2     4500\n",
       "4+    3966\n",
       "0     3362\n",
       "Name: count, dtype: int64"
      ]
     },
     "execution_count": 13,
     "metadata": {},
     "output_type": "execute_result"
    }
   ],
   "source": [
    "df['Stay_In_Current_City_Years'].value_counts()"
   ]
  },
  {
   "cell_type": "markdown",
   "id": "f6211579-d7b1-4955-83ce-004214a59fc4",
   "metadata": {
    "jp-MarkdownHeadingCollapsed": true,
    "panel-layout": {
     "height": 50.8125,
     "visible": true,
     "width": 100
    }
   },
   "source": [
    "## NULL values and Outlier Detection"
   ]
  },
  {
   "cell_type": "code",
   "execution_count": 14,
   "id": "6ae56f35-92cd-4ac3-94a7-17b2f86dbf70",
   "metadata": {
    "panel-layout": {
     "height": 301.2,
     "visible": true,
     "width": 100
    }
   },
   "outputs": [
    {
     "data": {
      "text/plain": [
       "User_ID                       0\n",
       "Product_ID                    0\n",
       "Gender                        1\n",
       "Age                           1\n",
       "Occupation                    1\n",
       "City_Category                 1\n",
       "Stay_In_Current_City_Years    1\n",
       "Marital_Status                1\n",
       "Product_Category              1\n",
       "Purchase                      1\n",
       "dtype: int64"
      ]
     },
     "execution_count": 14,
     "metadata": {},
     "output_type": "execute_result"
    }
   ],
   "source": [
    "df.isnull().sum()"
   ]
  },
  {
   "cell_type": "code",
   "execution_count": 15,
   "id": "71471b6d-36b3-4020-92d8-b4c3d0ba4eca",
   "metadata": {
    "panel-layout": {
     "height": 63.6,
     "visible": true,
     "width": 100
    }
   },
   "outputs": [
    {
     "data": {
      "text/html": [
       "<div>\n",
       "<style scoped>\n",
       "    .dataframe tbody tr th:only-of-type {\n",
       "        vertical-align: middle;\n",
       "    }\n",
       "\n",
       "    .dataframe tbody tr th {\n",
       "        vertical-align: top;\n",
       "    }\n",
       "\n",
       "    .dataframe thead th {\n",
       "        text-align: right;\n",
       "    }\n",
       "</style>\n",
       "<table border=\"1\" class=\"dataframe\">\n",
       "  <thead>\n",
       "    <tr style=\"text-align: right;\">\n",
       "      <th></th>\n",
       "      <th>User_ID</th>\n",
       "      <th>Product_ID</th>\n",
       "      <th>Gender</th>\n",
       "      <th>Age</th>\n",
       "      <th>Occupation</th>\n",
       "      <th>City_Category</th>\n",
       "      <th>Stay_In_Current_City_Years</th>\n",
       "      <th>Marital_Status</th>\n",
       "      <th>Product_Category</th>\n",
       "      <th>Purchase</th>\n",
       "    </tr>\n",
       "  </thead>\n",
       "  <tbody>\n",
       "    <tr>\n",
       "      <th>25036</th>\n",
       "      <td>1003845</td>\n",
       "      <td>P0022</td>\n",
       "      <td>NaN</td>\n",
       "      <td>NaN</td>\n",
       "      <td>NaN</td>\n",
       "      <td>NaN</td>\n",
       "      <td>NaN</td>\n",
       "      <td>NaN</td>\n",
       "      <td>NaN</td>\n",
       "      <td>NaN</td>\n",
       "    </tr>\n",
       "  </tbody>\n",
       "</table>\n",
       "</div>"
      ],
      "text/plain": [
       "       User_ID Product_ID Gender  Age  Occupation City_Category  \\\n",
       "25036  1003845      P0022    NaN  NaN         NaN           NaN   \n",
       "\n",
       "      Stay_In_Current_City_Years  Marital_Status  Product_Category  Purchase  \n",
       "25036                        NaN             NaN               NaN       NaN  "
      ]
     },
     "execution_count": 15,
     "metadata": {},
     "output_type": "execute_result"
    }
   ],
   "source": [
    "df[df['Gender'].isnull()]"
   ]
  },
  {
   "cell_type": "code",
   "execution_count": 16,
   "id": "d43f6df0-b93d-433b-bf35-c26d3c8487b1",
   "metadata": {
    "panel-layout": {
     "height": 90,
     "visible": true,
     "width": 100
    }
   },
   "outputs": [
    {
     "data": {
      "text/html": [
       "<div>\n",
       "<style scoped>\n",
       "    .dataframe tbody tr th:only-of-type {\n",
       "        vertical-align: middle;\n",
       "    }\n",
       "\n",
       "    .dataframe tbody tr th {\n",
       "        vertical-align: top;\n",
       "    }\n",
       "\n",
       "    .dataframe thead th {\n",
       "        text-align: right;\n",
       "    }\n",
       "</style>\n",
       "<table border=\"1\" class=\"dataframe\">\n",
       "  <thead>\n",
       "    <tr style=\"text-align: right;\">\n",
       "      <th></th>\n",
       "      <th>User_ID</th>\n",
       "      <th>Product_ID</th>\n",
       "      <th>Gender</th>\n",
       "      <th>Age</th>\n",
       "      <th>Occupation</th>\n",
       "      <th>City_Category</th>\n",
       "      <th>Stay_In_Current_City_Years</th>\n",
       "      <th>Marital_Status</th>\n",
       "      <th>Product_Category</th>\n",
       "      <th>Purchase</th>\n",
       "    </tr>\n",
       "  </thead>\n",
       "  <tbody>\n",
       "    <tr>\n",
       "      <th>25035</th>\n",
       "      <td>1003845</td>\n",
       "      <td>P00110942</td>\n",
       "      <td>M</td>\n",
       "      <td>26-35</td>\n",
       "      <td>12.0</td>\n",
       "      <td>C</td>\n",
       "      <td>1</td>\n",
       "      <td>1.0</td>\n",
       "      <td>1.0</td>\n",
       "      <td>19456.0</td>\n",
       "    </tr>\n",
       "    <tr>\n",
       "      <th>25036</th>\n",
       "      <td>1003845</td>\n",
       "      <td>P0022</td>\n",
       "      <td>NaN</td>\n",
       "      <td>NaN</td>\n",
       "      <td>NaN</td>\n",
       "      <td>NaN</td>\n",
       "      <td>NaN</td>\n",
       "      <td>NaN</td>\n",
       "      <td>NaN</td>\n",
       "      <td>NaN</td>\n",
       "    </tr>\n",
       "  </tbody>\n",
       "</table>\n",
       "</div>"
      ],
      "text/plain": [
       "       User_ID Product_ID Gender    Age  Occupation City_Category  \\\n",
       "25035  1003845  P00110942      M  26-35        12.0             C   \n",
       "25036  1003845      P0022    NaN    NaN         NaN           NaN   \n",
       "\n",
       "      Stay_In_Current_City_Years  Marital_Status  Product_Category  Purchase  \n",
       "25035                          1             1.0               1.0   19456.0  \n",
       "25036                        NaN             NaN               NaN       NaN  "
      ]
     },
     "execution_count": 16,
     "metadata": {},
     "output_type": "execute_result"
    }
   ],
   "source": [
    "df[df['User_ID'] == 1003845]"
   ]
  },
  {
   "cell_type": "code",
   "execution_count": 17,
   "id": "101dc376-b305-44ea-8a5f-38ffbd3646b6",
   "metadata": {
    "panel-layout": {
     "height": 63.6,
     "visible": true,
     "width": 100
    }
   },
   "outputs": [
    {
     "data": {
      "text/html": [
       "<div>\n",
       "<style scoped>\n",
       "    .dataframe tbody tr th:only-of-type {\n",
       "        vertical-align: middle;\n",
       "    }\n",
       "\n",
       "    .dataframe tbody tr th {\n",
       "        vertical-align: top;\n",
       "    }\n",
       "\n",
       "    .dataframe thead th {\n",
       "        text-align: right;\n",
       "    }\n",
       "</style>\n",
       "<table border=\"1\" class=\"dataframe\">\n",
       "  <thead>\n",
       "    <tr style=\"text-align: right;\">\n",
       "      <th></th>\n",
       "      <th>User_ID</th>\n",
       "      <th>Product_ID</th>\n",
       "      <th>Gender</th>\n",
       "      <th>Age</th>\n",
       "      <th>Occupation</th>\n",
       "      <th>City_Category</th>\n",
       "      <th>Stay_In_Current_City_Years</th>\n",
       "      <th>Marital_Status</th>\n",
       "      <th>Product_Category</th>\n",
       "      <th>Purchase</th>\n",
       "    </tr>\n",
       "  </thead>\n",
       "  <tbody>\n",
       "    <tr>\n",
       "      <th>25036</th>\n",
       "      <td>1003845</td>\n",
       "      <td>P0022</td>\n",
       "      <td>NaN</td>\n",
       "      <td>NaN</td>\n",
       "      <td>NaN</td>\n",
       "      <td>NaN</td>\n",
       "      <td>NaN</td>\n",
       "      <td>NaN</td>\n",
       "      <td>NaN</td>\n",
       "      <td>NaN</td>\n",
       "    </tr>\n",
       "  </tbody>\n",
       "</table>\n",
       "</div>"
      ],
      "text/plain": [
       "       User_ID Product_ID Gender  Age  Occupation City_Category  \\\n",
       "25036  1003845      P0022    NaN  NaN         NaN           NaN   \n",
       "\n",
       "      Stay_In_Current_City_Years  Marital_Status  Product_Category  Purchase  \n",
       "25036                        NaN             NaN               NaN       NaN  "
      ]
     },
     "execution_count": 17,
     "metadata": {},
     "output_type": "execute_result"
    }
   ],
   "source": [
    "df[(df['Product_ID'] == 'P0022')&(df['User_ID'] == 1003845)]"
   ]
  },
  {
   "cell_type": "code",
   "execution_count": 18,
   "id": "5ed3a41a-fe6f-4ce0-a428-fb080039de69",
   "metadata": {
    "panel-layout": {
     "height": 0,
     "visible": true,
     "width": 100
    }
   },
   "outputs": [],
   "source": [
    "df.drop(index=25036,inplace=True)                        #Removed the data with Null Values"
   ]
  },
  {
   "cell_type": "code",
   "execution_count": 19,
   "id": "2d659b3d-95a6-4b79-94e0-c096a28b4787",
   "metadata": {
    "panel-layout": {
     "height": 301.2,
     "visible": true,
     "width": 100
    }
   },
   "outputs": [
    {
     "data": {
      "text/plain": [
       "User_ID                       0\n",
       "Product_ID                    0\n",
       "Gender                        0\n",
       "Age                           0\n",
       "Occupation                    0\n",
       "City_Category                 0\n",
       "Stay_In_Current_City_Years    0\n",
       "Marital_Status                0\n",
       "Product_Category              0\n",
       "Purchase                      0\n",
       "dtype: int64"
      ]
     },
     "execution_count": 19,
     "metadata": {},
     "output_type": "execute_result"
    }
   ],
   "source": [
    "df.isnull().sum()"
   ]
  },
  {
   "cell_type": "code",
   "execution_count": 20,
   "id": "fc965700-e77b-474c-9954-acfaac58eca5",
   "metadata": {
    "panel-layout": {
     "height": 701,
     "visible": true,
     "width": 100
    }
   },
   "outputs": [
    {
     "data": {
      "image/png": "[encoded data removed]",
      "text/plain": [
       "<Figure size 640x480 with 1 Axes>"
      ]
     },
     "metadata": {},
     "output_type": "display_data"
    }
   ],
   "source": [
    "sns.boxplot(df['Purchase'])\n",
    "plt.show()"
   ]
  },
  {
   "cell_type": "code",
   "execution_count": 21,
   "id": "aa39d2f0-1c3e-456f-80b6-1c9f387a7b4b",
   "metadata": {
    "panel-layout": {
     "height": 701,
     "visible": true,
     "width": 100
    }
   },
   "outputs": [
    {
     "data": {
      "image/png": "[encoded data removed]",
      "text/plain": [
       "<Figure size 640x480 with 1 Axes>"
      ]
     },
     "metadata": {},
     "output_type": "display_data"
    }
   ],
   "source": [
    "sns.boxplot(df['Product_Category'])\n",
    "plt.show()"
   ]
  },
  {
   "cell_type": "markdown",
   "id": "9b124359-188d-45e5-9bf3-d78ab3777738",
   "metadata": {
    "panel-layout": {
     "height": 51.1375,
     "visible": true,
     "width": 100
    }
   },
   "source": [
    "We can observer lots of outliers with respect to the Purchase(Amount)"
   ]
  },
  {
   "cell_type": "markdown",
   "id": "c3cf34e9-2ca3-417f-b1d5-09f9439deb58",
   "metadata": {
    "jp-MarkdownHeadingCollapsed": true,
    "panel-layout": {
     "height": 50.8125,
     "visible": true,
     "width": 100
    }
   },
   "source": [
    "## Univariate and Bivarite Analysis"
   ]
  },
  {
   "cell_type": "markdown",
   "id": "3a34670c-40b5-4fc9-9c03-9e2c3ca9987d",
   "metadata": {
    "jp-MarkdownHeadingCollapsed": true,
    "panel-layout": {
     "height": 44.075,
     "visible": true,
     "width": 100
    }
   },
   "source": [
    "### Univarite Analysis"
   ]
  },
  {
   "cell_type": "code",
   "execution_count": 22,
   "id": "aa09766c-4a80-49c1-ac99-a0af2b9c925c",
   "metadata": {
    "panel-layout": {
     "height": 1002.2,
     "visible": true,
     "width": 100
    }
   },
   "outputs": [
    {
     "data": {
      "text/plain": [
       "User_ID                         int64\n",
       "Product_ID                     object\n",
       "Gender                         object\n",
       "Age                            object\n",
       "Occupation                    float64\n",
       "City_Category                  object\n",
       "Stay_In_Current_City_Years     object\n",
       "Marital_Status                float64\n",
       "Product_Category              float64\n",
       "Purchase                      float64\n",
       "dtype: object"
      ]
     },
     "execution_count": 22,
     "metadata": {},
     "output_type": "execute_result"
    }
   ],
   "source": [
    "df.dtypes"
   ]
  },
  {
   "cell_type": "code",
   "execution_count": 23,
   "id": "7ae73b17-1cbd-4921-a1de-2814c8f96ac5",
   "metadata": {
    "panel-layout": {
     "height": 701,
     "visible": true,
     "width": 100
    }
   },
   "outputs": [
    {
     "data": {
      "image/png": "[encoded data removed]",
      "text/plain": [
       "<Figure size 640x480 with 1 Axes>"
      ]
     },
     "metadata": {},
     "output_type": "display_data"
    }
   ],
   "source": [
    "plt.pie(df['Gender'].value_counts() , labels=df['Gender'].value_counts().index , autopct= \"%.2f%%\")\n",
    "plt.show()"
   ]
  },
  {
   "cell_type": "code",
   "execution_count": 24,
   "id": "4be25b96-530c-456b-aaa7-118fa15072b8",
   "metadata": {
    "panel-layout": {
     "height": 701,
     "visible": true,
     "width": 100
    }
   },
   "outputs": [
    {
     "data": {
      "image/png": "[encoded data removed]",
      "text/plain": [
       "<Figure size 640x480 with 1 Axes>"
      ]
     },
     "metadata": {},
     "output_type": "display_data"
    }
   ],
   "source": [
    "sns.countplot(x = df['Age'])\n",
    "plt.show()"
   ]
  },
  {
   "cell_type": "code",
   "execution_count": 25,
   "id": "80859103-5c8b-45ae-bb69-a4b2e4b91a88",
   "metadata": {
    "panel-layout": {
     "height": 701,
     "visible": true,
     "width": 100
    }
   },
   "outputs": [
    {
     "data": {
      "image/png": "[encoded data removed]",
      "text/plain": [
       "<Figure size 640x480 with 1 Axes>"
      ]
     },
     "metadata": {},
     "output_type": "display_data"
    }
   ],
   "source": [
    "sns.histplot(df['Occupation'] , bins=20)\n",
    "plt.show()"
   ]
  },
  {
   "cell_type": "code",
   "execution_count": 26,
   "id": "bed56aab-f1db-486f-b1f6-c36120e734ea",
   "metadata": {
    "panel-layout": {
     "height": 701,
     "visible": true,
     "width": 100
    }
   },
   "outputs": [
    {
     "data": {
      "image/png": "[encoded data removed]",
      "text/plain": [
       "<Figure size 640x480 with 1 Axes>"
      ]
     },
     "metadata": {},
     "output_type": "display_data"
    }
   ],
   "source": [
    "sns.histplot(df['Product_Category'], bins = 18)\n",
    "plt.show()"
   ]
  },
  {
   "cell_type": "code",
   "execution_count": 27,
   "id": "7370b1ea-d169-4cf3-87dd-06936f8f2c64",
   "metadata": {
    "panel-layout": {
     "height": 701,
     "visible": true,
     "width": 100
    }
   },
   "outputs": [
    {
     "data": {
      "image/png": "[encoded data removed]",
      "text/plain": [
       "<Figure size 640x480 with 1 Axes>"
      ]
     },
     "metadata": {},
     "output_type": "display_data"
    }
   ],
   "source": [
    "sns.countplot(x = df['City_Category'])\n",
    "plt.show()"
   ]
  },
  {
   "cell_type": "code",
   "execution_count": 28,
   "id": "f4d93916-c8bb-40f4-8997-b9fcb23ca9d1",
   "metadata": {
    "panel-layout": {
     "height": 701,
     "visible": true,
     "width": 100
    }
   },
   "outputs": [
    {
     "data": {
      "image/png": "[encoded data removed]",
      "text/plain": [
       "<Figure size 640x480 with 1 Axes>"
      ]
     },
     "metadata": {},
     "output_type": "display_data"
    }
   ],
   "source": [
    "sns.countplot(x = df['Stay_In_Current_City_Years'])\n",
    "plt.show()"
   ]
  },
  {
   "cell_type": "code",
   "execution_count": 29,
   "id": "ccd61198-76f5-44df-9960-2a5f64097737",
   "metadata": {},
   "outputs": [
    {
     "data": {
      "image/png": "[encoded data removed]",
      "text/plain": [
       "<Figure size 640x480 with 1 Axes>"
      ]
     },
     "metadata": {},
     "output_type": "display_data"
    }
   ],
   "source": [
    "sns.histplot(df['Product_ID'] , bins=2820)\n",
    "plt.show()"
   ]
  },
  {
   "cell_type": "markdown",
   "id": "be0d51f3-0ec3-462e-8b45-60fcf866e6f1",
   "metadata": {
    "jp-MarkdownHeadingCollapsed": true,
    "panel-layout": {
     "height": 44.075,
     "visible": true,
     "width": 100
    }
   },
   "source": [
    "### Bivariate Analysis"
   ]
  },
  {
   "cell_type": "code",
   "execution_count": 30,
   "id": "28694b89-f936-43ec-b3d8-2dc5636abe6e",
   "metadata": {
    "editable": true,
    "slideshow": {
     "slide_type": ""
    },
    "tags": []
   },
   "outputs": [
    {
     "data": {
      "text/plain": [
       "User_ID                         int64\n",
       "Product_ID                     object\n",
       "Gender                         object\n",
       "Age                            object\n",
       "Occupation                    float64\n",
       "City_Category                  object\n",
       "Stay_In_Current_City_Years     object\n",
       "Marital_Status                float64\n",
       "Product_Category              float64\n",
       "Purchase                      float64\n",
       "dtype: object"
      ]
     },
     "execution_count": 30,
     "metadata": {},
     "output_type": "execute_result"
    }
   ],
   "source": [
    "df.dtypes"
   ]
  },
  {
   "cell_type": "code",
   "execution_count": 31,
   "id": "6bca2e11-a4a0-42a2-9f41-10aeb6f67b96",
   "metadata": {},
   "outputs": [
    {
     "data": {
      "text/plain": [
       "2820"
      ]
     },
     "execution_count": 31,
     "metadata": {},
     "output_type": "execute_result"
    }
   ],
   "source": [
    "df['Product_ID'].nunique()"
   ]
  },
  {
   "cell_type": "code",
   "execution_count": 32,
   "id": "4fdc0211-81f1-45bb-831b-8e31de331633",
   "metadata": {},
   "outputs": [
    {
     "data": {
      "image/png": "[encoded data removed]",
      "text/plain": [
       "<Figure size 640x480 with 1 Axes>"
      ]
     },
     "metadata": {},
     "output_type": "display_data"
    }
   ],
   "source": [
    "sns.countplot(x = df['Product_ID'] , hue = df['Age'] )\n",
    "plt.show()"
   ]
  },
  {
   "cell_type": "code",
   "execution_count": 33,
   "id": "241ece31-a636-420c-b5d3-22ec06dc0ad1",
   "metadata": {},
   "outputs": [
    {
     "data": {
      "image/png": "[encoded data removed]",
      "text/plain": [
       "<Figure size 640x480 with 1 Axes>"
      ]
     },
     "metadata": {},
     "output_type": "display_data"
    }
   ],
   "source": [
    "sns.countplot(x = df['Product_ID'] , hue = df['Gender'])\n",
    "plt.show()"
   ]
  },
  {
   "cell_type": "code",
   "execution_count": 34,
   "id": "55d9b1c1-3cdb-4526-8f28-b7358255e66e",
   "metadata": {},
   "outputs": [
    {
     "data": {
      "text/html": [
       "<div>\n",
       "<style scoped>\n",
       "    .dataframe tbody tr th:only-of-type {\n",
       "        vertical-align: middle;\n",
       "    }\n",
       "\n",
       "    .dataframe tbody tr th {\n",
       "        vertical-align: top;\n",
       "    }\n",
       "\n",
       "    .dataframe thead th {\n",
       "        text-align: right;\n",
       "    }\n",
       "</style>\n",
       "<table border=\"1\" class=\"dataframe\">\n",
       "  <thead>\n",
       "    <tr style=\"text-align: right;\">\n",
       "      <th></th>\n",
       "      <th>Product_Category</th>\n",
       "      <th>Age</th>\n",
       "    </tr>\n",
       "  </thead>\n",
       "  <tbody>\n",
       "    <tr>\n",
       "      <th>0</th>\n",
       "      <td>3.0</td>\n",
       "      <td>0-17</td>\n",
       "    </tr>\n",
       "    <tr>\n",
       "      <th>1</th>\n",
       "      <td>1.0</td>\n",
       "      <td>0-17</td>\n",
       "    </tr>\n",
       "    <tr>\n",
       "      <th>2</th>\n",
       "      <td>12.0</td>\n",
       "      <td>0-17</td>\n",
       "    </tr>\n",
       "    <tr>\n",
       "      <th>3</th>\n",
       "      <td>12.0</td>\n",
       "      <td>0-17</td>\n",
       "    </tr>\n",
       "    <tr>\n",
       "      <th>4</th>\n",
       "      <td>8.0</td>\n",
       "      <td>55+</td>\n",
       "    </tr>\n",
       "  </tbody>\n",
       "</table>\n",
       "</div>"
      ],
      "text/plain": [
       "   Product_Category   Age\n",
       "0               3.0  0-17\n",
       "1               1.0  0-17\n",
       "2              12.0  0-17\n",
       "3              12.0  0-17\n",
       "4               8.0   55+"
      ]
     },
     "execution_count": 34,
     "metadata": {},
     "output_type": "execute_result"
    }
   ],
   "source": [
    "productCategory_age = df[['Product_Category','Age']]\n",
    "productCategory_age.head()"
   ]
  },
  {
   "cell_type": "code",
   "execution_count": 35,
   "id": "dfaf3975-6742-4c60-bdcc-7d2280c78083",
   "metadata": {},
   "outputs": [
    {
     "data": {
      "text/plain": [
       "Age\n",
       "26-35    9826\n",
       "18-25    5100\n",
       "36-45    4839\n",
       "46-50    1844\n",
       "51-55    1738\n",
       "55+       990\n",
       "0-17      699\n",
       "Name: count, dtype: int64"
      ]
     },
     "execution_count": 35,
     "metadata": {},
     "output_type": "execute_result"
    }
   ],
   "source": [
    "productCategory_age['Age'].value_counts()"
   ]
  },
  {
   "cell_type": "code",
   "execution_count": 36,
   "id": "53a721c1-5d87-4b75-9c1a-d40b80d67494",
   "metadata": {},
   "outputs": [
    {
     "data": {
      "image/png": "[encoded data removed]",
      "text/plain": [
       "<Figure size 640x480 with 1 Axes>"
      ]
     },
     "metadata": {},
     "output_type": "display_data"
    }
   ],
   "source": [
    "sns.boxplot(x=df['Age'],y=df['Product_Category'])\n",
    "plt.show()"
   ]
  },
  {
   "cell_type": "code",
   "execution_count": 37,
   "id": "08d5dd29-e049-42b8-9a0f-98d5d9d0ceff",
   "metadata": {},
   "outputs": [
    {
     "data": {
      "image/png": "[encoded data removed]",
      "text/plain": [
       "<Figure size 640x480 with 1 Axes>"
      ]
     },
     "metadata": {},
     "output_type": "display_data"
    }
   ],
   "source": [
    "sns.barplot(x=df['Age'],y=df['Product_Category'])\n",
    "plt.show()"
   ]
  },
  {
   "cell_type": "code",
   "execution_count": 38,
   "id": "a6814638-00fd-4d9b-873e-b0d5dd563554",
   "metadata": {},
   "outputs": [
    {
     "data": {
      "text/html": [
       "<div>\n",
       "<style scoped>\n",
       "    .dataframe tbody tr th:only-of-type {\n",
       "        vertical-align: middle;\n",
       "    }\n",
       "\n",
       "    .dataframe tbody tr th {\n",
       "        vertical-align: top;\n",
       "    }\n",
       "\n",
       "    .dataframe thead th {\n",
       "        text-align: right;\n",
       "    }\n",
       "</style>\n",
       "<table border=\"1\" class=\"dataframe\">\n",
       "  <thead>\n",
       "    <tr style=\"text-align: right;\">\n",
       "      <th></th>\n",
       "      <th>Product_Category</th>\n",
       "      <th>Gender</th>\n",
       "    </tr>\n",
       "  </thead>\n",
       "  <tbody>\n",
       "    <tr>\n",
       "      <th>0</th>\n",
       "      <td>3.0</td>\n",
       "      <td>F</td>\n",
       "    </tr>\n",
       "    <tr>\n",
       "      <th>1</th>\n",
       "      <td>1.0</td>\n",
       "      <td>F</td>\n",
       "    </tr>\n",
       "    <tr>\n",
       "      <th>2</th>\n",
       "      <td>12.0</td>\n",
       "      <td>F</td>\n",
       "    </tr>\n",
       "    <tr>\n",
       "      <th>3</th>\n",
       "      <td>12.0</td>\n",
       "      <td>F</td>\n",
       "    </tr>\n",
       "    <tr>\n",
       "      <th>4</th>\n",
       "      <td>8.0</td>\n",
       "      <td>M</td>\n",
       "    </tr>\n",
       "    <tr>\n",
       "      <th>...</th>\n",
       "      <td>...</td>\n",
       "      <td>...</td>\n",
       "    </tr>\n",
       "    <tr>\n",
       "      <th>25031</th>\n",
       "      <td>5.0</td>\n",
       "      <td>F</td>\n",
       "    </tr>\n",
       "    <tr>\n",
       "      <th>25032</th>\n",
       "      <td>4.0</td>\n",
       "      <td>F</td>\n",
       "    </tr>\n",
       "    <tr>\n",
       "      <th>25033</th>\n",
       "      <td>11.0</td>\n",
       "      <td>M</td>\n",
       "    </tr>\n",
       "    <tr>\n",
       "      <th>25034</th>\n",
       "      <td>11.0</td>\n",
       "      <td>M</td>\n",
       "    </tr>\n",
       "    <tr>\n",
       "      <th>25035</th>\n",
       "      <td>1.0</td>\n",
       "      <td>M</td>\n",
       "    </tr>\n",
       "  </tbody>\n",
       "</table>\n",
       "<p>25036 rows × 2 columns</p>\n",
       "</div>"
      ],
      "text/plain": [
       "       Product_Category Gender\n",
       "0                   3.0      F\n",
       "1                   1.0      F\n",
       "2                  12.0      F\n",
       "3                  12.0      F\n",
       "4                   8.0      M\n",
       "...                 ...    ...\n",
       "25031               5.0      F\n",
       "25032               4.0      F\n",
       "25033              11.0      M\n",
       "25034              11.0      M\n",
       "25035               1.0      M\n",
       "\n",
       "[25036 rows x 2 columns]"
      ]
     },
     "execution_count": 38,
     "metadata": {},
     "output_type": "execute_result"
    }
   ],
   "source": [
    "productCategory_gender = df[['Product_Category','Gender']]\n",
    "productCategory_gender"
   ]
  },
  {
   "cell_type": "code",
   "execution_count": 39,
   "id": "66a09263-ea94-44c2-ac40-7ec26ee93c14",
   "metadata": {},
   "outputs": [
    {
     "data": {
      "image/png": "[encoded data removed]",
      "text/plain": [
       "<Figure size 640x480 with 1 Axes>"
      ]
     },
     "metadata": {},
     "output_type": "display_data"
    }
   ],
   "source": [
    "sns.boxplot(x = df['Gender'] , y = df['Product_Category'])\n",
    "plt.show()"
   ]
  },
  {
   "cell_type": "code",
   "execution_count": 40,
   "id": "270a19bf-c64b-40c0-b7a3-88ecb0f0194b",
   "metadata": {},
   "outputs": [
    {
     "data": {
      "image/png": "[encoded data removed]",
      "text/plain": [
       "<Figure size 640x480 with 1 Axes>"
      ]
     },
     "metadata": {},
     "output_type": "display_data"
    }
   ],
   "source": [
    "sns.barplot(x=df['Product_Category'],y=df['Gender'])\n",
    "plt.show()"
   ]
  },
  {
   "cell_type": "code",
   "execution_count": 41,
   "id": "3f6122e2-78fe-46f1-abe5-c23af6e4c374",
   "metadata": {},
   "outputs": [
    {
     "data": {
      "text/html": [
       "<div>\n",
       "<style scoped>\n",
       "    .dataframe tbody tr th:only-of-type {\n",
       "        vertical-align: middle;\n",
       "    }\n",
       "\n",
       "    .dataframe tbody tr th {\n",
       "        vertical-align: top;\n",
       "    }\n",
       "\n",
       "    .dataframe thead th {\n",
       "        text-align: right;\n",
       "    }\n",
       "</style>\n",
       "<table border=\"1\" class=\"dataframe\">\n",
       "  <thead>\n",
       "    <tr style=\"text-align: right;\">\n",
       "      <th></th>\n",
       "      <th>Product_Category</th>\n",
       "      <th>City_Category</th>\n",
       "    </tr>\n",
       "  </thead>\n",
       "  <tbody>\n",
       "    <tr>\n",
       "      <th>0</th>\n",
       "      <td>3.0</td>\n",
       "      <td>A</td>\n",
       "    </tr>\n",
       "    <tr>\n",
       "      <th>1</th>\n",
       "      <td>1.0</td>\n",
       "      <td>A</td>\n",
       "    </tr>\n",
       "    <tr>\n",
       "      <th>2</th>\n",
       "      <td>12.0</td>\n",
       "      <td>A</td>\n",
       "    </tr>\n",
       "    <tr>\n",
       "      <th>3</th>\n",
       "      <td>12.0</td>\n",
       "      <td>A</td>\n",
       "    </tr>\n",
       "    <tr>\n",
       "      <th>4</th>\n",
       "      <td>8.0</td>\n",
       "      <td>C</td>\n",
       "    </tr>\n",
       "    <tr>\n",
       "      <th>...</th>\n",
       "      <td>...</td>\n",
       "      <td>...</td>\n",
       "    </tr>\n",
       "    <tr>\n",
       "      <th>25031</th>\n",
       "      <td>5.0</td>\n",
       "      <td>B</td>\n",
       "    </tr>\n",
       "    <tr>\n",
       "      <th>25032</th>\n",
       "      <td>4.0</td>\n",
       "      <td>B</td>\n",
       "    </tr>\n",
       "    <tr>\n",
       "      <th>25033</th>\n",
       "      <td>11.0</td>\n",
       "      <td>C</td>\n",
       "    </tr>\n",
       "    <tr>\n",
       "      <th>25034</th>\n",
       "      <td>11.0</td>\n",
       "      <td>C</td>\n",
       "    </tr>\n",
       "    <tr>\n",
       "      <th>25035</th>\n",
       "      <td>1.0</td>\n",
       "      <td>C</td>\n",
       "    </tr>\n",
       "  </tbody>\n",
       "</table>\n",
       "<p>25036 rows × 2 columns</p>\n",
       "</div>"
      ],
      "text/plain": [
       "       Product_Category City_Category\n",
       "0                   3.0             A\n",
       "1                   1.0             A\n",
       "2                  12.0             A\n",
       "3                  12.0             A\n",
       "4                   8.0             C\n",
       "...                 ...           ...\n",
       "25031               5.0             B\n",
       "25032               4.0             B\n",
       "25033              11.0             C\n",
       "25034              11.0             C\n",
       "25035               1.0             C\n",
       "\n",
       "[25036 rows x 2 columns]"
      ]
     },
     "execution_count": 41,
     "metadata": {},
     "output_type": "execute_result"
    }
   ],
   "source": [
    "productCategory_city = df[['Product_Category','City_Category']]\n",
    "productCategory_city"
   ]
  },
  {
   "cell_type": "code",
   "execution_count": 42,
   "id": "24719fb0-c33d-4b08-848d-6600e6b9771e",
   "metadata": {},
   "outputs": [
    {
     "data": {
      "image/png": "[encoded data removed]",
      "text/plain": [
       "<Figure size 640x480 with 1 Axes>"
      ]
     },
     "metadata": {},
     "output_type": "display_data"
    }
   ],
   "source": [
    "sns.barplot(x= productCategory_city['City_Category'] , y= productCategory_city['Product_Category'])\n",
    "plt.show()"
   ]
  },
  {
   "cell_type": "code",
   "execution_count": 43,
   "id": "16ac8687-a75c-4d8c-9f90-a0671000c6a7",
   "metadata": {},
   "outputs": [
    {
     "data": {
      "image/png": "[encoded data removed]",
      "text/plain": [
       "<Figure size 640x480 with 1 Axes>"
      ]
     },
     "metadata": {},
     "output_type": "display_data"
    }
   ],
   "source": [
    "sns.barplot(x = df['City_Category'] , y =df['Purchase'])\n",
    "plt.show()"
   ]
  },
  {
   "cell_type": "code",
   "execution_count": 44,
   "id": "320836fd-8551-445e-8715-b0dee4a8539c",
   "metadata": {},
   "outputs": [
    {
     "data": {
      "image/png": "[encoded data removed]",
      "text/plain": [
       "<Figure size 640x480 with 1 Axes>"
      ]
     },
     "metadata": {},
     "output_type": "display_data"
    }
   ],
   "source": [
    "sns.lineplot(x= df['Occupation'] , y= df['Purchase'])\n",
    "plt.show()"
   ]
  },
  {
   "cell_type": "code",
   "execution_count": 45,
   "id": "56c8e6c0-80f6-4ed0-b024-8a61d9618aad",
   "metadata": {},
   "outputs": [
    {
     "data": {
      "image/png": "[encoded data removed]",
      "text/plain": [
       "<Figure size 640x480 with 1 Axes>"
      ]
     },
     "metadata": {},
     "output_type": "display_data"
    }
   ],
   "source": [
    "sns.boxplot(x=df['Age'],y=df['Purchase'])\n",
    "plt.show()"
   ]
  },
  {
   "cell_type": "code",
   "execution_count": 46,
   "id": "01af7729-5443-45ff-9212-ef7eb28157ed",
   "metadata": {},
   "outputs": [
    {
     "data": {
      "image/png": "[encoded data removed]",
      "text/plain": [
       "<Figure size 640x480 with 1 Axes>"
      ]
     },
     "metadata": {},
     "output_type": "display_data"
    }
   ],
   "source": [
    "sns.boxplot(x=df['Gender'],y=df['Purchase'])\n",
    "plt.show()"
   ]
  },
  {
   "cell_type": "markdown",
   "id": "50e5f206-1183-4d4c-aade-c14211354118",
   "metadata": {
    "jp-MarkdownHeadingCollapsed": true
   },
   "source": [
    "## Multi-Variate Analysis"
   ]
  },
  {
   "cell_type": "code",
   "execution_count": 47,
   "id": "e31e4003-9149-4b1b-a584-ee737aa5464d",
   "metadata": {},
   "outputs": [
    {
     "data": {
      "text/plain": [
       "User_ID                         int64\n",
       "Product_ID                     object\n",
       "Gender                         object\n",
       "Age                            object\n",
       "Occupation                    float64\n",
       "City_Category                  object\n",
       "Stay_In_Current_City_Years     object\n",
       "Marital_Status                float64\n",
       "Product_Category              float64\n",
       "Purchase                      float64\n",
       "dtype: object"
      ]
     },
     "execution_count": 47,
     "metadata": {},
     "output_type": "execute_result"
    }
   ],
   "source": [
    "df.dtypes"
   ]
  },
  {
   "cell_type": "code",
   "execution_count": 48,
   "id": "5e8f2bd4-d99c-44a1-8b02-c474061b1d1a",
   "metadata": {},
   "outputs": [
    {
     "data": {
      "image/png": "[encoded data removed]",
      "text/plain": [
       "<Figure size 640x480 with 1 Axes>"
      ]
     },
     "metadata": {},
     "output_type": "display_data"
    }
   ],
   "source": [
    "sns.boxplot(x=df['Age'],y=df['Purchase'],hue=df['Gender'])\n",
    "plt.show()"
   ]
  },
  {
   "cell_type": "code",
   "execution_count": 49,
   "id": "305334ca-c774-40ff-9566-faa253b82140",
   "metadata": {},
   "outputs": [
    {
     "data": {
      "image/png": "[encoded data removed]",
      "text/plain": [
       "<Figure size 640x480 with 1 Axes>"
      ]
     },
     "metadata": {},
     "output_type": "display_data"
    }
   ],
   "source": [
    "sns.barplot(x=df['Age'] , y=df['Purchase'] , hue=df['Marital_Status'].replace({1.0:\"Married\" , 0.0:\"Unmarried/Other\"}))\n",
    "plt.show()"
   ]
  },
  {
   "cell_type": "code",
   "execution_count": 50,
   "id": "e1df004e-ac81-4443-ac90-93f02037f070",
   "metadata": {},
   "outputs": [
    {
     "data": {
      "text/plain": [
       "Index([ 5.0,  1.0,  8.0, 11.0,  2.0,  3.0,  6.0,  4.0, 16.0, 15.0, 13.0, 10.0,\n",
       "       12.0,  7.0, 18.0, 14.0, 17.0,  9.0],\n",
       "      dtype='float64', name='Product_Category')"
      ]
     },
     "execution_count": 50,
     "metadata": {},
     "output_type": "execute_result"
    }
   ],
   "source": [
    "df['Product_Category'].value_counts().index"
   ]
  },
  {
   "cell_type": "code",
   "execution_count": 51,
   "id": "ac621417-e283-4c47-b6c1-72cf84108b0a",
   "metadata": {},
   "outputs": [
    {
     "data": {
      "image/png": "[encoded data removed]",
      "text/plain": [
       "<Figure size 640x480 with 1 Axes>"
      ]
     },
     "metadata": {},
     "output_type": "display_data"
    }
   ],
   "source": [
    "sns.lineplot(x=df['Product_Category'] , y=df['Purchase'] ,hue=df['Gender'])\n",
    "plt.show()"
   ]
  },
  {
   "cell_type": "code",
   "execution_count": 52,
   "id": "70fb614b-f15c-4e16-b073-577fc88f5906",
   "metadata": {},
   "outputs": [
    {
     "data": {
      "image/png": "[encoded data removed]",
      "text/plain": [
       "<Figure size 640x480 with 1 Axes>"
      ]
     },
     "metadata": {},
     "output_type": "display_data"
    }
   ],
   "source": [
    "sns.lineplot(x=df['Occupation'] , y=df['Purchase'] ,hue=df['Gender'])\n",
    "plt.show()"
   ]
  },
  {
   "cell_type": "markdown",
   "id": "3c9ad91b-a9f8-4d66-ac4e-91f68bc20771",
   "metadata": {},
   "source": [
    "## CLT and Confidence Interval"
   ]
  },
  {
   "cell_type": "markdown",
   "id": "2e602c5f-1eaa-454d-9630-c824c570d6ad",
   "metadata": {
    "jp-MarkdownHeadingCollapsed": true
   },
   "source": [
    "### How does gender affect the amount spent?"
   ]
  },
  {
   "cell_type": "code",
   "execution_count": 53,
   "id": "3727cf70-8889-441f-a4bd-6d17203369f8",
   "metadata": {},
   "outputs": [
    {
     "data": {
      "text/html": [
       "<div>\n",
       "<style scoped>\n",
       "    .dataframe tbody tr th:only-of-type {\n",
       "        vertical-align: middle;\n",
       "    }\n",
       "\n",
       "    .dataframe tbody tr th {\n",
       "        vertical-align: top;\n",
       "    }\n",
       "\n",
       "    .dataframe thead th {\n",
       "        text-align: right;\n",
       "    }\n",
       "</style>\n",
       "<table border=\"1\" class=\"dataframe\">\n",
       "  <thead>\n",
       "    <tr style=\"text-align: right;\">\n",
       "      <th></th>\n",
       "      <th>User_ID</th>\n",
       "      <th>Product_ID</th>\n",
       "      <th>Gender</th>\n",
       "      <th>Age</th>\n",
       "      <th>Occupation</th>\n",
       "      <th>City_Category</th>\n",
       "      <th>Stay_In_Current_City_Years</th>\n",
       "      <th>Marital_Status</th>\n",
       "      <th>Product_Category</th>\n",
       "      <th>Purchase</th>\n",
       "    </tr>\n",
       "  </thead>\n",
       "  <tbody>\n",
       "    <tr>\n",
       "      <th>0</th>\n",
       "      <td>1000001</td>\n",
       "      <td>P00069042</td>\n",
       "      <td>F</td>\n",
       "      <td>0-17</td>\n",
       "      <td>10.0</td>\n",
       "      <td>A</td>\n",
       "      <td>2</td>\n",
       "      <td>0.0</td>\n",
       "      <td>3.0</td>\n",
       "      <td>8370.0</td>\n",
       "    </tr>\n",
       "    <tr>\n",
       "      <th>1</th>\n",
       "      <td>1000001</td>\n",
       "      <td>P00248942</td>\n",
       "      <td>F</td>\n",
       "      <td>0-17</td>\n",
       "      <td>10.0</td>\n",
       "      <td>A</td>\n",
       "      <td>2</td>\n",
       "      <td>0.0</td>\n",
       "      <td>1.0</td>\n",
       "      <td>15200.0</td>\n",
       "    </tr>\n",
       "    <tr>\n",
       "      <th>2</th>\n",
       "      <td>1000001</td>\n",
       "      <td>P00087842</td>\n",
       "      <td>F</td>\n",
       "      <td>0-17</td>\n",
       "      <td>10.0</td>\n",
       "      <td>A</td>\n",
       "      <td>2</td>\n",
       "      <td>0.0</td>\n",
       "      <td>12.0</td>\n",
       "      <td>1422.0</td>\n",
       "    </tr>\n",
       "    <tr>\n",
       "      <th>3</th>\n",
       "      <td>1000001</td>\n",
       "      <td>P00085442</td>\n",
       "      <td>F</td>\n",
       "      <td>0-17</td>\n",
       "      <td>10.0</td>\n",
       "      <td>A</td>\n",
       "      <td>2</td>\n",
       "      <td>0.0</td>\n",
       "      <td>12.0</td>\n",
       "      <td>1057.0</td>\n",
       "    </tr>\n",
       "    <tr>\n",
       "      <th>4</th>\n",
       "      <td>1000002</td>\n",
       "      <td>P00285442</td>\n",
       "      <td>M</td>\n",
       "      <td>55+</td>\n",
       "      <td>16.0</td>\n",
       "      <td>C</td>\n",
       "      <td>4+</td>\n",
       "      <td>0.0</td>\n",
       "      <td>8.0</td>\n",
       "      <td>7969.0</td>\n",
       "    </tr>\n",
       "  </tbody>\n",
       "</table>\n",
       "</div>"
      ],
      "text/plain": [
       "   User_ID Product_ID Gender   Age  Occupation City_Category  \\\n",
       "0  1000001  P00069042      F  0-17        10.0             A   \n",
       "1  1000001  P00248942      F  0-17        10.0             A   \n",
       "2  1000001  P00087842      F  0-17        10.0             A   \n",
       "3  1000001  P00085442      F  0-17        10.0             A   \n",
       "4  1000002  P00285442      M   55+        16.0             C   \n",
       "\n",
       "  Stay_In_Current_City_Years  Marital_Status  Product_Category  Purchase  \n",
       "0                          2             0.0               3.0    8370.0  \n",
       "1                          2             0.0               1.0   15200.0  \n",
       "2                          2             0.0              12.0    1422.0  \n",
       "3                          2             0.0              12.0    1057.0  \n",
       "4                         4+             0.0               8.0    7969.0  "
      ]
     },
     "execution_count": 53,
     "metadata": {},
     "output_type": "execute_result"
    }
   ],
   "source": [
    "df.head()"
   ]
  },
  {
   "cell_type": "code",
   "execution_count": 72,
   "id": "cebdf925-9be6-4470-88d6-4daee033da57",
   "metadata": {},
   "outputs": [
    {
     "data": {
      "text/plain": [
       "Gender\n",
       "F     906\n",
       "M    2482\n",
       "Name: User_ID, dtype: int64"
      ]
     },
     "execution_count": 72,
     "metadata": {},
     "output_type": "execute_result"
    }
   ],
   "source": [
    "df.groupby(['Gender'])['User_ID'].nunique()"
   ]
  },
  {
   "cell_type": "markdown",
   "id": "4b4eb3b5-ef36-44e6-826e-ce95f7f55e1f",
   "metadata": {},
   "source": [
    "We can observe that we have 906 Female users and 2482 Male users from the given data sample."
   ]
  },
  {
   "cell_type": "code",
   "execution_count": 74,
   "id": "67c59385-986d-4ddc-b8a5-f5420cf6a082",
   "metadata": {},
   "outputs": [
    {
     "data": {
      "text/html": [
       "<div>\n",
       "<style scoped>\n",
       "    .dataframe tbody tr th:only-of-type {\n",
       "        vertical-align: middle;\n",
       "    }\n",
       "\n",
       "    .dataframe tbody tr th {\n",
       "        vertical-align: top;\n",
       "    }\n",
       "\n",
       "    .dataframe thead th {\n",
       "        text-align: right;\n",
       "    }\n",
       "</style>\n",
       "<table border=\"1\" class=\"dataframe\">\n",
       "  <thead>\n",
       "    <tr style=\"text-align: right;\">\n",
       "      <th></th>\n",
       "      <th>count</th>\n",
       "      <th>mean</th>\n",
       "      <th>std</th>\n",
       "      <th>min</th>\n",
       "      <th>25%</th>\n",
       "      <th>50%</th>\n",
       "      <th>75%</th>\n",
       "      <th>max</th>\n",
       "    </tr>\n",
       "    <tr>\n",
       "      <th>Gender</th>\n",
       "      <th></th>\n",
       "      <th></th>\n",
       "      <th></th>\n",
       "      <th></th>\n",
       "      <th></th>\n",
       "      <th></th>\n",
       "      <th></th>\n",
       "      <th></th>\n",
       "    </tr>\n",
       "  </thead>\n",
       "  <tbody>\n",
       "    <tr>\n",
       "      <th>F</th>\n",
       "      <td>5897.0</td>\n",
       "      <td>8730.292691</td>\n",
       "      <td>4650.481341</td>\n",
       "      <td>347.0</td>\n",
       "      <td>5451.0</td>\n",
       "      <td>7916.0</td>\n",
       "      <td>11030.0</td>\n",
       "      <td>23910.0</td>\n",
       "    </tr>\n",
       "    <tr>\n",
       "      <th>M</th>\n",
       "      <td>19139.0</td>\n",
       "      <td>9398.277287</td>\n",
       "      <td>5011.996624</td>\n",
       "      <td>186.0</td>\n",
       "      <td>5871.0</td>\n",
       "      <td>8088.0</td>\n",
       "      <td>12123.5</td>\n",
       "      <td>23958.0</td>\n",
       "    </tr>\n",
       "  </tbody>\n",
       "</table>\n",
       "</div>"
      ],
      "text/plain": [
       "          count         mean          std    min     25%     50%      75%  \\\n",
       "Gender                                                                      \n",
       "F        5897.0  8730.292691  4650.481341  347.0  5451.0  7916.0  11030.0   \n",
       "M       19139.0  9398.277287  5011.996624  186.0  5871.0  8088.0  12123.5   \n",
       "\n",
       "            max  \n",
       "Gender           \n",
       "F       23910.0  \n",
       "M       23958.0  "
      ]
     },
     "execution_count": 74,
     "metadata": {},
     "output_type": "execute_result"
    }
   ],
   "source": [
    "df.groupby('Gender')['Purchase'].describe()"
   ]
  },
  {
   "cell_type": "markdown",
   "id": "89150eca-f2d1-4603-b8c2-1b86d2a1d111",
   "metadata": {},
   "source": [
    "**Checking for 95% Confidence based on sample data if Gender affect Amount spent**\n",
    "\n",
    "*(The z-score for a 95% confidence interval is 1.96.)*"
   ]
  },
  {
   "cell_type": "code",
   "execution_count": 77,
   "id": "ab964bdd-f008-4a10-91af-37be0fab0737",
   "metadata": {},
   "outputs": [
    {
     "name": "stdout",
     "output_type": "stream",
     "text": [
      "Male Confidence Interval based on sample data: \n"
     ]
    },
    {
     "data": {
      "text/plain": [
       "(19221.790670650335, -425.2360962211569)"
      ]
     },
     "execution_count": 77,
     "metadata": {},
     "output_type": "execute_result"
    }
   ],
   "source": [
    "print(\"Male Confidence Interval based on sample data: \")\n",
    "df[df['Gender']=='M']['Purchase'].mean() + (1.96 * df[df['Gender']=='M']['Purchase'].std()) , df[df['Gender']=='M']['Purchase'].mean() - (1.96 * df[df['Gender']=='M']['Purchase'].std())"
   ]
  },
  {
   "cell_type": "code",
   "execution_count": 78,
   "id": "6fbfdc33-1d49-4440-b9cd-d1b69f924c77",
   "metadata": {},
   "outputs": [
    {
     "name": "stdout",
     "output_type": "stream",
     "text": [
      "Female Confidence Interval based on sample data: \n"
     ]
    },
    {
     "data": {
      "text/plain": [
       "(17845.236119129688, -384.65073673185725)"
      ]
     },
     "execution_count": 78,
     "metadata": {},
     "output_type": "execute_result"
    }
   ],
   "source": [
    "print(\"Female Confidence Interval based on sample data: \")\n",
    "df[df['Gender']=='F']['Purchase'].mean() + (1.96 * df[df['Gender']=='F']['Purchase'].std()) , df[df['Gender']=='F']['Purchase'].mean() - (1.96 * df[df['Gender']=='F']['Purchase'].std())"
   ]
  },
  {
   "cell_type": "markdown",
   "id": "bf038504-de06-42b4-a113-3f4101003c9c",
   "metadata": {},
   "source": [
    "Since there is a clear Overlap in the Limits we cannot say for sure wheter the M or F spend more"
   ]
  },
  {
   "cell_type": "markdown",
   "id": "8555bdee-4f98-446c-9a29-a184b2fe7da6",
   "metadata": {},
   "source": [
    "**Checking for 95% Confidence: Sample Sizes(300/3000)**"
   ]
  },
  {
   "cell_type": "code",
   "execution_count": 113,
   "id": "10a83ad6-5e1c-4059-b26e-e697fbe207fe",
   "metadata": {},
   "outputs": [
    {
     "data": {
      "text/plain": [
       "[9119.686666666666,\n",
       " 9230.306666666667,\n",
       " 9123.47,\n",
       " 10011.526666666667,\n",
       " 9160.256666666666,\n",
       " 9386.38,\n",
       " 9459.556666666667,\n",
       " 9359.396666666667,\n",
       " 9091.723333333333,\n",
       " 9716.81,\n",
       " 9453.7,\n",
       " 9587.173333333334,\n",
       " 9536.363333333333,\n",
       " 9309.73,\n",
       " 9380.523333333333,\n",
       " 9632.64,\n",
       " 8993.503333333334,\n",
       " 9895.543333333333,\n",
       " 9866.466666666667,\n",
       " 8879.486666666666,\n",
       " 9309.61,\n",
       " 9012.38,\n",
       " 9488.873333333333,\n",
       " 9401.776666666667,\n",
       " 9420.17,\n",
       " 9511.43,\n",
       " 9427.19,\n",
       " 9231.306666666667,\n",
       " 9471.69,\n",
       " 9319.496666666666,\n",
       " 9469.0,\n",
       " 9644.63,\n",
       " 9375.183333333332,\n",
       " 9459.633333333333,\n",
       " 9531.44,\n",
       " 9453.063333333334,\n",
       " 9405.273333333333,\n",
       " 9130.793333333333,\n",
       " 9217.793333333333,\n",
       " 9644.746666666666,\n",
       " 9460.51,\n",
       " 9396.186666666666,\n",
       " 9378.61,\n",
       " 9628.136666666667,\n",
       " 9907.666666666666,\n",
       " 9287.2,\n",
       " 9569.65,\n",
       " 8893.493333333334,\n",
       " 9998.64,\n",
       " 9227.44,\n",
       " 9533.383333333333,\n",
       " 9227.286666666667,\n",
       " 8887.656666666666,\n",
       " 9028.02,\n",
       " 9286.916666666666,\n",
       " 9276.56,\n",
       " 9323.816666666668,\n",
       " 9475.533333333333,\n",
       " 9398.35,\n",
       " 9535.973333333333,\n",
       " 9051.876666666667,\n",
       " 9545.926666666666,\n",
       " 9668.086666666666,\n",
       " 9518.676666666666,\n",
       " 9801.6,\n",
       " 9320.306666666667,\n",
       " 9350.996666666666,\n",
       " 9394.306666666667,\n",
       " 9385.876666666667,\n",
       " 9221.136666666667,\n",
       " 9470.833333333334,\n",
       " 9396.296666666667,\n",
       " 8884.603333333333,\n",
       " 9260.44,\n",
       " 9477.456666666667,\n",
       " 9332.373333333333,\n",
       " 9445.773333333333,\n",
       " 9160.04,\n",
       " 8957.336666666666,\n",
       " 9060.49,\n",
       " 9313.176666666666,\n",
       " 9349.97,\n",
       " 9046.523333333333,\n",
       " 9725.883333333333,\n",
       " 9346.07,\n",
       " 9609.693333333333,\n",
       " 9921.643333333333,\n",
       " 9290.053333333333,\n",
       " 9331.943333333333,\n",
       " 9549.793333333333,\n",
       " 8900.833333333334,\n",
       " 9260.106666666667,\n",
       " 9250.423333333334,\n",
       " 9554.72,\n",
       " 9197.133333333333,\n",
       " 9134.856666666667,\n",
       " 9543.563333333334,\n",
       " 9454.64,\n",
       " 9415.706666666667,\n",
       " 9442.016666666666,\n",
       " 9242.58,\n",
       " 9053.43,\n",
       " 9038.753333333334,\n",
       " 8990.786666666667,\n",
       " 8897.3,\n",
       " 9574.86,\n",
       " 9089.743333333334,\n",
       " 8710.286666666667,\n",
       " 9360.973333333333,\n",
       " 9297.77,\n",
       " 9150.316666666668,\n",
       " 9559.32,\n",
       " 9191.373333333333,\n",
       " 9138.12,\n",
       " 9411.186666666666,\n",
       " 9365.5,\n",
       " 9283.373333333333,\n",
       " 9142.706666666667,\n",
       " 9447.136666666667,\n",
       " 9382.693333333333,\n",
       " 9924.34,\n",
       " 9610.713333333333,\n",
       " 9719.223333333333,\n",
       " 9027.416666666666,\n",
       " 9073.513333333334,\n",
       " 9593.276666666667,\n",
       " 10138.04,\n",
       " 8879.5,\n",
       " 9784.493333333334,\n",
       " 8730.82,\n",
       " 9026.89,\n",
       " 9516.356666666667,\n",
       " 8810.08,\n",
       " 10095.013333333334,\n",
       " 9359.073333333334,\n",
       " 9425.83,\n",
       " 9210.45,\n",
       " 9112.18,\n",
       " 9166.676666666666,\n",
       " 8988.63,\n",
       " 9766.79,\n",
       " 9958.403333333334,\n",
       " 9808.053333333333,\n",
       " 9182.886666666667,\n",
       " 9027.016666666666,\n",
       " 9458.46,\n",
       " 9642.83,\n",
       " 9565.78,\n",
       " 8779.496666666666,\n",
       " 9282.153333333334,\n",
       " 9530.143333333333,\n",
       " 9128.456666666667,\n",
       " 9121.5,\n",
       " 9588.546666666667,\n",
       " 9459.433333333332,\n",
       " 9680.093333333334,\n",
       " 9368.226666666667,\n",
       " 9277.44,\n",
       " 9469.486666666666,\n",
       " 9407.66,\n",
       " 9441.033333333333,\n",
       " 9316.65,\n",
       " 9132.52,\n",
       " 9318.59,\n",
       " 9003.283333333333,\n",
       " 9553.903333333334,\n",
       " 9407.176666666666,\n",
       " 9160.413333333334,\n",
       " 9386.48,\n",
       " 10053.213333333333,\n",
       " 9563.773333333333,\n",
       " 9408.023333333333,\n",
       " 9571.413333333334,\n",
       " 9616.096666666666,\n",
       " 10281.596666666666,\n",
       " 9268.616666666667,\n",
       " 9236.816666666668,\n",
       " 9540.733333333334,\n",
       " 9110.37,\n",
       " 9651.393333333333,\n",
       " 9379.386666666667,\n",
       " 9356.686666666666,\n",
       " 9066.88,\n",
       " 9154.926666666666,\n",
       " 9225.073333333334,\n",
       " 9710.19,\n",
       " 9114.096666666666,\n",
       " 9182.293333333333,\n",
       " 9292.26,\n",
       " 8974.916666666666,\n",
       " 9652.47,\n",
       " 9347.273333333333,\n",
       " 9422.983333333334,\n",
       " 8848.62,\n",
       " 9127.646666666667,\n",
       " 9184.0,\n",
       " 9683.966666666667,\n",
       " 9211.913333333334,\n",
       " 9537.023333333333,\n",
       " 9600.176666666666,\n",
       " 9429.216666666667,\n",
       " 9483.726666666667,\n",
       " 9878.193333333333,\n",
       " 9264.576666666666,\n",
       " 9371.413333333334,\n",
       " 9196.566666666668,\n",
       " 8689.053333333333,\n",
       " 9366.993333333334,\n",
       " 8988.616666666667,\n",
       " 9437.55,\n",
       " 8803.793333333333,\n",
       " 9096.963333333333,\n",
       " 9276.313333333334,\n",
       " 9280.86,\n",
       " 8968.23,\n",
       " 9260.993333333334,\n",
       " 9399.123333333333,\n",
       " 9169.096666666666,\n",
       " 9666.07,\n",
       " 9294.166666666666,\n",
       " 9447.98,\n",
       " 9345.866666666667,\n",
       " 9582.446666666667,\n",
       " 9906.08,\n",
       " 9178.613333333333,\n",
       " 9079.346666666666,\n",
       " 9175.126666666667,\n",
       " 9312.303333333333,\n",
       " 8892.396666666667,\n",
       " 9415.31,\n",
       " 9928.543333333333,\n",
       " 8892.75,\n",
       " 9100.063333333334,\n",
       " 8910.243333333334,\n",
       " 9735.293333333333,\n",
       " 9313.603333333333,\n",
       " 9450.03,\n",
       " 8919.403333333334,\n",
       " 9401.386666666667,\n",
       " 9620.483333333334,\n",
       " 9009.436666666666,\n",
       " 9959.363333333333,\n",
       " 8873.866666666667,\n",
       " 9480.143333333333,\n",
       " 9568.623333333333,\n",
       " 9121.05,\n",
       " 9596.966666666667,\n",
       " 9248.776666666667,\n",
       " 9849.88,\n",
       " 9359.423333333334,\n",
       " 9529.52,\n",
       " 9483.103333333333,\n",
       " 9012.196666666667,\n",
       " 9380.433333333332,\n",
       " 9385.28,\n",
       " 9072.27,\n",
       " 9405.14,\n",
       " 9513.093333333334,\n",
       " 9492.646666666667,\n",
       " 9039.37,\n",
       " 9912.936666666666,\n",
       " 9602.0,\n",
       " 9783.623333333333,\n",
       " 9513.98,\n",
       " 9762.576666666666,\n",
       " 9483.913333333334,\n",
       " 9464.63,\n",
       " 9337.486666666666,\n",
       " 9014.726666666667,\n",
       " 9606.99,\n",
       " 9623.166666666666,\n",
       " 9336.96,\n",
       " 9237.666666666666,\n",
       " 9474.726666666667,\n",
       " 9963.24,\n",
       " 9469.046666666667,\n",
       " 9599.766666666666,\n",
       " 9545.533333333333,\n",
       " 9178.37,\n",
       " 9636.04,\n",
       " 9208.046666666667,\n",
       " 9113.783333333333,\n",
       " 9974.093333333334,\n",
       " 9539.026666666667,\n",
       " 9366.853333333333,\n",
       " 9569.516666666666,\n",
       " 9349.116666666667,\n",
       " 9910.013333333334,\n",
       " 9202.206666666667,\n",
       " 9693.74,\n",
       " 9451.796666666667,\n",
       " 9116.663333333334,\n",
       " 9095.936666666666,\n",
       " 9335.973333333333,\n",
       " 8774.853333333333,\n",
       " 9516.853333333333,\n",
       " 9211.0,\n",
       " 10099.046666666667,\n",
       " 9836.52,\n",
       " 9071.483333333334,\n",
       " 9575.796666666667,\n",
       " 9213.906666666666,\n",
       " 9018.34,\n",
       " 9365.146666666667,\n",
       " 9285.973333333333,\n",
       " 9406.286666666667,\n",
       " 9820.38,\n",
       " 9342.61,\n",
       " 9493.58,\n",
       " 9853.966666666667,\n",
       " 8918.563333333334,\n",
       " 9459.583333333334,\n",
       " 9862.593333333334,\n",
       " 9170.226666666667,\n",
       " 9472.623333333333,\n",
       " 9405.81,\n",
       " 9085.953333333333,\n",
       " 9050.276666666667,\n",
       " 9582.873333333333,\n",
       " 9799.87,\n",
       " 8871.103333333333,\n",
       " 8897.483333333334,\n",
       " 9161.51,\n",
       " 9409.043333333333,\n",
       " 9550.203333333333,\n",
       " 9485.46,\n",
       " 9657.133333333333,\n",
       " 9021.496666666666,\n",
       " 9687.813333333334,\n",
       " 9560.926666666666,\n",
       " 9352.48,\n",
       " 9894.593333333334,\n",
       " 9464.176666666666,\n",
       " 8800.703333333333,\n",
       " 9823.713333333333,\n",
       " 9262.46,\n",
       " 9212.656666666666,\n",
       " 9628.483333333334,\n",
       " 9215.726666666667,\n",
       " 8972.046666666667,\n",
       " 9030.916666666666,\n",
       " 9267.18,\n",
       " 9304.736666666666,\n",
       " 10105.466666666667,\n",
       " 9688.57,\n",
       " 10152.673333333334,\n",
       " 8775.96,\n",
       " 9398.963333333333,\n",
       " 9927.99,\n",
       " 9345.353333333333,\n",
       " 8989.64,\n",
       " 9535.99,\n",
       " 10077.873333333333,\n",
       " 9426.623333333333,\n",
       " 9174.24,\n",
       " 9892.806666666667,\n",
       " 9113.16,\n",
       " 9894.586666666666,\n",
       " 9083.136666666667,\n",
       " 9381.36,\n",
       " 9164.186666666666,\n",
       " 9328.603333333333,\n",
       " 9010.916666666666,\n",
       " 9546.603333333333,\n",
       " 9674.963333333333,\n",
       " 9153.53,\n",
       " 9658.89,\n",
       " 9529.07,\n",
       " 9628.81,\n",
       " 9668.296666666667,\n",
       " 9396.64,\n",
       " 9392.94,\n",
       " 9244.833333333334,\n",
       " 9583.393333333333,\n",
       " 8945.413333333334,\n",
       " 9252.386666666667,\n",
       " 9608.35,\n",
       " 9012.34,\n",
       " 9298.876666666667,\n",
       " 9397.863333333333,\n",
       " 8997.68,\n",
       " 9896.303333333333,\n",
       " 9227.23,\n",
       " 9193.82,\n",
       " 9073.753333333334,\n",
       " 9381.666666666666,\n",
       " 9082.843333333334,\n",
       " 9836.883333333333,\n",
       " 9392.976666666667,\n",
       " 9568.266666666666,\n",
       " 9269.216666666667,\n",
       " 9231.396666666667,\n",
       " 9689.85,\n",
       " 9527.156666666666,\n",
       " 9793.02,\n",
       " 9250.41,\n",
       " 9794.133333333333,\n",
       " 9504.413333333334,\n",
       " 9485.44,\n",
       " 9767.176666666666,\n",
       " 9305.0,\n",
       " 9551.77,\n",
       " 9655.176666666666,\n",
       " 9034.9,\n",
       " 9955.71,\n",
       " 9703.84,\n",
       " 9468.45,\n",
       " 8583.79,\n",
       " 9428.373333333333,\n",
       " 9489.196666666667,\n",
       " 9589.556666666667,\n",
       " 9708.316666666668,\n",
       " 9154.903333333334,\n",
       " 9538.123333333333,\n",
       " 9190.83,\n",
       " 9104.15,\n",
       " 8867.366666666667,\n",
       " 9583.686666666666,\n",
       " 9407.07,\n",
       " 9352.61,\n",
       " 9598.54,\n",
       " 9731.53,\n",
       " 9417.423333333334,\n",
       " 9017.263333333334,\n",
       " 9116.49,\n",
       " 9524.72,\n",
       " 9325.163333333334,\n",
       " 9492.383333333333,\n",
       " 8710.233333333334,\n",
       " 9473.806666666667,\n",
       " 9255.886666666667,\n",
       " 9583.553333333333,\n",
       " 9639.42,\n",
       " 9897.296666666667,\n",
       " 9122.103333333333,\n",
       " 9282.29,\n",
       " 9647.223333333333,\n",
       " 9058.81,\n",
       " 9158.296666666667,\n",
       " 9309.903333333334,\n",
       " 9088.21,\n",
       " 9778.37,\n",
       " 9828.366666666667,\n",
       " 9319.47,\n",
       " 8857.286666666667,\n",
       " 8821.326666666666,\n",
       " 9556.843333333334,\n",
       " 9772.816666666668,\n",
       " 9605.97,\n",
       " 9796.06,\n",
       " 9822.606666666667,\n",
       " 9385.82,\n",
       " 9687.546666666667,\n",
       " 9544.37,\n",
       " 9384.54,\n",
       " 9690.703333333333,\n",
       " 9475.753333333334,\n",
       " 9882.23,\n",
       " 8963.51,\n",
       " 9764.06,\n",
       " 9439.17,\n",
       " 9443.476666666667,\n",
       " 8994.403333333334,\n",
       " 9569.43,\n",
       " 9410.156666666666,\n",
       " 9166.796666666667,\n",
       " 9254.74,\n",
       " 9520.753333333334,\n",
       " 9985.646666666667,\n",
       " 9673.753333333334,\n",
       " 9120.5,\n",
       " 9251.306666666667,\n",
       " 9359.21,\n",
       " 9525.563333333334,\n",
       " 9774.67,\n",
       " 9083.843333333334,\n",
       " 9379.24,\n",
       " 9909.18,\n",
       " 9364.22,\n",
       " 9150.176666666666,\n",
       " 9306.5,\n",
       " 9707.973333333333,\n",
       " 9325.713333333333,\n",
       " 9346.09,\n",
       " 9703.756666666666,\n",
       " 9613.236666666666,\n",
       " 9798.873333333333,\n",
       " 9932.626666666667,\n",
       " 9222.683333333332,\n",
       " 9040.493333333334,\n",
       " 9534.693333333333,\n",
       " 9667.61,\n",
       " 9624.396666666667,\n",
       " 9509.053333333333,\n",
       " 9070.95,\n",
       " 9025.726666666667,\n",
       " 9618.053333333333,\n",
       " 9623.87,\n",
       " 9004.44,\n",
       " 9667.016666666666,\n",
       " 9225.58,\n",
       " 9599.576666666666,\n",
       " 9489.676666666666,\n",
       " 9665.723333333333,\n",
       " 9235.653333333334,\n",
       " 9569.496666666666,\n",
       " 9264.556666666667,\n",
       " 9661.826666666666,\n",
       " 9643.38,\n",
       " 9282.356666666667,\n",
       " 9190.783333333333,\n",
       " 9528.416666666666,\n",
       " 9156.063333333334,\n",
       " 9464.62,\n",
       " 9535.153333333334,\n",
       " 8727.22,\n",
       " 9478.853333333333,\n",
       " 9295.266666666666,\n",
       " 9371.003333333334,\n",
       " 9113.56,\n",
       " 8752.563333333334,\n",
       " 9143.336666666666,\n",
       " 9310.646666666667,\n",
       " 9695.786666666667,\n",
       " 9556.67,\n",
       " 9725.933333333332,\n",
       " 9522.193333333333,\n",
       " 9165.33,\n",
       " 9196.36,\n",
       " 9208.933333333332,\n",
       " 9750.606666666667,\n",
       " 9399.493333333334,\n",
       " 8936.163333333334,\n",
       " 9477.656666666666,\n",
       " 9237.42,\n",
       " 9636.006666666666,\n",
       " 9303.866666666667,\n",
       " 9195.34,\n",
       " 9462.25,\n",
       " 9463.093333333334,\n",
       " 9384.23,\n",
       " 9333.376666666667,\n",
       " 9136.353333333333,\n",
       " 9380.523333333333,\n",
       " 9550.906666666666,\n",
       " 9091.713333333333,\n",
       " 9748.606666666667,\n",
       " 9072.146666666667,\n",
       " 9999.416666666666,\n",
       " 9193.96,\n",
       " 9228.49,\n",
       " 9215.74,\n",
       " 8874.04,\n",
       " 9330.79,\n",
       " 9671.32,\n",
       " 9427.386666666667,\n",
       " 9194.416666666666,\n",
       " 9510.353333333333,\n",
       " 8919.673333333334,\n",
       " 9131.853333333333,\n",
       " 9201.77,\n",
       " 9958.09,\n",
       " 9554.35,\n",
       " 9662.103333333333,\n",
       " 8896.583333333334,\n",
       " 9510.423333333334,\n",
       " 9595.54,\n",
       " 9404.566666666668,\n",
       " 9796.436666666666,\n",
       " 9147.27,\n",
       " 9708.743333333334,\n",
       " 8594.07,\n",
       " 9237.466666666667,\n",
       " 9224.11,\n",
       " 9249.106666666667,\n",
       " 9383.08,\n",
       " 9290.32,\n",
       " 9247.026666666667,\n",
       " 9441.866666666667,\n",
       " 9474.946666666667,\n",
       " 9842.626666666667,\n",
       " 9375.11,\n",
       " 9274.393333333333,\n",
       " 9285.823333333334,\n",
       " 9543.66,\n",
       " 9397.253333333334,\n",
       " 9723.516666666666,\n",
       " 9662.246666666666,\n",
       " 9951.723333333333,\n",
       " 9544.563333333334,\n",
       " 9885.933333333332,\n",
       " 9426.296666666667,\n",
       " 9366.89,\n",
       " 9314.276666666667,\n",
       " 9490.653333333334,\n",
       " 9384.486666666666,\n",
       " 9507.343333333334,\n",
       " 9295.736666666666,\n",
       " 9400.24,\n",
       " 9080.553333333333,\n",
       " 9440.563333333334,\n",
       " 9526.396666666667,\n",
       " 9769.66,\n",
       " 9416.176666666666,\n",
       " 9654.006666666666,\n",
       " 9496.243333333334,\n",
       " 9526.813333333334,\n",
       " 9793.386666666667,\n",
       " 9338.13,\n",
       " 9111.706666666667,\n",
       " 9476.21,\n",
       " 9204.236666666666,\n",
       " 9706.723333333333,\n",
       " 8936.62,\n",
       " 9559.553333333333,\n",
       " 9583.43,\n",
       " 9340.323333333334,\n",
       " 9798.246666666666,\n",
       " 9455.57,\n",
       " 9533.07,\n",
       " 9084.556666666667,\n",
       " 9652.676666666666,\n",
       " 9189.753333333334,\n",
       " 9190.946666666667,\n",
       " 9065.61,\n",
       " 9449.643333333333,\n",
       " 9870.68,\n",
       " 9809.85,\n",
       " 8976.156666666666,\n",
       " 9018.163333333334,\n",
       " 9145.626666666667,\n",
       " 9546.72,\n",
       " 9109.586666666666,\n",
       " 8875.11,\n",
       " 9382.523333333333,\n",
       " 9405.31,\n",
       " 8956.833333333334,\n",
       " 9117.033333333333,\n",
       " 9005.41,\n",
       " 9318.826666666666,\n",
       " 9490.333333333334,\n",
       " 9362.02,\n",
       " 9668.07,\n",
       " 9596.436666666666,\n",
       " 8690.496666666666,\n",
       " 9146.73,\n",
       " 9557.256666666666,\n",
       " 9373.853333333333,\n",
       " 9313.946666666667,\n",
       " 9097.59,\n",
       " 9382.8,\n",
       " 9293.693333333333,\n",
       " 9156.69,\n",
       " 9954.496666666666,\n",
       " 9359.046666666667,\n",
       " 9053.75,\n",
       " 9301.646666666667,\n",
       " 9715.3,\n",
       " 9230.42,\n",
       " 9078.213333333333,\n",
       " 9611.306666666667,\n",
       " 9086.763333333334,\n",
       " 9689.783333333333,\n",
       " 9251.97,\n",
       " 9671.686666666666,\n",
       " 9288.02,\n",
       " 9391.98,\n",
       " 9947.076666666666,\n",
       " 9476.483333333334,\n",
       " 9775.283333333333,\n",
       " 9587.903333333334,\n",
       " 9334.376666666667,\n",
       " 9525.676666666666,\n",
       " 9123.416666666666,\n",
       " 9413.456666666667,\n",
       " 9258.793333333333,\n",
       " 9988.45,\n",
       " 9013.43,\n",
       " 9605.5,\n",
       " 9438.64,\n",
       " 9191.943333333333,\n",
       " 9311.47,\n",
       " 9846.523333333333,\n",
       " 9660.86,\n",
       " 9460.706666666667,\n",
       " 9304.883333333333,\n",
       " 8967.74,\n",
       " 10564.576666666666,\n",
       " 9284.163333333334,\n",
       " 8912.04,\n",
       " 9280.316666666668,\n",
       " 8892.45,\n",
       " 9734.456666666667,\n",
       " 9308.813333333334,\n",
       " 9038.01,\n",
       " 9521.016666666666,\n",
       " 9467.08,\n",
       " 9402.5,\n",
       " 9527.413333333334,\n",
       " 9338.326666666666,\n",
       " 9863.306666666667,\n",
       " 9477.326666666666,\n",
       " 9514.616666666667,\n",
       " 9276.913333333334,\n",
       " 9548.593333333334,\n",
       " 9454.363333333333,\n",
       " 9769.393333333333,\n",
       " 9518.06,\n",
       " 9405.486666666666,\n",
       " 10041.133333333333,\n",
       " 9338.796666666667,\n",
       " 9243.526666666667,\n",
       " 9893.71,\n",
       " 9024.526666666667,\n",
       " 9455.32,\n",
       " 9573.496666666666,\n",
       " 9226.346666666666,\n",
       " 9504.706666666667,\n",
       " 9229.653333333334,\n",
       " 9103.49,\n",
       " 9478.96,\n",
       " 9536.42,\n",
       " 8415.036666666667,\n",
       " 9645.976666666667,\n",
       " 9002.396666666667,\n",
       " 9561.446666666667,\n",
       " 8938.9,\n",
       " 9464.626666666667,\n",
       " 9632.63,\n",
       " 9159.086666666666,\n",
       " 9614.993333333334,\n",
       " 9074.966666666667,\n",
       " 9470.613333333333,\n",
       " 9336.013333333334,\n",
       " 9278.186666666666,\n",
       " 9335.37,\n",
       " 8991.46,\n",
       " 9628.343333333334,\n",
       " 9451.663333333334,\n",
       " 9868.753333333334,\n",
       " 9650.8,\n",
       " 9207.47,\n",
       " 9060.203333333333,\n",
       " 9616.21,\n",
       " 9354.453333333333,\n",
       " 9514.096666666666,\n",
       " 9459.553333333333,\n",
       " 9356.993333333334,\n",
       " 9777.23,\n",
       " 9535.693333333333,\n",
       " 9303.206666666667,\n",
       " 9581.946666666667,\n",
       " 9569.23,\n",
       " 9442.31,\n",
       " 9028.493333333334,\n",
       " 9258.893333333333,\n",
       " 9515.383333333333,\n",
       " 9346.873333333333,\n",
       " 9263.653333333334,\n",
       " 9441.306666666667,\n",
       " 9164.113333333333,\n",
       " 9211.89,\n",
       " 9447.29,\n",
       " 10021.623333333333,\n",
       " 9629.166666666666,\n",
       " 9286.273333333333,\n",
       " 9536.173333333334,\n",
       " 9542.186666666666,\n",
       " 9877.033333333333,\n",
       " 9073.323333333334,\n",
       " 9144.34,\n",
       " 9124.466666666667,\n",
       " 9234.24,\n",
       " 9204.326666666666,\n",
       " 9631.36,\n",
       " 9691.846666666666,\n",
       " 9250.343333333334,\n",
       " 9332.586666666666,\n",
       " 9220.2,\n",
       " 9294.273333333333,\n",
       " 9510.683333333332,\n",
       " 9333.53,\n",
       " 9256.35,\n",
       " 9118.143333333333,\n",
       " 9498.716666666667,\n",
       " 9274.513333333334,\n",
       " 9585.756666666666,\n",
       " 9457.846666666666,\n",
       " 9317.6,\n",
       " 9239.566666666668,\n",
       " 9425.813333333334,\n",
       " 9671.85,\n",
       " 9547.376666666667,\n",
       " 9160.036666666667,\n",
       " 9432.78,\n",
       " 9306.01,\n",
       " 9112.86,\n",
       " 9622.573333333334,\n",
       " 9247.883333333333,\n",
       " 9292.533333333333,\n",
       " 9053.85,\n",
       " 9383.953333333333,\n",
       " 9462.626666666667,\n",
       " 9174.05,\n",
       " 9680.906666666666,\n",
       " 8988.373333333333,\n",
       " 9369.313333333334,\n",
       " 9327.37,\n",
       " 9395.32,\n",
       " 9171.53,\n",
       " 9083.656666666666,\n",
       " 9601.793333333333,\n",
       " 9460.606666666667,\n",
       " 9493.256666666666,\n",
       " 9202.596666666666,\n",
       " 9094.8,\n",
       " 9532.05,\n",
       " 9382.466666666667,\n",
       " 9408.343333333334,\n",
       " 9891.226666666667,\n",
       " 9130.576666666666,\n",
       " 9326.433333333332,\n",
       " 9228.016666666666,\n",
       " 9458.25,\n",
       " 9433.033333333333,\n",
       " 9159.93,\n",
       " 9084.663333333334,\n",
       " 9396.146666666667,\n",
       " 8742.243333333334,\n",
       " 9107.433333333332,\n",
       " 9055.903333333334,\n",
       " 9398.613333333333,\n",
       " 9872.933333333332,\n",
       " 8815.5,\n",
       " 9124.973333333333,\n",
       " 9190.48,\n",
       " 9531.666666666666,\n",
       " 9601.516666666666,\n",
       " 8858.79,\n",
       " 9387.933333333332,\n",
       " 9336.0,\n",
       " 9108.22,\n",
       " 9331.75,\n",
       " 9351.323333333334,\n",
       " 9401.303333333333,\n",
       " 9375.25,\n",
       " 9284.726666666667,\n",
       " 9681.243333333334,\n",
       " 9641.56,\n",
       " 9789.006666666666,\n",
       " 9820.556666666667,\n",
       " 9530.936666666666,\n",
       " 9758.55,\n",
       " 9254.396666666667,\n",
       " 9188.263333333334,\n",
       " 9368.516666666666,\n",
       " 8603.596666666666,\n",
       " 9390.52,\n",
       " 9226.28,\n",
       " 9296.62,\n",
       " 9361.28,\n",
       " 9385.256666666666,\n",
       " 9806.173333333334,\n",
       " 9464.083333333334,\n",
       " 9460.37,\n",
       " 9142.576666666666,\n",
       " 9696.12,\n",
       " 9168.866666666667,\n",
       " 9682.153333333334,\n",
       " 9477.136666666667,\n",
       " 9490.07,\n",
       " 9967.816666666668,\n",
       " 9378.313333333334,\n",
       " 9794.126666666667,\n",
       " 9197.73,\n",
       " 9091.153333333334,\n",
       " 9585.316666666668,\n",
       " 9784.08,\n",
       " 9261.086666666666,\n",
       " 9293.136666666667,\n",
       " 9966.86,\n",
       " 9086.913333333334,\n",
       " 9307.126666666667,\n",
       " 9561.756666666666,\n",
       " 9371.163333333334,\n",
       " 9218.616666666667,\n",
       " 9490.183333333332,\n",
       " 9339.663333333334,\n",
       " 10007.22,\n",
       " 9667.52,\n",
       " 9675.22,\n",
       " 9530.483333333334,\n",
       " 9489.836666666666,\n",
       " 9242.236666666666,\n",
       " 9707.416666666666,\n",
       " 9426.116666666667,\n",
       " 9586.943333333333,\n",
       " 9508.93,\n",
       " 9045.733333333334,\n",
       " 9567.32,\n",
       " 9449.213333333333,\n",
       " 9372.6,\n",
       " 9698.056666666667,\n",
       " 9451.05,\n",
       " 9094.503333333334,\n",
       " 9424.14,\n",
       " 9983.4,\n",
       " 9767.176666666666,\n",
       " 9145.263333333334,\n",
       " 9554.716666666667,\n",
       " 8867.123333333333,\n",
       " 9653.233333333334,\n",
       " 9299.906666666666,\n",
       " 9220.926666666666,\n",
       " 9639.97,\n",
       " 9223.793333333333,\n",
       " 9548.366666666667,\n",
       " 9049.523333333333,\n",
       " 9811.976666666667,\n",
       " 9293.936666666666,\n",
       " 9388.913333333334,\n",
       " 9527.066666666668,\n",
       " 9499.803333333333,\n",
       " 9301.656666666666,\n",
       " 9658.893333333333,\n",
       " 9818.7,\n",
       " 9581.89,\n",
       " 9473.856666666667,\n",
       " 9432.56,\n",
       " 9816.903333333334,\n",
       " 9652.676666666666,\n",
       " 9541.153333333334,\n",
       " 9619.466666666667,\n",
       " 9912.29,\n",
       " 8964.95,\n",
       " 9403.49,\n",
       " 9186.983333333334,\n",
       " 9637.24,\n",
       " 9654.06,\n",
       " 9437.296666666667,\n",
       " 9461.703333333333,\n",
       " 9084.03,\n",
       " 9641.826666666666,\n",
       " 9186.896666666667,\n",
       " 9195.68,\n",
       " 9233.18,\n",
       " 10000.103333333333,\n",
       " 9452.32,\n",
       " 9412.393333333333,\n",
       " 9255.743333333334,\n",
       " 8862.493333333334,\n",
       " 8998.316666666668,\n",
       " 9628.28,\n",
       " 9563.253333333334,\n",
       " 9218.693333333333,\n",
       " 9931.276666666667,\n",
       " 9410.996666666666,\n",
       " 9231.18,\n",
       " 9370.95,\n",
       " 8859.52,\n",
       " 9671.11,\n",
       " 9847.813333333334,\n",
       " 9552.086666666666,\n",
       " 9595.673333333334,\n",
       " 9043.806666666667,\n",
       " 9271.7,\n",
       " 9513.763333333334,\n",
       " 9745.996666666666,\n",
       " 9449.02,\n",
       " 9776.936666666666,\n",
       " 9950.323333333334,\n",
       " 9041.076666666666,\n",
       " 9532.803333333333,\n",
       " 9076.353333333333,\n",
       " 8864.65,\n",
       " 9057.736666666666,\n",
       " 9090.103333333333,\n",
       " 9316.323333333334,\n",
       " 9114.14,\n",
       " 9164.413333333334,\n",
       " 9660.903333333334,\n",
       " 8971.71,\n",
       " 9164.633333333333,\n",
       " 9081.396666666667,\n",
       " 9011.81,\n",
       " 9100.91,\n",
       " 9107.223333333333,\n",
       " 9174.07,\n",
       " 8756.99,\n",
       " 9413.623333333333,\n",
       " 9695.47,\n",
       " 9196.066666666668,\n",
       " 9282.223333333333,\n",
       " 9260.15,\n",
       " 9549.016666666666,\n",
       " 9215.98,\n",
       " 9712.976666666667,\n",
       " 9204.993333333334,\n",
       " 9486.486666666666,\n",
       " 9466.366666666667,\n",
       " ...]"
      ]
     },
     "execution_count": 113,
     "metadata": {},
     "output_type": "execute_result"
    }
   ],
   "source": [
    "# For N = 300\n",
    "male_mean_purchase = [df[df['Gender']=='M']['Purchase'].sample(300 , replace=True).mean() for i in range(5000)]\n",
    "male_mean_purchase"
   ]
  },
  {
   "cell_type": "code",
   "execution_count": 114,
   "id": "8211c0a2-b258-4b3b-9ea3-7b94b9d39d1b",
   "metadata": {},
   "outputs": [
    {
     "data": {
      "text/plain": [
       "<seaborn.axisgrid.FacetGrid at 0x212dc03b680>"
      ]
     },
     "execution_count": 114,
     "metadata": {},
     "output_type": "execute_result"
    },
    {
     "data": {
      "image/png": "[encoded data removed]",
      "text/plain": [
       "<Figure size 500x500 with 1 Axes>"
      ]
     },
     "metadata": {},
     "output_type": "display_data"
    }
   ],
   "source": [
    "sns.displot(male_mean_purchase)"
   ]
  },
  {
   "cell_type": "code",
   "execution_count": 115,
   "id": "4361860e-e2a9-4fb2-ae88-84292c1f3fb6",
   "metadata": {},
   "outputs": [
    {
     "data": {
      "text/plain": [
       "288.79198265884565"
      ]
     },
     "execution_count": 115,
     "metadata": {},
     "output_type": "execute_result"
    }
   ],
   "source": [
    "np.std(male_mean_purchase)"
   ]
  },
  {
   "cell_type": "code",
   "execution_count": 116,
   "id": "d7ec3516-1fc9-46b5-874f-496ae5bdc200",
   "metadata": {},
   "outputs": [
    {
     "data": {
      "text/plain": [
       "9395.005595999999"
      ]
     },
     "execution_count": 116,
     "metadata": {},
     "output_type": "execute_result"
    }
   ],
   "source": [
    "np.mean(male_mean_purchase)"
   ]
  },
  {
   "cell_type": "code",
   "execution_count": 117,
   "id": "8943e80a-059b-4d4e-86ee-aa6ac6152610",
   "metadata": {},
   "outputs": [
    {
     "name": "stdout",
     "output_type": "stream",
     "text": [
      "Male Confidence Interval based on sample size (300 with Replacement) for 5000 (users): \n"
     ]
    },
    {
     "data": {
      "text/plain": [
       "(9683.797578658845, 8828.973309988662)"
      ]
     },
     "execution_count": 117,
     "metadata": {},
     "output_type": "execute_result"
    }
   ],
   "source": [
    "print(\"Male Confidence Interval based on sample size (300 with Replacement) for 5000 (users): \")\n",
    "np.mean(male_mean_purchase) + np.std(male_mean_purchase) , np.mean(male_mean_purchase) - (1.96 * np.std(male_mean_purchase))"
   ]
  },
  {
   "cell_type": "code",
   "execution_count": 119,
   "id": "b591e4b9-4349-424a-bd55-1ff2195a4b57",
   "metadata": {},
   "outputs": [
    {
     "data": {
      "text/plain": [
       "[8718.296666666667,\n",
       " 8470.986666666666,\n",
       " 8555.98,\n",
       " 8446.033333333333,\n",
       " 8267.973333333333,\n",
       " 8277.09,\n",
       " 8475.466666666667,\n",
       " 9242.196666666667,\n",
       " 8637.583333333334,\n",
       " 8548.906666666666,\n",
       " 8477.403333333334,\n",
       " 8652.086666666666,\n",
       " 9058.476666666667,\n",
       " 8811.6,\n",
       " 9103.476666666667,\n",
       " 8580.523333333333,\n",
       " 8835.406666666666,\n",
       " 9041.963333333333,\n",
       " 8397.963333333333,\n",
       " 8835.46,\n",
       " 9279.79,\n",
       " 8509.096666666666,\n",
       " 8934.323333333334,\n",
       " 9042.72,\n",
       " 8559.563333333334,\n",
       " 8678.93,\n",
       " 8678.686666666666,\n",
       " 9159.256666666666,\n",
       " 8860.96,\n",
       " 8646.836666666666,\n",
       " 8326.003333333334,\n",
       " 8225.76,\n",
       " 9344.786666666667,\n",
       " 9110.74,\n",
       " 8987.156666666666,\n",
       " 8550.99,\n",
       " 8456.96,\n",
       " 8675.573333333334,\n",
       " 8248.296666666667,\n",
       " 8488.846666666666,\n",
       " 8593.183333333332,\n",
       " 8376.153333333334,\n",
       " 8647.843333333334,\n",
       " 8489.776666666667,\n",
       " 8825.99,\n",
       " 8854.24,\n",
       " 8319.35,\n",
       " 9064.413333333334,\n",
       " 8539.023333333333,\n",
       " 8696.056666666667,\n",
       " 8935.533333333333,\n",
       " 8297.803333333333,\n",
       " 8745.57,\n",
       " 8741.636666666667,\n",
       " 8803.08,\n",
       " 8764.5,\n",
       " 8444.363333333333,\n",
       " 8908.343333333334,\n",
       " 8544.506666666666,\n",
       " 8840.506666666666,\n",
       " 8862.843333333334,\n",
       " 8839.963333333333,\n",
       " 8771.663333333334,\n",
       " 8220.86,\n",
       " 8385.273333333333,\n",
       " 8774.763333333334,\n",
       " 8667.86,\n",
       " 8819.146666666667,\n",
       " 8825.313333333334,\n",
       " 8765.62,\n",
       " 9126.57,\n",
       " 8632.51,\n",
       " 8246.373333333333,\n",
       " 8835.65,\n",
       " 8821.466666666667,\n",
       " 8789.026666666667,\n",
       " 8843.973333333333,\n",
       " 8758.803333333333,\n",
       " 8543.253333333334,\n",
       " 8443.403333333334,\n",
       " 8862.443333333333,\n",
       " 8739.3,\n",
       " 8162.943333333334,\n",
       " 8709.573333333334,\n",
       " 8526.406666666666,\n",
       " 8447.11,\n",
       " 8949.236666666666,\n",
       " 9115.2,\n",
       " 8976.71,\n",
       " 9189.586666666666,\n",
       " 8339.816666666668,\n",
       " 9205.483333333334,\n",
       " 8893.036666666667,\n",
       " 8530.1,\n",
       " 8279.3,\n",
       " 8805.67,\n",
       " 9124.6,\n",
       " 8998.82,\n",
       " 9081.916666666666,\n",
       " 8410.67,\n",
       " 9075.41,\n",
       " 8699.88,\n",
       " 8534.423333333334,\n",
       " 8462.393333333333,\n",
       " 8388.74,\n",
       " 8604.976666666667,\n",
       " 8527.243333333334,\n",
       " 8681.006666666666,\n",
       " 8570.913333333334,\n",
       " 8793.863333333333,\n",
       " 8898.063333333334,\n",
       " 8698.253333333334,\n",
       " 8522.886666666667,\n",
       " 8643.756666666666,\n",
       " 8851.49,\n",
       " 8804.453333333333,\n",
       " 8468.066666666668,\n",
       " 8941.793333333333,\n",
       " 8808.783333333333,\n",
       " 8288.526666666667,\n",
       " 8627.816666666668,\n",
       " 8617.316666666668,\n",
       " 8751.326666666666,\n",
       " 8431.786666666667,\n",
       " 8778.346666666666,\n",
       " 8623.586666666666,\n",
       " 8921.05,\n",
       " 8919.366666666667,\n",
       " 8738.753333333334,\n",
       " 9207.983333333334,\n",
       " 8626.04,\n",
       " 9011.956666666667,\n",
       " 8872.52,\n",
       " 8831.306666666667,\n",
       " 8348.05,\n",
       " 8172.926666666666,\n",
       " 8656.346666666666,\n",
       " 9125.976666666667,\n",
       " 8932.443333333333,\n",
       " 9078.343333333334,\n",
       " 8585.036666666667,\n",
       " 8933.84,\n",
       " 8750.87,\n",
       " 9012.41,\n",
       " 9490.073333333334,\n",
       " 8957.13,\n",
       " 8705.926666666666,\n",
       " 8770.68,\n",
       " 8846.95,\n",
       " 8986.716666666667,\n",
       " 8533.01,\n",
       " 9312.6,\n",
       " 8301.106666666667,\n",
       " 9287.85,\n",
       " 8661.073333333334,\n",
       " 8304.963333333333,\n",
       " 8321.163333333334,\n",
       " 8788.333333333334,\n",
       " 8393.803333333333,\n",
       " 8792.806666666667,\n",
       " 8459.82,\n",
       " 8656.626666666667,\n",
       " 8750.43,\n",
       " 8500.886666666667,\n",
       " 8973.033333333333,\n",
       " 8745.983333333334,\n",
       " 8810.806666666667,\n",
       " 8461.52,\n",
       " 8782.74,\n",
       " 8888.08,\n",
       " 8918.03,\n",
       " 8526.706666666667,\n",
       " 9098.17,\n",
       " 8768.7,\n",
       " 8250.68,\n",
       " 8255.38,\n",
       " 9234.026666666667,\n",
       " 8747.026666666667,\n",
       " 8755.7,\n",
       " 9026.626666666667,\n",
       " 8816.803333333333,\n",
       " 8759.266666666666,\n",
       " 8511.273333333333,\n",
       " 8655.18,\n",
       " 8774.293333333333,\n",
       " 8547.826666666666,\n",
       " 8673.3,\n",
       " 8668.216666666667,\n",
       " 8343.93,\n",
       " 8750.986666666666,\n",
       " 8790.346666666666,\n",
       " 8329.096666666666,\n",
       " 8487.18,\n",
       " 8488.676666666666,\n",
       " 8795.65,\n",
       " 8548.76,\n",
       " 8811.833333333334,\n",
       " 8873.416666666666,\n",
       " 9309.436666666666,\n",
       " 8467.25,\n",
       " 8616.376666666667,\n",
       " 9194.373333333333,\n",
       " 8487.843333333334,\n",
       " 8558.723333333333,\n",
       " 9113.55,\n",
       " 8889.28,\n",
       " 8350.276666666667,\n",
       " 8891.246666666666,\n",
       " 8812.503333333334,\n",
       " 8416.79,\n",
       " 8577.323333333334,\n",
       " 8647.936666666666,\n",
       " 9162.806666666667,\n",
       " 8560.136666666667,\n",
       " 8753.73,\n",
       " 8555.926666666666,\n",
       " 8608.516666666666,\n",
       " 8811.496666666666,\n",
       " 8779.34,\n",
       " 8539.76,\n",
       " 8727.643333333333,\n",
       " 8747.543333333333,\n",
       " 8743.936666666666,\n",
       " 8801.786666666667,\n",
       " 8440.273333333333,\n",
       " 9003.443333333333,\n",
       " 8577.933333333332,\n",
       " 9036.943333333333,\n",
       " 8657.296666666667,\n",
       " 8490.62,\n",
       " 8610.446666666667,\n",
       " 8982.796666666667,\n",
       " 9103.04,\n",
       " 8464.423333333334,\n",
       " 8936.873333333333,\n",
       " 8934.346666666666,\n",
       " 8644.026666666667,\n",
       " 8390.606666666667,\n",
       " 8711.48,\n",
       " 8606.466666666667,\n",
       " 8476.376666666667,\n",
       " 8736.126666666667,\n",
       " 9376.143333333333,\n",
       " 8076.873333333333,\n",
       " 8222.323333333334,\n",
       " 9064.4,\n",
       " 8492.996666666666,\n",
       " 8507.186666666666,\n",
       " 8830.97,\n",
       " 9041.95,\n",
       " 8807.206666666667,\n",
       " 8524.713333333333,\n",
       " 8714.9,\n",
       " 8662.25,\n",
       " 8997.253333333334,\n",
       " 8982.086666666666,\n",
       " 8755.306666666667,\n",
       " 7984.303333333333,\n",
       " 8552.506666666666,\n",
       " 8519.29,\n",
       " 8608.35,\n",
       " 8363.933333333332,\n",
       " 8734.816666666668,\n",
       " 8824.506666666666,\n",
       " 8475.923333333334,\n",
       " 8804.516666666666,\n",
       " 8639.706666666667,\n",
       " 8984.59,\n",
       " 8503.936666666666,\n",
       " 8391.956666666667,\n",
       " 8541.7,\n",
       " 9036.81,\n",
       " 8697.923333333334,\n",
       " 8756.893333333333,\n",
       " 8720.106666666667,\n",
       " 8724.48,\n",
       " 8573.093333333334,\n",
       " 8989.46,\n",
       " 9176.256666666666,\n",
       " 8914.23,\n",
       " 8310.776666666667,\n",
       " 8725.963333333333,\n",
       " 8669.743333333334,\n",
       " 8785.59,\n",
       " 7978.4766666666665,\n",
       " 8860.826666666666,\n",
       " 8822.9,\n",
       " 8964.926666666666,\n",
       " 8506.31,\n",
       " 9147.26,\n",
       " 8613.293333333333,\n",
       " 8695.89,\n",
       " 8823.293333333333,\n",
       " 8807.783333333333,\n",
       " 8592.943333333333,\n",
       " 8984.693333333333,\n",
       " 8734.306666666667,\n",
       " 9306.723333333333,\n",
       " 8191.806666666666,\n",
       " 8774.33,\n",
       " 8827.846666666666,\n",
       " 8833.416666666666,\n",
       " 9155.28,\n",
       " 8780.93,\n",
       " 8779.506666666666,\n",
       " 8672.073333333334,\n",
       " 9030.4,\n",
       " 8765.24,\n",
       " 8409.693333333333,\n",
       " 8846.133333333333,\n",
       " 8715.73,\n",
       " 8555.573333333334,\n",
       " 9088.106666666667,\n",
       " 8780.213333333333,\n",
       " 8857.343333333334,\n",
       " 9025.073333333334,\n",
       " 8527.933333333332,\n",
       " 8712.623333333333,\n",
       " 8500.543333333333,\n",
       " 8626.213333333333,\n",
       " 8846.723333333333,\n",
       " 8433.386666666667,\n",
       " 8508.633333333333,\n",
       " 8204.553333333333,\n",
       " 8712.37,\n",
       " 8822.45,\n",
       " 8528.77,\n",
       " 8886.83,\n",
       " 8622.406666666666,\n",
       " 9112.87,\n",
       " 8603.073333333334,\n",
       " 8126.09,\n",
       " 8755.59,\n",
       " 8659.746666666666,\n",
       " 8979.583333333334,\n",
       " 8818.743333333334,\n",
       " 8955.18,\n",
       " 8838.636666666667,\n",
       " 8414.193333333333,\n",
       " 8698.503333333334,\n",
       " 8811.786666666667,\n",
       " 8896.82,\n",
       " 8483.87,\n",
       " 8756.043333333333,\n",
       " 8831.916666666666,\n",
       " 8517.666666666666,\n",
       " 8468.803333333333,\n",
       " 8271.756666666666,\n",
       " 9239.51,\n",
       " 8490.296666666667,\n",
       " 8622.166666666666,\n",
       " 8682.77,\n",
       " 8666.36,\n",
       " 8851.71,\n",
       " 8359.47,\n",
       " 9190.326666666666,\n",
       " 9115.28,\n",
       " 8292.463333333333,\n",
       " 8843.456666666667,\n",
       " 8913.97,\n",
       " 9175.946666666667,\n",
       " 8975.223333333333,\n",
       " 8393.06,\n",
       " 8946.076666666666,\n",
       " 7845.42,\n",
       " 9094.903333333334,\n",
       " 8472.653333333334,\n",
       " 8698.62,\n",
       " 8671.376666666667,\n",
       " 9070.533333333333,\n",
       " 8655.083333333334,\n",
       " 8809.426666666666,\n",
       " 8709.016666666666,\n",
       " 8410.55,\n",
       " 8386.936666666666,\n",
       " 8784.82,\n",
       " 9122.386666666667,\n",
       " 8505.53,\n",
       " 8447.39,\n",
       " 8285.756666666666,\n",
       " 8728.62,\n",
       " 8454.106666666667,\n",
       " 8517.823333333334,\n",
       " 8727.063333333334,\n",
       " 8863.543333333333,\n",
       " 8678.313333333334,\n",
       " 8302.976666666667,\n",
       " 9051.673333333334,\n",
       " 9008.586666666666,\n",
       " 8660.526666666667,\n",
       " 8851.433333333332,\n",
       " 8569.643333333333,\n",
       " 8583.056666666667,\n",
       " 8456.446666666667,\n",
       " 8895.926666666666,\n",
       " 8965.873333333333,\n",
       " 8386.803333333333,\n",
       " 8540.796666666667,\n",
       " 8665.233333333334,\n",
       " 9167.41,\n",
       " 8721.91,\n",
       " 8838.626666666667,\n",
       " 8642.36,\n",
       " 8659.966666666667,\n",
       " 8792.576666666666,\n",
       " 9410.816666666668,\n",
       " 8541.2,\n",
       " 8075.2733333333335,\n",
       " 8966.713333333333,\n",
       " 8425.18,\n",
       " 9024.846666666666,\n",
       " 8930.536666666667,\n",
       " 8759.616666666667,\n",
       " 9114.9,\n",
       " 8868.23,\n",
       " 8582.026666666667,\n",
       " 8506.973333333333,\n",
       " 8507.03,\n",
       " 8766.246666666666,\n",
       " 8601.21,\n",
       " 8764.8,\n",
       " 8526.38,\n",
       " 9167.883333333333,\n",
       " 8692.236666666666,\n",
       " 8579.876666666667,\n",
       " 8321.423333333334,\n",
       " 9024.856666666667,\n",
       " 8176.473333333333,\n",
       " 9065.806666666667,\n",
       " 8334.14,\n",
       " 7970.1866666666665,\n",
       " 8767.663333333334,\n",
       " 8862.236666666666,\n",
       " 8972.86,\n",
       " 8286.253333333334,\n",
       " 9297.006666666666,\n",
       " 8703.44,\n",
       " 9232.843333333334,\n",
       " 8693.93,\n",
       " 8427.293333333333,\n",
       " 8837.996666666666,\n",
       " 8403.216666666667,\n",
       " 9030.93,\n",
       " 9079.746666666666,\n",
       " 9222.413333333334,\n",
       " 9343.503333333334,\n",
       " 8616.713333333333,\n",
       " 8991.733333333334,\n",
       " 9281.216666666667,\n",
       " 8810.466666666667,\n",
       " 8603.523333333333,\n",
       " 9154.746666666666,\n",
       " 8809.653333333334,\n",
       " 8909.036666666667,\n",
       " 9028.5,\n",
       " 9003.653333333334,\n",
       " 9179.543333333333,\n",
       " 8978.283333333333,\n",
       " 8760.75,\n",
       " 9020.88,\n",
       " 9003.903333333334,\n",
       " 8433.22,\n",
       " 8597.913333333334,\n",
       " 8913.56,\n",
       " 8420.86,\n",
       " 9018.343333333334,\n",
       " 8802.806666666667,\n",
       " 8981.996666666666,\n",
       " 8679.593333333334,\n",
       " 9281.183333333332,\n",
       " 8900.293333333333,\n",
       " 8397.506666666666,\n",
       " 8448.91,\n",
       " 8747.48,\n",
       " 8695.42,\n",
       " 8958.42,\n",
       " 8885.3,\n",
       " 9295.063333333334,\n",
       " 8456.536666666667,\n",
       " 9075.193333333333,\n",
       " 9356.16,\n",
       " 9098.373333333333,\n",
       " 8620.193333333333,\n",
       " 8616.236666666666,\n",
       " 8769.173333333334,\n",
       " 8651.753333333334,\n",
       " 8764.783333333333,\n",
       " 9181.846666666666,\n",
       " 8624.963333333333,\n",
       " 8908.23,\n",
       " 8705.946666666667,\n",
       " 8816.056666666667,\n",
       " 8454.636666666667,\n",
       " 8869.99,\n",
       " 8655.82,\n",
       " 8648.296666666667,\n",
       " 9087.783333333333,\n",
       " 8404.36,\n",
       " 8730.6,\n",
       " 8655.023333333333,\n",
       " 8574.066666666668,\n",
       " 8839.56,\n",
       " 8853.85,\n",
       " 8746.696666666667,\n",
       " 8835.763333333334,\n",
       " 8395.24,\n",
       " 8566.426666666666,\n",
       " 8468.976666666667,\n",
       " 8692.04,\n",
       " 9067.03,\n",
       " 8699.57,\n",
       " 8743.636666666667,\n",
       " 8570.363333333333,\n",
       " 8278.646666666667,\n",
       " 9017.836666666666,\n",
       " 8477.836666666666,\n",
       " 8664.103333333333,\n",
       " 8726.256666666666,\n",
       " 8822.823333333334,\n",
       " 8402.946666666667,\n",
       " 8480.4,\n",
       " 9069.35,\n",
       " 8914.41,\n",
       " 8872.703333333333,\n",
       " 8548.366666666667,\n",
       " 8906.22,\n",
       " 8662.533333333333,\n",
       " 8855.71,\n",
       " 9053.343333333334,\n",
       " 8823.216666666667,\n",
       " 9227.72,\n",
       " 8752.673333333334,\n",
       " 9108.466666666667,\n",
       " 8902.863333333333,\n",
       " 8414.28,\n",
       " 9097.616666666667,\n",
       " 8617.963333333333,\n",
       " 8710.36,\n",
       " 8852.803333333333,\n",
       " 8597.943333333333,\n",
       " 8449.646666666667,\n",
       " 8667.576666666666,\n",
       " 9054.993333333334,\n",
       " 8578.293333333333,\n",
       " 8852.316666666668,\n",
       " 9082.09,\n",
       " 8508.456666666667,\n",
       " 9247.29,\n",
       " 8762.22,\n",
       " 8578.11,\n",
       " 9323.88,\n",
       " 8614.333333333334,\n",
       " 8617.873333333333,\n",
       " 8819.94,\n",
       " 8726.236666666666,\n",
       " 8732.04,\n",
       " 8671.956666666667,\n",
       " 8426.323333333334,\n",
       " 8817.623333333333,\n",
       " 8801.35,\n",
       " 8554.716666666667,\n",
       " 9074.773333333333,\n",
       " 8310.62,\n",
       " 9089.443333333333,\n",
       " 8345.863333333333,\n",
       " 8751.406666666666,\n",
       " 8330.316666666668,\n",
       " 9138.083333333334,\n",
       " 8652.916666666666,\n",
       " 9341.726666666667,\n",
       " 8803.833333333334,\n",
       " 8864.96,\n",
       " 9182.383333333333,\n",
       " 8718.776666666667,\n",
       " 8643.43,\n",
       " 8650.813333333334,\n",
       " 8332.543333333333,\n",
       " 8627.62,\n",
       " 8789.513333333334,\n",
       " 8919.293333333333,\n",
       " 8735.86,\n",
       " 8758.86,\n",
       " 8452.863333333333,\n",
       " 9337.07,\n",
       " 8695.916666666666,\n",
       " 8309.146666666667,\n",
       " 8525.476666666667,\n",
       " 9024.826666666666,\n",
       " 8653.836666666666,\n",
       " 9274.826666666666,\n",
       " 8529.18,\n",
       " 8654.013333333334,\n",
       " 8579.363333333333,\n",
       " 9272.106666666667,\n",
       " 9008.633333333333,\n",
       " 8653.2,\n",
       " 9030.766666666666,\n",
       " 9275.9,\n",
       " 8824.83,\n",
       " 8757.616666666667,\n",
       " 8480.06,\n",
       " 9360.08,\n",
       " 8412.566666666668,\n",
       " 8910.836666666666,\n",
       " 8400.73,\n",
       " 9055.86,\n",
       " 8640.663333333334,\n",
       " 8165.34,\n",
       " 8987.973333333333,\n",
       " 8817.336666666666,\n",
       " 8616.08,\n",
       " 8894.303333333333,\n",
       " 9105.65,\n",
       " 8947.063333333334,\n",
       " 8811.496666666666,\n",
       " 8686.753333333334,\n",
       " 8419.673333333334,\n",
       " 8846.18,\n",
       " 8526.033333333333,\n",
       " 8989.933333333332,\n",
       " 8864.113333333333,\n",
       " 9246.913333333334,\n",
       " 8848.36,\n",
       " 8221.9,\n",
       " 8841.986666666666,\n",
       " 8926.113333333333,\n",
       " 8791.923333333334,\n",
       " 8760.253333333334,\n",
       " 8603.163333333334,\n",
       " 8089.573333333334,\n",
       " 8820.576666666666,\n",
       " 8599.76,\n",
       " 8753.763333333334,\n",
       " 8517.37,\n",
       " 9226.956666666667,\n",
       " 8742.96,\n",
       " 8812.826666666666,\n",
       " 8578.596666666666,\n",
       " 8559.913333333334,\n",
       " 8676.413333333334,\n",
       " 8889.743333333334,\n",
       " 8898.776666666667,\n",
       " 8190.4766666666665,\n",
       " 8920.21,\n",
       " 8763.086666666666,\n",
       " 8980.456666666667,\n",
       " 8918.55,\n",
       " 8691.783333333333,\n",
       " 9025.706666666667,\n",
       " 8397.633333333333,\n",
       " 8869.316666666668,\n",
       " 8944.5,\n",
       " 8767.92,\n",
       " 8564.633333333333,\n",
       " 9203.14,\n",
       " 8365.653333333334,\n",
       " 8790.04,\n",
       " 8858.273333333333,\n",
       " 8879.8,\n",
       " 9141.986666666666,\n",
       " 8581.05,\n",
       " 8976.993333333334,\n",
       " 8645.326666666666,\n",
       " 8521.69,\n",
       " 8889.94,\n",
       " 8615.373333333333,\n",
       " 9214.67,\n",
       " 8903.51,\n",
       " 8746.29,\n",
       " 8911.47,\n",
       " 8579.113333333333,\n",
       " 8635.416666666666,\n",
       " 8447.516666666666,\n",
       " 8578.343333333334,\n",
       " 8741.01,\n",
       " 8911.37,\n",
       " 8746.656666666666,\n",
       " 8514.98,\n",
       " 8993.046666666667,\n",
       " 8553.163333333334,\n",
       " 8649.273333333333,\n",
       " 8671.666666666666,\n",
       " 8588.736666666666,\n",
       " 8018.493333333333,\n",
       " 8638.266666666666,\n",
       " 9206.806666666667,\n",
       " 8499.12,\n",
       " 8719.756666666666,\n",
       " 8564.806666666667,\n",
       " 9018.42,\n",
       " 9449.326666666666,\n",
       " 8928.313333333334,\n",
       " 9210.52,\n",
       " 8784.963333333333,\n",
       " 8929.926666666666,\n",
       " 8987.926666666666,\n",
       " 9090.62,\n",
       " 8239.196666666667,\n",
       " 8842.556666666667,\n",
       " 8478.58,\n",
       " 8486.813333333334,\n",
       " 8327.993333333334,\n",
       " 8591.323333333334,\n",
       " 8614.82,\n",
       " 8670.96,\n",
       " 8897.8,\n",
       " 8843.15,\n",
       " 8709.12,\n",
       " 8327.946666666667,\n",
       " 8553.123333333333,\n",
       " 9210.07,\n",
       " 8600.163333333334,\n",
       " 8579.943333333333,\n",
       " 8424.77,\n",
       " 9018.933333333332,\n",
       " 8812.946666666667,\n",
       " 8829.66,\n",
       " 8220.273333333333,\n",
       " 8798.413333333334,\n",
       " 8294.996666666666,\n",
       " 8936.91,\n",
       " 8437.64,\n",
       " 8708.496666666666,\n",
       " 8991.996666666666,\n",
       " 8947.85,\n",
       " 8660.64,\n",
       " 8382.513333333334,\n",
       " 9062.74,\n",
       " 8439.27,\n",
       " 9011.52,\n",
       " 8748.296666666667,\n",
       " 8854.493333333334,\n",
       " 8778.223333333333,\n",
       " 8654.936666666666,\n",
       " 8432.19,\n",
       " 8813.766666666666,\n",
       " 8483.906666666666,\n",
       " 9111.646666666667,\n",
       " 9024.716666666667,\n",
       " 8479.3,\n",
       " 8749.26,\n",
       " 9180.623333333333,\n",
       " 8662.143333333333,\n",
       " 8418.023333333333,\n",
       " 8787.94,\n",
       " 8834.563333333334,\n",
       " 9006.02,\n",
       " 8793.816666666668,\n",
       " 8476.476666666667,\n",
       " 8410.636666666667,\n",
       " 8636.556666666667,\n",
       " 8432.713333333333,\n",
       " 8606.863333333333,\n",
       " 8211.596666666666,\n",
       " 8518.563333333334,\n",
       " 8191.11,\n",
       " 8219.953333333333,\n",
       " 8449.216666666667,\n",
       " 8650.173333333334,\n",
       " 8422.27,\n",
       " 8569.843333333334,\n",
       " 8698.136666666667,\n",
       " 8832.933333333332,\n",
       " 8588.12,\n",
       " 8604.7,\n",
       " 8959.78,\n",
       " 8433.486666666666,\n",
       " 9043.933333333332,\n",
       " 8354.633333333333,\n",
       " 8814.44,\n",
       " 8584.473333333333,\n",
       " 8602.626666666667,\n",
       " 8400.54,\n",
       " 8994.673333333334,\n",
       " 8914.4,\n",
       " 8726.06,\n",
       " 8480.166666666666,\n",
       " 8471.81,\n",
       " 8952.88,\n",
       " 8579.68,\n",
       " 9008.126666666667,\n",
       " 8876.69,\n",
       " 8991.813333333334,\n",
       " 8815.806666666667,\n",
       " 8561.986666666666,\n",
       " 8962.066666666668,\n",
       " 8425.326666666666,\n",
       " 8966.426666666666,\n",
       " 9039.706666666667,\n",
       " 8517.62,\n",
       " 8776.183333333332,\n",
       " 8460.296666666667,\n",
       " 8995.716666666667,\n",
       " 8801.223333333333,\n",
       " 8582.823333333334,\n",
       " 8760.033333333333,\n",
       " 8765.18,\n",
       " 8667.95,\n",
       " 8463.06,\n",
       " 8960.93,\n",
       " 9149.186666666666,\n",
       " 8726.13,\n",
       " 8274.693333333333,\n",
       " 9001.986666666666,\n",
       " 8852.616666666667,\n",
       " 8504.583333333334,\n",
       " 8908.29,\n",
       " 8958.753333333334,\n",
       " 8850.573333333334,\n",
       " 8870.98,\n",
       " 8449.066666666668,\n",
       " 8465.33,\n",
       " 8913.24,\n",
       " 8372.336666666666,\n",
       " 8456.63,\n",
       " 8693.106666666667,\n",
       " 8581.84,\n",
       " 8446.066666666668,\n",
       " 8981.59,\n",
       " 8998.72,\n",
       " 8944.01,\n",
       " 8655.856666666667,\n",
       " 8252.04,\n",
       " 9051.36,\n",
       " 9012.016666666666,\n",
       " 8641.286666666667,\n",
       " 8908.373333333333,\n",
       " 8555.8,\n",
       " 8149.386666666666,\n",
       " 9264.146666666667,\n",
       " 8760.766666666666,\n",
       " 9089.26,\n",
       " 8801.37,\n",
       " 8898.166666666666,\n",
       " 9268.636666666667,\n",
       " 8176.356666666667,\n",
       " 8625.356666666667,\n",
       " 9119.59,\n",
       " 8558.66,\n",
       " 8862.626666666667,\n",
       " 9006.42,\n",
       " 8666.5,\n",
       " 8846.773333333333,\n",
       " 9364.7,\n",
       " 8316.423333333334,\n",
       " 8990.776666666667,\n",
       " 8690.286666666667,\n",
       " 8770.633333333333,\n",
       " 8332.363333333333,\n",
       " 8918.523333333333,\n",
       " 8413.26,\n",
       " 8823.76,\n",
       " 9080.736666666666,\n",
       " 8664.096666666666,\n",
       " 8550.633333333333,\n",
       " 8760.946666666667,\n",
       " 8754.24,\n",
       " 8622.31,\n",
       " 8968.87,\n",
       " 8852.403333333334,\n",
       " 9065.886666666667,\n",
       " 8577.95,\n",
       " 8758.133333333333,\n",
       " 8177.683333333333,\n",
       " 9140.573333333334,\n",
       " 8624.426666666666,\n",
       " 8786.206666666667,\n",
       " 8315.796666666667,\n",
       " 8353.283333333333,\n",
       " 8521.73,\n",
       " 8671.97,\n",
       " 8787.446666666667,\n",
       " 8642.483333333334,\n",
       " 8554.196666666667,\n",
       " 8710.083333333334,\n",
       " 8396.553333333333,\n",
       " 8303.09,\n",
       " 8897.403333333334,\n",
       " 9113.38,\n",
       " 9178.753333333334,\n",
       " 8692.803333333333,\n",
       " 8227.21,\n",
       " 8544.0,\n",
       " 9089.493333333334,\n",
       " 8702.386666666667,\n",
       " 8706.583333333334,\n",
       " 8648.09,\n",
       " 8400.36,\n",
       " 8812.82,\n",
       " 8914.183333333332,\n",
       " 8891.433333333332,\n",
       " 8549.33,\n",
       " 8582.963333333333,\n",
       " 9147.126666666667,\n",
       " 8370.81,\n",
       " 9104.12,\n",
       " 8784.01,\n",
       " 8375.89,\n",
       " 8391.09,\n",
       " 8499.836666666666,\n",
       " 8385.6,\n",
       " 9110.203333333333,\n",
       " 8849.27,\n",
       " 8589.826666666666,\n",
       " 8411.076666666666,\n",
       " 8898.693333333333,\n",
       " 8842.976666666667,\n",
       " 8420.283333333333,\n",
       " 8518.226666666667,\n",
       " 8625.413333333334,\n",
       " 8552.196666666667,\n",
       " 8575.713333333333,\n",
       " 8354.5,\n",
       " 8650.093333333334,\n",
       " 8815.546666666667,\n",
       " 8299.856666666667,\n",
       " 8895.693333333333,\n",
       " 8949.41,\n",
       " 8871.88,\n",
       " 8730.443333333333,\n",
       " 8597.096666666666,\n",
       " 8898.78,\n",
       " 8774.333333333334,\n",
       " 8464.67,\n",
       " 9314.246666666666,\n",
       " 8800.216666666667,\n",
       " 8487.74,\n",
       " 8964.773333333333,\n",
       " 8501.85,\n",
       " 8571.743333333334,\n",
       " 8947.38,\n",
       " 8333.71,\n",
       " 8591.996666666666,\n",
       " 8439.863333333333,\n",
       " 8633.293333333333,\n",
       " 8887.466666666667,\n",
       " 8811.3,\n",
       " 8580.77,\n",
       " 8545.146666666667,\n",
       " 9161.37,\n",
       " 8925.153333333334,\n",
       " 8269.693333333333,\n",
       " 8653.196666666667,\n",
       " 8583.74,\n",
       " 8371.376666666667,\n",
       " 8601.096666666666,\n",
       " 8425.126666666667,\n",
       " 8589.406666666666,\n",
       " 9024.35,\n",
       " 8845.05,\n",
       " 8476.833333333334,\n",
       " 8460.086666666666,\n",
       " 9112.926666666666,\n",
       " 8421.296666666667,\n",
       " 8455.563333333334,\n",
       " 8967.63,\n",
       " 8784.843333333334,\n",
       " 8677.216666666667,\n",
       " 8696.456666666667,\n",
       " 8803.976666666667,\n",
       " 8347.103333333333,\n",
       " 8655.446666666667,\n",
       " 7995.0,\n",
       " 8627.606666666667,\n",
       " 8863.063333333334,\n",
       " 9039.81,\n",
       " 8605.593333333334,\n",
       " 8703.863333333333,\n",
       " 8572.936666666666,\n",
       " 8996.383333333333,\n",
       " 9146.763333333334,\n",
       " 8722.193333333333,\n",
       " 8524.426666666666,\n",
       " 8457.853333333333,\n",
       " 8662.176666666666,\n",
       " 8243.646666666667,\n",
       " 8372.88,\n",
       " 8789.7,\n",
       " 8773.916666666666,\n",
       " 8681.486666666666,\n",
       " 9177.686666666666,\n",
       " 8810.986666666666,\n",
       " 9002.683333333332,\n",
       " 8431.0,\n",
       " 8657.893333333333,\n",
       " 8501.276666666667,\n",
       " 8441.84,\n",
       " 8588.373333333333,\n",
       " 8839.06,\n",
       " 8598.633333333333,\n",
       " 8750.596666666666,\n",
       " 8369.776666666667,\n",
       " 8619.47,\n",
       " 8426.996666666666,\n",
       " 8643.156666666666,\n",
       " 8546.33,\n",
       " 8808.793333333333,\n",
       " 9213.883333333333,\n",
       " 8400.766666666666,\n",
       " 8759.23,\n",
       " ...]"
      ]
     },
     "execution_count": 119,
     "metadata": {},
     "output_type": "execute_result"
    }
   ],
   "source": [
    "# For N = 300\n",
    "female_mean_purchase = [df[df['Gender']=='F']['Purchase'].sample(300 , replace=True).mean() for i in range(5000)]\n",
    "female_mean_purchase"
   ]
  },
  {
   "cell_type": "code",
   "execution_count": 120,
   "id": "8833c037-c076-4c86-adc9-ff40a7b56e43",
   "metadata": {},
   "outputs": [
    {
     "data": {
      "text/plain": [
       "<seaborn.axisgrid.FacetGrid at 0x212dcd2c800>"
      ]
     },
     "execution_count": 120,
     "metadata": {},
     "output_type": "execute_result"
    },
    {
     "data": {
      "image/png": "[encoded data removed]",
      "text/plain": [
       "<Figure size 500x500 with 1 Axes>"
      ]
     },
     "metadata": {},
     "output_type": "display_data"
    }
   ],
   "source": [
    "sns.displot(female_mean_purchase)"
   ]
  },
  {
   "cell_type": "code",
   "execution_count": 121,
   "id": "5779fe85-fb72-4e3a-9050-d899dd815f0e",
   "metadata": {},
   "outputs": [
    {
     "data": {
      "text/plain": [
       "8735.154684666666"
      ]
     },
     "execution_count": 121,
     "metadata": {},
     "output_type": "execute_result"
    }
   ],
   "source": [
    "np.mean(female_mean_purchase)"
   ]
  },
  {
   "cell_type": "code",
   "execution_count": 122,
   "id": "cd5c5b36-2189-43d8-b7f7-4f3e232ef6f7",
   "metadata": {},
   "outputs": [
    {
     "data": {
      "text/plain": [
       "270.2680864591356"
      ]
     },
     "execution_count": 122,
     "metadata": {},
     "output_type": "execute_result"
    }
   ],
   "source": [
    "np.std(female_mean_purchase)"
   ]
  },
  {
   "cell_type": "code",
   "execution_count": 123,
   "id": "76bccf61-cd8c-424f-933d-4e509f89366c",
   "metadata": {},
   "outputs": [
    {
     "name": "stdout",
     "output_type": "stream",
     "text": [
      "Female Confidence Interval based on sample size (300 with Replacement) for 5000 (users): \n"
     ]
    },
    {
     "data": {
      "text/plain": [
       "(9005.4227711258, 8205.42923520676)"
      ]
     },
     "execution_count": 123,
     "metadata": {},
     "output_type": "execute_result"
    }
   ],
   "source": [
    "print(\"Female Confidence Interval based on sample size (300 with Replacement) for 5000 (users): \")\n",
    "np.mean(female_mean_purchase) + np.std(female_mean_purchase) , np.mean(female_mean_purchase) - (1.96 * np.std(female_mean_purchase))"
   ]
  },
  {
   "cell_type": "markdown",
   "id": "b53caab3-cfb0-4f77-b898-90a77914ceaa",
   "metadata": {},
   "source": [
    "*Since there is Overlap we cannot confirm if the gender affects the amount spend*"
   ]
  },
  {
   "cell_type": "code",
   "execution_count": 124,
   "id": "4a49cd8e-b6a1-4f31-a269-ba98af82fa49",
   "metadata": {},
   "outputs": [],
   "source": [
    "# For N = 3000"
   ]
  },
  {
   "cell_type": "code",
   "execution_count": 125,
   "id": "3af23eb8-c4b6-4bac-91b0-7d887364307b",
   "metadata": {},
   "outputs": [],
   "source": [
    "male_mean_purchase = [df[df['Gender']=='M']['Purchase'].sample(3000 , replace=True).mean() for i in range(5000)]"
   ]
  },
  {
   "cell_type": "code",
   "execution_count": 126,
   "id": "fe0cda4a-f9bf-43ba-8cfd-8a6fc6216d65",
   "metadata": {},
   "outputs": [
    {
     "data": {
      "text/plain": [
       "<seaborn.axisgrid.FacetGrid at 0x212dc63d970>"
      ]
     },
     "execution_count": 126,
     "metadata": {},
     "output_type": "execute_result"
    },
    {
     "data": {
      "image/png": "[encoded data removed]",
      "text/plain": [
       "<Figure size 500x500 with 1 Axes>"
      ]
     },
     "metadata": {},
     "output_type": "display_data"
    }
   ],
   "source": [
    "sns.displot(male_mean_purchase)"
   ]
  },
  {
   "cell_type": "code",
   "execution_count": 127,
   "id": "d2946a76-c1b0-45ca-a454-97095a80bdcb",
   "metadata": {},
   "outputs": [],
   "source": [
    "female_mean_purchase = [df[df['Gender']=='F']['Purchase'].sample(3000 , replace=True).mean() for i in range(5000)]"
   ]
  },
  {
   "cell_type": "code",
   "execution_count": 128,
   "id": "87118874-e451-4b85-8cbb-c98c5f5cf0f6",
   "metadata": {},
   "outputs": [
    {
     "data": {
      "text/plain": [
       "<seaborn.axisgrid.FacetGrid at 0x212debfd010>"
      ]
     },
     "execution_count": 128,
     "metadata": {},
     "output_type": "execute_result"
    },
    {
     "data": {
      "image/png": "[encoded data removed]",
      "text/plain": [
       "<Figure size 500x500 with 1 Axes>"
      ]
     },
     "metadata": {},
     "output_type": "display_data"
    }
   ],
   "source": [
    "sns.displot(female_mean_purchase)"
   ]
  },
  {
   "cell_type": "code",
   "execution_count": 129,
   "id": "85751941-1c13-451d-8f3a-1cbcd990f4a9",
   "metadata": {},
   "outputs": [
    {
     "data": {
      "text/plain": [
       "9398.602807933334"
      ]
     },
     "execution_count": 129,
     "metadata": {},
     "output_type": "execute_result"
    }
   ],
   "source": [
    "np.mean(male_mean_purchase)"
   ]
  },
  {
   "cell_type": "code",
   "execution_count": 130,
   "id": "dc569b34-7024-4891-b5f8-377cd8c10fb8",
   "metadata": {},
   "outputs": [
    {
     "data": {
      "text/plain": [
       "91.47952719562302"
      ]
     },
     "execution_count": 130,
     "metadata": {},
     "output_type": "execute_result"
    }
   ],
   "source": [
    "np.std(male_mean_purchase)"
   ]
  },
  {
   "cell_type": "code",
   "execution_count": 131,
   "id": "1c4d34c9-0b10-4bfe-9141-a57e8adc1822",
   "metadata": {},
   "outputs": [
    {
     "data": {
      "text/plain": [
       "8729.5976278"
      ]
     },
     "execution_count": 131,
     "metadata": {},
     "output_type": "execute_result"
    }
   ],
   "source": [
    "np.mean(female_mean_purchase)"
   ]
  },
  {
   "cell_type": "code",
   "execution_count": 132,
   "id": "991d7fc4-ecec-4f47-ae8a-c09b91777e32",
   "metadata": {},
   "outputs": [
    {
     "data": {
      "text/plain": [
       "84.62198457171372"
      ]
     },
     "execution_count": 132,
     "metadata": {},
     "output_type": "execute_result"
    }
   ],
   "source": [
    "np.std(female_mean_purchase)"
   ]
  },
  {
   "cell_type": "code",
   "execution_count": 133,
   "id": "37279d25-8a6a-4a03-a37c-570049867e0a",
   "metadata": {},
   "outputs": [
    {
     "name": "stdout",
     "output_type": "stream",
     "text": [
      "Male Confidence Interval based on sample size (3000 with Replacement) for 5000 (users): \n"
     ]
    },
    {
     "data": {
      "text/plain": [
       "(9490.082335128956, 9219.302934629912)"
      ]
     },
     "execution_count": 133,
     "metadata": {},
     "output_type": "execute_result"
    }
   ],
   "source": [
    "print(\"Male Confidence Interval based on sample size (3000 with Replacement) for 5000 (users): \")\n",
    "np.mean(male_mean_purchase) + np.std(male_mean_purchase) , np.mean(male_mean_purchase) - (1.96 * np.std(male_mean_purchase))"
   ]
  },
  {
   "cell_type": "code",
   "execution_count": 134,
   "id": "05d5a6c1-3f3e-4bf2-82bb-e71c2936b315",
   "metadata": {},
   "outputs": [
    {
     "name": "stdout",
     "output_type": "stream",
     "text": [
      "Female Confidence Interval based on sample size (3000 with Replacement) for 5000 (users): \n"
     ]
    },
    {
     "data": {
      "text/plain": [
       "(8814.219612371713, 8563.73853803944)"
      ]
     },
     "execution_count": 134,
     "metadata": {},
     "output_type": "execute_result"
    }
   ],
   "source": [
    "print(\"Female Confidence Interval based on sample size (3000 with Replacement) for 5000 (users): \")\n",
    "np.mean(female_mean_purchase) + np.std(female_mean_purchase) , np.mean(female_mean_purchase) - (1.96 * np.std(female_mean_purchase))"
   ]
  },
  {
   "cell_type": "markdown",
   "id": "a7dc80f5-e5e8-4eea-b7db-982182a1c8e5",
   "metadata": {},
   "source": [
    "**Since there is no Overlap in the Limits and clearly we can see that the Amount spend by M is more that F**"
   ]
  },
  {
   "cell_type": "markdown",
   "id": "58905648-2fbd-470e-aa00-ef39ba538c42",
   "metadata": {},
   "source": [
    "### How does Marital_Status affect the amount spent?"
   ]
  },
  {
   "cell_type": "code",
   "execution_count": 135,
   "id": "1a3cc1a4-bb4a-4c27-90be-d74f802dfb67",
   "metadata": {},
   "outputs": [
    {
     "data": {
      "text/html": [
       "<div>\n",
       "<style scoped>\n",
       "    .dataframe tbody tr th:only-of-type {\n",
       "        vertical-align: middle;\n",
       "    }\n",
       "\n",
       "    .dataframe tbody tr th {\n",
       "        vertical-align: top;\n",
       "    }\n",
       "\n",
       "    .dataframe thead th {\n",
       "        text-align: right;\n",
       "    }\n",
       "</style>\n",
       "<table border=\"1\" class=\"dataframe\">\n",
       "  <thead>\n",
       "    <tr style=\"text-align: right;\">\n",
       "      <th></th>\n",
       "      <th>User_ID</th>\n",
       "      <th>Product_ID</th>\n",
       "      <th>Gender</th>\n",
       "      <th>Age</th>\n",
       "      <th>Occupation</th>\n",
       "      <th>City_Category</th>\n",
       "      <th>Stay_In_Current_City_Years</th>\n",
       "      <th>Marital_Status</th>\n",
       "      <th>Product_Category</th>\n",
       "      <th>Purchase</th>\n",
       "    </tr>\n",
       "  </thead>\n",
       "  <tbody>\n",
       "    <tr>\n",
       "      <th>0</th>\n",
       "      <td>1000001</td>\n",
       "      <td>P00069042</td>\n",
       "      <td>F</td>\n",
       "      <td>0-17</td>\n",
       "      <td>10.0</td>\n",
       "      <td>A</td>\n",
       "      <td>2</td>\n",
       "      <td>0.0</td>\n",
       "      <td>3.0</td>\n",
       "      <td>8370.0</td>\n",
       "    </tr>\n",
       "    <tr>\n",
       "      <th>1</th>\n",
       "      <td>1000001</td>\n",
       "      <td>P00248942</td>\n",
       "      <td>F</td>\n",
       "      <td>0-17</td>\n",
       "      <td>10.0</td>\n",
       "      <td>A</td>\n",
       "      <td>2</td>\n",
       "      <td>0.0</td>\n",
       "      <td>1.0</td>\n",
       "      <td>15200.0</td>\n",
       "    </tr>\n",
       "    <tr>\n",
       "      <th>2</th>\n",
       "      <td>1000001</td>\n",
       "      <td>P00087842</td>\n",
       "      <td>F</td>\n",
       "      <td>0-17</td>\n",
       "      <td>10.0</td>\n",
       "      <td>A</td>\n",
       "      <td>2</td>\n",
       "      <td>0.0</td>\n",
       "      <td>12.0</td>\n",
       "      <td>1422.0</td>\n",
       "    </tr>\n",
       "    <tr>\n",
       "      <th>3</th>\n",
       "      <td>1000001</td>\n",
       "      <td>P00085442</td>\n",
       "      <td>F</td>\n",
       "      <td>0-17</td>\n",
       "      <td>10.0</td>\n",
       "      <td>A</td>\n",
       "      <td>2</td>\n",
       "      <td>0.0</td>\n",
       "      <td>12.0</td>\n",
       "      <td>1057.0</td>\n",
       "    </tr>\n",
       "    <tr>\n",
       "      <th>4</th>\n",
       "      <td>1000002</td>\n",
       "      <td>P00285442</td>\n",
       "      <td>M</td>\n",
       "      <td>55+</td>\n",
       "      <td>16.0</td>\n",
       "      <td>C</td>\n",
       "      <td>4+</td>\n",
       "      <td>0.0</td>\n",
       "      <td>8.0</td>\n",
       "      <td>7969.0</td>\n",
       "    </tr>\n",
       "  </tbody>\n",
       "</table>\n",
       "</div>"
      ],
      "text/plain": [
       "   User_ID Product_ID Gender   Age  Occupation City_Category  \\\n",
       "0  1000001  P00069042      F  0-17        10.0             A   \n",
       "1  1000001  P00248942      F  0-17        10.0             A   \n",
       "2  1000001  P00087842      F  0-17        10.0             A   \n",
       "3  1000001  P00085442      F  0-17        10.0             A   \n",
       "4  1000002  P00285442      M   55+        16.0             C   \n",
       "\n",
       "  Stay_In_Current_City_Years  Marital_Status  Product_Category  Purchase  \n",
       "0                          2             0.0               3.0    8370.0  \n",
       "1                          2             0.0               1.0   15200.0  \n",
       "2                          2             0.0              12.0    1422.0  \n",
       "3                          2             0.0              12.0    1057.0  \n",
       "4                         4+             0.0               8.0    7969.0  "
      ]
     },
     "execution_count": 135,
     "metadata": {},
     "output_type": "execute_result"
    }
   ],
   "source": [
    "df.head()"
   ]
  },
  {
   "cell_type": "code",
   "execution_count": 136,
   "id": "e0dd33e9-3d8c-4799-a457-1c5e48e86647",
   "metadata": {},
   "outputs": [
    {
     "data": {
      "text/plain": [
       "Marital_Status\n",
       "0.0    1988\n",
       "1.0    1400\n",
       "Name: User_ID, dtype: int64"
      ]
     },
     "execution_count": 136,
     "metadata": {},
     "output_type": "execute_result"
    }
   ],
   "source": [
    "df.groupby('Marital_Status')['User_ID'].nunique()"
   ]
  },
  {
   "cell_type": "markdown",
   "id": "4a1de871-f5f9-4ab1-b961-a5bc6c5cd06c",
   "metadata": {},
   "source": [
    "We can observe that from the sample data we have 1988 users with Marital_status 0 (Unmarried/Other) and 1400 users with Marital_Status as 1 (Married)"
   ]
  },
  {
   "cell_type": "code",
   "execution_count": 139,
   "id": "d994e023-4079-4829-9c68-97445555af74",
   "metadata": {},
   "outputs": [
    {
     "data": {
      "text/html": [
       "<div>\n",
       "<style scoped>\n",
       "    .dataframe tbody tr th:only-of-type {\n",
       "        vertical-align: middle;\n",
       "    }\n",
       "\n",
       "    .dataframe tbody tr th {\n",
       "        vertical-align: top;\n",
       "    }\n",
       "\n",
       "    .dataframe thead th {\n",
       "        text-align: right;\n",
       "    }\n",
       "</style>\n",
       "<table border=\"1\" class=\"dataframe\">\n",
       "  <thead>\n",
       "    <tr style=\"text-align: right;\">\n",
       "      <th></th>\n",
       "      <th>count</th>\n",
       "      <th>mean</th>\n",
       "      <th>std</th>\n",
       "      <th>min</th>\n",
       "      <th>25%</th>\n",
       "      <th>50%</th>\n",
       "      <th>75%</th>\n",
       "      <th>max</th>\n",
       "    </tr>\n",
       "    <tr>\n",
       "      <th>Marital_Status</th>\n",
       "      <th></th>\n",
       "      <th></th>\n",
       "      <th></th>\n",
       "      <th></th>\n",
       "      <th></th>\n",
       "      <th></th>\n",
       "      <th></th>\n",
       "      <th></th>\n",
       "    </tr>\n",
       "  </thead>\n",
       "  <tbody>\n",
       "    <tr>\n",
       "      <th>0.0</th>\n",
       "      <td>15033.0</td>\n",
       "      <td>9209.872281</td>\n",
       "      <td>4965.917592</td>\n",
       "      <td>186.0</td>\n",
       "      <td>5469.0</td>\n",
       "      <td>8026.0</td>\n",
       "      <td>11991.0</td>\n",
       "      <td>23929.0</td>\n",
       "    </tr>\n",
       "    <tr>\n",
       "      <th>1.0</th>\n",
       "      <td>10003.0</td>\n",
       "      <td>9287.629211</td>\n",
       "      <td>4893.816578</td>\n",
       "      <td>187.0</td>\n",
       "      <td>5905.0</td>\n",
       "      <td>8071.0</td>\n",
       "      <td>12006.5</td>\n",
       "      <td>23958.0</td>\n",
       "    </tr>\n",
       "  </tbody>\n",
       "</table>\n",
       "</div>"
      ],
      "text/plain": [
       "                  count         mean          std    min     25%     50%  \\\n",
       "Marital_Status                                                             \n",
       "0.0             15033.0  9209.872281  4965.917592  186.0  5469.0  8026.0   \n",
       "1.0             10003.0  9287.629211  4893.816578  187.0  5905.0  8071.0   \n",
       "\n",
       "                    75%      max  \n",
       "Marital_Status                    \n",
       "0.0             11991.0  23929.0  \n",
       "1.0             12006.5  23958.0  "
      ]
     },
     "execution_count": 139,
     "metadata": {},
     "output_type": "execute_result"
    }
   ],
   "source": [
    "df.groupby('Marital_Status')['Purchase'].describe()"
   ]
  },
  {
   "cell_type": "markdown",
   "id": "afb2a51c-8fc6-4531-a4c9-7ee07cd7e3a2",
   "metadata": {},
   "source": [
    "**Checking for 95% Confidence based on sample data if Marital_Status affect Amount spent**\n",
    "\n",
    "*(The z-score for a 95% confidence interval is 1.96.)*"
   ]
  },
  {
   "cell_type": "code",
   "execution_count": 140,
   "id": "83d77865-bc41-43ad-b9e0-594fb169213e",
   "metadata": {},
   "outputs": [
    {
     "name": "stdout",
     "output_type": "stream",
     "text": [
      "Married Confidence Interval based on sample data: \n"
     ]
    },
    {
     "data": {
      "text/plain": [
       "(18879.509705022985, -304.2512825497288)"
      ]
     },
     "execution_count": 140,
     "metadata": {},
     "output_type": "execute_result"
    }
   ],
   "source": [
    "print(\"Married Confidence Interval based on sample data: \")\n",
    "df[df['Marital_Status']==1.0]['Purchase'].mean() + (1.96 * df[df['Marital_Status']==1.0]['Purchase'].std()) , df[df['Marital_Status']==1.0]['Purchase'].mean() - (1.96 * df[df['Marital_Status']==1.0]['Purchase'].std())"
   ]
  },
  {
   "cell_type": "code",
   "execution_count": 141,
   "id": "1bc76cf6-26e1-4e72-a2fa-355870cac11c",
   "metadata": {},
   "outputs": [
    {
     "name": "stdout",
     "output_type": "stream",
     "text": [
      "Unmarried/Other Confidence Interval based on sample data: \n"
     ]
    },
    {
     "data": {
      "text/plain": [
       "(18943.070761430175, -523.3261994664972)"
      ]
     },
     "execution_count": 141,
     "metadata": {},
     "output_type": "execute_result"
    }
   ],
   "source": [
    "print(\"Unmarried/Other Confidence Interval based on sample data: \")\n",
    "df[df['Marital_Status']==0.0]['Purchase'].mean() + (1.96 * df[df['Marital_Status']==0.0]['Purchase'].std()) , df[df['Marital_Status']==0.0]['Purchase'].mean() - (1.96 * df[df['Marital_Status']==0.0]['Purchase'].std())"
   ]
  },
  {
   "cell_type": "markdown",
   "id": "dd7b03dc-b685-43f5-8cb4-8af30474fd3e",
   "metadata": {},
   "source": [
    "Since there is an Overlap we cannot say if married or unmarried people spend more"
   ]
  },
  {
   "cell_type": "markdown",
   "id": "4ee81898-49d0-4637-ba44-d3fc75424be1",
   "metadata": {},
   "source": [
    "**Checking for 95% Confidence: Sample Sizes(300/3000)**"
   ]
  },
  {
   "cell_type": "code",
   "execution_count": 147,
   "id": "ea68f3ce-c6d1-4b1d-aa87-308f25ec4c65",
   "metadata": {},
   "outputs": [],
   "source": [
    "married_sample_mean = [df[df['Marital_Status']==1.0]['Purchase'].sample(300 , replace = True).mean() for i in range(5000)]"
   ]
  },
  {
   "cell_type": "code",
   "execution_count": 148,
   "id": "3e674a53-7693-415b-a682-c66f01fb9a0d",
   "metadata": {},
   "outputs": [],
   "source": [
    "unmarried_sample_mean = [df[df['Marital_Status']==0.0]['Purchase'].sample(300 , replace = True).mean() for i in range(5000)]"
   ]
  },
  {
   "cell_type": "code",
   "execution_count": 149,
   "id": "c86d3527-07b5-42fa-bea1-9ea65e9296e7",
   "metadata": {},
   "outputs": [
    {
     "data": {
      "text/plain": [
       "<seaborn.axisgrid.FacetGrid at 0x212ded3bfb0>"
      ]
     },
     "execution_count": 149,
     "metadata": {},
     "output_type": "execute_result"
    },
    {
     "data": {
      "image/png": "[encoded data removed]",
      "text/plain": [
       "<Figure size 500x500 with 1 Axes>"
      ]
     },
     "metadata": {},
     "output_type": "display_data"
    }
   ],
   "source": [
    "sns.displot(married_sample_mean)"
   ]
  },
  {
   "cell_type": "code",
   "execution_count": 150,
   "id": "f4f8e3c5-f85e-4de5-acc2-dc1082de1a2a",
   "metadata": {},
   "outputs": [
    {
     "data": {
      "text/plain": [
       "<seaborn.axisgrid.FacetGrid at 0x212deaed670>"
      ]
     },
     "execution_count": 150,
     "metadata": {},
     "output_type": "execute_result"
    },
    {
     "data": {
      "image/png": "[encoded data removed]",
      "text/plain": [
       "<Figure size 500x500 with 1 Axes>"
      ]
     },
     "metadata": {},
     "output_type": "display_data"
    }
   ],
   "source": [
    "sns.displot(unmarried_sample_mean)"
   ]
  },
  {
   "cell_type": "code",
   "execution_count": 151,
   "id": "3f287579-321c-4c82-be6c-df3e566121fa",
   "metadata": {},
   "outputs": [
    {
     "name": "stdout",
     "output_type": "stream",
     "text": [
      "Married Confidence Interval based on sample size (300 with Replacement) for 5000 (users): \n"
     ]
    },
    {
     "data": {
      "text/plain": [
       "(9573.117570698469, 8741.140361857664)"
      ]
     },
     "execution_count": 151,
     "metadata": {},
     "output_type": "execute_result"
    }
   ],
   "source": [
    "print(\"Married Confidence Interval based on sample size (300 with Replacement) for 5000 (users): \")\n",
    "np.mean(married_sample_mean) + np.std(married_sample_mean) , np.mean(married_sample_mean) - (1.96 * np.std(married_sample_mean))"
   ]
  },
  {
   "cell_type": "code",
   "execution_count": 152,
   "id": "401ce6ef-3c10-41d2-982e-4dfc2fecc32b",
   "metadata": {},
   "outputs": [
    {
     "name": "stdout",
     "output_type": "stream",
     "text": [
      "Unmarried Confidence Interval based on sample size (300 with Replacement) for 5000 (users): \n"
     ]
    },
    {
     "data": {
      "text/plain": [
       "(9499.731750056573, 8653.53872674245)"
      ]
     },
     "execution_count": 152,
     "metadata": {},
     "output_type": "execute_result"
    }
   ],
   "source": [
    "print(\"Unmarried Confidence Interval based on sample size (300 with Replacement) for 5000 (users): \")\n",
    "np.mean(unmarried_sample_mean) + np.std(unmarried_sample_mean) , np.mean(unmarried_sample_mean) - (1.96 * np.std(unmarried_sample_mean))"
   ]
  },
  {
   "cell_type": "markdown",
   "id": "a43c7bfb-9236-4e88-8cd0-307dd83f440b",
   "metadata": {},
   "source": [
    "*Since there is an Overlap we cannot confirm if Marital_Status affects amount spend*"
   ]
  },
  {
   "cell_type": "code",
   "execution_count": 153,
   "id": "649c207e-7694-41b6-b5f7-86cb9d53e2fe",
   "metadata": {},
   "outputs": [],
   "source": [
    "married_sample_mean = [df[df['Marital_Status']==1.0]['Purchase'].sample(3000 , replace = True).mean() for i in range(5000)]"
   ]
  },
  {
   "cell_type": "code",
   "execution_count": 154,
   "id": "f2d6b19b-19b9-4507-93ae-d34001292d09",
   "metadata": {},
   "outputs": [],
   "source": [
    "unmarried_sample_mean = [df[df['Marital_Status']==0.0]['Purchase'].sample(3000 , replace = True).mean() for i in range(5000)]"
   ]
  },
  {
   "cell_type": "code",
   "execution_count": 155,
   "id": "5d98ae27-2e9c-4ffe-bc61-8ef7890385a3",
   "metadata": {},
   "outputs": [
    {
     "data": {
      "text/plain": [
       "<seaborn.axisgrid.FacetGrid at 0x212dc6566f0>"
      ]
     },
     "execution_count": 155,
     "metadata": {},
     "output_type": "execute_result"
    },
    {
     "data": {
      "image/png": "[encoded data removed]",
      "text/plain": [
       "<Figure size 500x500 with 1 Axes>"
      ]
     },
     "metadata": {},
     "output_type": "display_data"
    }
   ],
   "source": [
    "sns.displot(married_sample_mean)"
   ]
  },
  {
   "cell_type": "code",
   "execution_count": 156,
   "id": "84dd5c52-6b06-48ea-a197-04808c3c4411",
   "metadata": {},
   "outputs": [
    {
     "data": {
      "text/plain": [
       "<seaborn.axisgrid.FacetGrid at 0x212de9fb140>"
      ]
     },
     "execution_count": 156,
     "metadata": {},
     "output_type": "execute_result"
    },
    {
     "data": {
      "image/png": "[encoded data removed]",
      "text/plain": [
       "<Figure size 500x500 with 1 Axes>"
      ]
     },
     "metadata": {},
     "output_type": "display_data"
    }
   ],
   "source": [
    "sns.displot(unmarried_sample_mean)"
   ]
  },
  {
   "cell_type": "code",
   "execution_count": 157,
   "id": "53c49cf7-ab2a-430a-a97b-cbd1fbdb406a",
   "metadata": {},
   "outputs": [
    {
     "name": "stdout",
     "output_type": "stream",
     "text": [
      "Married Confidence Interval based on sample size (3000 with Replacement) for 5000 (users): \n"
     ]
    },
    {
     "data": {
      "text/plain": [
       "(9377.160163705455, 9114.110741707973)"
      ]
     },
     "execution_count": 157,
     "metadata": {},
     "output_type": "execute_result"
    }
   ],
   "source": [
    "print(\"Married Confidence Interval based on sample size (3000 with Replacement) for 5000 (users): \")\n",
    "np.mean(married_sample_mean) + np.std(married_sample_mean) , np.mean(married_sample_mean) - (1.96 * np.std(married_sample_mean))"
   ]
  },
  {
   "cell_type": "code",
   "execution_count": 158,
   "id": "9d774766-5b6d-4d38-ad8b-8952a903f325",
   "metadata": {},
   "outputs": [
    {
     "name": "stdout",
     "output_type": "stream",
     "text": [
      "Unmarried Confidence Interval based on sample size (3000 with Replacement) for 5000 (users): \n"
     ]
    },
    {
     "data": {
      "text/plain": [
       "(9301.448738350022, 9033.332399468623)"
      ]
     },
     "execution_count": 158,
     "metadata": {},
     "output_type": "execute_result"
    }
   ],
   "source": [
    "print(\"Unmarried Confidence Interval based on sample size (3000 with Replacement) for 5000 (users): \")\n",
    "np.mean(unmarried_sample_mean) + np.std(unmarried_sample_mean) , np.mean(unmarried_sample_mean) - (1.96 * np.std(unmarried_sample_mean))"
   ]
  },
  {
   "cell_type": "markdown",
   "id": "bfc2a002-ea96-4021-8b06-9daaacf7d0b8",
   "metadata": {},
   "source": [
    "**Since there is No Overlap we can confirm that the amount spend is not affecetd by the Marital_Status of the User.**"
   ]
  },
  {
   "cell_type": "markdown",
   "id": "bc72c386-5f59-4d9a-ae9c-ff16717dcf14",
   "metadata": {},
   "source": [
    "### How does Age affect the amount spent?"
   ]
  },
  {
   "cell_type": "code",
   "execution_count": 159,
   "id": "fd732773-a45d-474b-ae47-7f2a4843fb70",
   "metadata": {},
   "outputs": [
    {
     "data": {
      "text/html": [
       "<div>\n",
       "<style scoped>\n",
       "    .dataframe tbody tr th:only-of-type {\n",
       "        vertical-align: middle;\n",
       "    }\n",
       "\n",
       "    .dataframe tbody tr th {\n",
       "        vertical-align: top;\n",
       "    }\n",
       "\n",
       "    .dataframe thead th {\n",
       "        text-align: right;\n",
       "    }\n",
       "</style>\n",
       "<table border=\"1\" class=\"dataframe\">\n",
       "  <thead>\n",
       "    <tr style=\"text-align: right;\">\n",
       "      <th></th>\n",
       "      <th>User_ID</th>\n",
       "      <th>Product_ID</th>\n",
       "      <th>Gender</th>\n",
       "      <th>Age</th>\n",
       "      <th>Occupation</th>\n",
       "      <th>City_Category</th>\n",
       "      <th>Stay_In_Current_City_Years</th>\n",
       "      <th>Marital_Status</th>\n",
       "      <th>Product_Category</th>\n",
       "      <th>Purchase</th>\n",
       "    </tr>\n",
       "  </thead>\n",
       "  <tbody>\n",
       "    <tr>\n",
       "      <th>0</th>\n",
       "      <td>1000001</td>\n",
       "      <td>P00069042</td>\n",
       "      <td>F</td>\n",
       "      <td>0-17</td>\n",
       "      <td>10.0</td>\n",
       "      <td>A</td>\n",
       "      <td>2</td>\n",
       "      <td>0.0</td>\n",
       "      <td>3.0</td>\n",
       "      <td>8370.0</td>\n",
       "    </tr>\n",
       "    <tr>\n",
       "      <th>1</th>\n",
       "      <td>1000001</td>\n",
       "      <td>P00248942</td>\n",
       "      <td>F</td>\n",
       "      <td>0-17</td>\n",
       "      <td>10.0</td>\n",
       "      <td>A</td>\n",
       "      <td>2</td>\n",
       "      <td>0.0</td>\n",
       "      <td>1.0</td>\n",
       "      <td>15200.0</td>\n",
       "    </tr>\n",
       "    <tr>\n",
       "      <th>2</th>\n",
       "      <td>1000001</td>\n",
       "      <td>P00087842</td>\n",
       "      <td>F</td>\n",
       "      <td>0-17</td>\n",
       "      <td>10.0</td>\n",
       "      <td>A</td>\n",
       "      <td>2</td>\n",
       "      <td>0.0</td>\n",
       "      <td>12.0</td>\n",
       "      <td>1422.0</td>\n",
       "    </tr>\n",
       "    <tr>\n",
       "      <th>3</th>\n",
       "      <td>1000001</td>\n",
       "      <td>P00085442</td>\n",
       "      <td>F</td>\n",
       "      <td>0-17</td>\n",
       "      <td>10.0</td>\n",
       "      <td>A</td>\n",
       "      <td>2</td>\n",
       "      <td>0.0</td>\n",
       "      <td>12.0</td>\n",
       "      <td>1057.0</td>\n",
       "    </tr>\n",
       "    <tr>\n",
       "      <th>4</th>\n",
       "      <td>1000002</td>\n",
       "      <td>P00285442</td>\n",
       "      <td>M</td>\n",
       "      <td>55+</td>\n",
       "      <td>16.0</td>\n",
       "      <td>C</td>\n",
       "      <td>4+</td>\n",
       "      <td>0.0</td>\n",
       "      <td>8.0</td>\n",
       "      <td>7969.0</td>\n",
       "    </tr>\n",
       "  </tbody>\n",
       "</table>\n",
       "</div>"
      ],
      "text/plain": [
       "   User_ID Product_ID Gender   Age  Occupation City_Category  \\\n",
       "0  1000001  P00069042      F  0-17        10.0             A   \n",
       "1  1000001  P00248942      F  0-17        10.0             A   \n",
       "2  1000001  P00087842      F  0-17        10.0             A   \n",
       "3  1000001  P00085442      F  0-17        10.0             A   \n",
       "4  1000002  P00285442      M   55+        16.0             C   \n",
       "\n",
       "  Stay_In_Current_City_Years  Marital_Status  Product_Category  Purchase  \n",
       "0                          2             0.0               3.0    8370.0  \n",
       "1                          2             0.0               1.0   15200.0  \n",
       "2                          2             0.0              12.0    1422.0  \n",
       "3                          2             0.0              12.0    1057.0  \n",
       "4                         4+             0.0               8.0    7969.0  "
      ]
     },
     "execution_count": 159,
     "metadata": {},
     "output_type": "execute_result"
    }
   ],
   "source": [
    "df.head()"
   ]
  },
  {
   "cell_type": "code",
   "execution_count": 160,
   "id": "e64a2975-22c1-4e20-ad0d-49038b91aa7b",
   "metadata": {},
   "outputs": [
    {
     "data": {
      "text/plain": [
       "Age\n",
       "0-17      134\n",
       "18-25     673\n",
       "26-35    1167\n",
       "36-45     659\n",
       "46-50     273\n",
       "51-55     272\n",
       "55+       210\n",
       "Name: User_ID, dtype: int64"
      ]
     },
     "execution_count": 160,
     "metadata": {},
     "output_type": "execute_result"
    }
   ],
   "source": [
    "df.groupby('Age')['User_ID'].nunique()"
   ]
  },
  {
   "cell_type": "code",
   "execution_count": 161,
   "id": "e6a74e84-3461-4253-bfb7-918180156993",
   "metadata": {},
   "outputs": [
    {
     "data": {
      "text/html": [
       "<div>\n",
       "<style scoped>\n",
       "    .dataframe tbody tr th:only-of-type {\n",
       "        vertical-align: middle;\n",
       "    }\n",
       "\n",
       "    .dataframe tbody tr th {\n",
       "        vertical-align: top;\n",
       "    }\n",
       "\n",
       "    .dataframe thead th {\n",
       "        text-align: right;\n",
       "    }\n",
       "</style>\n",
       "<table border=\"1\" class=\"dataframe\">\n",
       "  <thead>\n",
       "    <tr style=\"text-align: right;\">\n",
       "      <th></th>\n",
       "      <th>count</th>\n",
       "      <th>mean</th>\n",
       "      <th>std</th>\n",
       "      <th>min</th>\n",
       "      <th>25%</th>\n",
       "      <th>50%</th>\n",
       "      <th>75%</th>\n",
       "      <th>max</th>\n",
       "    </tr>\n",
       "    <tr>\n",
       "      <th>Age</th>\n",
       "      <th></th>\n",
       "      <th></th>\n",
       "      <th></th>\n",
       "      <th></th>\n",
       "      <th></th>\n",
       "      <th></th>\n",
       "      <th></th>\n",
       "      <th></th>\n",
       "    </tr>\n",
       "  </thead>\n",
       "  <tbody>\n",
       "    <tr>\n",
       "      <th>0-17</th>\n",
       "      <td>699.0</td>\n",
       "      <td>8973.606581</td>\n",
       "      <td>5029.623861</td>\n",
       "      <td>724.0</td>\n",
       "      <td>5361.50</td>\n",
       "      <td>7974.0</td>\n",
       "      <td>11931.50</td>\n",
       "      <td>23562.0</td>\n",
       "    </tr>\n",
       "    <tr>\n",
       "      <th>18-25</th>\n",
       "      <td>5100.0</td>\n",
       "      <td>9159.605686</td>\n",
       "      <td>4988.224069</td>\n",
       "      <td>347.0</td>\n",
       "      <td>5410.75</td>\n",
       "      <td>8030.5</td>\n",
       "      <td>12021.25</td>\n",
       "      <td>23889.0</td>\n",
       "    </tr>\n",
       "    <tr>\n",
       "      <th>26-35</th>\n",
       "      <td>9826.0</td>\n",
       "      <td>9251.373194</td>\n",
       "      <td>4956.597132</td>\n",
       "      <td>189.0</td>\n",
       "      <td>5720.25</td>\n",
       "      <td>8041.5</td>\n",
       "      <td>12001.75</td>\n",
       "      <td>23913.0</td>\n",
       "    </tr>\n",
       "    <tr>\n",
       "      <th>36-45</th>\n",
       "      <td>4839.0</td>\n",
       "      <td>9257.016326</td>\n",
       "      <td>4911.226845</td>\n",
       "      <td>205.0</td>\n",
       "      <td>5878.50</td>\n",
       "      <td>8033.0</td>\n",
       "      <td>11985.50</td>\n",
       "      <td>23929.0</td>\n",
       "    </tr>\n",
       "    <tr>\n",
       "      <th>46-50</th>\n",
       "      <td>1844.0</td>\n",
       "      <td>9286.909436</td>\n",
       "      <td>4758.498542</td>\n",
       "      <td>186.0</td>\n",
       "      <td>6035.00</td>\n",
       "      <td>8048.5</td>\n",
       "      <td>11992.75</td>\n",
       "      <td>23824.0</td>\n",
       "    </tr>\n",
       "    <tr>\n",
       "      <th>51-55</th>\n",
       "      <td>1738.0</td>\n",
       "      <td>9459.326812</td>\n",
       "      <td>5036.403156</td>\n",
       "      <td>347.0</td>\n",
       "      <td>5993.75</td>\n",
       "      <td>8087.5</td>\n",
       "      <td>12201.75</td>\n",
       "      <td>23912.0</td>\n",
       "    </tr>\n",
       "    <tr>\n",
       "      <th>55+</th>\n",
       "      <td>990.0</td>\n",
       "      <td>9197.534343</td>\n",
       "      <td>4684.355322</td>\n",
       "      <td>399.0</td>\n",
       "      <td>6039.00</td>\n",
       "      <td>8105.5</td>\n",
       "      <td>11468.00</td>\n",
       "      <td>23958.0</td>\n",
       "    </tr>\n",
       "  </tbody>\n",
       "</table>\n",
       "</div>"
      ],
      "text/plain": [
       "        count         mean          std    min      25%     50%       75%  \\\n",
       "Age                                                                         \n",
       "0-17    699.0  8973.606581  5029.623861  724.0  5361.50  7974.0  11931.50   \n",
       "18-25  5100.0  9159.605686  4988.224069  347.0  5410.75  8030.5  12021.25   \n",
       "26-35  9826.0  9251.373194  4956.597132  189.0  5720.25  8041.5  12001.75   \n",
       "36-45  4839.0  9257.016326  4911.226845  205.0  5878.50  8033.0  11985.50   \n",
       "46-50  1844.0  9286.909436  4758.498542  186.0  6035.00  8048.5  11992.75   \n",
       "51-55  1738.0  9459.326812  5036.403156  347.0  5993.75  8087.5  12201.75   \n",
       "55+     990.0  9197.534343  4684.355322  399.0  6039.00  8105.5  11468.00   \n",
       "\n",
       "           max  \n",
       "Age             \n",
       "0-17   23562.0  \n",
       "18-25  23889.0  \n",
       "26-35  23913.0  \n",
       "36-45  23929.0  \n",
       "46-50  23824.0  \n",
       "51-55  23912.0  \n",
       "55+    23958.0  "
      ]
     },
     "execution_count": 161,
     "metadata": {},
     "output_type": "execute_result"
    }
   ],
   "source": [
    "df.groupby('Age')['Purchase'].describe()"
   ]
  },
  {
   "cell_type": "code",
   "execution_count": 162,
   "id": "7c6bfd1b-3739-41d2-b708-62be067fb502",
   "metadata": {},
   "outputs": [
    {
     "data": {
      "text/plain": [
       "<seaborn.axisgrid.FacetGrid at 0x212e12d5460>"
      ]
     },
     "execution_count": 162,
     "metadata": {},
     "output_type": "execute_result"
    },
    {
     "data": {
      "image/png": "[encoded data removed]",
      "text/plain": [
       "<Figure size 590.375x500 with 1 Axes>"
      ]
     },
     "metadata": {},
     "output_type": "display_data"
    }
   ],
   "source": [
    "sns.displot(x=df['Purchase'] , data = df , hue=df['Age'])"
   ]
  },
  {
   "cell_type": "markdown",
   "id": "cdb5e474-d21e-4002-b6a9-99f4494329c9",
   "metadata": {},
   "source": [
    "**Checking for 95% Confidence based on sample data if Age affect Amount spent**\n",
    "\n",
    "*(The z-score for a 95% confidence interval is 1.96.)*"
   ]
  },
  {
   "cell_type": "code",
   "execution_count": 163,
   "id": "c6d73fc5-d03c-45f1-a487-8cdf15b00fab",
   "metadata": {},
   "outputs": [
    {
     "name": "stdout",
     "output_type": "stream",
     "text": [
      "Age (0-17) Confidence Interval based on sample data: \n"
     ]
    },
    {
     "data": {
      "text/plain": [
       "(18831.66934866266, -884.4561870031466)"
      ]
     },
     "execution_count": 163,
     "metadata": {},
     "output_type": "execute_result"
    }
   ],
   "source": [
    "print(\"Age (0-17) Confidence Interval based on sample data: \")\n",
    "df[df['Age']=='0-17']['Purchase'].mean() + (1.96 * df[df['Age']=='0-17']['Purchase'].std()) , df[df['Age']=='0-17']['Purchase'].mean() - (1.96 * df[df['Age']=='0-17']['Purchase'].std())"
   ]
  },
  {
   "cell_type": "code",
   "execution_count": 164,
   "id": "7515a9b4-1b3a-42d8-a217-c077dd44b5a6",
   "metadata": {},
   "outputs": [
    {
     "name": "stdout",
     "output_type": "stream",
     "text": [
      "Age (18-25) Confidence Interval based on sample data: \n"
     ]
    },
    {
     "data": {
      "text/plain": [
       "(18936.524861144164, -617.3134885951422)"
      ]
     },
     "execution_count": 164,
     "metadata": {},
     "output_type": "execute_result"
    }
   ],
   "source": [
    "print(\"Age (18-25) Confidence Interval based on sample data: \")\n",
    "df[df['Age']=='18-25']['Purchase'].mean() + (1.96 * df[df['Age']=='18-25']['Purchase'].std()) , df[df['Age']=='18-25']['Purchase'].mean() - (1.96 * df[df['Age']=='18-25']['Purchase'].std())"
   ]
  },
  {
   "cell_type": "code",
   "execution_count": 165,
   "id": "64dbbe8b-aa3f-45f0-97ed-28a69c4e4087",
   "metadata": {},
   "outputs": [
    {
     "name": "stdout",
     "output_type": "stream",
     "text": [
      "Age (26-35) Confidence Interval based on sample data: \n"
     ]
    },
    {
     "data": {
      "text/plain": [
       "(18966.303572420104, -463.55718528393663)"
      ]
     },
     "execution_count": 165,
     "metadata": {},
     "output_type": "execute_result"
    }
   ],
   "source": [
    "print(\"Age (26-35) Confidence Interval based on sample data: \")\n",
    "df[df['Age']=='26-35']['Purchase'].mean() + (1.96 * df[df['Age']=='26-35']['Purchase'].std()) , df[df['Age']=='26-35']['Purchase'].mean() - (1.96 * df[df['Age']=='26-35']['Purchase'].std())"
   ]
  },
  {
   "cell_type": "code",
   "execution_count": 166,
   "id": "64cc84dc-c0e2-45fd-a8be-576ad3bab1c7",
   "metadata": {},
   "outputs": [
    {
     "name": "stdout",
     "output_type": "stream",
     "text": [
      "Age (36-45) Confidence Interval based on sample data: \n"
     ]
    },
    {
     "data": {
      "text/plain": [
       "(18883.020941326227, -368.98828995197437)"
      ]
     },
     "execution_count": 166,
     "metadata": {},
     "output_type": "execute_result"
    }
   ],
   "source": [
    "print(\"Age (36-45) Confidence Interval based on sample data: \")\n",
    "df[df['Age']=='36-45']['Purchase'].mean() + (1.96 * df[df['Age']=='36-45']['Purchase'].std()) , df[df['Age']=='36-45']['Purchase'].mean() - (1.96 * df[df['Age']=='36-45']['Purchase'].std())"
   ]
  },
  {
   "cell_type": "code",
   "execution_count": 167,
   "id": "fb47537a-cb4f-4169-9f7a-0294851938fa",
   "metadata": {},
   "outputs": [
    {
     "name": "stdout",
     "output_type": "stream",
     "text": [
      "Age (46-50) Confidence Interval based on sample data: \n"
     ]
    },
    {
     "data": {
      "text/plain": [
       "(18613.566577456557, -39.747705439205674)"
      ]
     },
     "execution_count": 167,
     "metadata": {},
     "output_type": "execute_result"
    }
   ],
   "source": [
    "print(\"Age (46-50) Confidence Interval based on sample data: \")\n",
    "df[df['Age']=='46-50']['Purchase'].mean() + (1.96 * df[df['Age']=='46-50']['Purchase'].std()) , df[df['Age']=='46-50']['Purchase'].mean() - (1.96 * df[df['Age']=='46-50']['Purchase'].std())"
   ]
  },
  {
   "cell_type": "code",
   "execution_count": 168,
   "id": "32688e79-4540-4b9e-a38b-1043fbd3adf3",
   "metadata": {},
   "outputs": [
    {
     "name": "stdout",
     "output_type": "stream",
     "text": [
      "Age (51-55) Confidence Interval based on sample data: \n"
     ]
    },
    {
     "data": {
      "text/plain": [
       "(19330.6769988631, -412.0233740069398)"
      ]
     },
     "execution_count": 168,
     "metadata": {},
     "output_type": "execute_result"
    }
   ],
   "source": [
    "print(\"Age (51-55) Confidence Interval based on sample data: \")\n",
    "df[df['Age']=='51-55']['Purchase'].mean() + (1.96 * df[df['Age']=='51-55']['Purchase'].std()) , df[df['Age']=='51-55']['Purchase'].mean() - (1.96 * df[df['Age']=='51-55']['Purchase'].std())"
   ]
  },
  {
   "cell_type": "code",
   "execution_count": 169,
   "id": "81546418-5750-421d-93c1-76185b64cc47",
   "metadata": {},
   "outputs": [
    {
     "name": "stdout",
     "output_type": "stream",
     "text": [
      "Age (55+) Confidence Interval based on sample data: \n"
     ]
    },
    {
     "data": {
      "text/plain": [
       "(18378.870774172065, 16.197912696619824)"
      ]
     },
     "execution_count": 169,
     "metadata": {},
     "output_type": "execute_result"
    }
   ],
   "source": [
    "print(\"Age (55+) Confidence Interval based on sample data: \")\n",
    "df[df['Age']=='55+']['Purchase'].mean() + (1.96 * df[df['Age']=='55+']['Purchase'].std()) , df[df['Age']=='55+']['Purchase'].mean() - (1.96 * df[df['Age']=='55+']['Purchase'].std())"
   ]
  },
  {
   "cell_type": "markdown",
   "id": "2a42ab2d-910f-4334-af8c-816c654cc2da",
   "metadata": {},
   "source": [
    "Since there is an Overlap we cannot confirm if any particular age group is spending more."
   ]
  },
  {
   "cell_type": "markdown",
   "id": "6594011c-e8bc-4f6a-bc29-a17d0d270688",
   "metadata": {},
   "source": [
    "**Checking for 95% Confidence: Sample Sizes(300/3000)**"
   ]
  },
  {
   "cell_type": "code",
   "execution_count": 186,
   "id": "4ccb0488-81da-4386-8564-7e40bbfe9edb",
   "metadata": {},
   "outputs": [],
   "source": [
    "age0_17_mean_sample = [df[df['Age']=='0-17']['Purchase'].sample(300 , replace= True).mean() for i in range(5000)]"
   ]
  },
  {
   "cell_type": "code",
   "execution_count": 187,
   "id": "0a145601-966d-43fc-b9ae-a258be662f3c",
   "metadata": {},
   "outputs": [],
   "source": [
    "age18_25_mean_sample = [df[df['Age']=='18-25']['Purchase'].sample(300 , replace= True).mean() for i in range(5000)]"
   ]
  },
  {
   "cell_type": "code",
   "execution_count": 188,
   "id": "386540ad-fa5a-4181-806e-65e8401b6702",
   "metadata": {},
   "outputs": [],
   "source": [
    "age26_35_mean_sample = [df[df['Age']=='26-35']['Purchase'].sample(300 , replace= True).mean() for i in range(5000)]"
   ]
  },
  {
   "cell_type": "code",
   "execution_count": 189,
   "id": "f5cd0ccc-dbc3-4997-b6ff-e3f10d3b3ac6",
   "metadata": {},
   "outputs": [],
   "source": [
    "age36_45_mean_sample = [df[df['Age']=='36-45']['Purchase'].sample(300 , replace= True).mean() for i in range(5000)]"
   ]
  },
  {
   "cell_type": "code",
   "execution_count": 190,
   "id": "7fb4802e-f6a6-488e-ad43-85c388f90f83",
   "metadata": {},
   "outputs": [],
   "source": [
    "age46_50_mean_sample = [df[df['Age']=='46-50']['Purchase'].sample(300 , replace= True).mean() for i in range(5000)]"
   ]
  },
  {
   "cell_type": "code",
   "execution_count": 191,
   "id": "32d4373e-c8c2-4ae2-ba45-f1e25e94682a",
   "metadata": {},
   "outputs": [],
   "source": [
    "age51_55_mean_sample = [df[df['Age']=='51-55']['Purchase'].sample(300 , replace= True).mean() for i in range(5000)]"
   ]
  },
  {
   "cell_type": "code",
   "execution_count": 192,
   "id": "edba3756-feef-4970-8bfe-88c1bafae1b2",
   "metadata": {},
   "outputs": [],
   "source": [
    "age_55plus_mean_sample = [df[df['Age']=='55+']['Purchase'].sample(300 , replace= True).mean() for i in range(5000)]"
   ]
  },
  {
   "cell_type": "code",
   "execution_count": 203,
   "id": "279e0789-4e3d-4754-8b26-ae2cb51cd5d0",
   "metadata": {},
   "outputs": [
    {
     "name": "stdout",
     "output_type": "stream",
     "text": [
      "Age - (0-17) Confidence Interval based on sample size (300 with Replacement) for 5000 (users): \n"
     ]
    },
    {
     "data": {
      "text/plain": [
       "(9266.40929172982, 8406.019351622886)"
      ]
     },
     "execution_count": 203,
     "metadata": {},
     "output_type": "execute_result"
    }
   ],
   "source": [
    "print(\"Age - (0-17) Confidence Interval based on sample size (300 with Replacement) for 5000 (users): \")\n",
    "np.mean(age0_17_mean_sample) + np.std(age0_17_mean_sample) , np.mean(age0_17_mean_sample) - (1.96 * np.std(age0_17_mean_sample))"
   ]
  },
  {
   "cell_type": "code",
   "execution_count": 204,
   "id": "446fe482-cd1a-4745-8f87-9827b4dc8fab",
   "metadata": {},
   "outputs": [
    {
     "name": "stdout",
     "output_type": "stream",
     "text": [
      "Age - (18-25) Confidence Interval based on sample size (300 with Replacement) for 5000 (users): \n"
     ]
    },
    {
     "data": {
      "text/plain": [
       "(9449.859406758751, 8593.407467339513)"
      ]
     },
     "execution_count": 204,
     "metadata": {},
     "output_type": "execute_result"
    }
   ],
   "source": [
    "print(\"Age - (18-25) Confidence Interval based on sample size (300 with Replacement) for 5000 (users): \")\n",
    "np.mean(age18_25_mean_sample) + np.std(age18_25_mean_sample) , np.mean(age18_25_mean_sample) - (1.96 * np.std(age18_25_mean_sample))"
   ]
  },
  {
   "cell_type": "code",
   "execution_count": 205,
   "id": "88379057-0f84-4dda-9657-30d0d5a72318",
   "metadata": {},
   "outputs": [
    {
     "name": "stdout",
     "output_type": "stream",
     "text": [
      "Age - (26-35) Confidence Interval based on sample size (300 with Replacement) for 5000 (users): \n"
     ]
    },
    {
     "data": {
      "text/plain": [
       "(9542.332970913672, 8699.236239249205)"
      ]
     },
     "execution_count": 205,
     "metadata": {},
     "output_type": "execute_result"
    }
   ],
   "source": [
    "print(\"Age - (26-35) Confidence Interval based on sample size (300 with Replacement) for 5000 (users): \")\n",
    "np.mean(age26_35_mean_sample) + np.std(age26_35_mean_sample) , np.mean(age26_35_mean_sample) - (1.96 * np.std(age26_35_mean_sample))"
   ]
  },
  {
   "cell_type": "code",
   "execution_count": 206,
   "id": "0fbe8051-3024-419f-a504-c7e15d1fe49c",
   "metadata": {},
   "outputs": [
    {
     "name": "stdout",
     "output_type": "stream",
     "text": [
      "Age - (36-45) Confidence Interval based on sample size (300 with Replacement) for 5000 (users): \n"
     ]
    },
    {
     "data": {
      "text/plain": [
       "(9545.494824425463, 8696.62003607276)"
      ]
     },
     "execution_count": 206,
     "metadata": {},
     "output_type": "execute_result"
    }
   ],
   "source": [
    "print(\"Age - (36-45) Confidence Interval based on sample size (300 with Replacement) for 5000 (users): \")\n",
    "np.mean(age36_45_mean_sample) + np.std(age36_45_mean_sample) , np.mean(age36_45_mean_sample) - (1.96 * np.std(age36_45_mean_sample))"
   ]
  },
  {
   "cell_type": "code",
   "execution_count": 207,
   "id": "1b675333-d51d-48d4-97bc-9ab536de9ada",
   "metadata": {},
   "outputs": [
    {
     "name": "stdout",
     "output_type": "stream",
     "text": [
      "Age - (46-50) Confidence Interval based on sample size (300 with Replacement) for 5000 (users): \n"
     ]
    },
    {
     "data": {
      "text/plain": [
       "(9559.723103595912, 8752.330860792012)"
      ]
     },
     "execution_count": 207,
     "metadata": {},
     "output_type": "execute_result"
    }
   ],
   "source": [
    "print(\"Age - (46-50) Confidence Interval based on sample size (300 with Replacement) for 5000 (users): \")\n",
    "np.mean(age46_50_mean_sample) + np.std(age46_50_mean_sample) , np.mean(age46_50_mean_sample) - (1.96 * np.std(age46_50_mean_sample))"
   ]
  },
  {
   "cell_type": "code",
   "execution_count": 208,
   "id": "b06b9d40-4522-46e5-82ca-696b0eb0b57f",
   "metadata": {},
   "outputs": [
    {
     "name": "stdout",
     "output_type": "stream",
     "text": [
      "Age - (51-55) Confidence Interval based on sample size (300 with Replacement) for 5000 (users): \n"
     ]
    },
    {
     "data": {
      "text/plain": [
       "(9752.696656271663, 8896.656138560873)"
      ]
     },
     "execution_count": 208,
     "metadata": {},
     "output_type": "execute_result"
    }
   ],
   "source": [
    "print(\"Age - (51-55) Confidence Interval based on sample size (300 with Replacement) for 5000 (users): \")\n",
    "np.mean(age51_55_mean_sample) + np.std(age51_55_mean_sample) , np.mean(age51_55_mean_sample) - (1.96 * np.std(age51_55_mean_sample))"
   ]
  },
  {
   "cell_type": "code",
   "execution_count": 209,
   "id": "60a265b2-096c-48c2-b9d5-bfee8a9144b8",
   "metadata": {},
   "outputs": [
    {
     "name": "stdout",
     "output_type": "stream",
     "text": [
      "Age - (55+) Confidence Interval based on sample size (300 with Replacement) for 5000 (users): \n"
     ]
    },
    {
     "data": {
      "text/plain": [
       "(9461.267102753116, 8665.686537217223)"
      ]
     },
     "execution_count": 209,
     "metadata": {},
     "output_type": "execute_result"
    }
   ],
   "source": [
    "print(\"Age - (55+) Confidence Interval based on sample size (300 with Replacement) for 5000 (users): \")\n",
    "np.mean(age_55plus_mean_sample) + np.std(age_55plus_mean_sample) , np.mean(age_55plus_mean_sample) - (1.96 * np.std(age_55plus_mean_sample))"
   ]
  },
  {
   "cell_type": "code",
   "execution_count": 124,
   "id": "2032d99d-c265-43b2-8bd8-57caeaa423ad",
   "metadata": {},
   "outputs": [],
   "source": [
    "age0_17_mean_sample = [df[df['Age']=='0-17']['Purchase'].sample(3000 , replace= True).mean() for i in range(5000)]"
   ]
  },
  {
   "cell_type": "code",
   "execution_count": 125,
   "id": "0722626e-31ae-46f3-9d3e-3314203a11dc",
   "metadata": {},
   "outputs": [
    {
     "name": "stdout",
     "output_type": "stream",
     "text": [
      "Age - (0-17) Confidence Interval based on sample size (3000 with Replacement) for 5000 (users): \n"
     ]
    },
    {
     "data": {
      "text/plain": [
       "(9062.347262944408, 8792.77804083696)"
      ]
     },
     "execution_count": 125,
     "metadata": {},
     "output_type": "execute_result"
    }
   ],
   "source": [
    "print(\"Age - (0-17) Confidence Interval based on sample size (3000 with Replacement) for 5000 (users): \")\n",
    "np.mean(age0_17_mean_sample) + np.std(age0_17_mean_sample) , np.mean(age0_17_mean_sample) - (1.96 * np.std(age0_17_mean_sample))"
   ]
  },
  {
   "cell_type": "code",
   "execution_count": 126,
   "id": "eaaeb710-5350-4dc5-8cf6-0645d95ef503",
   "metadata": {},
   "outputs": [],
   "source": [
    "age18_25_mean_sample = [df[df['Age']=='18-25']['Purchase'].sample(3000 , replace= True).mean() for i in range(5000)]"
   ]
  },
  {
   "cell_type": "code",
   "execution_count": 128,
   "id": "ead74fae-d19e-4f15-88c6-022e67b0717f",
   "metadata": {},
   "outputs": [
    {
     "name": "stdout",
     "output_type": "stream",
     "text": [
      "Age - (18-25) Confidence Interval based on sample size (3000 with Replacement) for 5000 (users): \n"
     ]
    },
    {
     "data": {
      "text/plain": [
       "(9252.026683600547, 8981.649942345592)"
      ]
     },
     "execution_count": 128,
     "metadata": {},
     "output_type": "execute_result"
    }
   ],
   "source": [
    "print(\"Age - (18-25) Confidence Interval based on sample size (3000 with Replacement) for 5000 (users): \")\n",
    "np.mean(age18_25_mean_sample) + np.std(age18_25_mean_sample) , np.mean(age18_25_mean_sample) - (1.96 * np.std(age18_25_mean_sample))"
   ]
  },
  {
   "cell_type": "code",
   "execution_count": 129,
   "id": "50023dfb-2d6d-4999-b026-b431a551de33",
   "metadata": {},
   "outputs": [],
   "source": [
    "age26_35_mean_sample = [df[df['Age']=='26-35']['Purchase'].sample(3000 , replace= True).mean() for i in range(5000)]"
   ]
  },
  {
   "cell_type": "code",
   "execution_count": 135,
   "id": "54ab8d75-bb14-4264-92e9-cbb49f5e2968",
   "metadata": {},
   "outputs": [
    {
     "name": "stdout",
     "output_type": "stream",
     "text": [
      "Age - (26-35) Confidence Interval based on sample size (3000 with Replacement) for 5000 (users): \n"
     ]
    },
    {
     "data": {
      "text/plain": [
       "(9340.818736866142, 9072.98789536369)"
      ]
     },
     "execution_count": 135,
     "metadata": {},
     "output_type": "execute_result"
    }
   ],
   "source": [
    "print(\"Age - (26-35) Confidence Interval based on sample size (3000 with Replacement) for 5000 (users): \")\n",
    "np.mean(age26_35_mean_sample) + np.std(age26_35_mean_sample) , np.mean(age26_35_mean_sample) - (1.96 * np.std(age26_35_mean_sample))"
   ]
  },
  {
   "cell_type": "code",
   "execution_count": 140,
   "id": "b794de8b-987a-4c6f-b74c-1f4824c9827f",
   "metadata": {},
   "outputs": [],
   "source": [
    "age36_45_mean_sample = [df[df['Age']=='36-45']['Purchase'].sample(300 , replace= True).mean() for i in range(5000)]"
   ]
  },
  {
   "cell_type": "code",
   "execution_count": 141,
   "id": "fa0d2fa0-3a65-488c-b18b-66caa0618062",
   "metadata": {},
   "outputs": [
    {
     "name": "stdout",
     "output_type": "stream",
     "text": [
      "Age - (36-45) Confidence Interval based on sample size (3000 with Replacement) for 5000 (users): \n"
     ]
    },
    {
     "data": {
      "text/plain": [
       "(9547.699128824486, 8702.09901689067)"
      ]
     },
     "execution_count": 141,
     "metadata": {},
     "output_type": "execute_result"
    }
   ],
   "source": [
    "print(\"Age - (36-45) Confidence Interval based on sample size (3000 with Replacement) for 5000 (users): \")\n",
    "np.mean(age36_45_mean_sample) + np.std(age36_45_mean_sample) , np.mean(age36_45_mean_sample) - (1.96 * np.std(age36_45_mean_sample))"
   ]
  },
  {
   "cell_type": "code",
   "execution_count": 142,
   "id": "fe24a1e1-7d87-42f5-b07a-09f978d9c40d",
   "metadata": {},
   "outputs": [],
   "source": [
    "age46_50_mean_sample = [df[df['Age']=='46-50']['Purchase'].sample(3000 , replace= True).mean() for i in range(5000)]"
   ]
  },
  {
   "cell_type": "code",
   "execution_count": 143,
   "id": "ba53e144-f02a-4ee0-94ba-59c40a4d399c",
   "metadata": {},
   "outputs": [
    {
     "name": "stdout",
     "output_type": "stream",
     "text": [
      "Age - (46-50) Confidence Interval based on sample size (3000 with Replacement) for 5000 (users): \n"
     ]
    },
    {
     "data": {
      "text/plain": [
       "(9372.554996800876, 9113.067549918278)"
      ]
     },
     "execution_count": 143,
     "metadata": {},
     "output_type": "execute_result"
    }
   ],
   "source": [
    "print(\"Age - (46-50) Confidence Interval based on sample size (3000 with Replacement) for 5000 (users): \")\n",
    "np.mean(age46_50_mean_sample) + np.std(age46_50_mean_sample) , np.mean(age46_50_mean_sample) - (1.96 * np.std(age46_50_mean_sample))"
   ]
  },
  {
   "cell_type": "code",
   "execution_count": 144,
   "id": "8ba51d87-82c1-4620-a55a-3a2015f357c0",
   "metadata": {},
   "outputs": [],
   "source": [
    "age51_55_mean_sample = [df[df['Age']=='51-55']['Purchase'].sample(3000 , replace= True).mean() for i in range(5000)]"
   ]
  },
  {
   "cell_type": "code",
   "execution_count": 147,
   "id": "ef0c86af-f0d6-4227-8192-a716ae67f521",
   "metadata": {},
   "outputs": [
    {
     "name": "stdout",
     "output_type": "stream",
     "text": [
      "Age - (51-55) Confidence Interval based on sample size (3000 with Replacement) for 5000 (users): \n"
     ]
    },
    {
     "data": {
      "text/plain": [
       "(9548.727499207424, 9281.736766854781)"
      ]
     },
     "execution_count": 147,
     "metadata": {},
     "output_type": "execute_result"
    }
   ],
   "source": [
    "print(\"Age - (51-55) Confidence Interval based on sample size (3000 with Replacement) for 5000 (users): \")\n",
    "np.mean(age51_55_mean_sample) + np.std(age51_55_mean_sample) , np.mean(age51_55_mean_sample) - (1.96 * np.std(age51_55_mean_sample))"
   ]
  },
  {
   "cell_type": "code",
   "execution_count": 146,
   "id": "f0d23d21-655a-44dd-87be-b4009aec04cd",
   "metadata": {},
   "outputs": [],
   "source": [
    "age_55plus_mean_sample = [df[df['Age']=='55+']['Purchase'].sample(300 , replace= True).mean() for i in range(5000)]"
   ]
  },
  {
   "cell_type": "code",
   "execution_count": 148,
   "id": "bba36f32-4b71-4ffc-baa1-a445c9270052",
   "metadata": {},
   "outputs": [
    {
     "name": "stdout",
     "output_type": "stream",
     "text": [
      "Age - (55+) Confidence Interval based on sample size (3000 with Replacement) for 5000 (users): \n"
     ]
    },
    {
     "data": {
      "text/plain": [
       "(9467.622753389795, 8676.403100689335)"
      ]
     },
     "execution_count": 148,
     "metadata": {},
     "output_type": "execute_result"
    }
   ],
   "source": [
    "print(\"Age - (55+) Confidence Interval based on sample size (3000 with Replacement) for 5000 (users): \")\n",
    "np.mean(age_55plus_mean_sample) + np.std(age_55plus_mean_sample) , np.mean(age_55plus_mean_sample) - (1.96 * np.std(age_55plus_mean_sample))"
   ]
  },
  {
   "cell_type": "markdown",
   "id": "8fc50398-14af-4441-8fc3-7ef80f6264b3",
   "metadata": {},
   "source": [
    "From the above experiment we can clearly see that users Age - (51-55) spend the most"
   ]
  },
  {
   "cell_type": "code",
   "execution_count": null,
   "id": "76a30fb1-4dbc-4dea-98aa-f157aa6db5b7",
   "metadata": {},
   "outputs": [],
   "source": []
  }
 ],
 "metadata": {
  "kernelspec": {
   "display_name": "Python 3 (ipykernel)",
   "language": "python",
   "name": "python3"
  },
  "language_info": {
   "codemirror_mode": {
    "name": "ipython",
    "version": 3
   },
   "file_extension": ".py",
   "mimetype": "text/x-python",
   "name": "python",
   "nbconvert_exporter": "python",
   "pygments_lexer": "ipython3",
   "version": "3.12.4"
  },
  "panel-cell-order": [
   "f94d88cd-e96e-4e6e-a9a6-2a3ce1abe19a",
   "97bd50b9-c958-4dba-91df-da1cf9932869",
   "df109c8b-8bd4-4785-9215-10f1b9c513e8",
   "5e76350d-ed67-4050-ae10-85415a248670",
   "0d5f4ac2-276d-4ed1-98b7-e7db58cf867c",
   "0a9f93f7-407e-4382-beb9-7ef1845b9b0c",
   "e3b5e128-717d-4692-b428-cf1eab34d775",
   "a21c4d53-4496-42c6-94c9-5d4486925f2f",
   "36d2e402-0779-46cf-9d12-7d3959fe06b5",
   "a813a234-86d1-4b22-a85f-6ef9e773c605",
   "70a5449e-5a00-4650-a02b-4d13dfb1672f",
   "8cebae30-296a-4713-91d0-c78598ac7c67",
   "be5dcc95-6763-4037-bffb-fa56296380cf",
   "024f363d-5c11-44b0-a9f5-b528fc69e57c",
   "f6211579-d7b1-4955-83ce-004214a59fc4",
   "6ae56f35-92cd-4ac3-94a7-17b2f86dbf70",
   "71471b6d-36b3-4020-92d8-b4c3d0ba4eca",
   "d43f6df0-b93d-433b-bf35-c26d3c8487b1",
   "101dc376-b305-44ea-8a5f-38ffbd3646b6",
   "5ed3a41a-fe6f-4ce0-a428-fb080039de69",
   "2d659b3d-95a6-4b79-94e0-c096a28b4787",
   "fc965700-e77b-474c-9954-acfaac58eca5",
   "aa39d2f0-1c3e-456f-80b6-1c9f387a7b4b",
   "9b124359-188d-45e5-9bf3-d78ab3777738",
   "c3cf34e9-2ca3-417f-b1d5-09f9439deb58",
   "3a34670c-40b5-4fc9-9c03-9e2c3ca9987d",
   "aa09766c-4a80-49c1-ac99-a0af2b9c925c",
   "7ae73b17-1cbd-4921-a1de-2814c8f96ac5",
   "4be25b96-530c-456b-aaa7-118fa15072b8",
   "80859103-5c8b-45ae-bb69-a4b2e4b91a88",
   "bed56aab-f1db-486f-b1f6-c36120e734ea",
   "7370b1ea-d169-4cf3-87dd-06936f8f2c64",
   "f4d93916-c8bb-40f4-8997-b9fcb23ca9d1",
   "be0d51f3-0ec3-462e-8b45-60fcf866e6f1"
  ]
 },
 "nbformat": 4,
 "nbformat_minor": 5
}
